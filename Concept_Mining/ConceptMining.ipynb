{
 "cells": [
  {
   "cell_type": "markdown",
   "metadata": {},
   "source": [
    "### Prepare Data"
   ]
  },
  {
   "cell_type": "code",
   "execution_count": null,
   "metadata": {},
   "outputs": [],
   "source": [
    "from glob import glob\n",
    "from ConceptMining import ConceptMiner\n",
    "from settings import settings\n",
    "\n",
    "import pickle"
   ]
  },
  {
   "cell_type": "code",
   "execution_count": null,
   "metadata": {},
   "outputs": [],
   "source": [
    "batch_size = 70\n",
    "images = [i for i in glob(\"../dataset/Images/*.jpg\")]\n",
    "Miner = ConceptMiner(images = images, load_model= True)\n",
    "\n",
    "# encodings, captions = Miner.get_image_caption(get_encodings = True, batch_size = batch_size)"
   ]
  },
  {
   "cell_type": "code",
   "execution_count": null,
   "metadata": {},
   "outputs": [],
   "source": [
    "# with open('encodings.pkl', 'wb') as f:\n",
    "#     pickle.dump({'encodings':encodings, 'captions': captions}, f)\n",
    "with open('encodings.pkl', 'rb') as f:\n",
    "\tdata = pickle.load(f)\n",
    "\tencodings = data['encodings']\n",
    "\tcaptions = data['captions']"
   ]
  },
  {
   "cell_type": "code",
   "execution_count": null,
   "metadata": {},
   "outputs": [],
   "source": [
    "concept_model, generated_concepts = Miner.concept_modeling(encodings = encodings, \n",
    "                                                           captions = captions, \n",
    "                                                           batch_size = batch_size)\n",
    "\n",
    "with open(\"generated_concepts.pkl\", \"wb\") as f:\n",
    "    pickle.dump(generated_concepts, f)\n"
   ]
  },
  {
   "cell_type": "markdown",
   "metadata": {},
   "source": [
    "### Cluser topics by semantic similarity \n",
    "- Cluser concepts\n",
    "- Sample concepts taking as mean the centroid +- a random noice to simulate user externalization"
   ]
  },
  {
   "cell_type": "code",
   "execution_count": 8,
   "metadata": {},
   "outputs": [],
   "source": [
    "from sklearn.metrics import silhouette_score\n",
    "from sklearn.cluster import KMeans\n",
    "from umap import UMAP\n",
    "import os, pickle\n",
    "import numpy as np\n",
    "\n",
    "from transformers import AutoTokenizer, AutoModel\n",
    "\n",
    "with open(\"generated_concepts.pkl\", \"rb\") as f:\n",
    "    generated_concepts = list(set(pickle.load(f)) - {\"\"})\n",
    "    \n",
    "tokenizer = AutoTokenizer.from_pretrained(\"sentence-transformers/all-MiniLM-L6-v2\")\n",
    "model = AutoModel.from_pretrained(\"sentence-transformers/all-MiniLM-L6-v2\")"
   ]
  },
  {
   "cell_type": "code",
   "execution_count": 9,
   "metadata": {},
   "outputs": [],
   "source": [
    "from transformers import AutoTokenizer, AutoModel\n",
    "import torch\n",
    "import torch.nn.functional as F\n",
    "\n",
    "def mean_pooling(model_output, attention_mask):\n",
    "    token_embeddings = model_output[0] #First element of model_output contains all token embeddings\n",
    "    input_mask_expanded = attention_mask.unsqueeze(-1).expand(token_embeddings.size()).float()\n",
    "    return torch.sum(token_embeddings * input_mask_expanded, 1) / torch.clamp(input_mask_expanded.sum(1), min=1e-9)\n",
    "\n",
    "def get_embedding(sentences, model, tokenizer, batch_size = 16):\n",
    "    with torch.no_grad():\n",
    "\n",
    "        output = None\n",
    "        for i in range(0, len(sentences), batch_size):\n",
    "            encoded_input = tokenizer(sentences[i: i + batch_size], padding=True, return_tensors='pt')\n",
    "\n",
    "            model_output = model(**encoded_input)\n",
    "            sentence_embeddings = mean_pooling(model_output, encoded_input['attention_mask'])\n",
    "\n",
    "            sentence_embeddings = F.normalize(sentence_embeddings, p=2, dim=1)\n",
    "            output = sentence_embeddings if output is None else torch.cat([output, sentence_embeddings])\n",
    "\n",
    "    return output\n",
    "\n",
    "concepts_embeddings = get_embedding(generated_concepts, model, tokenizer, batch_size = 16)"
   ]
  },
  {
   "cell_type": "code",
   "execution_count": 15,
   "metadata": {},
   "outputs": [],
   "source": [
    "import numpy as np\n",
    "import matplotlib.pyplot as plt\n",
    "from sklearn.cluster import SpectralClustering\n",
    "from sklearn.metrics.pairwise import cosine_similarity\n",
    "from sklearn.decomposition import PCA\n",
    "\n",
    "similarity_matrix = cosine_similarity(concepts_embeddings)\n",
    "\n",
    "# Apply Spectral Clustering\n",
    "num_clusters = 20\n",
    "spectral = SpectralClustering(n_clusters=num_clusters, affinity='precomputed', random_state=42)\n",
    "labels = spectral.fit_predict(similarity_matrix)\n",
    "\n",
    "# Group words by topic\n",
    "topic_groups = {}\n",
    "for word, cluster in zip(generated_concepts, labels):\n",
    "    topic_groups.setdefault(cluster, []).append(word)\n",
    "    \n",
    "with open(\"generated_concepts.pkl\", \"wb\") as f:\n",
    "\tpickle.dump({'concepts':generated_concepts,\n",
    "              'topic_groups': topic_groups}, f)"
   ]
  },
  {
   "cell_type": "markdown",
   "metadata": {},
   "source": [
    "#### Preprocess the data for simulation\n"
   ]
  },
  {
   "cell_type": "code",
   "execution_count": 1,
   "metadata": {},
   "outputs": [],
   "source": [
    "import pickle\n",
    "from glob import glob\n",
    "\n",
    "import random\n",
    "\n",
    "with open(\"generated_concepts.pkl\", \"rb\") as f:\n",
    "\tdata = pickle.load(f)\n",
    "\tgenerated_concepts = data['concepts']\n",
    "\ttopic_groups = data['topic_groups']\n",
    "\n",
    "with open('encodings.pkl', 'rb') as f:\n",
    "\tdata = pickle.load(f)\n",
    "\tencodings = data['encodings']\n",
    "\tcaptions = data['captions']\n",
    "\n",
    "images = [i for i in glob(\"../dataset/Images/*.jpg\")]"
   ]
  },
  {
   "cell_type": "code",
   "execution_count": 2,
   "metadata": {},
   "outputs": [
    {
     "name": "stdout",
     "output_type": "stream",
     "text": [
      "Topic 3: 16\n",
      "Topic 1: 28\n",
      "Topic 0: 12\n",
      "Topic 11: 24\n",
      "Topic 13: 14\n",
      "Topic 2: 7\n",
      "Topic 9: 8\n",
      "Topic 5: 20\n",
      "Topic 4: 13\n",
      "Topic 6: 7\n",
      "Topic 8: 18\n",
      "Topic 16: 15\n",
      "Topic 18: 5\n",
      "Topic 7: 8\n",
      "Topic 19: 15\n",
      "Topic 12: 8\n",
      "Topic 17: 16\n",
      "Topic 14: 9\n",
      "Topic 10: 0\n",
      "Topic 15: 7\n"
     ]
    }
   ],
   "source": [
    "concept_instance = {i:[] for i in generated_concepts}\n",
    "\n",
    "for i, path in enumerate(images):\n",
    "\tfor c in captions[i].split():\n",
    "\t\tif c in generated_concepts:\n",
    "\t\t\tconcept_instance[c] += [path]\n",
    "\n",
    "remove_topics = []\n",
    "for i in topic_groups:\n",
    "\tremove = [j for j in topic_groups[i] if len(concept_instance[j]) < 10]\n",
    "\tfor j in remove:\n",
    "\t\ttopic_groups[i].remove(j)\n",
    "\tprint(f\"Topic {i}:\", len(topic_groups[i]))\n",
    "\tif len(topic_groups[i]) < 8:\n",
    "\t\tremove_topics.append(i)\n",
    "\n",
    "for i in remove_topics:\n",
    "\tdel topic_groups[i]"
   ]
  },
  {
   "cell_type": "code",
   "execution_count": 3,
   "metadata": {},
   "outputs": [
    {
     "data": {
      "text/plain": [
       "Text(0.5, 0, 'Concepts')"
      ]
     },
     "execution_count": 3,
     "metadata": {},
     "output_type": "execute_result"
    },
    {
     "data": {
      "image/png": "[encoded data removed]",
      "text/plain": [
       "<Figure size 640x480 with 1 Axes>"
      ]
     },
     "metadata": {},
     "output_type": "display_data"
    }
   ],
   "source": [
    "from matplotlib import pyplot as plt\t\n",
    "plt.bar(range(len(generated_concepts)), sorted([len(i) for i in concept_instance.values()]), log = True)\n",
    "plt.title(\"Concepts Frequency\")\n",
    "plt.xlabel(\"Concepts\")"
   ]
  },
  {
   "cell_type": "code",
   "execution_count": 4,
   "metadata": {},
   "outputs": [
    {
     "data": {
      "text/plain": [
       "Text(0.5, 0, 'Topics')"
      ]
     },
     "execution_count": 4,
     "metadata": {},
     "output_type": "execute_result"
    },
    {
     "data": {
      "image/png": "[encoded data removed]",
      "text/plain": [
       "<Figure size 640x480 with 1 Axes>"
      ]
     },
     "metadata": {},
     "output_type": "display_data"
    }
   ],
   "source": [
    "plt.bar(range(len(topic_groups)), [len(topic_groups[i]) for i in topic_groups], color = 'r')\n",
    "plt.title(\"Topics Size\")\n",
    "plt.xlabel(\"Topics\")"
   ]
  },
  {
   "cell_type": "code",
   "execution_count": 4,
   "metadata": {},
   "outputs": [
    {
     "name": "stderr",
     "output_type": "stream",
     "text": [
      "Episode 159:   4%|▍         | 39/1000 [00:00<00:04, 192.32it/s, Reward=37.9, Loss Critic=125, Loss Actor=-41.5]\n",
      "Episode 160:   4%|▍         | 44/1000 [00:00<00:05, 191.06it/s, Reward=42.9, Loss Critic=128, Loss Actor=-49.8]\n",
      "Episode 161:   4%|▍         | 45/1000 [00:00<00:04, 193.71it/s, Reward=43.9, Loss Critic=113, Loss Actor=-47.8]\n",
      "Episode 162:   3%|▎         | 34/1000 [00:00<00:05, 190.78it/s, Reward=32.9, Loss Critic=75.7, Loss Actor=-28.5]\n",
      "Episode 163:   4%|▍         | 38/1000 [00:00<00:05, 191.43it/s, Reward=36.9, Loss Critic=68.5, Loss Actor=-22.6]\n",
      "Episode 164:   6%|▌         | 56/1000 [00:00<00:04, 195.49it/s, Reward=54.9, Loss Critic=71.8, Loss Actor=-16.1]\n",
      "Episode 165:   5%|▌         | 50/1000 [00:00<00:04, 191.49it/s, Reward=48.9, Loss Critic=42.9, Loss Actor=-0.664]\n",
      "Episode 166:   4%|▍         | 41/1000 [00:00<00:04, 195.40it/s, Reward=39.9, Loss Critic=24.2, Loss Actor=-0.741]\n",
      "Episode 167:   4%|▎         | 36/1000 [00:00<00:04, 195.03it/s, Reward=34.9, Loss Critic=19.8, Loss Actor=-1.42]\n",
      "Episode 168:   3%|▎         | 33/1000 [00:00<00:05, 192.01it/s, Reward=31.9, Loss Critic=15.7, Loss Actor=-1.75]\n",
      "Episode 169:   8%|▊         | 75/1000 [00:00<00:04, 203.19it/s, Reward=73.9, Loss Critic=39.8, Loss Actor=-3.33]\n",
      "Episode 170:   7%|▋         | 69/1000 [00:00<00:04, 217.25it/s, Reward=67.9, Loss Critic=46.1, Loss Actor=-2.92]\n",
      "Episode 171:   5%|▍         | 47/1000 [00:00<00:04, 216.04it/s, Reward=45.9, Loss Critic=39.1, Loss Actor=-1.9]\n",
      "Episode 172:   6%|▋         | 64/1000 [00:00<00:04, 209.11it/s, Reward=62.9, Loss Critic=62.8, Loss Actor=-4.81]\n",
      "Episode 173:  17%|█▋        | 172/1000 [00:00<00:04, 198.62it/s, Reward=171, Loss Critic=300, Loss Actor=-170] \n",
      "Episode 174:  12%|█▏        | 121/1000 [00:00<00:04, 204.89it/s, Reward=120, Loss Critic=641, Loss Actor=-382] \n",
      "Episode 175:  29%|██▉       | 293/1000 [00:01<00:03, 194.36it/s, Reward=292, Loss Critic=1.8e+3, Loss Actor=-837] \n",
      "Episode 176:  19%|█▉        | 194/1000 [00:01<00:04, 188.07it/s, Reward=193, Loss Critic=1.59e+3, Loss Actor=-681]\n",
      "Episode 177:  11%|█         | 109/1000 [00:00<00:04, 217.17it/s, Reward=108, Loss Critic=953, Loss Actor=-533] \n",
      "Episode 178:   4%|▍         | 41/1000 [00:00<00:04, 216.49it/s, Reward=39.9, Loss Critic=290, Loss Actor=-196] \n",
      "Episode 179:   3%|▎         | 34/1000 [00:00<00:04, 211.16it/s, Reward=32.9, Loss Critic=266, Loss Actor=-118]\n",
      "Episode 180:   3%|▎         | 31/1000 [00:00<00:04, 213.77it/s, Reward=29.9, Loss Critic=301, Loss Actor=-13.1]\n",
      "Episode 181:   8%|▊         | 77/1000 [00:00<00:04, 208.44it/s, Reward=75.9, Loss Critic=682, Loss Actor=-219]\n",
      "Episode 182:  26%|██▌       | 255/1000 [00:01<00:04, 185.88it/s, Reward=254, Loss Critic=3.14e+3, Loss Actor=-2.1e+3] \n",
      "Episode 183:  17%|█▋        | 171/1000 [00:00<00:04, 201.01it/s, Reward=170, Loss Critic=2.37e+3, Loss Actor=-880]\n",
      "Episode 184:  12%|█▏        | 123/1000 [00:00<00:04, 204.66it/s, Reward=122, Loss Critic=1.41e+3, Loss Actor=-332]\n",
      "Episode 185:  25%|██▍       | 246/1000 [00:01<00:04, 177.29it/s, Reward=245, Loss Critic=1.08e+3, Loss Actor=-537]\n",
      "Episode 186:  34%|███▍      | 344/1000 [00:01<00:03, 188.27it/s, Reward=343, Loss Critic=569, Loss Actor=-457] \n",
      "Episode 187:  38%|███▊      | 379/1000 [00:02<00:03, 188.59it/s, Reward=378, Loss Critic=1.95e+3, Loss Actor=-264] \n",
      "Episode 188:  17%|█▋        | 169/1000 [00:00<00:04, 187.04it/s, Reward=168, Loss Critic=888, Loss Actor=-283] \n",
      "Episode 189:  21%|██        | 208/1000 [00:01<00:04, 188.39it/s, Reward=207, Loss Critic=722, Loss Actor=-525] \n",
      "Episode 190: 100%|██████████| 1000/1000 [00:05<00:00, 186.85it/s, Reward=999, Loss Critic=2.06e+3, Loss Actor=-4.63e+3]\n",
      "Episode 191:  22%|██▏       | 222/1000 [00:01<00:03, 204.75it/s, Reward=221, Loss Critic=61.3, Loss Actor=-99.2]\n",
      "Episode 192: 100%|██████████| 1000/1000 [00:04<00:00, 202.52it/s, Reward=999, Loss Critic=2.11e+3, Loss Actor=-1.24e+3]\n",
      "Episode 193:  62%|██████▏   | 622/1000 [00:03<00:01, 191.11it/s, Reward=621, Loss Critic=150, Loss Actor=-524]  \n",
      "Episode 194:  32%|███▏      | 317/1000 [00:01<00:03, 203.08it/s, Reward=316, Loss Critic=2.45e+3, Loss Actor=-466]\n",
      "Episode 195:  49%|████▉     | 490/1000 [00:02<00:02, 190.88it/s, Reward=489, Loss Critic=2.11e+3, Loss Actor=-831]\n",
      "Episode 196:  51%|█████     | 508/1000 [00:02<00:02, 189.91it/s, Reward=507, Loss Critic=2.11e+3, Loss Actor=-552]\n",
      "Episode 197:  26%|██▌       | 258/1000 [00:01<00:03, 186.80it/s, Reward=257, Loss Critic=875, Loss Actor=-1.05e+3]\n",
      "Episode 198: 100%|██████████| 1000/1000 [00:05<00:00, 188.86it/s, Reward=999, Loss Critic=1.33e+3, Loss Actor=-4.09e+3]\n",
      "Episode 199: 100%|██████████| 1000/1000 [00:05<00:00, 188.00it/s, Reward=999, Loss Critic=27, Loss Actor=-148]  \n",
      "Episode 200: 100%|██████████| 1000/1000 [00:05<00:00, 186.34it/s, Reward=999, Loss Critic=21.2, Loss Actor=-75.6]  \n",
      "Episode 201: 100%|██████████| 1000/1000 [00:05<00:00, 188.91it/s, Reward=999, Loss Critic=21.1, Loss Actor=-166]\n",
      "Episode 202:  56%|█████▌    | 557/1000 [00:02<00:02, 192.81it/s, Reward=556, Loss Critic=112, Loss Actor=-487]  \n",
      "Episode 203:  27%|██▋       | 273/1000 [00:01<00:03, 209.68it/s, Reward=272, Loss Critic=3.08e+3, Loss Actor=-958]\n",
      "Episode 204:   1%|          | 9/1000 [00:00<00:05, 171.28it/s, Reward=7.9, Loss Critic=135, Loss Actor=-3.21] \n",
      "Episode 205:   1%|          | 9/1000 [00:00<00:05, 186.26it/s, Reward=7.9, Loss Critic=152, Loss Actor=14.8]  \n",
      "Episode 206: 100%|██████████| 1000/1000 [00:04<00:00, 214.37it/s, Reward=999, Loss Critic=7.87e+3, Loss Actor=-9.01e+3]\n",
      "Episode 207:  26%|██▌       | 260/1000 [00:01<00:03, 213.21it/s, Reward=259, Loss Critic=204, Loss Actor=-473] \n",
      "Episode 208:  18%|█▊        | 181/1000 [00:00<00:04, 199.92it/s, Reward=180, Loss Critic=233, Loss Actor=-502] \n",
      "Episode 209:  14%|█▎        | 136/1000 [00:00<00:04, 188.89it/s, Reward=135, Loss Critic=98.1, Loss Actor=-319]\n",
      "Episode 210:  13%|█▎        | 132/1000 [00:00<00:04, 188.85it/s, Reward=131, Loss Critic=51.7, Loss Actor=-178]\n",
      "Episode 211:  12%|█▎        | 125/1000 [00:00<00:04, 187.38it/s, Reward=124, Loss Critic=51.5, Loss Actor=-58.8]\n",
      "Episode 212:  13%|█▎        | 129/1000 [00:00<00:04, 188.47it/s, Reward=128, Loss Critic=43.7, Loss Actor=-46.1]\n",
      "Episode 213:  16%|█▌        | 157/1000 [00:00<00:04, 187.74it/s, Reward=156, Loss Critic=50.5, Loss Actor=-81.7]\n",
      "Episode 214:  16%|█▌        | 158/1000 [00:00<00:04, 188.07it/s, Reward=157, Loss Critic=46.4, Loss Actor=-171]\n",
      "Episode 215:  20%|██        | 205/1000 [00:01<00:04, 186.31it/s, Reward=204, Loss Critic=49.8, Loss Actor=-177] \n",
      "Episode 216:  30%|██▉       | 295/1000 [00:01<00:03, 187.30it/s, Reward=294, Loss Critic=54.7, Loss Actor=-280] \n",
      "Episode 217:  37%|███▋      | 373/1000 [00:01<00:03, 200.82it/s, Reward=372, Loss Critic=118, Loss Actor=-200]  \n",
      "Episode 218:  82%|████████▏ | 822/1000 [00:03<00:00, 210.08it/s, Reward=821, Loss Critic=148, Loss Actor=-254]  \n",
      "Episode 219:  38%|███▊      | 383/1000 [00:01<00:02, 211.09it/s, Reward=382, Loss Critic=59.6, Loss Actor=-283] \n",
      "Episode 220:  38%|███▊      | 379/1000 [00:01<00:02, 209.78it/s, Reward=378, Loss Critic=31.1, Loss Actor=-119] \n",
      "Episode 221:  70%|███████   | 701/1000 [00:03<00:01, 209.86it/s, Reward=700, Loss Critic=63.9, Loss Actor=-314] \n",
      "Episode 222:  22%|██▏       | 221/1000 [00:01<00:03, 208.74it/s, Reward=220, Loss Critic=40.7, Loss Actor=-201] \n",
      "Episode 223:  18%|█▊        | 181/1000 [00:00<00:03, 209.16it/s, Reward=180, Loss Critic=119, Loss Actor=-191] \n",
      "Episode 224:  27%|██▋       | 269/1000 [00:01<00:03, 212.36it/s, Reward=268, Loss Critic=67.9, Loss Actor=-271]\n",
      "Episode 225:  48%|████▊     | 478/1000 [00:02<00:02, 210.84it/s, Reward=477, Loss Critic=29.5, Loss Actor=-271] \n",
      "Episode 226:  44%|████▍     | 445/1000 [00:02<00:02, 211.77it/s, Reward=444, Loss Critic=195, Loss Actor=-188] \n",
      "Episode 227:  41%|████      | 408/1000 [00:01<00:02, 210.81it/s, Reward=407, Loss Critic=17, Loss Actor=-20.9]  \n",
      "Episode 228:  35%|███▍      | 348/1000 [00:01<00:03, 211.11it/s, Reward=347, Loss Critic=8.98, Loss Actor=-25.6]\n",
      "Episode 229:  41%|████      | 406/1000 [00:01<00:02, 207.11it/s, Reward=405, Loss Critic=21.9, Loss Actor=-56.7]\n",
      "Episode 230:  29%|██▉       | 291/1000 [00:01<00:03, 188.76it/s, Reward=290, Loss Critic=13.7, Loss Actor=-49.2]\n",
      "Episode 231:  73%|███████▎  | 731/1000 [00:03<00:01, 197.44it/s, Reward=730, Loss Critic=36.6, Loss Actor=-216] \n",
      "Episode 232:  37%|███▋      | 374/1000 [00:01<00:02, 220.14it/s, Reward=373, Loss Critic=700, Loss Actor=-191] \n",
      "Episode 233:  43%|████▎     | 432/1000 [00:01<00:02, 219.73it/s, Reward=431, Loss Critic=150, Loss Actor=-162] \n",
      "Episode 234:  26%|██▌       | 261/1000 [00:01<00:03, 219.83it/s, Reward=260, Loss Critic=181, Loss Actor=-9.71]  \n",
      "Episode 235:  31%|███       | 308/1000 [00:01<00:03, 214.01it/s, Reward=307, Loss Critic=77.5, Loss Actor=-118] \n",
      "Episode 236:  40%|███▉      | 398/1000 [00:01<00:02, 217.63it/s, Reward=397, Loss Critic=22.8, Loss Actor=-176] \n",
      "Episode 237: 100%|██████████| 1000/1000 [00:05<00:00, 198.55it/s, Reward=999, Loss Critic=48.9, Loss Actor=-255]\n",
      "Episode 238:  31%|███▏      | 314/1000 [00:01<00:03, 187.35it/s, Reward=313, Loss Critic=6.86, Loss Actor=-114] \n",
      "Episode 239:  35%|███▌      | 352/1000 [00:01<00:03, 187.78it/s, Reward=351, Loss Critic=39.8, Loss Actor=-189] \n",
      "Episode 240:  47%|████▋     | 469/1000 [00:02<00:02, 189.36it/s, Reward=468, Loss Critic=30, Loss Actor=-204]  \n",
      "Episode 241:  71%|███████   | 707/1000 [00:03<00:01, 188.06it/s, Reward=706, Loss Critic=201, Loss Actor=-366]  \n",
      "Episode 242:  99%|█████████▉| 988/1000 [00:04<00:00, 201.40it/s, Reward=987, Loss Critic=902, Loss Actor=-1e+3]\n",
      "Episode 243:  62%|██████▏   | 624/1000 [00:03<00:01, 200.58it/s, Reward=623, Loss Critic=2.89e+3, Loss Actor=-829]\n",
      "Episode 244:  65%|██████▌   | 651/1000 [00:03<00:01, 216.05it/s, Reward=650, Loss Critic=1.63e+3, Loss Actor=-991]\n",
      "Episode 245: 100%|██████████| 1000/1000 [00:04<00:00, 216.24it/s, Reward=999, Loss Critic=726, Loss Actor=-646]\n",
      "Episode 246: 100%|██████████| 1000/1000 [00:04<00:00, 216.38it/s, Reward=999, Loss Critic=14.9, Loss Actor=-285]\n",
      "Episode 247:   2%|▏         | 24/1000 [00:00<00:04, 205.81it/s, Reward=22.9, Loss Critic=16.7, Loss Actor=-3.36]\n",
      "Episode 248:   8%|▊         | 75/1000 [00:00<00:04, 211.20it/s, Reward=73.9, Loss Critic=938, Loss Actor=-235] \n",
      "Episode 249:   1%|          | 9/1000 [00:00<00:05, 191.02it/s, Reward=7.9, Loss Critic=229, Loss Actor=-21.7]  \n",
      "Episode 250:   1%|          | 8/1000 [00:00<00:05, 188.59it/s, Reward=6.9, Loss Critic=269, Loss Actor=17]     \n",
      "Episode 251: 100%|██████████| 1000/1000 [00:04<00:00, 217.08it/s, Reward=999, Loss Critic=8.93e+3, Loss Actor=-5.35e+3]\n",
      "Episode 252:  46%|████▌     | 460/1000 [00:02<00:02, 217.08it/s, Reward=459, Loss Critic=250, Loss Actor=-1.32e+3]\n",
      "Episode 253:  46%|████▌     | 459/1000 [00:02<00:02, 216.82it/s, Reward=458, Loss Critic=1.85e+3, Loss Actor=-1.17e+3]\n",
      "Episode 254: 100%|██████████| 1000/1000 [00:04<00:00, 214.31it/s, Reward=999, Loss Critic=1.21e+3, Loss Actor=-1.12e+3]\n",
      "Episode 255: 100%|██████████| 1000/1000 [00:04<00:00, 217.50it/s, Reward=999, Loss Critic=50.6, Loss Actor=-671]\n",
      "Episode 256: 100%|██████████| 1000/1000 [00:04<00:00, 214.06it/s, Reward=999, Loss Critic=24.3, Loss Actor=-362]\n",
      "Episode 257: 100%|██████████| 1000/1000 [00:04<00:00, 206.30it/s, Reward=999, Loss Critic=24.8, Loss Actor=-273]\n",
      "Episode 258: 100%|██████████| 1000/1000 [00:05<00:00, 189.81it/s, Reward=999, Loss Critic=9.03, Loss Actor=-169]\n",
      "Episode 259: 100%|██████████| 1000/1000 [00:05<00:00, 189.77it/s, Reward=999, Loss Critic=31.1, Loss Actor=-607]\n",
      "Episode 260: 100%|██████████| 1000/1000 [00:05<00:00, 193.52it/s, Reward=999, Loss Critic=9.7, Loss Actor=-320] \n",
      "Episode 261:  13%|█▎        | 126/1000 [00:00<00:03, 218.54it/s, Reward=125, Loss Critic=24.7, Loss Actor=-51.8]\n",
      "Episode 262: 100%|██████████| 1000/1000 [00:04<00:00, 212.22it/s, Reward=999, Loss Critic=5.11e+3, Loss Actor=-2.89e+3]\n",
      "Episode 263: 100%|██████████| 1000/1000 [00:04<00:00, 210.50it/s, Reward=999, Loss Critic=19.3, Loss Actor=-265]\n",
      "Episode 264: 100%|██████████| 1000/1000 [00:04<00:00, 210.75it/s, Reward=999, Loss Critic=6.71, Loss Actor=-196]\n",
      "Episode 265:  74%|███████▍  | 743/1000 [00:03<00:01, 207.93it/s, Reward=742, Loss Critic=27.4, Loss Actor=-364] \n",
      "Episode 266: 100%|██████████| 1000/1000 [00:04<00:00, 213.41it/s, Reward=999, Loss Critic=436, Loss Actor=-264]\n",
      "Episode 267: 100%|██████████| 1000/1000 [00:04<00:00, 213.35it/s, Reward=999, Loss Critic=23.9, Loss Actor=-382]\n",
      "Episode 268: 100%|██████████| 1000/1000 [00:04<00:00, 214.72it/s, Reward=999, Loss Critic=5.02, Loss Actor=-94.3]\n",
      "Episode 269: 100%|██████████| 1000/1000 [00:04<00:00, 211.71it/s, Reward=999, Loss Critic=3.8, Loss Actor=-112]  \n",
      "Episode 270: 100%|██████████| 1000/1000 [00:04<00:00, 201.40it/s, Reward=999, Loss Critic=10.5, Loss Actor=-240] \n",
      "Episode 271: 100%|██████████| 1000/1000 [00:05<00:00, 190.10it/s, Reward=999, Loss Critic=3.06, Loss Actor=-77.7]\n",
      "Episode 272: 100%|██████████| 1000/1000 [00:05<00:00, 196.17it/s, Reward=999, Loss Critic=1.09, Loss Actor=-35.4]   \n",
      "Episode 273: 100%|██████████| 1000/1000 [00:04<00:00, 202.75it/s, Reward=999, Loss Critic=0.279, Loss Actor=-14.1] \n",
      "Episode 274: 100%|██████████| 1000/1000 [00:05<00:00, 189.90it/s, Reward=999, Loss Critic=0.61, Loss Actor=-39]    \n",
      "Episode 275: 100%|██████████| 1000/1000 [00:05<00:00, 186.88it/s, Reward=999, Loss Critic=0.678, Loss Actor=-84.2]\n",
      "Episode 276: 100%|██████████| 1000/1000 [00:05<00:00, 194.04it/s, Reward=999, Loss Critic=0.785, Loss Actor=-29.5]\n",
      "Episode 277: 100%|██████████| 1000/1000 [00:05<00:00, 195.14it/s, Reward=999, Loss Critic=0.085, Loss Actor=-13]    \n",
      "Episode 278: 100%|██████████| 1000/1000 [00:05<00:00, 192.85it/s, Reward=999, Loss Critic=0.0126, Loss Actor=-3.57] \n",
      "Episode 279: 100%|██████████| 1000/1000 [00:05<00:00, 196.78it/s, Reward=999, Loss Critic=0.00976, Loss Actor=-3.05]\n",
      "Episode 280: 100%|██████████| 1000/1000 [00:04<00:00, 204.28it/s, Reward=999, Loss Critic=0.0616, Loss Actor=-10.4]\n",
      "Episode 281: 100%|██████████| 1000/1000 [00:04<00:00, 212.05it/s, Reward=999, Loss Critic=0.00529, Loss Actor=-1.55] \n",
      "Episode 282: 100%|██████████| 1000/1000 [00:04<00:00, 215.30it/s, Reward=999, Loss Critic=0.00105, Loss Actor=-0.287]\n",
      "Episode 283: 100%|██████████| 1000/1000 [00:04<00:00, 212.71it/s, Reward=999, Loss Critic=0.00633, Loss Actor=-0.85]   \n",
      "Episode 284: 100%|██████████| 1000/1000 [00:05<00:00, 190.33it/s, Reward=999, Loss Critic=0.00133, Loss Actor=-0.209] \n",
      "Episode 285: 100%|██████████| 1000/1000 [00:05<00:00, 197.32it/s, Reward=999, Loss Critic=0.404, Loss Actor=-34.9]  \n",
      "Episode 286: 100%|██████████| 1000/1000 [00:04<00:00, 207.75it/s, Reward=999, Loss Critic=0.0615, Loss Actor=-14.2] \n",
      "Episode 287: 100%|██████████| 1000/1000 [00:04<00:00, 211.24it/s, Reward=999, Loss Critic=0.000485, Loss Actor=-0.535]\n",
      "Episode 288: 100%|██████████| 1000/1000 [00:04<00:00, 211.98it/s, Reward=999, Loss Critic=0.00868, Loss Actor=-3.3]   \n",
      "Episode 289: 100%|██████████| 1000/1000 [00:04<00:00, 219.14it/s, Reward=999, Loss Critic=0.00109, Loss Actor=-0.327] \n",
      "Episode 290: 100%|██████████| 1000/1000 [00:04<00:00, 219.95it/s, Reward=999, Loss Critic=0.000412, Loss Actor=-0.00454]\n",
      "Episode 291: 100%|██████████| 1000/1000 [00:04<00:00, 212.84it/s, Reward=999, Loss Critic=0.000624, Loss Actor=-0.0342] \n",
      "Episode 292: 100%|██████████| 1000/1000 [00:04<00:00, 210.31it/s, Reward=999, Loss Critic=0.000574, Loss Actor=-0.111]  \n",
      "Episode 293: 100%|██████████| 1000/1000 [00:04<00:00, 213.93it/s, Reward=999, Loss Critic=0.299, Loss Actor=-8.3]    \n",
      "Episode 294: 100%|██████████| 1000/1000 [00:04<00:00, 209.42it/s, Reward=999, Loss Critic=0.00628, Loss Actor=-0.305]\n",
      "Episode 295: 100%|██████████| 1000/1000 [00:04<00:00, 212.73it/s, Reward=999, Loss Critic=5e-7, Loss Actor=-0.00022]   \n",
      "Episode 296: 100%|██████████| 1000/1000 [00:04<00:00, 203.29it/s, Reward=999, Loss Critic=3.53e-5, Loss Actor=-2.57e-5]\n",
      "Episode 297:   5%|▌         | 53/1000 [00:00<00:04, 194.07it/s, Reward=52, Loss Critic=0.0116, Loss Actor=-0.00195] \n"
     ]
    },
    {
     "ename": "KeyboardInterrupt",
     "evalue": "",
     "output_type": "error",
     "traceback": [
      "\u001b[0;31m---------------------------------------------------------------------------\u001b[0m",
      "\u001b[0;31mKeyboardInterrupt\u001b[0m                         Traceback (most recent call last)",
      "Cell \u001b[0;32mIn[4], line 174\u001b[0m\n\u001b[1;32m    172\u001b[0m history[\u001b[38;5;124m'\u001b[39m\u001b[38;5;124mrewards\u001b[39m\u001b[38;5;124m'\u001b[39m]\u001b[38;5;241m.\u001b[39mappend(reward)\n\u001b[1;32m    173\u001b[0m \u001b[38;5;28;01mif\u001b[39;00m \u001b[38;5;28mlen\u001b[39m(buffer) \u001b[38;5;241m>\u001b[39m\u001b[38;5;241m=\u001b[39m buffer_size:\n\u001b[0;32m--> 174\u001b[0m \tloss_critic, loss_actor \u001b[38;5;241m=\u001b[39m \u001b[43mupdate_actor_critic\u001b[49m\u001b[43m(\u001b[49m\u001b[43mbuffer\u001b[49m\u001b[43m,\u001b[49m\u001b[43m \u001b[49m\u001b[43mgamma\u001b[49m\u001b[43m,\u001b[49m\u001b[43m \u001b[49m\u001b[43mactions_encode\u001b[49m\u001b[43m)\u001b[49m\n\u001b[1;32m    175\u001b[0m \thistory[\u001b[38;5;124m'\u001b[39m\u001b[38;5;124mloss_critic\u001b[39m\u001b[38;5;124m'\u001b[39m]\u001b[38;5;241m.\u001b[39mappend(loss_critic)\n\u001b[1;32m    176\u001b[0m \thistory[\u001b[38;5;124m'\u001b[39m\u001b[38;5;124mloss_actor\u001b[39m\u001b[38;5;124m'\u001b[39m]\u001b[38;5;241m.\u001b[39mappend(loss_actor)\n",
      "Cell \u001b[0;32mIn[4], line 90\u001b[0m, in \u001b[0;36mupdate_actor_critic\u001b[0;34m(buffer, gamma, actions_encode)\u001b[0m\n\u001b[1;32m     86\u001b[0m next_values \u001b[38;5;241m=\u001b[39m V(next_state)\u001b[38;5;241m.\u001b[39mdetach()\n\u001b[1;32m     88\u001b[0m loss_critic \u001b[38;5;241m=\u001b[39m V\u001b[38;5;241m.\u001b[39mcriterion(rewards \u001b[38;5;241m+\u001b[39m gamma\u001b[38;5;241m*\u001b[39mnext_values\u001b[38;5;241m*\u001b[39m(\u001b[38;5;241m1\u001b[39m \u001b[38;5;241m-\u001b[39m dones), values)\n\u001b[0;32m---> 90\u001b[0m qa \u001b[38;5;241m=\u001b[39m \u001b[43mget_pi_a_s\u001b[49m\u001b[43m(\u001b[49m\u001b[43mstate\u001b[49m\u001b[43m,\u001b[49m\u001b[43m \u001b[49m\u001b[43mactions_encode\u001b[49m\u001b[43m)\u001b[49m\n\u001b[1;32m     92\u001b[0m log_probs \u001b[38;5;241m=\u001b[39m torch\u001b[38;5;241m.\u001b[39mlog(qa\u001b[38;5;241m.\u001b[39mgather(\u001b[38;5;241m1\u001b[39m, action))\n\u001b[1;32m     93\u001b[0m advantage \u001b[38;5;241m=\u001b[39m (rewards \u001b[38;5;241m+\u001b[39m gamma \u001b[38;5;241m*\u001b[39m next_values \u001b[38;5;241m*\u001b[39m (\u001b[38;5;241m1\u001b[39m \u001b[38;5;241m-\u001b[39m dones) \u001b[38;5;241m-\u001b[39m values)\u001b[38;5;241m.\u001b[39mdetach()\n",
      "Cell \u001b[0;32mIn[4], line 117\u001b[0m, in \u001b[0;36mget_pi_a_s\u001b[0;34m(state, actions_encode)\u001b[0m\n\u001b[1;32m    115\u001b[0m \u001b[38;5;28;01mdef\u001b[39;00m \u001b[38;5;21mget_pi_a_s\u001b[39m(state, actions_encode):\n\u001b[0;32m--> 117\u001b[0m \taction_latent \u001b[38;5;241m=\u001b[39m \u001b[43mPi\u001b[49m\u001b[38;5;241;43m.\u001b[39;49m\u001b[43mforward\u001b[49m\u001b[43m(\u001b[49m\u001b[43mstate\u001b[49m\u001b[43m)\u001b[49m \u001b[38;5;66;03m#b x action_dim\u001b[39;00m\n\u001b[1;32m    118\u001b[0m \tpreferences \u001b[38;5;241m=\u001b[39m action_latent \u001b[38;5;241m@\u001b[39m actions_encode\u001b[38;5;241m.\u001b[39mT\n\u001b[1;32m    120\u001b[0m \taction_probs \u001b[38;5;241m=\u001b[39m torch\u001b[38;5;241m.\u001b[39mnn\u001b[38;5;241m.\u001b[39mfunctional\u001b[38;5;241m.\u001b[39msoftmax(preferences \u001b[38;5;241m-\u001b[39m preferences\u001b[38;5;241m.\u001b[39mmax(dim\u001b[38;5;241m=\u001b[39m\u001b[38;5;241m-\u001b[39m\u001b[38;5;241m1\u001b[39m, keepdim\u001b[38;5;241m=\u001b[39m\u001b[38;5;28;01mTrue\u001b[39;00m)[\u001b[38;5;241m0\u001b[39m], dim \u001b[38;5;241m=\u001b[39m \u001b[38;5;241m-\u001b[39m\u001b[38;5;241m1\u001b[39m) \u001b[38;5;241m+\u001b[39m \u001b[38;5;241m1e-8\u001b[39m\n",
      "Cell \u001b[0;32mIn[4], line 36\u001b[0m, in \u001b[0;36mActor.forward\u001b[0;34m(self, state)\u001b[0m\n\u001b[1;32m     35\u001b[0m \u001b[38;5;28;01mdef\u001b[39;00m \u001b[38;5;21mforward\u001b[39m(\u001b[38;5;28mself\u001b[39m, state):\n\u001b[0;32m---> 36\u001b[0m \t\u001b[38;5;28;01mreturn\u001b[39;00m \u001b[38;5;28;43mself\u001b[39;49m\u001b[38;5;241;43m.\u001b[39;49m\u001b[43mmodel\u001b[49m\u001b[43m(\u001b[49m\u001b[43mstate\u001b[49m\u001b[38;5;241;43m.\u001b[39;49m\u001b[43mto\u001b[49m\u001b[43m(\u001b[49m\u001b[38;5;28;43mself\u001b[39;49m\u001b[38;5;241;43m.\u001b[39;49m\u001b[43mdevice\u001b[49m\u001b[43m)\u001b[49m\u001b[43m)\u001b[49m\n",
      "File \u001b[0;32m/opt/conda/lib/python3.11/site-packages/torch/nn/modules/module.py:1553\u001b[0m, in \u001b[0;36mModule._wrapped_call_impl\u001b[0;34m(self, *args, **kwargs)\u001b[0m\n\u001b[1;32m   1551\u001b[0m     \u001b[38;5;28;01mreturn\u001b[39;00m \u001b[38;5;28mself\u001b[39m\u001b[38;5;241m.\u001b[39m_compiled_call_impl(\u001b[38;5;241m*\u001b[39margs, \u001b[38;5;241m*\u001b[39m\u001b[38;5;241m*\u001b[39mkwargs)  \u001b[38;5;66;03m# type: ignore[misc]\u001b[39;00m\n\u001b[1;32m   1552\u001b[0m \u001b[38;5;28;01melse\u001b[39;00m:\n\u001b[0;32m-> 1553\u001b[0m     \u001b[38;5;28;01mreturn\u001b[39;00m \u001b[38;5;28;43mself\u001b[39;49m\u001b[38;5;241;43m.\u001b[39;49m\u001b[43m_call_impl\u001b[49m\u001b[43m(\u001b[49m\u001b[38;5;241;43m*\u001b[39;49m\u001b[43margs\u001b[49m\u001b[43m,\u001b[49m\u001b[43m \u001b[49m\u001b[38;5;241;43m*\u001b[39;49m\u001b[38;5;241;43m*\u001b[39;49m\u001b[43mkwargs\u001b[49m\u001b[43m)\u001b[49m\n",
      "File \u001b[0;32m/opt/conda/lib/python3.11/site-packages/torch/nn/modules/module.py:1562\u001b[0m, in \u001b[0;36mModule._call_impl\u001b[0;34m(self, *args, **kwargs)\u001b[0m\n\u001b[1;32m   1557\u001b[0m \u001b[38;5;66;03m# If we don't have any hooks, we want to skip the rest of the logic in\u001b[39;00m\n\u001b[1;32m   1558\u001b[0m \u001b[38;5;66;03m# this function, and just call forward.\u001b[39;00m\n\u001b[1;32m   1559\u001b[0m \u001b[38;5;28;01mif\u001b[39;00m \u001b[38;5;129;01mnot\u001b[39;00m (\u001b[38;5;28mself\u001b[39m\u001b[38;5;241m.\u001b[39m_backward_hooks \u001b[38;5;129;01mor\u001b[39;00m \u001b[38;5;28mself\u001b[39m\u001b[38;5;241m.\u001b[39m_backward_pre_hooks \u001b[38;5;129;01mor\u001b[39;00m \u001b[38;5;28mself\u001b[39m\u001b[38;5;241m.\u001b[39m_forward_hooks \u001b[38;5;129;01mor\u001b[39;00m \u001b[38;5;28mself\u001b[39m\u001b[38;5;241m.\u001b[39m_forward_pre_hooks\n\u001b[1;32m   1560\u001b[0m         \u001b[38;5;129;01mor\u001b[39;00m _global_backward_pre_hooks \u001b[38;5;129;01mor\u001b[39;00m _global_backward_hooks\n\u001b[1;32m   1561\u001b[0m         \u001b[38;5;129;01mor\u001b[39;00m _global_forward_hooks \u001b[38;5;129;01mor\u001b[39;00m _global_forward_pre_hooks):\n\u001b[0;32m-> 1562\u001b[0m     \u001b[38;5;28;01mreturn\u001b[39;00m \u001b[43mforward_call\u001b[49m\u001b[43m(\u001b[49m\u001b[38;5;241;43m*\u001b[39;49m\u001b[43margs\u001b[49m\u001b[43m,\u001b[49m\u001b[43m \u001b[49m\u001b[38;5;241;43m*\u001b[39;49m\u001b[38;5;241;43m*\u001b[39;49m\u001b[43mkwargs\u001b[49m\u001b[43m)\u001b[49m\n\u001b[1;32m   1564\u001b[0m \u001b[38;5;28;01mtry\u001b[39;00m:\n\u001b[1;32m   1565\u001b[0m     result \u001b[38;5;241m=\u001b[39m \u001b[38;5;28;01mNone\u001b[39;00m\n",
      "File \u001b[0;32m/opt/conda/lib/python3.11/site-packages/torch/nn/modules/container.py:219\u001b[0m, in \u001b[0;36mSequential.forward\u001b[0;34m(self, input)\u001b[0m\n\u001b[1;32m    217\u001b[0m \u001b[38;5;28;01mdef\u001b[39;00m \u001b[38;5;21mforward\u001b[39m(\u001b[38;5;28mself\u001b[39m, \u001b[38;5;28minput\u001b[39m):\n\u001b[1;32m    218\u001b[0m     \u001b[38;5;28;01mfor\u001b[39;00m module \u001b[38;5;129;01min\u001b[39;00m \u001b[38;5;28mself\u001b[39m:\n\u001b[0;32m--> 219\u001b[0m         \u001b[38;5;28minput\u001b[39m \u001b[38;5;241m=\u001b[39m \u001b[43mmodule\u001b[49m\u001b[43m(\u001b[49m\u001b[38;5;28;43minput\u001b[39;49m\u001b[43m)\u001b[49m\n\u001b[1;32m    220\u001b[0m     \u001b[38;5;28;01mreturn\u001b[39;00m \u001b[38;5;28minput\u001b[39m\n",
      "File \u001b[0;32m/opt/conda/lib/python3.11/site-packages/torch/nn/modules/module.py:1553\u001b[0m, in \u001b[0;36mModule._wrapped_call_impl\u001b[0;34m(self, *args, **kwargs)\u001b[0m\n\u001b[1;32m   1551\u001b[0m     \u001b[38;5;28;01mreturn\u001b[39;00m \u001b[38;5;28mself\u001b[39m\u001b[38;5;241m.\u001b[39m_compiled_call_impl(\u001b[38;5;241m*\u001b[39margs, \u001b[38;5;241m*\u001b[39m\u001b[38;5;241m*\u001b[39mkwargs)  \u001b[38;5;66;03m# type: ignore[misc]\u001b[39;00m\n\u001b[1;32m   1552\u001b[0m \u001b[38;5;28;01melse\u001b[39;00m:\n\u001b[0;32m-> 1553\u001b[0m     \u001b[38;5;28;01mreturn\u001b[39;00m \u001b[38;5;28;43mself\u001b[39;49m\u001b[38;5;241;43m.\u001b[39;49m\u001b[43m_call_impl\u001b[49m\u001b[43m(\u001b[49m\u001b[38;5;241;43m*\u001b[39;49m\u001b[43margs\u001b[49m\u001b[43m,\u001b[49m\u001b[43m \u001b[49m\u001b[38;5;241;43m*\u001b[39;49m\u001b[38;5;241;43m*\u001b[39;49m\u001b[43mkwargs\u001b[49m\u001b[43m)\u001b[49m\n",
      "File \u001b[0;32m/opt/conda/lib/python3.11/site-packages/torch/nn/modules/module.py:1562\u001b[0m, in \u001b[0;36mModule._call_impl\u001b[0;34m(self, *args, **kwargs)\u001b[0m\n\u001b[1;32m   1557\u001b[0m \u001b[38;5;66;03m# If we don't have any hooks, we want to skip the rest of the logic in\u001b[39;00m\n\u001b[1;32m   1558\u001b[0m \u001b[38;5;66;03m# this function, and just call forward.\u001b[39;00m\n\u001b[1;32m   1559\u001b[0m \u001b[38;5;28;01mif\u001b[39;00m \u001b[38;5;129;01mnot\u001b[39;00m (\u001b[38;5;28mself\u001b[39m\u001b[38;5;241m.\u001b[39m_backward_hooks \u001b[38;5;129;01mor\u001b[39;00m \u001b[38;5;28mself\u001b[39m\u001b[38;5;241m.\u001b[39m_backward_pre_hooks \u001b[38;5;129;01mor\u001b[39;00m \u001b[38;5;28mself\u001b[39m\u001b[38;5;241m.\u001b[39m_forward_hooks \u001b[38;5;129;01mor\u001b[39;00m \u001b[38;5;28mself\u001b[39m\u001b[38;5;241m.\u001b[39m_forward_pre_hooks\n\u001b[1;32m   1560\u001b[0m         \u001b[38;5;129;01mor\u001b[39;00m _global_backward_pre_hooks \u001b[38;5;129;01mor\u001b[39;00m _global_backward_hooks\n\u001b[1;32m   1561\u001b[0m         \u001b[38;5;129;01mor\u001b[39;00m _global_forward_hooks \u001b[38;5;129;01mor\u001b[39;00m _global_forward_pre_hooks):\n\u001b[0;32m-> 1562\u001b[0m     \u001b[38;5;28;01mreturn\u001b[39;00m \u001b[43mforward_call\u001b[49m\u001b[43m(\u001b[49m\u001b[38;5;241;43m*\u001b[39;49m\u001b[43margs\u001b[49m\u001b[43m,\u001b[49m\u001b[43m \u001b[49m\u001b[38;5;241;43m*\u001b[39;49m\u001b[38;5;241;43m*\u001b[39;49m\u001b[43mkwargs\u001b[49m\u001b[43m)\u001b[49m\n\u001b[1;32m   1564\u001b[0m \u001b[38;5;28;01mtry\u001b[39;00m:\n\u001b[1;32m   1565\u001b[0m     result \u001b[38;5;241m=\u001b[39m \u001b[38;5;28;01mNone\u001b[39;00m\n",
      "File \u001b[0;32m/opt/conda/lib/python3.11/site-packages/torch/nn/modules/linear.py:117\u001b[0m, in \u001b[0;36mLinear.forward\u001b[0;34m(self, input)\u001b[0m\n\u001b[1;32m    116\u001b[0m \u001b[38;5;28;01mdef\u001b[39;00m \u001b[38;5;21mforward\u001b[39m(\u001b[38;5;28mself\u001b[39m, \u001b[38;5;28minput\u001b[39m: Tensor) \u001b[38;5;241m-\u001b[39m\u001b[38;5;241m>\u001b[39m Tensor:\n\u001b[0;32m--> 117\u001b[0m     \u001b[38;5;28;01mreturn\u001b[39;00m \u001b[43mF\u001b[49m\u001b[38;5;241;43m.\u001b[39;49m\u001b[43mlinear\u001b[49m\u001b[43m(\u001b[49m\u001b[38;5;28;43minput\u001b[39;49m\u001b[43m,\u001b[49m\u001b[43m \u001b[49m\u001b[38;5;28;43mself\u001b[39;49m\u001b[38;5;241;43m.\u001b[39;49m\u001b[43mweight\u001b[49m\u001b[43m,\u001b[49m\u001b[43m \u001b[49m\u001b[38;5;28;43mself\u001b[39;49m\u001b[38;5;241;43m.\u001b[39;49m\u001b[43mbias\u001b[49m\u001b[43m)\u001b[49m\n",
      "\u001b[0;31mKeyboardInterrupt\u001b[0m: "
     ]
    }
   ],
   "source": [
    "import random; random.seed(42)\n",
    "import numpy as np; np.random.seed(42)\n",
    "import torch; torch.manual_seed(42)\t\n",
    "\n",
    "from einops import rearrange, repeat\n",
    "\n",
    "import gymnasium as gym\n",
    "from matplotlib import pyplot as plt\n",
    "\n",
    "\n",
    "#actor critic model\n",
    "class Actor(torch.nn.Module):\n",
    "\t\n",
    "    \n",
    "\tdef __init__(self, state_dim: int, action_dim: int,\n",
    "\t\t\t  lr_optimizer: float = 0.01):\n",
    "\t\tsuper(Actor, self).__init__()\n",
    "\n",
    "\t\tself.model = torch.nn.Sequential(\n",
    "\t\t\ttorch.nn.Linear(state_dim, 128),\n",
    "\t\t\ttorch.nn.ReLU(),\n",
    "\t\t\ttorch.nn.Linear(128, 64),\n",
    "\t\t\ttorch.nn.ReLU(),\n",
    "\t\t\ttorch.nn.Linear(64, action_dim),\n",
    "\t\t)\n",
    "\n",
    "\t\tself.max_step = None\n",
    "\n",
    "\t\tself.criterion = torch.nn.MSELoss()\n",
    "\t\tself.device = torch.device(\"cuda\" if torch.cuda.is_available() else \"cpu\")\n",
    "\t\tself.model.to(self.device)\n",
    "\n",
    "\t\tself.optimizer = torch.optim.Adam(self.model.parameters(), lr=lr_optimizer)\n",
    "\t\t\n",
    "\tdef forward(self, state):\n",
    "\t\treturn self.model(state.to(self.device))\n",
    "\t\t# return self.model(torch.cat([state, action], dim = -1).to(self.device)).squeeze(-1)\n",
    "\t\n",
    "\tdef save(self, path):\n",
    "\t\ttorch.save(self.state_dict(), path)\n",
    "\n",
    "\tdef load(self, path):\n",
    "\t\tself.load_state_dict(torch.load(path, map_location=self.device))\n",
    "    \n",
    "\t\n",
    "\n",
    "class Critic(torch.nn.Module):\n",
    "\n",
    "\tdef __init__(self, state_dim: int,\n",
    "\t\t\t  lr_optimizer: float = 0.01):\n",
    "\t\tsuper(Critic, self).__init__()\n",
    "\t\t\n",
    "\t\tself.model = torch.nn.Sequential(\n",
    "\t\t\ttorch.nn.Linear(state_dim, 128),\n",
    "\t\t\ttorch.nn.ReLU(),\n",
    "\t\t\ttorch.nn.Linear(128, 64),\n",
    "\t\t\ttorch.nn.ReLU(),\n",
    "\t\t\ttorch.nn.Linear(64, 1),\n",
    "\t\t)\n",
    "\n",
    "\t\tself.criterion = torch.nn.MSELoss()\n",
    "\t\tself.device = torch.device(\"cuda\" if torch.cuda.is_available() else \"cpu\")\n",
    "\t\tself.model.to(self.device)\n",
    "\n",
    "\t\tself.optimizer = torch.optim.Adam(self.model.parameters(), lr=lr_optimizer)\n",
    "\t\t\n",
    "\n",
    "\tdef forward(self, state):\n",
    "\t\treturn self.model(state.to(self.device))\n",
    "\n",
    "\tdef save(self, path):\n",
    "\t\ttorch.save(self.state_dict(), path)\n",
    "\n",
    "\n",
    "\n",
    "def update_actor_critic(buffer, gamma, actions_encode):\n",
    "\n",
    "\trewards = torch.tensor([x['reward'] for x in buffer]).to(device=Pi.device).reshape(-1, 1)\n",
    "\tstate = torch.cat([x['state'] for x in buffer]).to(device=Pi.device)\n",
    "\tnext_state = torch.cat([x['next_state'] for x in buffer]).to(device=Pi.device)\n",
    "\taction = torch.stack([x['action'] for x in buffer]).to(device=Pi.device).reshape(-1, 1)\n",
    "\tdones = torch.tensor([float(x['end_state']) for x in buffer]).to(device=Pi.device).reshape(-1, 1)\n",
    "\n",
    "\n",
    "\tvalues = V(state)\n",
    "\tnext_values = V(next_state).detach()\n",
    "\n",
    "\tloss_critic = V.criterion(rewards + gamma*next_values*(1 - dones), values)\n",
    "\n",
    "\tqa = get_pi_a_s(state, actions_encode)\n",
    "\t\n",
    "\tlog_probs = torch.log(qa.gather(1, action))\n",
    "\tadvantage = (rewards + gamma * next_values * (1 - dones) - values).detach()\n",
    "\n",
    "\tloss_actor = -torch.mean(log_probs * advantage)\n",
    "\n",
    "\tPi.optimizer.zero_grad()\n",
    "\tV.optimizer.zero_grad()\n",
    "\n",
    "\tloss_critic.backward()\n",
    "\tloss_actor.backward()\n",
    "\n",
    "\tPi.optimizer.step()\n",
    "\tV.optimizer.step()\n",
    "\n",
    "\treturn loss_critic.item(), loss_actor.item()\n",
    "\n",
    "\n",
    "def encode_actions(action, n_actions):\n",
    "\n",
    "\tif not isinstance(action, torch.Tensor):\n",
    "\t\taction = torch.tensor(action)\n",
    "\treturn torch.nn.functional.one_hot(action, num_classes=n_actions).float()\n",
    "\n",
    "def get_pi_a_s(state, actions_encode):\n",
    "\t\n",
    "\taction_latent = Pi.forward(state) #b x action_dim\n",
    "\tpreferences = action_latent @ actions_encode.T\n",
    "\n",
    "\taction_probs = torch.nn.functional.softmax(preferences - preferences.max(dim=-1, keepdim=True)[0], dim = -1) + 1e-8\n",
    "\treturn action_probs\n",
    "\n",
    "def preprocess_state(state):\n",
    "\treturn torch.tensor(state).float().reshape(1, -1)\n",
    "\n",
    "episodes = 400\n",
    "episode_length = 1000\n",
    "dataset_coverage_step = .75\n",
    "gamma = 0.99\n",
    "buffer = []\n",
    "actions_embedd_dim = 2\n",
    "buffer_size = 512\n",
    "lr_optimizer = 1e-4\n",
    "\n",
    "# env = gym.make('MountainCar-v0')\n",
    "env = gym.make('CartPole-v1')\n",
    "\n",
    "Pi = Actor(state_dim = env.observation_space.shape[0], action_dim = actions_embedd_dim, lr_optimizer = lr_optimizer)\n",
    "V = Critic(state_dim = env.observation_space.shape[0], lr_optimizer = lr_optimizer)\n",
    "\n",
    "#---\n",
    "from tqdm import tqdm\n",
    "\n",
    "actions_encode = encode_actions([i  for i in range(env.action_space.n)], env.action_space.n).to(Pi.device)\n",
    "history = {'rewards': [],\n",
    "\t\t    'loss_critic': [], \n",
    "\t\t\t'loss_actor': []}\n",
    "\n",
    "for i in range(episodes):\n",
    "\n",
    "\tprev_state, _ = env.reset()\n",
    "\tprev_state = preprocess_state(prev_state)\n",
    "\n",
    "\titera = tqdm(range(episode_length), desc = f\"Episode {i}\")\n",
    "\n",
    "\tfor iteration in itera:\n",
    "\n",
    "\t\tpreferences = get_pi_a_s(prev_state, actions_encode)\t\t\n",
    "\t\taction = torch.multinomial(preferences, 1).squeeze(-1)\n",
    "\t\t\n",
    "\t\tstate, reward, done, _, _ = env.step(action.item())\n",
    "\t\treward = reward if not done else -0.1  \n",
    "\n",
    "\t\tstate = preprocess_state(state)\n",
    "\n",
    "\t\tbuffer.append({'state': prev_state,\n",
    "\t\t\t\t\t\t'action': action.detach(), \n",
    "\t\t\t\t\t\t'reward': reward, \n",
    "\t\t\t\t\t\t'next_state': state, \n",
    "\t\t\t\t\t\t'end_state': done})\n",
    "\t\t\n",
    "\t\thistory['rewards'].append(reward)\n",
    "\t\tif len(buffer) >= buffer_size:\n",
    "\t\t\tloss_critic, loss_actor = update_actor_critic(buffer, gamma, actions_encode)\n",
    "\t\t\thistory['loss_critic'].append(loss_critic)\n",
    "\t\t\thistory['loss_actor'].append(loss_actor)\n",
    "\t\t\tbuffer = buffer[-buffer_size + 1:]\n",
    "\n",
    "\t\tprev_state = state\n",
    "\n",
    "\t\titera.set_postfix({'Reward': sum(history['rewards'][-iteration:]),\n",
    "\t\t\t\t\t\t'Loss Critic': sum(history['loss_critic'][-iteration:]),\n",
    "\t\t\t\t\t\t'Loss Actor': sum(history['loss_actor'][-iteration:])} )\n",
    "\t\tif done:\n",
    "\t\t\t# print(reward, done, state)\n",
    "\t\t\tbreak\n",
    "\t\t\n",
    "\tif Pi.max_step is None or Pi.max_step < iteration:\n",
    "\t\tPi.max_step = iteration\n",
    "\t\tPi.save(f\"actor.pt\")\n",
    "\t\tV.save(f\"critic.pt\")\n",
    "\n",
    "env.close()\n"
   ]
  },
  {
   "cell_type": "code",
   "execution_count": 5,
   "metadata": {},
   "outputs": [
    {
     "data": {
      "text/plain": [
       "Text(0.5, 0, 'Iterations')"
      ]
     },
     "execution_count": 5,
     "metadata": {},
     "output_type": "execute_result"
    },
    {
     "data": {
      "image/png": "[encoded data removed]",
      "text/plain": [
       "<Figure size 640x480 with 1 Axes>"
      ]
     },
     "metadata": {},
     "output_type": "display_data"
    }
   ],
   "source": [
    "plt.plot(history['rewards'])\n",
    "plt.title(\"Rewards\")\n",
    "plt.xlabel(\"Iterations\")"
   ]
  },
  {
   "cell_type": "code",
   "execution_count": 3,
   "metadata": {},
   "outputs": [
    {
     "data": {
      "text/plain": [
       "tensor(0, device='cuda:0')"
      ]
     },
     "execution_count": 3,
     "metadata": {},
     "output_type": "execute_result"
    }
   ],
   "source": [
    "Pi.forward(prev_state.repeat(len(actions_encode), 1), \n",
    "\t\t\t\t\t\t\t\t\t\t\t\tactions_encode).argmax()"
   ]
  },
  {
   "cell_type": "code",
   "execution_count": 6,
   "metadata": {},
   "outputs": [
    {
     "data": {
      "image/png": "[encoded data removed]",
      "text/plain": [
       "<Figure size 640x480 with 1 Axes>"
      ]
     },
     "metadata": {},
     "output_type": "display_data"
    },
    {
     "name": "stdout",
     "output_type": "stream",
     "text": [
      "[-2.400093   -0.5861118  -0.00980574  0.14581966]\n"
     ]
    },
    {
     "data": {
      "image/png": "[encoded data removed]",
      "text/plain": [
       "<Figure size 640x480 with 1 Axes>"
      ]
     },
     "metadata": {},
     "output_type": "display_data"
    }
   ],
   "source": [
    "import matplotlib.pyplot as plt\n",
    "%matplotlib inline\n",
    "from IPython import display\n",
    "\n",
    "def show_state(env, step=0):\n",
    "    plt.figure(3)\n",
    "    plt.clf()\n",
    "    plt.imshow(env.render())\n",
    "    plt.title(f\"Step: {step}\")\n",
    "    plt.axis('off')\n",
    "\n",
    "    display.clear_output(wait=True)\n",
    "    display.display(plt.gcf())\n",
    "\n",
    "Pi.load('actor.pt')\n",
    "env = gym.make('CartPole-v1', render_mode='rgb_array')\n",
    "prev_state, info = env.reset()\n",
    "prev_state = preprocess_state(prev_state)\n",
    "\n",
    "for step in range(int(1e4)):\n",
    "\tpreferences =  get_pi_a_s(prev_state, actions_encode)\n",
    "\n",
    "\taction = preferences.argmax()\n",
    "\n",
    "\tobservation, reward, terminated, _, _ = env.step(action.item())\n",
    "\tprint(action)\n",
    "\n",
    "\tprev_state = preprocess_state(observation)\n",
    "\tprev_action = action\n",
    "\n",
    "\tshow_state(env, step=step)\n",
    "\n",
    "\tif terminated:\n",
    "\t\tprint(observation)\n",
    "\t\tbreak\n",
    "\n",
    "env.close()\n"
   ]
  },
  {
   "cell_type": "code",
   "execution_count": null,
   "metadata": {},
   "outputs": [],
   "source": []
  }
 ],
 "metadata": {
  "kernelspec": {
   "display_name": "base",
   "language": "python",
   "name": "python3"
  },
  "language_info": {
   "codemirror_mode": {
    "name": "ipython",
    "version": 3
   },
   "file_extension": ".py",
   "mimetype": "text/x-python",
   "name": "python",
   "nbconvert_exporter": "python",
   "pygments_lexer": "ipython3",
   "version": "3.11.9"
  }
 },
 "nbformat": 4,
 "nbformat_minor": 2
}
