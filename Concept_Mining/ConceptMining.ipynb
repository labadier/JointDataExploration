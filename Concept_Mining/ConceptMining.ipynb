{
 "cells": [
  {
   "cell_type": "markdown",
   "metadata": {},
   "source": [
    "### Prepare Data"
   ]
  },
  {
   "cell_type": "code",
   "execution_count": null,
   "metadata": {},
   "outputs": [],
   "source": [
    "from glob import glob\n",
    "from ConceptMining import ConceptMiner\n",
    "from settings import settings\n",
    "\n",
    "import pickle"
   ]
  },
  {
   "cell_type": "code",
   "execution_count": null,
   "metadata": {},
   "outputs": [],
   "source": [
    "batch_size = 70\n",
    "images = [i for i in glob(\"../dataset/Images/*.jpg\")]\n",
    "Miner = ConceptMiner(images = images, load_model= True)\n",
    "\n",
    "# encodings, captions = Miner.get_image_caption(get_encodings = True, batch_size = batch_size)"
   ]
  },
  {
   "cell_type": "code",
   "execution_count": null,
   "metadata": {},
   "outputs": [],
   "source": [
    "# with open('encodings.pkl', 'wb') as f:\n",
    "#     pickle.dump({'encodings':encodings, 'captions': captions}, f)\n",
    "with open('encodings.pkl', 'rb') as f:\n",
    "\tdata = pickle.load(f)\n",
    "\tencodings = data['encodings']\n",
    "\tcaptions = data['captions']"
   ]
  },
  {
   "cell_type": "code",
   "execution_count": null,
   "metadata": {},
   "outputs": [],
   "source": [
    "concept_model, generated_concepts = Miner.concept_modeling(encodings = encodings, \n",
    "                                                           captions = captions, \n",
    "                                                           batch_size = batch_size)\n",
    "\n",
    "with open(\"generated_concepts.pkl\", \"wb\") as f:\n",
    "    pickle.dump(generated_concepts, f)\n"
   ]
  },
  {
   "cell_type": "markdown",
   "metadata": {},
   "source": [
    "### Cluser topics by semantic similarity \n",
    "- Cluser concepts\n",
    "- Sample concepts taking as mean the centroid +- a random noice to simulate user externalization"
   ]
  },
  {
   "cell_type": "code",
   "execution_count": null,
   "metadata": {},
   "outputs": [],
   "source": [
    "from sklearn.metrics import silhouette_score\n",
    "from sklearn.cluster import KMeans\n",
    "from umap import UMAP\n",
    "import os, pickle\n",
    "import numpy as np\n",
    "\n",
    "from transformers import AutoTokenizer, AutoModel\n",
    "\n",
    "with open(\"generated_concepts.pkl\", \"rb\") as f:\n",
    "    generated_concepts = list(set(pickle.load(f)) - {\"\"})\n",
    "    \n",
    "tokenizer = AutoTokenizer.from_pretrained(\"sentence-transformers/all-MiniLM-L6-v2\")\n",
    "model = AutoModel.from_pretrained(\"sentence-transformers/all-MiniLM-L6-v2\")"
   ]
  },
  {
   "cell_type": "code",
   "execution_count": null,
   "metadata": {},
   "outputs": [],
   "source": [
    "from transformers import AutoTokenizer, AutoModel\n",
    "import torch\n",
    "import torch.nn.functional as F\n",
    "\n",
    "def mean_pooling(model_output, attention_mask):\n",
    "    token_embeddings = model_output[0] #First element of model_output contains all token embeddings\n",
    "    input_mask_expanded = attention_mask.unsqueeze(-1).expand(token_embeddings.size()).float()\n",
    "    return torch.sum(token_embeddings * input_mask_expanded, 1) / torch.clamp(input_mask_expanded.sum(1), min=1e-9)\n",
    "\n",
    "def get_embedding(sentences, model, tokenizer, batch_size = 16):\n",
    "    with torch.no_grad():\n",
    "\n",
    "        output = None\n",
    "        for i in range(0, len(sentences), batch_size):\n",
    "            encoded_input = tokenizer(sentences[i: i + batch_size], padding=True, return_tensors='pt')\n",
    "\n",
    "            model_output = model(**encoded_input)\n",
    "            sentence_embeddings = mean_pooling(model_output, encoded_input['attention_mask'])\n",
    "\n",
    "            sentence_embeddings = F.normalize(sentence_embeddings, p=2, dim=1)\n",
    "            output = sentence_embeddings if output is None else torch.cat([output, sentence_embeddings])\n",
    "\n",
    "    return output\n",
    "\n",
    "concepts_embeddings = get_embedding(generated_concepts, model, tokenizer, batch_size = 16)"
   ]
  },
  {
   "cell_type": "code",
   "execution_count": null,
   "metadata": {},
   "outputs": [],
   "source": [
    "import numpy as np\n",
    "import matplotlib.pyplot as plt\n",
    "from sklearn.cluster import SpectralClustering\n",
    "from sklearn.metrics.pairwise import cosine_similarity\n",
    "from sklearn.decomposition import PCA\n",
    "\n",
    "similarity_matrix = cosine_similarity(concepts_embeddings)\n",
    "\n",
    "# Apply Spectral Clustering\n",
    "num_clusters = 20\n",
    "spectral = SpectralClustering(n_clusters=num_clusters, affinity='precomputed', random_state=42)\n",
    "labels = spectral.fit_predict(similarity_matrix)\n",
    "\n",
    "# Group words by topic\n",
    "topic_groups = {}\n",
    "for word, cluster in zip(generated_concepts, labels):\n",
    "    topic_groups.setdefault(cluster, []).append(word)\n",
    "    \n",
    "with open(\"generated_concepts.pkl\", \"wb\") as f:\n",
    "\tpickle.dump({'concepts':generated_concepts,\n",
    "              'topic_groups': topic_groups}, f)"
   ]
  },
  {
   "cell_type": "markdown",
   "metadata": {},
   "source": [
    "#### Preprocess the data for simulation\n"
   ]
  },
  {
   "cell_type": "code",
   "execution_count": null,
   "metadata": {},
   "outputs": [],
   "source": [
    "import pickle\n",
    "from glob import glob\n",
    "\n",
    "import random\n",
    "\n",
    "with open(\"generated_concepts.pkl\", \"rb\") as f:\n",
    "\tdata = pickle.load(f)\n",
    "\tgenerated_concepts = data['concepts']\n",
    "\ttopic_groups = data['topic_groups']\n",
    "\n",
    "with open('encodings.pkl', 'rb') as f:\n",
    "\tdata = pickle.load(f)\n",
    "\tencodings = data['encodings']\n",
    "\tcaptions = data['captions']\n",
    "\n",
    "images = [i for i in glob(\"../dataset/Images/*.jpg\")]"
   ]
  },
  {
   "cell_type": "markdown",
   "metadata": {},
   "source": [
    "##### Encode all text and images to speed up training\n"
   ]
  },
  {
   "cell_type": "code",
   "execution_count": 6,
   "metadata": {},
   "outputs": [
    {
     "name": "stderr",
     "output_type": "stream",
     "text": [
      "100%|██████████| 116/116 [01:35<00:00,  1.22it/s]\n",
      "100%|██████████| 9/9 [00:00<00:00, 32.81it/s]\n"
     ]
    }
   ],
   "source": [
    "from PIL import Image\n",
    "import pickle\n",
    "from tqdm import tqdm\n",
    "\n",
    "from transformers import CLIPProcessor, CLIPModel\n",
    "\n",
    "model = CLIPModel.from_pretrained(\"openai/clip-vit-base-patch32\").to(\"cuda\")\n",
    "processor = CLIPProcessor.from_pretrained(\"openai/clip-vit-base-patch32\")\n",
    "\n",
    "batch_size = 70\n",
    "# encode all images using output of a single text\n",
    "image_encodings = []\n",
    "\n",
    "for batch in tqdm(range(0, len(images), batch_size)):\n",
    "\timage = [Image.open(i) for i in images[batch: batch + batch_size]]\n",
    "\tinputs = processor(text=[\"a photo of a cat\"] * len(image), images=image, return_tensors=\"pt\", padding=True).to(\"cuda\")\n",
    "\toutputs = model(**inputs, return_dict = True)\n",
    "\timage_encodings += [outputs.image_embeds.cpu().detach()]\n",
    "\n",
    "image_encodings = torch.cat(image_encodings)\n",
    "\n",
    "# encode all concepts using output of a single image\n",
    "concept_encodings = []\n",
    "for batch in tqdm(range(0, len(generated_concepts), batch_size)):\n",
    "\tconcepts = generated_concepts[batch: batch + batch_size]\n",
    "\tinputs = processor(text=concepts, images=[Image.open(images[0])], return_tensors=\"pt\", padding=True).to(\"cuda\")\n",
    "\toutputs = model(**inputs, return_dict = True)\n",
    "\tconcept_encodings += [outputs.text_embeds.cpu().detach()]\n",
    "\n",
    "concept_encodings = torch.cat(concept_encodings)\n",
    "with open(\"clip_encodings.pkl\", \"wb\") as f:\n",
    "\tpickle.dump({'image_encodings': image_encodings,\n",
    "\t\t\t  'concept_encodings': concept_encodings}, f)"
   ]
  },
  {
   "cell_type": "code",
   "execution_count": null,
   "metadata": {},
   "outputs": [
    {
     "name": "stdout",
     "output_type": "stream",
     "text": [
      "Topic 3: 16\n",
      "Topic 1: 28\n",
      "Topic 0: 12\n",
      "Topic 11: 24\n",
      "Topic 13: 14\n",
      "Topic 2: 7\n",
      "Topic 9: 8\n",
      "Topic 5: 20\n",
      "Topic 4: 13\n",
      "Topic 6: 7\n",
      "Topic 8: 18\n",
      "Topic 16: 15\n",
      "Topic 18: 5\n",
      "Topic 7: 8\n",
      "Topic 19: 15\n",
      "Topic 12: 8\n",
      "Topic 17: 16\n",
      "Topic 14: 9\n",
      "Topic 10: 0\n",
      "Topic 15: 7\n"
     ]
    }
   ],
   "source": [
    "concept_instance = {i:[] for i in generated_concepts}\n",
    "\n",
    "for i, path in enumerate(images):\n",
    "\tfor c in captions[i].split():\n",
    "\t\tif c in generated_concepts:\n",
    "\t\t\tconcept_instance[c] += [path]\n",
    "\n",
    "remove_topics = []\n",
    "for i in topic_groups:\n",
    "\tremove = [j for j in topic_groups[i] if len(concept_instance[j]) < 10]\n",
    "\tfor j in remove:\n",
    "\t\ttopic_groups[i].remove(j)\n",
    "\tprint(f\"Topic {i}:\", len(topic_groups[i]))\n",
    "\tif len(topic_groups[i]) < 8:\n",
    "\t\tremove_topics.append(i)\n",
    "\n",
    "for i in remove_topics:\n",
    "\tdel topic_groups[i]"
   ]
  },
  {
   "cell_type": "code",
   "execution_count": null,
   "metadata": {},
   "outputs": [
    {
     "data": {
      "text/plain": [
       "Text(0.5, 0, 'Concepts')"
      ]
     },
     "execution_count": 3,
     "metadata": {},
     "output_type": "execute_result"
    },
    {
     "data": {
      "image/png": "[encoded data removed]",
      "text/plain": [
       "<Figure size 640x480 with 1 Axes>"
      ]
     },
     "metadata": {},
     "output_type": "display_data"
    }
   ],
   "source": [
    "from matplotlib import pyplot as plt\t\n",
    "plt.bar(range(len(generated_concepts)), sorted([len(i) for i in concept_instance.values()]), log = True)\n",
    "plt.title(\"Concepts Frequency\")\n",
    "plt.xlabel(\"Concepts\")"
   ]
  },
  {
   "cell_type": "code",
   "execution_count": null,
   "metadata": {},
   "outputs": [
    {
     "data": {
      "text/plain": [
       "Text(0.5, 0, 'Topics')"
      ]
     },
     "execution_count": 4,
     "metadata": {},
     "output_type": "execute_result"
    },
    {
     "data": {
      "image/png": "[encoded data removed]",
      "text/plain": [
       "<Figure size 640x480 with 1 Axes>"
      ]
     },
     "metadata": {},
     "output_type": "display_data"
    }
   ],
   "source": [
    "plt.bar(range(len(topic_groups)), [len(topic_groups[i]) for i in topic_groups], color = 'r')\n",
    "plt.title(\"Topics Size\")\n",
    "plt.xlabel(\"Topics\")"
   ]
  },
  {
   "cell_type": "code",
   "execution_count": null,
   "metadata": {},
   "outputs": [],
   "source": [
    "import gymnasium as gym\n",
    "from matplotlib import pyplot as plt\n",
    "\n",
    "from ConceptPrompting import AdaptationEngine\n",
    "from tqdm import tqdm\n",
    "import torch\n",
    "\n",
    "\n",
    "def encode_actions(action, n_actions):\n",
    "\n",
    "\tif not isinstance(action, torch.Tensor):\n",
    "\t\taction = torch.tensor(action)\n",
    "\treturn torch.nn.functional.one_hot(action, num_classes=n_actions).float()\n",
    "\n",
    "def preprocess_state(state):\n",
    "\treturn torch.tensor(state).float().reshape(1, -1)\n",
    "\n",
    "def get_entropy(preferences):\n",
    "\treturn -torch.sum(preferences * torch.log(preferences), dim = -1)\n",
    "\n",
    "episodes = 400\n",
    "episode_length = 1000\n",
    "dataset_coverage_step = .75\n",
    "gamma = 0.99\n",
    "buffer = []\n",
    "actions_embedd_dim = 2\n",
    "buffer_size = 512\n",
    "\n",
    "lr_actor = 0.001\n",
    "lr_critic = 0.0001\n",
    "\n",
    "temperature = 2.0\n",
    "final_temperature = 0.1\n",
    "decay_rate = 0.99  # Decay per episode\n",
    "\n",
    "# env = gym.make('MountainCar-v0')\n",
    "env = gym.make('CartPole-v1')\n",
    "\n",
    "# Pi = Actor(state_dim = env.observation_space.shape[0], action_dim = actions_embedd_dim, lr_optimizer = lr_actor)\n",
    "# V = Critic(state_dim = env.observation_space.shape[0], lr_optimizer = lr_critic)\n",
    "Agent = AdaptationEngine(state_dim = env.observation_space.shape[0],\n",
    "\t\t\t\t\t\t \taction_dim=env.action_space.n,\n",
    "\t\t\t\t\t\t\tlr_actor = lr_actor,\n",
    "\t\t\t\t\t\t\tlr_critic = lr_critic,\n",
    "\t\t\t\t\t\t\tgamma = gamma,\n",
    "\t\t\t\t\t\t\tbuffer_size = buffer_size,\n",
    "\t\t\t\t\t\t\tsample_temperature = temperature,\n",
    "\t\t\t\t\t\t\tfinal_temperature = final_temperature,\n",
    "\t\t\t\t\t\t\ttemperatura_decay = decay_rate)\n",
    "\n",
    "actions_encode = encode_actions([i  for i in range(env.action_space.n)], env.action_space.n).to(Agent.device)\n",
    "\n",
    "episode_history = {'rewards': [],\n",
    "\t\t    'loss_critic': [], \n",
    "\t\t\t'loss_actor': []}\n",
    "\n",
    "history = {'rewards': [],\n",
    "\t\t    'loss_critic': [], \n",
    "\t\t\t'loss_actor': []}\n",
    "\n",
    "\n",
    "for episode in range(episodes):\n",
    "\n",
    "\tprev_state, _ = env.reset()\n",
    "\tprev_state = preprocess_state(prev_state)\n",
    "\n",
    "\tepisode_history = {'rewards': [],\n",
    "\t\t'loss_critic': [], \n",
    "\t\t'loss_actor': [],\n",
    "\t\t'entropy': []}\n",
    "\t\t\t\n",
    "\titera = tqdm(range(episode_length))\n",
    "\titera.set_description(f\"Episode {episode}\")\n",
    "\t\n",
    "\tfor step in itera:\n",
    "\n",
    "\t\tpreferences = Agent.policy(prev_state, actions_encode)\t\n",
    "\t\taction = torch.multinomial(preferences, 1).squeeze(-1)\n",
    "\t\t\n",
    "\t\tstate, reward, done, truncated, _ = env.step(action.item())\n",
    "\t\tstate = preprocess_state(state)\n",
    "\n",
    "\t\tAgent.push_buffer(state=prev_state,\n",
    "\t\t\t\t\t action=action, \n",
    "\t\t\t\t\t reward=reward, \n",
    "\t\t\t\t\t next_state=state, \n",
    "\t\t\t\t\t done=done)\n",
    "\t\t\n",
    "\t\tepisode_history['rewards'].append(reward)\n",
    "\t\tepisode_history['entropy'].append(get_entropy(preferences).mean().item())\n",
    "\n",
    "\t\tif Agent.buffer_size <= len(Agent.buffer):\n",
    "\t\t\tactor_loss, critic_loss = Agent.optimization_step(actions_encode)\n",
    "\t\t\tepisode_history['loss_critic'].append(critic_loss)\n",
    "\t\t\tepisode_history['loss_actor'].append(actor_loss)\n",
    "\n",
    "\t\tprev_state = state\n",
    "\n",
    "\t\titera.set_postfix({'Temperature': f'{temperature:.4f}',\n",
    "\t\t\t\t\t\t'Reward': sum(episode_history['rewards']),\n",
    "\t\t\t\t\t\t'entropy': sum(episode_history['entropy']),\n",
    "\t\t\t\t\t\t'Loss Critic': sum(episode_history['loss_critic']),\n",
    "\t\t\t\t\t\t'Loss Actor': sum(episode_history['loss_actor'])} )\n",
    "\t\tif done or truncated:\n",
    "\t\t\thistory['rewards'].append(sum(episode_history['rewards']))\n",
    "\t\t\thistory['loss_critic'].append(sum(episode_history['loss_critic']))\n",
    "\t\t\thistory['loss_actor'].append(sum(episode_history['loss_actor']))\n",
    "\t\t\tbreak\n",
    "\n",
    "\ttemperature = max(final_temperature, temperature * decay_rate)\n",
    "\tif Agent.max_reward is None or Agent.max_reward < sum(episode_history['rewards']):\n",
    "\t\tAgent.max_reward = sum(episode_history['rewards'])\n",
    "\t\tAgent.Actor.save(f\"actor.pt\")\n",
    "\t\tAgent.Critic.save(f\"critic.pt\")\n",
    "\n",
    "env.close()"
   ]
  },
  {
   "cell_type": "code",
   "execution_count": null,
   "metadata": {},
   "outputs": [
    {
     "data": {
      "text/plain": [
       "Text(0.5, 0, 'Iterations')"
      ]
     },
     "execution_count": 2,
     "metadata": {},
     "output_type": "execute_result"
    },
    {
     "data": {
      "image/png": "[encoded data removed]",
      "text/plain": [
       "<Figure size 640x480 with 1 Axes>"
      ]
     },
     "metadata": {},
     "output_type": "display_data"
    }
   ],
   "source": [
    "plt.plot(history['rewards'])\n",
    "plt.title(\"Rewards\")\n",
    "plt.xlabel(\"Iterations\")"
   ]
  },
  {
   "cell_type": "code",
   "execution_count": null,
   "metadata": {},
   "outputs": [
    {
     "data": {
      "image/png": "[encoded data removed]",
      "text/plain": [
       "<Figure size 640x480 with 1 Axes>"
      ]
     },
     "metadata": {},
     "output_type": "display_data"
    },
    {
     "data": {
      "image/png": "[encoded data removed]",
      "text/plain": [
       "<Figure size 640x480 with 1 Axes>"
      ]
     },
     "metadata": {},
     "output_type": "display_data"
    }
   ],
   "source": [
    "import matplotlib.pyplot as plt\n",
    "%matplotlib inline\n",
    "from IPython import display\n",
    "\n",
    "def show_state(env, step=0):\n",
    "    plt.figure(3)\n",
    "    plt.clf()\n",
    "    plt.imshow(env.render())\n",
    "    plt.title(f\"Step: {step}\")\n",
    "    plt.axis('off')\n",
    "\n",
    "    display.clear_output(wait=True)\n",
    "    display.display(plt.gcf())\n",
    "\n",
    "\n",
    "env = gym.make('CartPole-v1', render_mode='rgb_array')\n",
    "Agent = AdaptationEngine(state_dim = env.observation_space.shape[0],\n",
    "\t\t\t\t\t\t\taction_dim=env.action_space.n)\n",
    "                            \n",
    "Agent.Actor.load('actor.pt')\n",
    "# env = gym.make('MountainCar-v0', render_mode='rgb_array')\n",
    "\n",
    "prev_state, info = env.reset()\n",
    "prev_state = preprocess_state(prev_state)\n",
    "print(prev_state)\n",
    "for step in range(int(100)):\n",
    "\tpreferences =  Agent.policy(prev_state, actions_encode)\n",
    "\n",
    "\taction = preferences.argmax()\n",
    "\n",
    "\tobservation, reward, terminated, _, _ = env.step(action.item())\n",
    "\tprint(action)\n",
    "\n",
    "\tprev_state = preprocess_state(observation)\n",
    "\tprev_action = action\n",
    "\n",
    "\tshow_state(env, step=step)\n",
    "\n",
    "\tif terminated:\n",
    "\t\tprint(observation)\n",
    "\t\tbreak\n",
    "\n",
    "env.close()\n"
   ]
  },
  {
   "cell_type": "markdown",
   "metadata": {},
   "source": [
    "### Exploration Agent"
   ]
  },
  {
   "cell_type": "code",
   "execution_count": 2,
   "metadata": {},
   "outputs": [
    {
     "name": "stdout",
     "output_type": "stream",
     "text": [
      "Topic 3: 16\n",
      "Topic 1: 28\n",
      "Topic 0: 12\n",
      "Topic 11: 24\n",
      "Topic 13: 14\n",
      "Topic 9: 8\n",
      "Topic 5: 20\n",
      "Topic 4: 13\n",
      "Topic 8: 18\n",
      "Topic 16: 15\n",
      "Topic 7: 8\n",
      "Topic 19: 15\n",
      "Topic 12: 8\n",
      "Topic 17: 16\n",
      "Topic 14: 9\n"
     ]
    },
    {
     "name": "stderr",
     "output_type": "stream",
     "text": [
      "Episode 0:  92%|█████████▏| 12/13 [00:01<00:00,  8.70it/s, Temp=5.0000, Avg. Reward=0.0000, Reward=18.1, entropy=82.8, L Critic=0, L Actor=0]\n"
     ]
    },
    {
     "name": "stdout",
     "output_type": "stream",
     "text": [
      "Model saved - -1.00\n"
     ]
    },
    {
     "name": "stderr",
     "output_type": "stream",
     "text": [
      "Episode 1:  88%|████████▊ | 7/8 [00:00<00:00,  9.04it/s, Temp=4.9500, Avg. Reward=-1.0000, Reward=10.5, entropy=51, L Critic=0, L Actor=0]  \n",
      "Episode 2:  93%|█████████▎| 13/14 [00:01<00:00,  9.11it/s, Temp=4.9005, Avg. Reward=-1.0000, Reward=19.6, entropy=89.2, L Critic=0, L Actor=0]\n",
      "Episode 3:  95%|█████████▌| 19/20 [00:02<00:00,  8.73it/s, Temp=4.8515, Avg. Reward=-1.0000, Reward=28.3, entropy=127, L Critic=0, L Actor=0] \n",
      "Episode 4:  93%|█████████▎| 14/15 [00:01<00:00,  7.67it/s, Temp=4.8030, Avg. Reward=-1.0000, Reward=21, entropy=95.5, L Critic=62.7, L Actor=14.7]  \n",
      "Episode 5:  92%|█████████▏| 11/12 [00:01<00:00,  8.17it/s, Temp=4.7550, Avg. Reward=-1.0000, Reward=16.6, entropy=76.4, L Critic=106, L Actor=25.1] \n",
      "Episode 6:  95%|█████████▌| 19/20 [00:02<00:00,  7.84it/s, Temp=4.7074, Avg. Reward=-1.0000, Reward=28.5, entropy=127, L Critic=176, L Actor=42.3] \n",
      "Episode 7:  88%|████████▊ | 7/8 [00:00<00:00,  8.41it/s, Temp=4.6603, Avg. Reward=-1.0000, Reward=10.4, entropy=50.1, L Critic=67, L Actor=16.9]  \n",
      "Episode 8:  88%|████████▊ | 7/8 [00:00<00:00,  8.59it/s, Temp=4.6137, Avg. Reward=-1.0000, Reward=10.4, entropy=48.4, L Critic=63.7, L Actor=16.7]\n",
      "Episode 9:  92%|█████████▏| 12/13 [00:01<00:00,  8.03it/s, Temp=4.5676, Avg. Reward=-1.0000, Reward=18, entropy=73.1, L Critic=99.6, L Actor=27.1] \n",
      "Episode 10:  93%|█████████▎| 13/14 [00:01<00:00,  8.50it/s, Temp=4.5219, Avg. Reward=-1.0000, Reward=19.6, entropy=74.4, L Critic=101, L Actor=29.2] \n",
      "Episode 11:  96%|█████████▌| 23/24 [00:02<00:00,  7.90it/s, Temp=4.4767, Avg. Reward=-1.0000, Reward=34.6, entropy=114, L Critic=155, L Actor=50.7]  \n",
      "Episode 12:  92%|█████████▏| 12/13 [00:01<00:00,  8.12it/s, Temp=4.4319, Avg. Reward=-1.0000, Reward=18.1, entropy=57, L Critic=74.2, L Actor=28]    \n",
      "Episode 13:  92%|█████████▏| 12/13 [00:01<00:00,  8.11it/s, Temp=4.3876, Avg. Reward=-1.0000, Reward=18.1, entropy=51.5, L Critic=70.1, L Actor=28.5]\n",
      "Episode 14:  92%|█████████▏| 11/12 [00:01<00:00,  8.13it/s, Temp=4.3437, Avg. Reward=-1.0000, Reward=16.7, entropy=44.2, L Critic=58.4, L Actor=26.7]\n",
      "Episode 15:  88%|████████▊ | 7/8 [00:00<00:00,  8.20it/s, Temp=4.3003, Avg. Reward=-1.0000, Reward=10.6, entropy=29, L Critic=36, L Actor=18]      \n",
      "Episode 16:  93%|█████████▎| 13/14 [00:01<00:00,  8.03it/s, Temp=4.2573, Avg. Reward=-1.0000, Reward=19.6, entropy=46, L Critic=58.3, L Actor=32.1]  \n",
      "Episode 17:  96%|█████████▋| 27/28 [00:03<00:00,  7.95it/s, Temp=4.2147, Avg. Reward=-1.0000, Reward=41.1, entropy=85.2, L Critic=108, L Actor=67.3] \n",
      "Episode 18:  92%|█████████▏| 12/13 [00:01<00:00,  8.12it/s, Temp=4.1726, Avg. Reward=-1.0000, Reward=18.1, entropy=35.4, L Critic=47.3, L Actor=33]  \n",
      "Episode 19:  93%|█████████▎| 14/15 [00:01<00:00,  8.32it/s, Temp=4.1308, Avg. Reward=-1.0000, Reward=20.6, entropy=38, L Critic=51.1, L Actor=39.2]  \n",
      "Episode 20:  94%|█████████▍| 15/16 [00:01<00:00,  8.05it/s, Temp=4.0895, Avg. Reward=-1.0000, Reward=22.4, entropy=37.1, L Critic=50.4, L Actor=44.4]\n",
      "Episode 21:  88%|████████▊ | 7/8 [00:00<00:00,  7.60it/s, Temp=4.0486, Avg. Reward=-1.0000, Reward=10.4, entropy=17.7, L Critic=22.7, L Actor=24.6]\n",
      "Episode 22:  96%|█████████▋| 27/28 [00:03<00:00,  8.32it/s, Temp=4.0082, Avg. Reward=-1.0000, Reward=40.8, entropy=57.2, L Critic=63.2, L Actor=99.2]\n",
      "Episode 23:  93%|█████████▎| 14/15 [00:01<00:00,  8.25it/s, Temp=3.9681, Avg. Reward=-1.0000, Reward=20.6, entropy=32.3, L Critic=41.8, L Actor=60.2]\n",
      "Episode 24:  93%|█████████▎| 13/14 [00:01<00:00,  8.20it/s, Temp=3.9284, Avg. Reward=-1.0000, Reward=19.6, entropy=24.1, L Critic=33.1, L Actor=65.5]\n",
      "Episode 25:  94%|█████████▍| 15/16 [00:01<00:00,  8.27it/s, Temp=3.8891, Avg. Reward=-1.0000, Reward=22.7, entropy=25.5, L Critic=34.9, L Actor=81.1]\n",
      "Episode 26:  93%|█████████▎| 14/15 [00:01<00:00,  8.40it/s, Temp=3.8502, Avg. Reward=-1.0000, Reward=20.7, entropy=22.5, L Critic=5.45, L Actor=101] \n",
      "Episode 27:  93%|█████████▎| 14/15 [00:01<00:00,  8.34it/s, Temp=3.8117, Avg. Reward=-1.0000, Reward=21.1, entropy=17.7, L Critic=-26.1, L Actor=125] \n",
      "Episode 28:  88%|████████▊ | 7/8 [00:00<00:00,  8.40it/s, Temp=3.7736, Avg. Reward=-1.0000, Reward=10.5, entropy=6.43, L Critic=-21.1, L Actor=78.3]\n",
      "Episode 29:  88%|████████▊ | 7/8 [00:00<00:00,  8.02it/s, Temp=3.7359, Avg. Reward=-1.0000, Reward=10.5, entropy=4.8, L Critic=-27.1, L Actor=94.5] \n",
      "Episode 30:  93%|█████████▎| 14/15 [00:01<00:00,  7.89it/s, Temp=3.6985, Avg. Reward=-1.0000, Reward=20.8, entropy=13.5, L Critic=-58.2, L Actor=201]\n",
      "Episode 31:  94%|█████████▍| 17/18 [00:02<00:00,  8.24it/s, Temp=3.6615, Avg. Reward=-1.0000, Reward=25.6, entropy=11.7, L Critic=-70.8, L Actor=283]\n",
      "Episode 32:  94%|█████████▍| 15/16 [00:01<00:00,  8.34it/s, Temp=3.6249, Avg. Reward=-1.0000, Reward=22.5, entropy=10.3, L Critic=-63.1, L Actor=279]\n",
      "Episode 33:  88%|████████▊ | 7/8 [00:00<00:00,  8.61it/s, Temp=3.5887, Avg. Reward=-1.0000, Reward=10.6, entropy=5.93, L Critic=-6.3, L Actor=154]  \n",
      "Episode 34:  88%|████████▊ | 7/8 [00:00<00:00,  8.83it/s, Temp=3.5528, Avg. Reward=-1.0000, Reward=10.6, entropy=1.16, L Critic=3.55, L Actor=164]  \n",
      "Episode 35:  89%|████████▉ | 8/9 [00:00<00:00,  8.92it/s, Temp=3.5172, Avg. Reward=-1.0000, Reward=12.2, entropy=0.262, L Critic=-3.97, L Actor=202] \n",
      "/opt/conda/lib/python3.11/site-packages/numpy/core/fromnumeric.py:3504: RuntimeWarning: Mean of empty slice.\n",
      "  return _methods._mean(a, axis=axis, dtype=dtype,\n",
      "/opt/conda/lib/python3.11/site-packages/numpy/core/_methods.py:129: RuntimeWarning: invalid value encountered in scalar divide\n",
      "  ret = ret.dtype.type(ret / rcount)\n",
      "Episode 36:  93%|█████████▎| 14/15 [00:01<00:00,  8.28it/s, Temp=3.4821, Avg. Reward=nan, Reward=21.3, entropy=0.519, L Critic=-25.7, L Actor=377]\n"
     ]
    },
    {
     "name": "stdout",
     "output_type": "stream",
     "text": [
      "Model saved - 20.95\n"
     ]
    },
    {
     "name": "stderr",
     "output_type": "stream",
     "text": [
      "Episode 37:  93%|█████████▎| 14/15 [00:01<00:00,  8.16it/s, Temp=3.4472, Avg. Reward=20.9473, Reward=21, entropy=0.332, L Critic=-52.7, L Actor=424]  \n"
     ]
    },
    {
     "name": "stdout",
     "output_type": "stream",
     "text": [
      "Model saved - 20.95\n"
     ]
    },
    {
     "name": "stderr",
     "output_type": "stream",
     "text": [
      "Episode 38:  93%|█████████▎| 14/15 [00:01<00:00,  8.28it/s, Temp=3.4128, Avg. Reward=20.9526, Reward=21.2, entropy=0.202, L Critic=-68.8, L Actor=459]\n"
     ]
    },
    {
     "name": "stdout",
     "output_type": "stream",
     "text": [
      "Model saved - 20.96\n"
     ]
    },
    {
     "name": "stderr",
     "output_type": "stream",
     "text": [
      "Episode 39:  89%|████████▉ | 8/9 [00:01<00:00,  7.97it/s, Temp=3.3786, Avg. Reward=20.9566, Reward=12.2, entropy=0.358, L Critic=-2.36, L Actor=271] \n"
     ]
    },
    {
     "name": "stdout",
     "output_type": "stream",
     "text": [
      "Model saved - 20.96\n"
     ]
    },
    {
     "name": "stderr",
     "output_type": "stream",
     "text": [
      "Episode 40:  94%|█████████▍| 15/16 [00:01<00:00,  7.94it/s, Temp=3.3449, Avg. Reward=20.9610, Reward=22.7, entropy=0.492, L Critic=8.38, L Actor=457] \n"
     ]
    },
    {
     "name": "stdout",
     "output_type": "stream",
     "text": [
      "Model saved - 20.96\n"
     ]
    },
    {
     "name": "stderr",
     "output_type": "stream",
     "text": [
      "Episode 41:  94%|█████████▍| 15/16 [00:01<00:00,  8.34it/s, Temp=3.3114, Avg. Reward=20.9616, Reward=22.5, entropy=5.75, L Critic=9.77, L Actor=481]  \n"
     ]
    },
    {
     "name": "stdout",
     "output_type": "stream",
     "text": [
      "Model saved - 20.97\n"
     ]
    },
    {
     "name": "stderr",
     "output_type": "stream",
     "text": [
      "Episode 42:  89%|████████▉ | 8/9 [00:00<00:00,  8.47it/s, Temp=3.2783, Avg. Reward=20.9716, Reward=12.2, entropy=2.61, L Critic=-3.28, L Actor=305]\n",
      "Episode 43:  94%|█████████▍| 15/16 [00:01<00:00,  8.15it/s, Temp=3.2455, Avg. Reward=20.9711, Reward=22.8, entropy=0.16, L Critic=-29.8, L Actor=555] \n",
      "Episode 44:  92%|█████████▏| 11/12 [00:01<00:00,  8.46it/s, Temp=3.2131, Avg. Reward=20.9713, Reward=16.7, entropy=1.48, L Critic=-32.1, L Actor=407]\n"
     ]
    },
    {
     "name": "stdout",
     "output_type": "stream",
     "text": [
      "Model saved - 20.98\n"
     ]
    },
    {
     "name": "stderr",
     "output_type": "stream",
     "text": [
      "Episode 45:  93%|█████████▎| 14/15 [00:01<00:00,  8.46it/s, Temp=3.1809, Avg. Reward=20.9753, Reward=21, entropy=0.808, L Critic=-49.9, L Actor=553]  \n"
     ]
    },
    {
     "name": "stdout",
     "output_type": "stream",
     "text": [
      "Model saved - 20.98\n"
     ]
    },
    {
     "name": "stderr",
     "output_type": "stream",
     "text": [
      "Episode 46:  95%|█████████▌| 19/20 [00:02<00:00,  8.18it/s, Temp=3.1491, Avg. Reward=20.9754, Reward=28.7, entropy=0.529, L Critic=-48.7, L Actor=760]\n"
     ]
    },
    {
     "name": "stdout",
     "output_type": "stream",
     "text": [
      "Model saved - 20.98\n"
     ]
    },
    {
     "name": "stderr",
     "output_type": "stream",
     "text": [
      "Episode 47:  96%|█████████▌| 23/24 [00:02<00:00,  8.00it/s, Temp=3.1176, Avg. Reward=20.9772, Reward=34.8, entropy=0.139, L Critic=0.199, L Actor=822]\n"
     ]
    },
    {
     "name": "stdout",
     "output_type": "stream",
     "text": [
      "Model saved - 20.98\n"
     ]
    },
    {
     "name": "stderr",
     "output_type": "stream",
     "text": [
      "Episode 48:  94%|█████████▍| 17/18 [00:02<00:00,  7.90it/s, Temp=3.0865, Avg. Reward=20.9844, Reward=25.8, entropy=0.0543, L Critic=0.071, L Actor=628]  \n"
     ]
    },
    {
     "name": "stdout",
     "output_type": "stream",
     "text": [
      "Model saved - 20.99\n"
     ]
    },
    {
     "name": "stderr",
     "output_type": "stream",
     "text": [
      "Episode 49:  92%|█████████▏| 11/12 [00:01<00:00,  8.46it/s, Temp=3.0556, Avg. Reward=20.9931, Reward=16.7, entropy=0.0341, L Critic=0.036, L Actor=444]  \n"
     ]
    },
    {
     "name": "stdout",
     "output_type": "stream",
     "text": [
      "Model saved - 21.00\n"
     ]
    },
    {
     "name": "stderr",
     "output_type": "stream",
     "text": [
      "Episode 50:  93%|█████████▎| 13/14 [00:01<00:00,  7.93it/s, Temp=3.0250, Avg. Reward=21.0027, Reward=19.9, entropy=0.0263, L Critic=0.0395, L Actor=651]\n"
     ]
    },
    {
     "name": "stdout",
     "output_type": "stream",
     "text": [
      "Model saved - 21.00\n"
     ]
    },
    {
     "name": "stderr",
     "output_type": "stream",
     "text": [
      "Episode 51:  92%|█████████▏| 11/12 [00:01<00:00,  8.36it/s, Temp=2.9948, Avg. Reward=21.0035, Reward=16.7, entropy=0.0249, L Critic=0.029, L Actor=630] \n"
     ]
    },
    {
     "name": "stdout",
     "output_type": "stream",
     "text": [
      "Model saved - 21.01\n"
     ]
    },
    {
     "name": "stderr",
     "output_type": "stream",
     "text": [
      "Episode 52:  95%|█████████▌| 19/20 [00:02<00:00,  8.24it/s, Temp=2.9648, Avg. Reward=21.0076, Reward=28.6, entropy=0.017, L Critic=0.0394, L Actor=1.11e+3] \n"
     ]
    },
    {
     "name": "stdout",
     "output_type": "stream",
     "text": [
      "Model saved - 21.01\n"
     ]
    },
    {
     "name": "stderr",
     "output_type": "stream",
     "text": [
      "Episode 53:  93%|█████████▎| 13/14 [00:01<00:00,  7.98it/s, Temp=2.9352, Avg. Reward=21.0081, Reward=19.8, entropy=0.0163, L Critic=0.0214, L Actor=743]\n"
     ]
    },
    {
     "name": "stdout",
     "output_type": "stream",
     "text": [
      "Model saved - 21.01\n"
     ]
    },
    {
     "name": "stderr",
     "output_type": "stream",
     "text": [
      "Episode 54:  94%|█████████▍| 17/18 [00:02<00:00,  7.90it/s, Temp=2.9058, Avg. Reward=21.0096, Reward=25.9, entropy=0.0165, L Critic=0.0222, L Actor=869] \n"
     ]
    },
    {
     "name": "stdout",
     "output_type": "stream",
     "text": [
      "Model saved - 21.01\n"
     ]
    },
    {
     "name": "stderr",
     "output_type": "stream",
     "text": [
      "Episode 55:  95%|█████████▌| 19/20 [00:02<00:00,  8.38it/s, Temp=2.8768, Avg. Reward=21.0118, Reward=28.6, entropy=0.0129, L Critic=0.0176, L Actor=832]\n"
     ]
    },
    {
     "name": "stdout",
     "output_type": "stream",
     "text": [
      "Model saved - 21.02\n"
     ]
    },
    {
     "name": "stderr",
     "output_type": "stream",
     "text": [
      "Episode 56:  96%|█████████▋| 27/28 [00:03<00:00,  7.96it/s, Temp=2.8480, Avg. Reward=21.0155, Reward=41.8, entropy=0.0116, L Critic=0.0196, L Actor=1.15e+3]\n"
     ]
    },
    {
     "name": "stdout",
     "output_type": "stream",
     "text": [
      "Model saved - 21.02\n"
     ]
    },
    {
     "name": "stderr",
     "output_type": "stream",
     "text": [
      "Episode 57:  96%|█████████▌| 23/24 [00:02<00:00,  8.05it/s, Temp=2.8195, Avg. Reward=21.0168, Reward=35, entropy=0.0123, L Critic=0.0126, L Actor=921]   \n"
     ]
    },
    {
     "name": "stdout",
     "output_type": "stream",
     "text": [
      "Model saved - 21.04\n"
     ]
    },
    {
     "name": "stderr",
     "output_type": "stream",
     "text": [
      "Episode 58:  94%|█████████▍| 17/18 [00:02<00:00,  8.11it/s, Temp=2.7913, Avg. Reward=21.0352, Reward=25.8, entropy=0.00888, L Critic=0.00916, L Actor=818]\n"
     ]
    },
    {
     "name": "stdout",
     "output_type": "stream",
     "text": [
      "Model saved - 21.04\n"
     ]
    },
    {
     "name": "stderr",
     "output_type": "stream",
     "text": [
      "Episode 59:  93%|█████████▎| 14/15 [00:01<00:00,  8.15it/s, Temp=2.7634, Avg. Reward=21.0407, Reward=21, entropy=0.00805, L Critic=0.0083, L Actor=870]   \n"
     ]
    },
    {
     "name": "stdout",
     "output_type": "stream",
     "text": [
      "Model saved - 21.04\n"
     ]
    },
    {
     "name": "stderr",
     "output_type": "stream",
     "text": [
      "Episode 60:  94%|█████████▍| 15/16 [00:01<00:00,  8.20it/s, Temp=2.7358, Avg. Reward=21.0416, Reward=22.4, entropy=0.00752, L Critic=0.00854, L Actor=1.05e+3]\n"
     ]
    },
    {
     "name": "stdout",
     "output_type": "stream",
     "text": [
      "Model saved - 21.04\n"
     ]
    },
    {
     "name": "stderr",
     "output_type": "stream",
     "text": [
      "Episode 61:  96%|█████████▋| 27/28 [00:03<00:00,  8.14it/s, Temp=2.7084, Avg. Reward=21.0426, Reward=41.7, entropy=0.00617, L Critic=0.0109, L Actor=1.73e+3] \n",
      "Episode 62:  93%|█████████▎| 14/15 [00:01<00:00,  8.40it/s, Temp=2.6813, Avg. Reward=21.0407, Reward=21.3, entropy=0.00528, L Critic=0.0043, L Actor=822] \n"
     ]
    },
    {
     "name": "stdout",
     "output_type": "stream",
     "text": [
      "Model saved - 21.05\n"
     ]
    },
    {
     "name": "stderr",
     "output_type": "stream",
     "text": [
      "Episode 63:  94%|█████████▍| 17/18 [00:02<00:00,  8.09it/s, Temp=2.6545, Avg. Reward=21.0489, Reward=25.8, entropy=0.00567, L Critic=0.00426, L Actor=951]\n"
     ]
    },
    {
     "name": "stdout",
     "output_type": "stream",
     "text": [
      "Model saved - 21.05\n"
     ]
    },
    {
     "name": "stderr",
     "output_type": "stream",
     "text": [
      "Episode 64:  93%|█████████▎| 14/15 [00:01<00:00,  8.16it/s, Temp=2.6280, Avg. Reward=21.0522, Reward=21.3, entropy=0.00411, L Critic=0.00306, L Actor=782]\n",
      "Episode 65:  93%|█████████▎| 13/14 [00:01<00:00,  8.40it/s, Temp=2.6017, Avg. Reward=21.0520, Reward=19.8, entropy=0.00466, L Critic=0.00341, L Actor=920]\n"
     ]
    },
    {
     "name": "stdout",
     "output_type": "stream",
     "text": [
      "Model saved - 21.05\n"
     ]
    },
    {
     "name": "stderr",
     "output_type": "stream",
     "text": [
      "Episode 66:  96%|█████████▋| 27/28 [00:03<00:00,  8.15it/s, Temp=2.5757, Avg. Reward=21.0531, Reward=41.7, entropy=0.00522, L Critic=0.00506, L Actor=1.5e+3] \n"
     ]
    },
    {
     "name": "stdout",
     "output_type": "stream",
     "text": [
      "Model saved - 21.05\n"
     ]
    },
    {
     "name": "stderr",
     "output_type": "stream",
     "text": [
      "Episode 67:  96%|█████████▌| 23/24 [00:02<00:00,  8.25it/s, Temp=2.5499, Avg. Reward=21.0541, Reward=34.8, entropy=0.00475, L Critic=0.00332, L Actor=1.09e+3]\n"
     ]
    },
    {
     "name": "stdout",
     "output_type": "stream",
     "text": [
      "Model saved - 21.06\n"
     ]
    },
    {
     "name": "stderr",
     "output_type": "stream",
     "text": [
      "Episode 68:  93%|█████████▎| 14/15 [00:01<00:00,  8.32it/s, Temp=2.5244, Avg. Reward=21.0579, Reward=21, entropy=0.00343, L Critic=0.00158, L Actor=651]   \n"
     ]
    },
    {
     "name": "stdout",
     "output_type": "stream",
     "text": [
      "Model saved - 21.06\n"
     ]
    },
    {
     "name": "stderr",
     "output_type": "stream",
     "text": [
      "Episode 69:  89%|████████▉ | 8/9 [00:00<00:00,  8.59it/s, Temp=2.4992, Avg. Reward=21.0587, Reward=12.2, entropy=0.00255, L Critic=0.000925, L Actor=456]\n"
     ]
    },
    {
     "name": "stdout",
     "output_type": "stream",
     "text": [
      "Model saved - 21.06\n"
     ]
    },
    {
     "name": "stderr",
     "output_type": "stream",
     "text": [
      "Episode 70:  93%|█████████▎| 14/15 [00:01<00:00,  8.44it/s, Temp=2.4742, Avg. Reward=21.0593, Reward=21, entropy=0.00311, L Critic=0.00186, L Actor=994]  \n"
     ]
    },
    {
     "name": "stdout",
     "output_type": "stream",
     "text": [
      "Model saved - 21.06\n"
     ]
    },
    {
     "name": "stderr",
     "output_type": "stream",
     "text": [
      "Episode 71:  95%|█████████▌| 19/20 [00:02<00:00,  8.10it/s, Temp=2.4495, Avg. Reward=21.0599, Reward=28.8, entropy=0.00379, L Critic=0.00219, L Actor=1.21e+3]\n"
     ]
    },
    {
     "name": "stdout",
     "output_type": "stream",
     "text": [
      "Model saved - 21.06\n"
     ]
    },
    {
     "name": "stderr",
     "output_type": "stream",
     "text": [
      "Episode 72:  93%|█████████▎| 14/15 [00:01<00:00,  8.21it/s, Temp=2.4250, Avg. Reward=21.0605, Reward=20.9, entropy=0.00313, L Critic=0.00155, L Actor=865]\n"
     ]
    },
    {
     "name": "stdout",
     "output_type": "stream",
     "text": [
      "Model saved - 21.06\n"
     ]
    },
    {
     "name": "stderr",
     "output_type": "stream",
     "text": [
      "Episode 73:  88%|████████▊ | 7/8 [00:00<00:00,  8.55it/s, Temp=2.4007, Avg. Reward=21.0632, Reward=10.7, entropy=0.00203, L Critic=0.000765, L Actor=456]\n",
      "Episode 74:  92%|█████████▏| 12/13 [00:01<00:00,  8.40it/s, Temp=2.3767, Avg. Reward=21.0631, Reward=18.1, entropy=0.00242, L Critic=0.00105, L Actor=672] \n"
     ]
    },
    {
     "name": "stdout",
     "output_type": "stream",
     "text": [
      "Model saved - 21.07\n"
     ]
    },
    {
     "name": "stderr",
     "output_type": "stream",
     "text": [
      "Episode 75:  89%|████████▉ | 8/9 [00:00<00:00,  8.26it/s, Temp=2.3529, Avg. Reward=21.0690, Reward=12.2, entropy=0.00181, L Critic=0.000654, L Actor=475]\n"
     ]
    },
    {
     "name": "stdout",
     "output_type": "stream",
     "text": [
      "Model saved - 21.07\n"
     ]
    },
    {
     "name": "stderr",
     "output_type": "stream",
     "text": [
      "Episode 76:  92%|█████████▏| 11/12 [00:01<00:00,  8.36it/s, Temp=2.3294, Avg. Reward=21.0693, Reward=16.6, entropy=0.0022, L Critic=0.000743, L Actor=601] \n"
     ]
    },
    {
     "name": "stdout",
     "output_type": "stream",
     "text": [
      "Model saved - 21.07\n"
     ]
    },
    {
     "name": "stderr",
     "output_type": "stream",
     "text": [
      "Episode 77:  94%|█████████▍| 15/16 [00:01<00:00,  7.86it/s, Temp=2.3061, Avg. Reward=21.0696, Reward=22.6, entropy=0.00271, L Critic=0.00092, L Actor=770]\n",
      "Episode 78:  94%|█████████▍| 15/16 [00:01<00:00,  8.79it/s, Temp=2.2830, Avg. Reward=21.0690, Reward=23.1, entropy=0.00254, L Critic=0.000759, L Actor=657]\n",
      "Episode 79:  96%|█████████▌| 23/24 [00:02<00:00,  7.94it/s, Temp=2.2602, Avg. Reward=21.0692, Reward=34.9, entropy=0.00307, L Critic=0.000804, L Actor=777]\n"
     ]
    },
    {
     "name": "stdout",
     "output_type": "stream",
     "text": [
      "Model saved - 21.08\n"
     ]
    },
    {
     "name": "stderr",
     "output_type": "stream",
     "text": [
      "Episode 80:  96%|█████████▋| 27/28 [00:03<00:00,  8.04it/s, Temp=2.2376, Avg. Reward=21.0797, Reward=41.7, entropy=0.0036, L Critic=0.000663, L Actor=775] \n"
     ]
    },
    {
     "name": "stdout",
     "output_type": "stream",
     "text": [
      "Model saved - 21.08\n"
     ]
    },
    {
     "name": "stderr",
     "output_type": "stream",
     "text": [
      "Episode 81:  92%|█████████▏| 12/13 [00:01<00:00,  8.31it/s, Temp=2.2152, Avg. Reward=21.0808, Reward=18.2, entropy=0.00187, L Critic=0.000253, L Actor=411]\n"
     ]
    },
    {
     "name": "stdout",
     "output_type": "stream",
     "text": [
      "Model saved - 21.08\n"
     ]
    },
    {
     "name": "stderr",
     "output_type": "stream",
     "text": [
      "Episode 82:  96%|█████████▌| 23/24 [00:02<00:00,  7.89it/s, Temp=2.1931, Avg. Reward=21.0843, Reward=34.9, entropy=0.00287, L Critic=0.000422, L Actor=880]\n"
     ]
    },
    {
     "name": "stdout",
     "output_type": "stream",
     "text": [
      "Model saved - 21.09\n"
     ]
    },
    {
     "name": "stderr",
     "output_type": "stream",
     "text": [
      "Episode 83:  96%|█████████▋| 27/28 [00:03<00:00,  8.03it/s, Temp=2.1712, Avg. Reward=21.0859, Reward=41.7, entropy=0.00332, L Critic=0.00041, L Actor=1.18e+3] \n"
     ]
    },
    {
     "name": "stdout",
     "output_type": "stream",
     "text": [
      "Model saved - 21.09\n"
     ]
    },
    {
     "name": "stderr",
     "output_type": "stream",
     "text": [
      "Episode 84:  94%|█████████▍| 15/16 [00:01<00:00,  8.58it/s, Temp=2.1494, Avg. Reward=21.0865, Reward=22.8, entropy=0.0022, L Critic=0.000237, L Actor=676] \n"
     ]
    },
    {
     "name": "stdout",
     "output_type": "stream",
     "text": [
      "Model saved - 21.09\n"
     ]
    },
    {
     "name": "stderr",
     "output_type": "stream",
     "text": [
      "Episode 85:  88%|████████▊ | 7/8 [00:00<00:00,  8.45it/s, Temp=2.1280, Avg. Reward=21.0888, Reward=10.7, entropy=0.00118, L Critic=0.000129, L Actor=396]\n"
     ]
    },
    {
     "name": "stdout",
     "output_type": "stream",
     "text": [
      "Model saved - 21.09\n"
     ]
    },
    {
     "name": "stderr",
     "output_type": "stream",
     "text": [
      "Episode 86:  88%|████████▊ | 7/8 [00:00<00:00,  8.89it/s, Temp=2.1067, Avg. Reward=21.0909, Reward=10.6, entropy=0.00115, L Critic=0.000152, L Actor=523] \n"
     ]
    },
    {
     "name": "stdout",
     "output_type": "stream",
     "text": [
      "Model saved - 21.09\n"
     ]
    },
    {
     "name": "stderr",
     "output_type": "stream",
     "text": [
      "Episode 87:  93%|█████████▎| 14/15 [00:01<00:00,  8.33it/s, Temp=2.0856, Avg. Reward=21.0941, Reward=21.3, entropy=0.00193, L Critic=0.000279, L Actor=944]\n"
     ]
    },
    {
     "name": "stdout",
     "output_type": "stream",
     "text": [
      "Model saved - 21.10\n"
     ]
    },
    {
     "name": "stderr",
     "output_type": "stream",
     "text": [
      "Episode 88:  96%|█████████▌| 23/24 [00:02<00:00,  8.27it/s, Temp=2.0647, Avg. Reward=21.0952, Reward=34.8, entropy=0.00278, L Critic=0.000375, L Actor=1.37e+3]\n"
     ]
    },
    {
     "name": "stdout",
     "output_type": "stream",
     "text": [
      "Model saved - 21.10\n"
     ]
    },
    {
     "name": "stderr",
     "output_type": "stream",
     "text": [
      "Episode 89:  88%|████████▊ | 7/8 [00:00<00:00,  8.48it/s, Temp=2.0441, Avg. Reward=21.0960, Reward=10.7, entropy=0.00108, L Critic=0.0001, L Actor=416]  \n",
      "Episode 90:  88%|████████▊ | 7/8 [00:00<00:00,  8.95it/s, Temp=2.0237, Avg. Reward=21.0958, Reward=10.6, entropy=0.00103, L Critic=8.49e-5, L Actor=383] \n"
     ]
    },
    {
     "name": "stdout",
     "output_type": "stream",
     "text": [
      "Model saved - 21.10\n"
     ]
    },
    {
     "name": "stderr",
     "output_type": "stream",
     "text": [
      "Episode 91:  89%|████████▉ | 8/9 [00:00<00:00,  9.12it/s, Temp=2.0034, Avg. Reward=21.0973, Reward=12.2, entropy=0.00113, L Critic=7.7e-5, L Actor=394]  \n"
     ]
    },
    {
     "name": "stdout",
     "output_type": "stream",
     "text": [
      "Model saved - 21.10\n"
     ]
    },
    {
     "name": "stderr",
     "output_type": "stream",
     "text": [
      "Episode 92:  96%|█████████▋| 27/28 [00:03<00:00,  8.26it/s, Temp=1.9834, Avg. Reward=21.0983, Reward=41.7, entropy=0.00314, L Critic=0.000163, L Actor=1e+3]\n",
      "Episode 93:  93%|█████████▎| 14/15 [00:01<00:00,  8.32it/s, Temp=1.9636, Avg. Reward=21.0981, Reward=21.2, entropy=0.00176, L Critic=7.93e-5, L Actor=549] \n"
     ]
    },
    {
     "name": "stdout",
     "output_type": "stream",
     "text": [
      "Model saved - 21.10\n"
     ]
    },
    {
     "name": "stderr",
     "output_type": "stream",
     "text": [
      "Episode 94:  93%|█████████▎| 14/15 [00:01<00:00,  8.55it/s, Temp=1.9439, Avg. Reward=21.0998, Reward=20.9, entropy=0.00174, L Critic=6.45e-5, L Actor=472] \n",
      "Episode 95:  96%|█████████▋| 27/28 [00:03<00:00,  8.20it/s, Temp=1.9245, Avg. Reward=21.0996, Reward=41.8, entropy=0.0031, L Critic=9.7e-5, L Actor=829]   \n",
      "Episode 96:  93%|█████████▎| 14/15 [00:01<00:00,  8.19it/s, Temp=1.9052, Avg. Reward=21.0995, Reward=21.3, entropy=0.0017, L Critic=4.92e-5, L Actor=531]  \n"
     ]
    },
    {
     "name": "stdout",
     "output_type": "stream",
     "text": [
      "Model saved - 21.10\n"
     ]
    },
    {
     "name": "stderr",
     "output_type": "stream",
     "text": [
      "Episode 97:  94%|█████████▍| 15/16 [00:01<00:00,  8.28it/s, Temp=1.8862, Avg. Reward=21.1011, Reward=22.7, entropy=0.00182, L Critic=5.05e-5, L Actor=594] \n"
     ]
    },
    {
     "name": "stdout",
     "output_type": "stream",
     "text": [
      "Model saved - 21.10\n"
     ]
    },
    {
     "name": "stderr",
     "output_type": "stream",
     "text": [
      "Episode 98:  96%|█████████▌| 23/24 [00:02<00:00,  8.07it/s, Temp=1.8673, Avg. Reward=21.1016, Reward=34.8, entropy=0.00263, L Critic=5.85e-5, L Actor=886] \n"
     ]
    },
    {
     "name": "stdout",
     "output_type": "stream",
     "text": [
      "Model saved - 21.10\n"
     ]
    },
    {
     "name": "stderr",
     "output_type": "stream",
     "text": [
      "Episode 99:  94%|█████████▍| 15/16 [00:01<00:00,  8.46it/s, Temp=1.8486, Avg. Reward=21.1026, Reward=22.7, entropy=0.00179, L Critic=3.95e-5, L Actor=669] \n",
      "Episode 100:  89%|████████▉ | 8/9 [00:00<00:00,  8.64it/s, Temp=1.8302, Avg. Reward=21.1024, Reward=12.2, entropy=0.00103, L Critic=2.08e-5, L Actor=400]  \n"
     ]
    },
    {
     "name": "stdout",
     "output_type": "stream",
     "text": [
      "Model saved - 21.10\n"
     ]
    },
    {
     "name": "stderr",
     "output_type": "stream",
     "text": [
      "Episode 101:  89%|████████▉ | 8/9 [00:00<00:00,  8.64it/s, Temp=1.8119, Avg. Reward=21.1032, Reward=12.2, entropy=0.00102, L Critic=1.53e-5, L Actor=392]  \n"
     ]
    },
    {
     "name": "stdout",
     "output_type": "stream",
     "text": [
      "Model saved - 21.10\n"
     ]
    },
    {
     "name": "stderr",
     "output_type": "stream",
     "text": [
      "Episode 102:  92%|█████████▏| 12/13 [00:01<00:00,  8.52it/s, Temp=1.7937, Avg. Reward=21.1034, Reward=18.1, entropy=0.00144, L Critic=2.24e-5, L Actor=569] \n",
      "Episode 103:  94%|█████████▍| 15/16 [00:01<00:00,  8.34it/s, Temp=1.7758, Avg. Reward=21.1033, Reward=22.4, entropy=0.00176, L Critic=2.48e-5, L Actor=717] \n"
     ]
    },
    {
     "name": "stdout",
     "output_type": "stream",
     "text": [
      "Model saved - 21.10\n"
     ]
    },
    {
     "name": "stderr",
     "output_type": "stream",
     "text": [
      "Episode 104:  95%|█████████▌| 19/20 [00:02<00:00,  8.45it/s, Temp=1.7580, Avg. Reward=21.1035, Reward=28.7, entropy=0.00218, L Critic=2.29e-5, L Actor=741] \n",
      "Episode 105:  93%|█████████▎| 14/15 [00:01<00:00,  8.53it/s, Temp=1.7405, Avg. Reward=21.1024, Reward=20.9, entropy=0.00164, L Critic=1.26e-5, L Actor=469] \n",
      "Episode 106:  94%|█████████▍| 17/18 [00:01<00:00,  8.69it/s, Temp=1.7231, Avg. Reward=21.1033, Reward=25.8, entropy=0.00195, L Critic=9.55e-6, L Actor=523]\n"
     ]
    },
    {
     "name": "stdout",
     "output_type": "stream",
     "text": [
      "Model saved - 21.10\n"
     ]
    },
    {
     "name": "stderr",
     "output_type": "stream",
     "text": [
      "Episode 107:  94%|█████████▍| 15/16 [00:01<00:00,  8.56it/s, Temp=1.7058, Avg. Reward=21.1036, Reward=22.6, entropy=0.00174, L Critic=7.48e-6, L Actor=489] \n"
     ]
    },
    {
     "name": "stdout",
     "output_type": "stream",
     "text": [
      "Model saved - 21.10\n"
     ]
    },
    {
     "name": "stderr",
     "output_type": "stream",
     "text": [
      "Episode 108:  92%|█████████▏| 12/13 [00:01<00:00,  8.61it/s, Temp=1.6888, Avg. Reward=21.1037, Reward=18.1, entropy=0.00141, L Critic=5.33e-6, L Actor=450] \n"
     ]
    },
    {
     "name": "stdout",
     "output_type": "stream",
     "text": [
      "Model saved - 21.10\n"
     ]
    },
    {
     "name": "stderr",
     "output_type": "stream",
     "text": [
      "Episode 109:  93%|█████████▎| 13/14 [00:01<00:00,  8.19it/s, Temp=1.6719, Avg. Reward=21.1039, Reward=19.9, entropy=0.00152, L Critic=5.12e-6, L Actor=492] \n",
      "Episode 110:  88%|████████▊ | 7/8 [00:00<00:00,  8.61it/s, Temp=1.6552, Avg. Reward=21.1037, Reward=10.7, entropy=0.000875, L Critic=2.8e-6, L Actor=290]  \n"
     ]
    },
    {
     "name": "stdout",
     "output_type": "stream",
     "text": [
      "Model saved - 21.11\n"
     ]
    },
    {
     "name": "stderr",
     "output_type": "stream",
     "text": [
      "Episode 111:  96%|█████████▋| 27/28 [00:03<00:00,  7.98it/s, Temp=1.6386, Avg. Reward=21.1054, Reward=41.7, entropy=0.00302, L Critic=1.01e-5, L Actor=981]\n"
     ]
    },
    {
     "name": "stdout",
     "output_type": "stream",
     "text": [
      "Model saved - 21.11\n"
     ]
    },
    {
     "name": "stderr",
     "output_type": "stream",
     "text": [
      "Episode 112:  89%|████████▉ | 8/9 [00:00<00:00,  8.41it/s, Temp=1.6222, Avg. Reward=21.1067, Reward=12.2, entropy=0.000981, L Critic=2.54e-6, L Actor=287] \n"
     ]
    },
    {
     "name": "stdout",
     "output_type": "stream",
     "text": [
      "Model saved - 21.11\n"
     ]
    },
    {
     "name": "stderr",
     "output_type": "stream",
     "text": [
      "Episode 113:  93%|█████████▎| 13/14 [00:01<00:00,  8.21it/s, Temp=1.6060, Avg. Reward=21.1078, Reward=19.9, entropy=0.00152, L Critic=3.51e-6, L Actor=447] \n"
     ]
    },
    {
     "name": "stdout",
     "output_type": "stream",
     "text": [
      "Model saved - 21.11\n"
     ]
    },
    {
     "name": "stderr",
     "output_type": "stream",
     "text": [
      "Episode 114:  92%|█████████▏| 12/13 [00:01<00:00,  8.09it/s, Temp=1.5899, Avg. Reward=21.1079, Reward=18, entropy=0.00141, L Critic=2.68e-6, L Actor=402]   \n"
     ]
    },
    {
     "name": "stdout",
     "output_type": "stream",
     "text": [
      "Model saved - 21.11\n"
     ]
    },
    {
     "name": "stderr",
     "output_type": "stream",
     "text": [
      "Episode 115:  93%|█████████▎| 14/15 [00:01<00:00,  8.47it/s, Temp=1.5740, Avg. Reward=21.1094, Reward=21.2, entropy=0.00162, L Critic=2.14e-6, L Actor=430] \n",
      "Episode 116:  94%|█████████▍| 17/18 [00:02<00:00,  8.21it/s, Temp=1.5583, Avg. Reward=21.1090, Reward=25.8, entropy=0.00194, L Critic=2.66e-6, L Actor=583] \n",
      "Episode 117:  93%|█████████▎| 14/15 [00:01<00:00,  8.44it/s, Temp=1.5427, Avg. Reward=21.1092, Reward=20.9, entropy=0.00162, L Critic=1.95e-6, L Actor=439]\n"
     ]
    },
    {
     "name": "stdout",
     "output_type": "stream",
     "text": [
      "Model saved - 21.11\n"
     ]
    },
    {
     "name": "stderr",
     "output_type": "stream",
     "text": [
      "Episode 118:  93%|█████████▎| 14/15 [00:01<00:00,  8.58it/s, Temp=1.5273, Avg. Reward=21.1099, Reward=20.9, entropy=0.00162, L Critic=1.66e-6, L Actor=447] \n"
     ]
    },
    {
     "name": "stdout",
     "output_type": "stream",
     "text": [
      "Model saved - 21.11\n"
     ]
    },
    {
     "name": "stderr",
     "output_type": "stream",
     "text": [
      "Episode 119:  93%|█████████▎| 14/15 [00:01<00:00,  8.53it/s, Temp=1.5120, Avg. Reward=21.1100, Reward=21, entropy=0.00162, L Critic=1.51e-6, L Actor=451]   \n"
     ]
    },
    {
     "name": "stdout",
     "output_type": "stream",
     "text": [
      "Model saved - 21.11\n"
     ]
    },
    {
     "name": "stderr",
     "output_type": "stream",
     "text": [
      "Episode 120:  88%|████████▊ | 7/8 [00:00<00:00,  8.86it/s, Temp=1.4969, Avg. Reward=21.1102, Reward=10.6, entropy=0.000864, L Critic=6.77e-7, L Actor=251] \n"
     ]
    },
    {
     "name": "stdout",
     "output_type": "stream",
     "text": [
      "Model saved - 21.11\n"
     ]
    },
    {
     "name": "stderr",
     "output_type": "stream",
     "text": [
      "Episode 121:  94%|█████████▍| 17/18 [00:02<00:00,  8.23it/s, Temp=1.4819, Avg. Reward=21.1105, Reward=25.8, entropy=0.00194, L Critic=1.23e-6, L Actor=597]\n"
     ]
    },
    {
     "name": "stdout",
     "output_type": "stream",
     "text": [
      "Model saved - 21.11\n"
     ]
    },
    {
     "name": "stderr",
     "output_type": "stream",
     "text": [
      "Episode 122:  88%|████████▊ | 7/8 [00:00<00:00,  8.73it/s, Temp=1.4671, Avg. Reward=21.1107, Reward=10.7, entropy=0.000862, L Critic=3.87e-7, L Actor=270] \n",
      "Episode 123:  89%|████████▉ | 8/9 [00:00<00:00,  8.62it/s, Temp=1.4524, Avg. Reward=21.1106, Reward=12.2, entropy=0.000969, L Critic=3.01e-7, L Actor=288] \n"
     ]
    },
    {
     "name": "stdout",
     "output_type": "stream",
     "text": [
      "Model saved - 21.11\n"
     ]
    },
    {
     "name": "stderr",
     "output_type": "stream",
     "text": [
      "Episode 124:  88%|████████▊ | 7/8 [00:00<00:00,  8.71it/s, Temp=1.4379, Avg. Reward=21.1119, Reward=10.8, entropy=0.000861, L Critic=2.86e-7, L Actor=257] \n",
      "Episode 125:  94%|█████████▍| 15/16 [00:01<00:00,  8.22it/s, Temp=1.4235, Avg. Reward=21.1117, Reward=23, entropy=0.00172, L Critic=4.99e-7, L Actor=461]   \n"
     ]
    },
    {
     "name": "stdout",
     "output_type": "stream",
     "text": [
      "Model saved - 21.11\n"
     ]
    },
    {
     "name": "stderr",
     "output_type": "stream",
     "text": [
      "Episode 126:  94%|█████████▍| 17/18 [00:01<00:00,  8.56it/s, Temp=1.4093, Avg. Reward=21.1129, Reward=25.8, entropy=0.00193, L Critic=4.31e-7, L Actor=421] \n"
     ]
    },
    {
     "name": "stdout",
     "output_type": "stream",
     "text": [
      "Model saved - 21.12\n"
     ]
    },
    {
     "name": "stderr",
     "output_type": "stream",
     "text": [
      "Episode 127:  95%|█████████▌| 19/20 [00:02<00:00,  8.13it/s, Temp=1.3952, Avg. Reward=21.1168, Reward=28.6, entropy=0.00215, L Critic=3.46e-7, L Actor=409] \n"
     ]
    },
    {
     "name": "stdout",
     "output_type": "stream",
     "text": [
      "Model saved - 21.12\n"
     ]
    },
    {
     "name": "stderr",
     "output_type": "stream",
     "text": [
      "Episode 128:  94%|█████████▍| 17/18 [00:02<00:00,  8.25it/s, Temp=1.3813, Avg. Reward=21.1170, Reward=25.9, entropy=0.00193, L Critic=1.64e-7, L Actor=321] \n",
      "Episode 129:  92%|█████████▏| 12/13 [00:01<00:00,  8.48it/s, Temp=1.3674, Avg. Reward=21.1169, Reward=18.2, entropy=0.0014, L Critic=8.55e-8, L Actor=269]  \n"
     ]
    },
    {
     "name": "stdout",
     "output_type": "stream",
     "text": [
      "Model saved - 21.12\n"
     ]
    },
    {
     "name": "stderr",
     "output_type": "stream",
     "text": [
      "Episode 130:  94%|█████████▍| 15/16 [00:01<00:00,  8.31it/s, Temp=1.3538, Avg. Reward=21.1177, Reward=23.1, entropy=0.00172, L Critic=0, L Actor=383] \n"
     ]
    },
    {
     "name": "stdout",
     "output_type": "stream",
     "text": [
      "Model saved - 21.12\n"
     ]
    },
    {
     "name": "stderr",
     "output_type": "stream",
     "text": [
      "Episode 131:  93%|█████████▎| 14/15 [00:01<00:00,  8.17it/s, Temp=1.3402, Avg. Reward=21.1184, Reward=21.1, entropy=0.00161, L Critic=0, L Actor=413] \n"
     ]
    },
    {
     "name": "stdout",
     "output_type": "stream",
     "text": [
      "Model saved - 21.12\n"
     ]
    },
    {
     "name": "stderr",
     "output_type": "stream",
     "text": [
      "Episode 132:  92%|█████████▏| 12/13 [00:01<00:00,  8.21it/s, Temp=1.3268, Avg. Reward=21.1213, Reward=18.1, entropy=0.0014, L Critic=0, L Actor=368] \n"
     ]
    },
    {
     "name": "stdout",
     "output_type": "stream",
     "text": [
      "Model saved - 21.12\n"
     ]
    },
    {
     "name": "stderr",
     "output_type": "stream",
     "text": [
      "Episode 133:  92%|█████████▏| 12/13 [00:01<00:00,  8.30it/s, Temp=1.3136, Avg. Reward=21.1220, Reward=18.2, entropy=0.0014, L Critic=0, L Actor=386]  \n",
      "Episode 134:  89%|████████▉ | 8/9 [00:00<00:00,  8.70it/s, Temp=1.3004, Avg. Reward=21.1219, Reward=12.2, entropy=0.000967, L Critic=0, L Actor=264] \n"
     ]
    },
    {
     "name": "stdout",
     "output_type": "stream",
     "text": [
      "Model saved - 21.12\n"
     ]
    },
    {
     "name": "stderr",
     "output_type": "stream",
     "text": [
      "Episode 135:  88%|████████▊ | 7/8 [00:00<00:00,  8.73it/s, Temp=1.2874, Avg. Reward=21.1222, Reward=10.7, entropy=0.000859, L Critic=0, L Actor=229] \n"
     ]
    },
    {
     "name": "stdout",
     "output_type": "stream",
     "text": [
      "Model saved - 21.12\n"
     ]
    },
    {
     "name": "stderr",
     "output_type": "stream",
     "text": [
      "Episode 136:  92%|█████████▏| 11/12 [00:01<00:00,  8.41it/s, Temp=1.2745, Avg. Reward=21.1222, Reward=16.7, entropy=0.00129, L Critic=0, L Actor=338] \n"
     ]
    },
    {
     "name": "stdout",
     "output_type": "stream",
     "text": [
      "Model saved - 21.12\n"
     ]
    },
    {
     "name": "stderr",
     "output_type": "stream",
     "text": [
      "Episode 137:  94%|█████████▍| 15/16 [00:01<00:00,  8.34it/s, Temp=1.2618, Avg. Reward=21.1242, Reward=22.9, entropy=0.00172, L Critic=0, L Actor=400] \n"
     ]
    },
    {
     "name": "stdout",
     "output_type": "stream",
     "text": [
      "Model saved - 21.12\n"
     ]
    },
    {
     "name": "stderr",
     "output_type": "stream",
     "text": [
      "Episode 138:  92%|█████████▏| 12/13 [00:01<00:00,  8.42it/s, Temp=1.2492, Avg. Reward=21.1246, Reward=18.2, entropy=0.0014, L Critic=0, L Actor=292]  \n"
     ]
    },
    {
     "name": "stdout",
     "output_type": "stream",
     "text": [
      "Model saved - 21.13\n"
     ]
    },
    {
     "name": "stderr",
     "output_type": "stream",
     "text": [
      "Episode 139:  92%|█████████▏| 11/12 [00:01<00:00,  8.53it/s, Temp=1.2367, Avg. Reward=21.1251, Reward=16.7, entropy=0.00129, L Critic=0, L Actor=253] \n"
     ]
    },
    {
     "name": "stdout",
     "output_type": "stream",
     "text": [
      "Model saved - 21.13\n"
     ]
    },
    {
     "name": "stderr",
     "output_type": "stream",
     "text": [
      "Episode 140:  92%|█████████▏| 11/12 [00:01<00:00,  8.20it/s, Temp=1.2243, Avg. Reward=21.1255, Reward=16.6, entropy=0.00129, L Critic=0, L Actor=237] \n",
      "Episode 141:  94%|█████████▍| 15/16 [00:01<00:00,  8.39it/s, Temp=1.2121, Avg. Reward=21.1255, Reward=22.9, entropy=0.00172, L Critic=0, L Actor=298] \n",
      "Episode 142:  88%|████████▊ | 7/8 [00:00<00:00,  8.99it/s, Temp=1.2000, Avg. Reward=21.1248, Reward=10.6, entropy=0.000859, L Critic=0, L Actor=169] \n",
      "Episode 143:  93%|█████████▎| 13/14 [00:01<00:00,  8.68it/s, Temp=1.1880, Avg. Reward=21.1254, Reward=19.8, entropy=0.0015, L Critic=0, L Actor=293]  \n"
     ]
    },
    {
     "name": "stdout",
     "output_type": "stream",
     "text": [
      "Model saved - 21.13\n"
     ]
    },
    {
     "name": "stderr",
     "output_type": "stream",
     "text": [
      "Episode 144:  93%|█████████▎| 14/15 [00:01<00:00,  8.17it/s, Temp=1.1761, Avg. Reward=21.1262, Reward=21.3, entropy=0.00161, L Critic=0, L Actor=300] \n"
     ]
    },
    {
     "name": "stdout",
     "output_type": "stream",
     "text": [
      "Model saved - 21.13\n"
     ]
    },
    {
     "name": "stderr",
     "output_type": "stream",
     "text": [
      "Episode 145:  95%|█████████▌| 19/20 [00:02<00:00,  8.10it/s, Temp=1.1643, Avg. Reward=21.1268, Reward=28.8, entropy=0.00215, L Critic=0, L Actor=366] \n"
     ]
    },
    {
     "name": "stdout",
     "output_type": "stream",
     "text": [
      "Model saved - 21.13\n"
     ]
    },
    {
     "name": "stderr",
     "output_type": "stream",
     "text": [
      "Episode 146:  93%|█████████▎| 14/15 [00:01<00:00,  8.72it/s, Temp=1.1527, Avg. Reward=21.1273, Reward=21.3, entropy=0.00161, L Critic=0, L Actor=277] \n"
     ]
    },
    {
     "name": "stdout",
     "output_type": "stream",
     "text": [
      "Model saved - 21.13\n"
     ]
    },
    {
     "name": "stderr",
     "output_type": "stream",
     "text": [
      "Episode 147:  94%|█████████▍| 17/18 [00:01<00:00,  8.52it/s, Temp=1.1412, Avg. Reward=21.1289, Reward=25.9, entropy=0.00193, L Critic=0, L Actor=320] \n"
     ]
    },
    {
     "name": "stdout",
     "output_type": "stream",
     "text": [
      "Model saved - 21.13\n"
     ]
    },
    {
     "name": "stderr",
     "output_type": "stream",
     "text": [
      "Episode 148:  93%|█████████▎| 14/15 [00:01<00:00,  8.33it/s, Temp=1.1297, Avg. Reward=21.1292, Reward=21.2, entropy=0.00161, L Critic=0, L Actor=307] \n"
     ]
    },
    {
     "name": "stdout",
     "output_type": "stream",
     "text": [
      "Model saved - 21.13\n"
     ]
    },
    {
     "name": "stderr",
     "output_type": "stream",
     "text": [
      "Episode 149:  95%|█████████▌| 19/20 [00:02<00:00,  8.41it/s, Temp=1.1184, Avg. Reward=21.1297, Reward=28.5, entropy=0.00215, L Critic=0, L Actor=469] \n"
     ]
    },
    {
     "name": "stdout",
     "output_type": "stream",
     "text": [
      "Model saved - 21.13\n"
     ]
    },
    {
     "name": "stderr",
     "output_type": "stream",
     "text": [
      "Episode 150:  94%|█████████▍| 17/18 [00:02<00:00,  8.42it/s, Temp=1.1073, Avg. Reward=21.1307, Reward=25.8, entropy=0.00193, L Critic=0, L Actor=436] \n",
      "Episode 151:  92%|█████████▏| 12/13 [00:01<00:00,  8.33it/s, Temp=1.0962, Avg. Reward=21.1301, Reward=18.1, entropy=0.0014, L Critic=0, L Actor=352]  \n",
      "Episode 152:  93%|█████████▎| 14/15 [00:01<00:00,  8.38it/s, Temp=1.0852, Avg. Reward=21.1302, Reward=20.9, entropy=0.00161, L Critic=0, L Actor=410] \n",
      "Episode 153:  96%|█████████▋| 27/28 [00:03<00:00,  7.87it/s, Temp=1.0744, Avg. Reward=21.1302, Reward=41.8, entropy=0.00301, L Critic=0, L Actor=739] \n",
      "Episode 154:  94%|█████████▍| 15/16 [00:01<00:00,  8.61it/s, Temp=1.0636, Avg. Reward=21.1300, Reward=23, entropy=0.00172, L Critic=0, L Actor=454]   \n"
     ]
    },
    {
     "name": "stdout",
     "output_type": "stream",
     "text": [
      "Model saved - 21.13\n"
     ]
    },
    {
     "name": "stderr",
     "output_type": "stream",
     "text": [
      "Episode 155:  95%|█████████▌| 19/20 [00:02<00:00,  8.38it/s, Temp=1.0530, Avg. Reward=21.1315, Reward=28.5, entropy=0.00215, L Critic=0, L Actor=573] \n"
     ]
    },
    {
     "name": "stdout",
     "output_type": "stream",
     "text": [
      "Model saved - 21.13\n"
     ]
    },
    {
     "name": "stderr",
     "output_type": "stream",
     "text": [
      "Episode 156:  95%|█████████▌| 19/20 [00:02<00:00,  8.29it/s, Temp=1.0425, Avg. Reward=21.1328, Reward=28.7, entropy=0.00215, L Critic=0, L Actor=603] \n",
      "Episode 157:  94%|█████████▍| 15/16 [00:01<00:00,  8.17it/s, Temp=1.0320, Avg. Reward=21.1323, Reward=22.6, entropy=0.00172, L Critic=0, L Actor=544] \n"
     ]
    },
    {
     "name": "stdout",
     "output_type": "stream",
     "text": [
      "Model saved - 21.13\n"
     ]
    },
    {
     "name": "stderr",
     "output_type": "stream",
     "text": [
      "Episode 158:  92%|█████████▏| 12/13 [00:01<00:00,  8.34it/s, Temp=1.0217, Avg. Reward=21.1331, Reward=18.1, entropy=0.0014, L Critic=0, L Actor=422]  \n"
     ]
    },
    {
     "name": "stdout",
     "output_type": "stream",
     "text": [
      "Model saved - 21.13\n"
     ]
    },
    {
     "name": "stderr",
     "output_type": "stream",
     "text": [
      "Episode 159:  93%|█████████▎| 13/14 [00:01<00:00,  8.51it/s, Temp=1.0115, Avg. Reward=21.1333, Reward=19.9, entropy=0.0015, L Critic=0, L Actor=473]  \n",
      "Episode 160:  92%|█████████▏| 11/12 [00:01<00:00,  8.67it/s, Temp=1.0014, Avg. Reward=21.1331, Reward=16.8, entropy=0.00129, L Critic=0, L Actor=369] \n"
     ]
    },
    {
     "name": "stdout",
     "output_type": "stream",
     "text": [
      "Model saved - 21.13\n"
     ]
    },
    {
     "name": "stderr",
     "output_type": "stream",
     "text": [
      "Episode 161:  93%|█████████▎| 14/15 [00:01<00:00,  8.49it/s, Temp=0.9914, Avg. Reward=21.1340, Reward=21, entropy=0.00161, L Critic=0, L Actor=469]   \n"
     ]
    },
    {
     "name": "stdout",
     "output_type": "stream",
     "text": [
      "Model saved - 21.13\n"
     ]
    },
    {
     "name": "stderr",
     "output_type": "stream",
     "text": [
      "Episode 162:  92%|█████████▏| 12/13 [00:01<00:00,  8.13it/s, Temp=0.9815, Avg. Reward=21.1346, Reward=18.1, entropy=0.0014, L Critic=0, L Actor=374]  \n"
     ]
    },
    {
     "name": "stdout",
     "output_type": "stream",
     "text": [
      "Model saved - 21.13\n"
     ]
    },
    {
     "name": "stderr",
     "output_type": "stream",
     "text": [
      "Episode 163:  88%|████████▊ | 7/8 [00:00<00:00,  8.91it/s, Temp=0.9716, Avg. Reward=21.1349, Reward=10.6, entropy=0.000859, L Critic=0, L Actor=223] \n"
     ]
    },
    {
     "name": "stdout",
     "output_type": "stream",
     "text": [
      "Model saved - 21.13\n"
     ]
    },
    {
     "name": "stderr",
     "output_type": "stream",
     "text": [
      "Episode 164:  88%|████████▊ | 7/8 [00:00<00:00,  8.93it/s, Temp=0.9619, Avg. Reward=21.1350, Reward=10.6, entropy=0.000859, L Critic=0, L Actor=213] \n"
     ]
    },
    {
     "name": "stdout",
     "output_type": "stream",
     "text": [
      "Model saved - 21.14\n"
     ]
    },
    {
     "name": "stderr",
     "output_type": "stream",
     "text": [
      "Episode 165:  92%|█████████▏| 11/12 [00:01<00:00,  8.66it/s, Temp=0.9523, Avg. Reward=21.1356, Reward=16.8, entropy=0.00129, L Critic=0, L Actor=307] \n"
     ]
    },
    {
     "name": "stdout",
     "output_type": "stream",
     "text": [
      "Model saved - 21.14\n"
     ]
    },
    {
     "name": "stderr",
     "output_type": "stream",
     "text": [
      "Episode 166:  94%|█████████▍| 15/16 [00:01<00:00,  8.41it/s, Temp=0.9428, Avg. Reward=21.1364, Reward=23, entropy=0.00172, L Critic=0, L Actor=346]   \n"
     ]
    },
    {
     "name": "stdout",
     "output_type": "stream",
     "text": [
      "Model saved - 21.14\n"
     ]
    },
    {
     "name": "stderr",
     "output_type": "stream",
     "text": [
      "Episode 167:  92%|█████████▏| 11/12 [00:01<00:00,  8.23it/s, Temp=0.9334, Avg. Reward=21.1368, Reward=16.7, entropy=0.00129, L Critic=0, L Actor=240] \n"
     ]
    },
    {
     "name": "stdout",
     "output_type": "stream",
     "text": [
      "Model saved - 21.14\n"
     ]
    },
    {
     "name": "stderr",
     "output_type": "stream",
     "text": [
      "Episode 168:  93%|█████████▎| 13/14 [00:01<00:00,  8.14it/s, Temp=0.9240, Avg. Reward=21.1374, Reward=19.8, entropy=0.0015, L Critic=0, L Actor=257]  \n",
      "Episode 169:  89%|████████▉ | 8/9 [00:00<00:00,  8.38it/s, Temp=0.9148, Avg. Reward=21.1372, Reward=12.2, entropy=0.000967, L Critic=0, L Actor=150] \n"
     ]
    },
    {
     "name": "stdout",
     "output_type": "stream",
     "text": [
      "Model saved - 21.14\n"
     ]
    },
    {
     "name": "stderr",
     "output_type": "stream",
     "text": [
      "Episode 170:  94%|█████████▍| 15/16 [00:01<00:00,  8.45it/s, Temp=0.9056, Avg. Reward=21.1376, Reward=22.5, entropy=0.00172, L Critic=0, L Actor=233] \n"
     ]
    },
    {
     "name": "stdout",
     "output_type": "stream",
     "text": [
      "Model saved - 21.14\n"
     ]
    },
    {
     "name": "stderr",
     "output_type": "stream",
     "text": [
      "Episode 171:  92%|█████████▏| 11/12 [00:01<00:00,  8.52it/s, Temp=0.8966, Avg. Reward=21.1378, Reward=16.8, entropy=0.00129, L Critic=0, L Actor=186] \n",
      "Episode 172:  94%|█████████▍| 15/16 [00:01<00:00,  8.34it/s, Temp=0.8876, Avg. Reward=21.1372, Reward=23, entropy=0.00172, L Critic=0, L Actor=235]   \n"
     ]
    },
    {
     "name": "stdout",
     "output_type": "stream",
     "text": [
      "Model saved - 21.14\n"
     ]
    },
    {
     "name": "stderr",
     "output_type": "stream",
     "text": [
      "Episode 173:  93%|█████████▎| 13/14 [00:01<00:00,  8.22it/s, Temp=0.8787, Avg. Reward=21.1379, Reward=19.8, entropy=0.0015, L Critic=0, L Actor=219]  \n"
     ]
    },
    {
     "name": "stdout",
     "output_type": "stream",
     "text": [
      "Model saved - 21.14\n"
     ]
    },
    {
     "name": "stderr",
     "output_type": "stream",
     "text": [
      "Episode 174:  93%|█████████▎| 14/15 [00:01<00:00,  8.48it/s, Temp=0.8699, Avg. Reward=21.1382, Reward=21.2, entropy=0.00161, L Critic=0, L Actor=237] \n"
     ]
    },
    {
     "name": "stdout",
     "output_type": "stream",
     "text": [
      "Model saved - 21.14\n"
     ]
    },
    {
     "name": "stderr",
     "output_type": "stream",
     "text": [
      "Episode 175:  95%|█████████▌| 19/20 [00:02<00:00,  8.23it/s, Temp=0.8612, Avg. Reward=21.1385, Reward=28.7, entropy=0.00215, L Critic=0, L Actor=330] \n",
      "Episode 176:  89%|████████▉ | 8/9 [00:00<00:00,  8.83it/s, Temp=0.8526, Avg. Reward=21.1383, Reward=12.2, entropy=0.000967, L Critic=0, L Actor=155] \n"
     ]
    },
    {
     "name": "stdout",
     "output_type": "stream",
     "text": [
      "Model saved - 21.14\n"
     ]
    },
    {
     "name": "stderr",
     "output_type": "stream",
     "text": [
      "Episode 177:  94%|█████████▍| 15/16 [00:01<00:00,  8.49it/s, Temp=0.8441, Avg. Reward=21.1389, Reward=22.8, entropy=0.00172, L Critic=0, L Actor=279] \n"
     ]
    },
    {
     "name": "stdout",
     "output_type": "stream",
     "text": [
      "Model saved - 21.14\n"
     ]
    },
    {
     "name": "stderr",
     "output_type": "stream",
     "text": [
      "Episode 178:  95%|█████████▌| 19/20 [00:02<00:00,  8.45it/s, Temp=0.8357, Avg. Reward=21.1390, Reward=28.7, entropy=0.00215, L Critic=0, L Actor=343] \n"
     ]
    },
    {
     "name": "stdout",
     "output_type": "stream",
     "text": [
      "Model saved - 21.14\n"
     ]
    },
    {
     "name": "stderr",
     "output_type": "stream",
     "text": [
      "Episode 179:  88%|████████▊ | 7/8 [00:00<00:00,  8.61it/s, Temp=0.8273, Avg. Reward=21.1398, Reward=10.6, entropy=0.000859, L Critic=0, L Actor=154] \n"
     ]
    },
    {
     "name": "stdout",
     "output_type": "stream",
     "text": [
      "Model saved - 21.14\n"
     ]
    },
    {
     "name": "stderr",
     "output_type": "stream",
     "text": [
      "Episode 180:  94%|█████████▍| 17/18 [00:02<00:00,  8.45it/s, Temp=0.8190, Avg. Reward=21.1400, Reward=25.9, entropy=0.00193, L Critic=0, L Actor=386] \n"
     ]
    },
    {
     "name": "stdout",
     "output_type": "stream",
     "text": [
      "Model saved - 21.14\n"
     ]
    },
    {
     "name": "stderr",
     "output_type": "stream",
     "text": [
      "Episode 181:  89%|████████▉ | 8/9 [00:00<00:00,  8.12it/s, Temp=0.8108, Avg. Reward=21.1403, Reward=12.2, entropy=0.000967, L Critic=0, L Actor=194] \n"
     ]
    },
    {
     "name": "stdout",
     "output_type": "stream",
     "text": [
      "Model saved - 21.14\n"
     ]
    },
    {
     "name": "stderr",
     "output_type": "stream",
     "text": [
      "Episode 182:  89%|████████▉ | 8/9 [00:00<00:00,  8.43it/s, Temp=0.8027, Avg. Reward=21.1407, Reward=12.2, entropy=0.000967, L Critic=0, L Actor=211] \n",
      "Episode 183:  93%|█████████▎| 14/15 [00:01<00:00,  8.54it/s, Temp=0.7947, Avg. Reward=21.1405, Reward=21.2, entropy=0.00161, L Critic=0, L Actor=318] \n",
      "Episode 184:  93%|█████████▎| 14/15 [00:01<00:00,  8.54it/s, Temp=0.7868, Avg. Reward=21.1407, Reward=21.2, entropy=0.00161, L Critic=0, L Actor=285] \n",
      "Episode 185:  93%|█████████▎| 14/15 [00:01<00:00,  8.51it/s, Temp=0.7789, Avg. Reward=21.1405, Reward=20.9, entropy=0.00161, L Critic=0, L Actor=262] \n",
      "Episode 186:  88%|████████▊ | 7/8 [00:00<00:00,  8.36it/s, Temp=0.7711, Avg. Reward=21.1404, Reward=10.8, entropy=0.000859, L Critic=0, L Actor=131] \n",
      "Episode 187:  92%|█████████▏| 11/12 [00:01<00:00,  8.80it/s, Temp=0.7634, Avg. Reward=21.1404, Reward=16.7, entropy=0.00129, L Critic=0, L Actor=203] \n"
     ]
    },
    {
     "name": "stdout",
     "output_type": "stream",
     "text": [
      "Model saved - 21.14\n"
     ]
    },
    {
     "name": "stderr",
     "output_type": "stream",
     "text": [
      "Episode 188:  89%|████████▉ | 8/9 [00:00<00:00,  8.42it/s, Temp=0.7558, Avg. Reward=21.1414, Reward=12.2, entropy=0.000967, L Critic=0, L Actor=167] \n",
      "Episode 189:  95%|█████████▌| 19/20 [00:02<00:00,  8.22it/s, Temp=0.7482, Avg. Reward=21.1412, Reward=28.7, entropy=0.00215, L Critic=0, L Actor=352] \n",
      "Episode 190:  94%|█████████▍| 15/16 [00:01<00:00,  8.41it/s, Temp=0.7407, Avg. Reward=21.1413, Reward=23.1, entropy=0.00172, L Critic=0, L Actor=282] \n"
     ]
    },
    {
     "name": "stdout",
     "output_type": "stream",
     "text": [
      "Model saved - 21.14\n"
     ]
    },
    {
     "name": "stderr",
     "output_type": "stream",
     "text": [
      "Episode 191:  96%|█████████▌| 23/24 [00:02<00:00,  8.45it/s, Temp=0.7333, Avg. Reward=21.1416, Reward=35, entropy=0.00258, L Critic=0, L Actor=380]   \n"
     ]
    },
    {
     "name": "stdout",
     "output_type": "stream",
     "text": [
      "Model saved - 21.14\n"
     ]
    },
    {
     "name": "stderr",
     "output_type": "stream",
     "text": [
      "Episode 192:  88%|████████▊ | 7/8 [00:00<00:00,  8.83it/s, Temp=0.7260, Avg. Reward=21.1426, Reward=10.7, entropy=0.000859, L Critic=0, L Actor=134] \n"
     ]
    },
    {
     "name": "stdout",
     "output_type": "stream",
     "text": [
      "Model saved - 21.14\n"
     ]
    },
    {
     "name": "stderr",
     "output_type": "stream",
     "text": [
      "Episode 193:  96%|█████████▌| 23/24 [00:02<00:00,  8.54it/s, Temp=0.7187, Avg. Reward=21.1442, Reward=34.7, entropy=0.00258, L Critic=0, L Actor=482] \n"
     ]
    },
    {
     "name": "stdout",
     "output_type": "stream",
     "text": [
      "Model saved - 21.14\n"
     ]
    },
    {
     "name": "stderr",
     "output_type": "stream",
     "text": [
      "Episode 194:  94%|█████████▍| 15/16 [00:01<00:00,  8.22it/s, Temp=0.7115, Avg. Reward=21.1448, Reward=22.7, entropy=0.00172, L Critic=0, L Actor=345] \n",
      "Episode 195:  93%|█████████▎| 13/14 [00:01<00:00,  8.30it/s, Temp=0.7044, Avg. Reward=21.1436, Reward=19.7, entropy=0.0015, L Critic=0, L Actor=374]  \n",
      "Episode 196:  95%|█████████▌| 19/20 [00:02<00:00,  8.53it/s, Temp=0.6974, Avg. Reward=21.1441, Reward=28.6, entropy=0.00215, L Critic=0, L Actor=475] \n",
      "Episode 197:  95%|█████████▌| 19/20 [00:02<00:00,  8.58it/s, Temp=0.6904, Avg. Reward=21.1439, Reward=28.6, entropy=0.00215, L Critic=0, L Actor=541] \n",
      "Episode 198:  88%|████████▊ | 7/8 [00:00<00:00,  9.03it/s, Temp=0.6835, Avg. Reward=21.1438, Reward=10.8, entropy=0.000859, L Critic=0, L Actor=248] \n",
      "Episode 199:  89%|████████▉ | 8/9 [00:00<00:00,  9.01it/s, Temp=0.6767, Avg. Reward=21.1438, Reward=12.2, entropy=0.000967, L Critic=0, L Actor=272] \n",
      "Episode 200:  88%|████████▊ | 7/8 [00:00<00:00,  8.84it/s, Temp=0.6699, Avg. Reward=21.1445, Reward=10.6, entropy=0.000859, L Critic=0, L Actor=245] \n",
      "Episode 201:  88%|████████▊ | 7/8 [00:00<00:00,  8.46it/s, Temp=0.6632, Avg. Reward=21.1445, Reward=10.7, entropy=0.000859, L Critic=0, L Actor=232] \n"
     ]
    },
    {
     "name": "stdout",
     "output_type": "stream",
     "text": [
      "Model saved - 21.14\n"
     ]
    },
    {
     "name": "stderr",
     "output_type": "stream",
     "text": [
      "Episode 202:  96%|█████████▌| 23/24 [00:02<00:00,  8.30it/s, Temp=0.6566, Avg. Reward=21.1449, Reward=35, entropy=0.00258, L Critic=0, L Actor=568]   \n"
     ]
    },
    {
     "name": "stdout",
     "output_type": "stream",
     "text": [
      "Model saved - 21.15\n"
     ]
    },
    {
     "name": "stderr",
     "output_type": "stream",
     "text": [
      "Episode 203:  88%|████████▊ | 7/8 [00:00<00:00,  8.84it/s, Temp=0.6500, Avg. Reward=21.1451, Reward=10.6, entropy=0.000859, L Critic=0, L Actor=167] \n"
     ]
    },
    {
     "name": "stdout",
     "output_type": "stream",
     "text": [
      "Model saved - 21.15\n"
     ]
    },
    {
     "name": "stderr",
     "output_type": "stream",
     "text": [
      "Episode 204:  95%|█████████▌| 19/20 [00:02<00:00,  8.48it/s, Temp=0.6435, Avg. Reward=21.1459, Reward=28.6, entropy=0.00215, L Critic=0, L Actor=321] \n",
      "Episode 205:  88%|████████▊ | 7/8 [00:00<00:00,  9.01it/s, Temp=0.6371, Avg. Reward=21.1455, Reward=10.6, entropy=0.000859, L Critic=0, L Actor=128] \n",
      "Episode 206:  92%|█████████▏| 11/12 [00:01<00:00,  8.41it/s, Temp=0.6307, Avg. Reward=21.1455, Reward=16.7, entropy=0.00129, L Critic=0, L Actor=195] \n",
      "Episode 207:  88%|████████▊ | 7/8 [00:00<00:00,  8.76it/s, Temp=0.6244, Avg. Reward=21.1456, Reward=10.6, entropy=0.000859, L Critic=0, L Actor=160] \n",
      "Episode 208:  93%|█████████▎| 14/15 [00:01<00:00,  8.20it/s, Temp=0.6181, Avg. Reward=21.1456, Reward=20.9, entropy=0.00161, L Critic=0, L Actor=306] \n"
     ]
    },
    {
     "name": "stdout",
     "output_type": "stream",
     "text": [
      "Model saved - 21.15\n"
     ]
    },
    {
     "name": "stderr",
     "output_type": "stream",
     "text": [
      "Episode 209:  96%|█████████▋| 27/28 [00:03<00:00,  8.46it/s, Temp=0.6120, Avg. Reward=21.1461, Reward=41.8, entropy=0.00301, L Critic=0, L Actor=480] \n",
      "Episode 210:  93%|█████████▎| 14/15 [00:01<00:00,  8.61it/s, Temp=0.6058, Avg. Reward=21.1461, Reward=21.2, entropy=0.00161, L Critic=0, L Actor=246] \n"
     ]
    },
    {
     "name": "stdout",
     "output_type": "stream",
     "text": [
      "Model saved - 21.15\n"
     ]
    },
    {
     "name": "stderr",
     "output_type": "stream",
     "text": [
      "Episode 211:  88%|████████▊ | 7/8 [00:00<00:00,  8.51it/s, Temp=0.5998, Avg. Reward=21.1470, Reward=10.7, entropy=0.000859, L Critic=0, L Actor=136] \n",
      "Episode 212:  94%|█████████▍| 15/16 [00:01<00:00,  8.41it/s, Temp=0.5938, Avg. Reward=21.1470, Reward=22.9, entropy=0.00172, L Critic=0, L Actor=298] \n"
     ]
    },
    {
     "name": "stdout",
     "output_type": "stream",
     "text": [
      "Model saved - 21.15\n"
     ]
    },
    {
     "name": "stderr",
     "output_type": "stream",
     "text": [
      "Episode 213:  94%|█████████▍| 17/18 [00:02<00:00,  8.11it/s, Temp=0.5878, Avg. Reward=21.1471, Reward=25.9, entropy=0.00193, L Critic=0, L Actor=397] \n"
     ]
    },
    {
     "name": "stdout",
     "output_type": "stream",
     "text": [
      "Model saved - 21.15\n"
     ]
    },
    {
     "name": "stderr",
     "output_type": "stream",
     "text": [
      "Episode 214:  93%|█████████▎| 13/14 [00:01<00:00,  8.63it/s, Temp=0.5820, Avg. Reward=21.1481, Reward=19.7, entropy=0.0015, L Critic=0, L Actor=340]  \n"
     ]
    },
    {
     "name": "stdout",
     "output_type": "stream",
     "text": [
      "Model saved - 21.15\n"
     ]
    },
    {
     "name": "stderr",
     "output_type": "stream",
     "text": [
      "Episode 215:  88%|████████▊ | 7/8 [00:00<00:00,  8.24it/s, Temp=0.5762, Avg. Reward=21.1484, Reward=10.6, entropy=0.000859, L Critic=0, L Actor=197] \n",
      "Episode 216:  93%|█████████▎| 14/15 [00:01<00:00,  8.17it/s, Temp=0.5704, Avg. Reward=21.1483, Reward=20.9, entropy=0.00161, L Critic=0, L Actor=319] \n"
     ]
    },
    {
     "name": "stdout",
     "output_type": "stream",
     "text": [
      "Model saved - 21.15\n"
     ]
    },
    {
     "name": "stderr",
     "output_type": "stream",
     "text": [
      "Episode 217:  93%|█████████▎| 14/15 [00:01<00:00,  8.74it/s, Temp=0.5647, Avg. Reward=21.1487, Reward=21.1, entropy=0.00161, L Critic=0, L Actor=316] \n",
      "Episode 218:  93%|█████████▎| 14/15 [00:01<00:00,  8.44it/s, Temp=0.5590, Avg. Reward=21.1485, Reward=20.8, entropy=0.00161, L Critic=0, L Actor=317] \n"
     ]
    },
    {
     "name": "stdout",
     "output_type": "stream",
     "text": [
      "Model saved - 21.15\n"
     ]
    },
    {
     "name": "stderr",
     "output_type": "stream",
     "text": [
      "Episode 219:  93%|█████████▎| 14/15 [00:01<00:00,  8.24it/s, Temp=0.5534, Avg. Reward=21.1489, Reward=21.1, entropy=0.00161, L Critic=0, L Actor=302] \n",
      "Episode 220:  96%|█████████▌| 23/24 [00:02<00:00,  8.31it/s, Temp=0.5479, Avg. Reward=21.1487, Reward=34.8, entropy=0.00258, L Critic=0, L Actor=436] \n"
     ]
    },
    {
     "name": "stdout",
     "output_type": "stream",
     "text": [
      "Model saved - 21.15\n"
     ]
    },
    {
     "name": "stderr",
     "output_type": "stream",
     "text": [
      "Episode 221:  94%|█████████▍| 15/16 [00:01<00:00,  8.48it/s, Temp=0.5424, Avg. Reward=21.1491, Reward=22.6, entropy=0.00172, L Critic=0, L Actor=297] \n",
      "Episode 222:  94%|█████████▍| 15/16 [00:01<00:00,  8.68it/s, Temp=0.5370, Avg. Reward=21.1491, Reward=22.7, entropy=0.00172, L Critic=0, L Actor=314] \n",
      "Episode 223:  88%|████████▊ | 7/8 [00:00<00:00,  8.72it/s, Temp=0.5316, Avg. Reward=21.1491, Reward=10.6, entropy=0.000859, L Critic=0, L Actor=185] \n"
     ]
    },
    {
     "name": "stdout",
     "output_type": "stream",
     "text": [
      "Model saved - 21.15\n"
     ]
    },
    {
     "name": "stderr",
     "output_type": "stream",
     "text": [
      "Episode 224:  93%|█████████▎| 14/15 [00:01<00:00,  8.46it/s, Temp=0.5263, Avg. Reward=21.1494, Reward=21.3, entropy=0.00161, L Critic=0, L Actor=348] \n"
     ]
    },
    {
     "name": "stdout",
     "output_type": "stream",
     "text": [
      "Model saved - 21.15\n"
     ]
    },
    {
     "name": "stderr",
     "output_type": "stream",
     "text": [
      "Episode 225:  95%|█████████▌| 19/20 [00:02<00:00,  8.65it/s, Temp=0.5211, Avg. Reward=21.1496, Reward=28.7, entropy=0.00215, L Critic=0, L Actor=483] \n"
     ]
    },
    {
     "name": "stdout",
     "output_type": "stream",
     "text": [
      "Model saved - 21.15\n"
     ]
    },
    {
     "name": "stderr",
     "output_type": "stream",
     "text": [
      "Episode 226:  93%|█████████▎| 14/15 [00:01<00:00,  8.69it/s, Temp=0.5159, Avg. Reward=21.1497, Reward=20.9, entropy=0.00161, L Critic=0, L Actor=343] \n"
     ]
    },
    {
     "name": "stdout",
     "output_type": "stream",
     "text": [
      "Model saved - 21.15\n"
     ]
    },
    {
     "name": "stderr",
     "output_type": "stream",
     "text": [
      "Episode 227:  94%|█████████▍| 17/18 [00:01<00:00,  8.55it/s, Temp=0.5107, Avg. Reward=21.1498, Reward=25.8, entropy=0.00193, L Critic=0, L Actor=387] \n"
     ]
    },
    {
     "name": "stdout",
     "output_type": "stream",
     "text": [
      "Model saved - 21.15\n"
     ]
    },
    {
     "name": "stderr",
     "output_type": "stream",
     "text": [
      "Episode 228:  95%|█████████▌| 19/20 [00:02<00:00,  8.35it/s, Temp=0.5056, Avg. Reward=21.1498, Reward=28.7, entropy=0.00215, L Critic=0, L Actor=427] \n"
     ]
    },
    {
     "name": "stdout",
     "output_type": "stream",
     "text": [
      "Model saved - 21.15\n"
     ]
    },
    {
     "name": "stderr",
     "output_type": "stream",
     "text": [
      "Episode 229:  94%|█████████▍| 15/16 [00:01<00:00,  8.62it/s, Temp=0.5005, Avg. Reward=21.1499, Reward=22.6, entropy=0.00172, L Critic=0, L Actor=392] \n"
     ]
    },
    {
     "name": "stdout",
     "output_type": "stream",
     "text": [
      "Model saved - 21.15\n"
     ]
    },
    {
     "name": "stderr",
     "output_type": "stream",
     "text": [
      "Episode 230:  94%|█████████▍| 15/16 [00:01<00:00,  8.70it/s, Temp=0.4955, Avg. Reward=21.1502, Reward=23.1, entropy=0.00172, L Critic=0, L Actor=378] \n"
     ]
    },
    {
     "name": "stdout",
     "output_type": "stream",
     "text": [
      "Model saved - 21.15\n"
     ]
    },
    {
     "name": "stderr",
     "output_type": "stream",
     "text": [
      "Episode 231:  94%|█████████▍| 15/16 [00:01<00:00,  8.13it/s, Temp=0.4906, Avg. Reward=21.1502, Reward=23, entropy=0.00172, L Critic=0, L Actor=403]   \n"
     ]
    },
    {
     "name": "stdout",
     "output_type": "stream",
     "text": [
      "Model saved - 21.15\n"
     ]
    },
    {
     "name": "stderr",
     "output_type": "stream",
     "text": [
      "Episode 232:  94%|█████████▍| 17/18 [00:02<00:00,  8.38it/s, Temp=0.4857, Avg. Reward=21.1511, Reward=25.9, entropy=0.00193, L Critic=0, L Actor=464] \n"
     ]
    },
    {
     "name": "stdout",
     "output_type": "stream",
     "text": [
      "Model saved - 21.15\n"
     ]
    },
    {
     "name": "stderr",
     "output_type": "stream",
     "text": [
      "Episode 233:  88%|████████▊ | 7/8 [00:00<00:00,  8.48it/s, Temp=0.4808, Avg. Reward=21.1511, Reward=10.6, entropy=0.000859, L Critic=0, L Actor=209] \n"
     ]
    },
    {
     "name": "stdout",
     "output_type": "stream",
     "text": [
      "Model saved - 21.15\n"
     ]
    },
    {
     "name": "stderr",
     "output_type": "stream",
     "text": [
      "Episode 234:  94%|█████████▍| 15/16 [00:01<00:00,  8.21it/s, Temp=0.4760, Avg. Reward=21.1515, Reward=22.8, entropy=0.00172, L Critic=0, L Actor=411] \n"
     ]
    },
    {
     "name": "stdout",
     "output_type": "stream",
     "text": [
      "Model saved - 21.15\n"
     ]
    },
    {
     "name": "stderr",
     "output_type": "stream",
     "text": [
      "Episode 235:  94%|█████████▍| 17/18 [00:02<00:00,  8.25it/s, Temp=0.4712, Avg. Reward=21.1515, Reward=25.8, entropy=0.00193, L Critic=0, L Actor=411] \n"
     ]
    },
    {
     "name": "stdout",
     "output_type": "stream",
     "text": [
      "Model saved - 21.15\n"
     ]
    },
    {
     "name": "stderr",
     "output_type": "stream",
     "text": [
      "Episode 236:  96%|█████████▌| 23/24 [00:02<00:00,  8.52it/s, Temp=0.4665, Avg. Reward=21.1520, Reward=34.9, entropy=0.00258, L Critic=0, L Actor=485] \n",
      "Episode 237:  88%|████████▊ | 7/8 [00:00<00:00,  9.31it/s, Temp=0.4619, Avg. Reward=21.1518, Reward=10.7, entropy=0.000859, L Critic=0, L Actor=156] \n"
     ]
    },
    {
     "name": "stdout",
     "output_type": "stream",
     "text": [
      "Model saved - 21.15\n"
     ]
    },
    {
     "name": "stderr",
     "output_type": "stream",
     "text": [
      "Episode 238:  94%|█████████▍| 17/18 [00:02<00:00,  8.45it/s, Temp=0.4572, Avg. Reward=21.1521, Reward=25.8, entropy=0.00193, L Critic=0, L Actor=377] \n"
     ]
    },
    {
     "name": "stdout",
     "output_type": "stream",
     "text": [
      "Model saved - 21.15\n"
     ]
    },
    {
     "name": "stderr",
     "output_type": "stream",
     "text": [
      "Episode 239:  92%|█████████▏| 11/12 [00:01<00:00,  8.49it/s, Temp=0.4527, Avg. Reward=21.1524, Reward=16.8, entropy=0.00129, L Critic=0, L Actor=299] \n"
     ]
    },
    {
     "name": "stdout",
     "output_type": "stream",
     "text": [
      "Model saved - 21.15\n"
     ]
    },
    {
     "name": "stderr",
     "output_type": "stream",
     "text": [
      "Episode 240:  95%|█████████▌| 19/20 [00:02<00:00,  8.35it/s, Temp=0.4481, Avg. Reward=21.1524, Reward=28.7, entropy=0.00215, L Critic=0, L Actor=493] \n"
     ]
    },
    {
     "name": "stdout",
     "output_type": "stream",
     "text": [
      "Model saved - 21.15\n"
     ]
    },
    {
     "name": "stderr",
     "output_type": "stream",
     "text": [
      "Episode 241:  88%|████████▊ | 7/8 [00:00<00:00,  8.55it/s, Temp=0.4437, Avg. Reward=21.1529, Reward=10.7, entropy=0.000859, L Critic=0, L Actor=227] \n"
     ]
    },
    {
     "name": "stdout",
     "output_type": "stream",
     "text": [
      "Model saved - 21.15\n"
     ]
    },
    {
     "name": "stderr",
     "output_type": "stream",
     "text": [
      "Episode 242:  92%|█████████▏| 12/13 [00:01<00:00,  8.45it/s, Temp=0.4392, Avg. Reward=21.1530, Reward=18.1, entropy=0.0014, L Critic=0, L Actor=318]  \n"
     ]
    },
    {
     "name": "stdout",
     "output_type": "stream",
     "text": [
      "Model saved - 21.15\n"
     ]
    },
    {
     "name": "stderr",
     "output_type": "stream",
     "text": [
      "Episode 243:  88%|████████▊ | 7/8 [00:00<00:00,  9.02it/s, Temp=0.4348, Avg. Reward=21.1536, Reward=10.6, entropy=0.000859, L Critic=0, L Actor=207] \n"
     ]
    },
    {
     "name": "stdout",
     "output_type": "stream",
     "text": [
      "Model saved - 21.15\n"
     ]
    },
    {
     "name": "stderr",
     "output_type": "stream",
     "text": [
      "Episode 244:  94%|█████████▍| 17/18 [00:01<00:00,  8.94it/s, Temp=0.4305, Avg. Reward=21.1536, Reward=25.8, entropy=0.00193, L Critic=0, L Actor=380] \n"
     ]
    },
    {
     "name": "stdout",
     "output_type": "stream",
     "text": [
      "Model saved - 21.15\n"
     ]
    },
    {
     "name": "stderr",
     "output_type": "stream",
     "text": [
      "Episode 245:  94%|█████████▍| 15/16 [00:01<00:00,  8.60it/s, Temp=0.4262, Avg. Reward=21.1539, Reward=22.7, entropy=0.00172, L Critic=0, L Actor=319] \n"
     ]
    },
    {
     "name": "stdout",
     "output_type": "stream",
     "text": [
      "Model saved - 21.15\n"
     ]
    },
    {
     "name": "stderr",
     "output_type": "stream",
     "text": [
      "Episode 246:  93%|█████████▎| 13/14 [00:01<00:00,  8.71it/s, Temp=0.4219, Avg. Reward=21.1539, Reward=19.8, entropy=0.0015, L Critic=0, L Actor=226]  \n"
     ]
    },
    {
     "name": "stdout",
     "output_type": "stream",
     "text": [
      "Model saved - 21.15\n"
     ]
    },
    {
     "name": "stderr",
     "output_type": "stream",
     "text": [
      "Episode 247:  94%|█████████▍| 15/16 [00:01<00:00,  8.71it/s, Temp=0.4177, Avg. Reward=21.1539, Reward=23.1, entropy=0.00172, L Critic=0, L Actor=255] \n"
     ]
    },
    {
     "name": "stdout",
     "output_type": "stream",
     "text": [
      "Model saved - 21.15\n"
     ]
    },
    {
     "name": "stderr",
     "output_type": "stream",
     "text": [
      "Episode 248:  92%|█████████▏| 11/12 [00:01<00:00,  8.76it/s, Temp=0.4135, Avg. Reward=21.1540, Reward=16.7, entropy=0.00129, L Critic=0, L Actor=204] \n"
     ]
    },
    {
     "name": "stdout",
     "output_type": "stream",
     "text": [
      "Model saved - 21.15\n"
     ]
    },
    {
     "name": "stderr",
     "output_type": "stream",
     "text": [
      "Episode 249:  93%|█████████▎| 14/15 [00:01<00:00,  8.47it/s, Temp=0.4094, Avg. Reward=21.1547, Reward=21.2, entropy=0.00161, L Critic=0, L Actor=283] \n"
     ]
    },
    {
     "name": "stdout",
     "output_type": "stream",
     "text": [
      "Model saved - 21.15\n"
     ]
    },
    {
     "name": "stderr",
     "output_type": "stream",
     "text": [
      "Episode 250:  93%|█████████▎| 14/15 [00:01<00:00,  8.49it/s, Temp=0.4053, Avg. Reward=21.1548, Reward=21.1, entropy=0.00161, L Critic=0, L Actor=295] \n",
      "Episode 251:  92%|█████████▏| 12/13 [00:01<00:00,  8.36it/s, Temp=0.4012, Avg. Reward=21.1546, Reward=18.2, entropy=0.0014, L Critic=0, L Actor=267]  \n"
     ]
    },
    {
     "name": "stdout",
     "output_type": "stream",
     "text": [
      "Model saved - 21.15\n"
     ]
    },
    {
     "name": "stderr",
     "output_type": "stream",
     "text": [
      "Episode 252:  89%|████████▉ | 8/9 [00:00<00:00,  8.60it/s, Temp=0.3972, Avg. Reward=21.1550, Reward=12.2, entropy=0.000967, L Critic=0, L Actor=200] \n"
     ]
    },
    {
     "name": "stdout",
     "output_type": "stream",
     "text": [
      "Model saved - 21.16\n"
     ]
    },
    {
     "name": "stderr",
     "output_type": "stream",
     "text": [
      "Episode 253:  88%|████████▊ | 7/8 [00:00<00:00,  8.63it/s, Temp=0.3933, Avg. Reward=21.1551, Reward=10.6, entropy=0.000859, L Critic=0, L Actor=161] \n",
      "Episode 254:  88%|████████▊ | 7/8 [00:00<00:00,  8.71it/s, Temp=0.3893, Avg. Reward=21.1550, Reward=10.6, entropy=0.000859, L Critic=0, L Actor=159] \n",
      "Episode 255:  92%|█████████▏| 12/13 [00:01<00:00,  8.49it/s, Temp=0.3854, Avg. Reward=21.1551, Reward=18.1, entropy=0.0014, L Critic=0, L Actor=243]  \n"
     ]
    },
    {
     "name": "stdout",
     "output_type": "stream",
     "text": [
      "Model saved - 21.16\n"
     ]
    },
    {
     "name": "stderr",
     "output_type": "stream",
     "text": [
      "Episode 256:  94%|█████████▍| 17/18 [00:02<00:00,  8.41it/s, Temp=0.3816, Avg. Reward=21.1553, Reward=25.8, entropy=0.00193, L Critic=0, L Actor=288] \n",
      "Episode 257:  96%|█████████▌| 23/24 [00:02<00:00,  8.38it/s, Temp=0.3778, Avg. Reward=21.1551, Reward=34.9, entropy=0.00258, L Critic=0, L Actor=325] \n",
      "Episode 258:  94%|█████████▍| 15/16 [00:01<00:00,  8.67it/s, Temp=0.3740, Avg. Reward=21.1551, Reward=23, entropy=0.00172, L Critic=0, L Actor=209]   \n",
      "Episode 259:  94%|█████████▍| 15/16 [00:01<00:00,  8.36it/s, Temp=0.3702, Avg. Reward=21.1551, Reward=22.6, entropy=0.00172, L Critic=0, L Actor=260] \n",
      "Episode 260:  94%|█████████▍| 15/16 [00:01<00:00,  8.30it/s, Temp=0.3665, Avg. Reward=21.1551, Reward=23.1, entropy=0.00172, L Critic=0, L Actor=313] \n",
      "Episode 261:  93%|█████████▎| 14/15 [00:01<00:00,  8.83it/s, Temp=0.3629, Avg. Reward=21.1550, Reward=21.3, entropy=0.00161, L Critic=0, L Actor=384] \n"
     ]
    },
    {
     "name": "stdout",
     "output_type": "stream",
     "text": [
      "Model saved - 21.16\n"
     ]
    },
    {
     "name": "stderr",
     "output_type": "stream",
     "text": [
      "Episode 262:  96%|█████████▌| 23/24 [00:02<00:00,  8.51it/s, Temp=0.3592, Avg. Reward=21.1555, Reward=35, entropy=0.00258, L Critic=0, L Actor=567]   \n"
     ]
    },
    {
     "name": "stdout",
     "output_type": "stream",
     "text": [
      "Model saved - 21.16\n"
     ]
    },
    {
     "name": "stderr",
     "output_type": "stream",
     "text": [
      "Episode 263:  93%|█████████▎| 14/15 [00:01<00:00,  8.61it/s, Temp=0.3557, Avg. Reward=21.1557, Reward=20.9, entropy=0.00161, L Critic=0, L Actor=357] \n"
     ]
    },
    {
     "name": "stdout",
     "output_type": "stream",
     "text": [
      "Model saved - 21.16\n"
     ]
    },
    {
     "name": "stderr",
     "output_type": "stream",
     "text": [
      "Episode 264:  94%|█████████▍| 15/16 [00:01<00:00,  8.42it/s, Temp=0.3521, Avg. Reward=21.1562, Reward=22.6, entropy=0.00172, L Critic=0, L Actor=396] \n",
      "Episode 265:  95%|█████████▌| 19/20 [00:02<00:00,  8.47it/s, Temp=0.3486, Avg. Reward=21.1561, Reward=28.7, entropy=0.00215, L Critic=0, L Actor=478] \n",
      "Episode 266:  96%|█████████▋| 27/28 [00:03<00:00,  8.54it/s, Temp=0.3451, Avg. Reward=21.1560, Reward=41.6, entropy=0.00301, L Critic=0, L Actor=762] \n"
     ]
    },
    {
     "name": "stdout",
     "output_type": "stream",
     "text": [
      "Model saved - 21.16\n"
     ]
    },
    {
     "name": "stderr",
     "output_type": "stream",
     "text": [
      "Episode 267:  92%|█████████▏| 11/12 [00:01<00:00,  7.68it/s, Temp=0.3416, Avg. Reward=21.1562, Reward=16.6, entropy=0.00129, L Critic=0, L Actor=346] \n",
      "Episode 268:  94%|█████████▍| 15/16 [00:02<00:00,  7.43it/s, Temp=0.3382, Avg. Reward=21.1561, Reward=23.1, entropy=0.00172, L Critic=0, L Actor=521] \n",
      "Episode 269:  93%|█████████▎| 13/14 [00:01<00:00,  8.14it/s, Temp=0.3348, Avg. Reward=21.1558, Reward=20, entropy=0.0015, L Critic=0, L Actor=491]    \n",
      "Episode 270:  94%|█████████▍| 15/16 [00:01<00:00,  8.42it/s, Temp=0.3315, Avg. Reward=21.1561, Reward=22.9, entropy=0.00172, L Critic=0, L Actor=566] \n"
     ]
    },
    {
     "name": "stdout",
     "output_type": "stream",
     "text": [
      "Model saved - 21.16\n"
     ]
    },
    {
     "name": "stderr",
     "output_type": "stream",
     "text": [
      "Episode 271:  92%|█████████▏| 12/13 [00:01<00:00,  8.40it/s, Temp=0.3282, Avg. Reward=21.1569, Reward=18.2, entropy=0.0014, L Critic=0, L Actor=436]  \n",
      "Episode 272:  94%|█████████▍| 15/16 [00:01<00:00,  8.08it/s, Temp=0.3249, Avg. Reward=21.1567, Reward=23, entropy=0.00172, L Critic=0, L Actor=431]   \n"
     ]
    },
    {
     "name": "stdout",
     "output_type": "stream",
     "text": [
      "Model saved - 21.16\n"
     ]
    },
    {
     "name": "stderr",
     "output_type": "stream",
     "text": [
      "Episode 273:  88%|████████▊ | 7/8 [00:00<00:00,  8.43it/s, Temp=0.3216, Avg. Reward=21.1569, Reward=10.6, entropy=0.000859, L Critic=0, L Actor=209] \n",
      "Episode 274:  94%|█████████▍| 15/16 [00:01<00:00,  8.40it/s, Temp=0.3184, Avg. Reward=21.1569, Reward=23.1, entropy=0.00172, L Critic=0, L Actor=364] \n"
     ]
    },
    {
     "name": "stdout",
     "output_type": "stream",
     "text": [
      "Model saved - 21.16\n"
     ]
    },
    {
     "name": "stderr",
     "output_type": "stream",
     "text": [
      "Episode 275:  96%|█████████▋| 27/28 [00:03<00:00,  8.01it/s, Temp=0.3152, Avg. Reward=21.1571, Reward=41.7, entropy=0.00301, L Critic=0, L Actor=519] \n"
     ]
    },
    {
     "name": "stdout",
     "output_type": "stream",
     "text": [
      "Model saved - 21.16\n"
     ]
    },
    {
     "name": "stderr",
     "output_type": "stream",
     "text": [
      "Episode 276:  96%|█████████▋| 27/28 [00:03<00:00,  8.16it/s, Temp=0.3121, Avg. Reward=21.1574, Reward=41.9, entropy=0.00301, L Critic=0, L Actor=491] \n"
     ]
    },
    {
     "name": "stdout",
     "output_type": "stream",
     "text": [
      "Model saved - 21.16\n"
     ]
    },
    {
     "name": "stderr",
     "output_type": "stream",
     "text": [
      "Episode 277:  93%|█████████▎| 14/15 [00:01<00:00,  8.54it/s, Temp=0.3090, Avg. Reward=21.1578, Reward=20.9, entropy=0.00161, L Critic=0, L Actor=342]\n"
     ]
    },
    {
     "name": "stdout",
     "output_type": "stream",
     "text": [
      "Model saved - 21.16\n"
     ]
    },
    {
     "name": "stderr",
     "output_type": "stream",
     "text": [
      "Episode 278:  88%|████████▊ | 7/8 [00:00<00:00,  8.73it/s, Temp=0.3059, Avg. Reward=21.1589, Reward=10.7, entropy=0.000859, L Critic=0, L Actor=250] \n",
      "Episode 279:  95%|█████████▌| 19/20 [00:02<00:00,  8.34it/s, Temp=0.3028, Avg. Reward=21.1589, Reward=28.6, entropy=0.00215, L Critic=0, L Actor=674] \n"
     ]
    },
    {
     "name": "stdout",
     "output_type": "stream",
     "text": [
      "Model saved - 21.16\n"
     ]
    },
    {
     "name": "stderr",
     "output_type": "stream",
     "text": [
      "Episode 280:  93%|█████████▎| 13/14 [00:01<00:00,  8.52it/s, Temp=0.2998, Avg. Reward=21.1592, Reward=19.8, entropy=0.0015, L Critic=0, L Actor=478]  \n",
      "Episode 281:  94%|█████████▍| 15/16 [00:01<00:00,  8.71it/s, Temp=0.2968, Avg. Reward=21.1591, Reward=23, entropy=0.00172, L Critic=0, L Actor=479]   \n",
      "Episode 282:  94%|█████████▍| 15/16 [00:01<00:00,  8.27it/s, Temp=0.2938, Avg. Reward=21.1591, Reward=23, entropy=0.00172, L Critic=0, L Actor=387]   \n",
      "Episode 283:  92%|█████████▏| 11/12 [00:01<00:00,  8.48it/s, Temp=0.2909, Avg. Reward=21.1591, Reward=16.7, entropy=0.00129, L Critic=0, L Actor=298] \n"
     ]
    },
    {
     "name": "stdout",
     "output_type": "stream",
     "text": [
      "Model saved - 21.16\n"
     ]
    },
    {
     "name": "stderr",
     "output_type": "stream",
     "text": [
      "Episode 284:  94%|█████████▍| 15/16 [00:01<00:00,  8.44it/s, Temp=0.2880, Avg. Reward=21.1593, Reward=22.6, entropy=0.00172, L Critic=0, L Actor=388] \n"
     ]
    },
    {
     "name": "stdout",
     "output_type": "stream",
     "text": [
      "Model saved - 21.16\n"
     ]
    },
    {
     "name": "stderr",
     "output_type": "stream",
     "text": [
      "Episode 285:  96%|█████████▋| 27/28 [00:03<00:00,  8.32it/s, Temp=0.2851, Avg. Reward=21.1593, Reward=41.8, entropy=0.00301, L Critic=0, L Actor=570] \n"
     ]
    },
    {
     "name": "stdout",
     "output_type": "stream",
     "text": [
      "Model saved - 21.16\n"
     ]
    },
    {
     "name": "stderr",
     "output_type": "stream",
     "text": [
      "Episode 286:  93%|█████████▎| 13/14 [00:01<00:00,  8.39it/s, Temp=0.2823, Avg. Reward=21.1593, Reward=20, entropy=0.0015, L Critic=0, L Actor=301]    \n"
     ]
    },
    {
     "name": "stdout",
     "output_type": "stream",
     "text": [
      "Model saved - 21.16\n"
     ]
    },
    {
     "name": "stderr",
     "output_type": "stream",
     "text": [
      "Episode 287:  93%|█████████▎| 14/15 [00:01<00:00,  8.72it/s, Temp=0.2794, Avg. Reward=21.1599, Reward=21, entropy=0.00161, L Critic=0, L Actor=320]   \n"
     ]
    },
    {
     "name": "stdout",
     "output_type": "stream",
     "text": [
      "Model saved - 21.16\n"
     ]
    },
    {
     "name": "stderr",
     "output_type": "stream",
     "text": [
      "Episode 288:  93%|█████████▎| 14/15 [00:01<00:00,  8.58it/s, Temp=0.2766, Avg. Reward=21.1606, Reward=21.3, entropy=0.00161, L Critic=0, L Actor=357] \n"
     ]
    },
    {
     "name": "stdout",
     "output_type": "stream",
     "text": [
      "Model saved - 21.16\n"
     ]
    },
    {
     "name": "stderr",
     "output_type": "stream",
     "text": [
      "Episode 289:  88%|████████▊ | 7/8 [00:00<00:00,  8.68it/s, Temp=0.2739, Avg. Reward=21.1609, Reward=10.6, entropy=0.000859, L Critic=0, L Actor=228] \n"
     ]
    },
    {
     "name": "stdout",
     "output_type": "stream",
     "text": [
      "Model saved - 21.16\n"
     ]
    },
    {
     "name": "stderr",
     "output_type": "stream",
     "text": [
      "Episode 290:  95%|█████████▌| 19/20 [00:02<00:00,  7.92it/s, Temp=0.2711, Avg. Reward=21.1612, Reward=28.6, entropy=0.00215, L Critic=0, L Actor=529] \n"
     ]
    },
    {
     "name": "stdout",
     "output_type": "stream",
     "text": [
      "Model saved - 21.16\n"
     ]
    },
    {
     "name": "stderr",
     "output_type": "stream",
     "text": [
      "Episode 291:  96%|█████████▌| 23/24 [00:03<00:00,  7.61it/s, Temp=0.2684, Avg. Reward=21.1613, Reward=34.8, entropy=0.00258, L Critic=0, L Actor=508] \n"
     ]
    },
    {
     "name": "stdout",
     "output_type": "stream",
     "text": [
      "Model saved - 21.16\n"
     ]
    },
    {
     "name": "stderr",
     "output_type": "stream",
     "text": [
      "Episode 292:  95%|█████████▌| 19/20 [00:02<00:00,  8.32it/s, Temp=0.2657, Avg. Reward=21.1613, Reward=28.6, entropy=0.00215, L Critic=0, L Actor=392] \n",
      "Episode 293:  88%|████████▊ | 7/8 [00:00<00:00,  8.43it/s, Temp=0.2631, Avg. Reward=21.1608, Reward=10.6, entropy=0.000859, L Critic=0, L Actor=180] \n",
      "Episode 294:  92%|█████████▏| 12/13 [00:01<00:00,  8.78it/s, Temp=0.2604, Avg. Reward=21.1608, Reward=18.2, entropy=0.0014, L Critic=0, L Actor=346]  \n",
      "Episode 295:  88%|████████▊ | 7/8 [00:00<00:00,  9.16it/s, Temp=0.2578, Avg. Reward=21.1608, Reward=10.6, entropy=0.000859, L Critic=0, L Actor=208]\n",
      "Episode 296:  94%|█████████▍| 15/16 [00:01<00:00,  8.81it/s, Temp=0.2553, Avg. Reward=21.1611, Reward=23.1, entropy=0.00172, L Critic=0, L Actor=439] \n",
      "Episode 297:  89%|████████▉ | 8/9 [00:00<00:00,  8.84it/s, Temp=0.2527, Avg. Reward=21.1611, Reward=12.2, entropy=0.000967, L Critic=0, L Actor=221] \n"
     ]
    },
    {
     "name": "stdout",
     "output_type": "stream",
     "text": [
      "Model saved - 21.16\n"
     ]
    },
    {
     "name": "stderr",
     "output_type": "stream",
     "text": [
      "Episode 298:  88%|████████▊ | 7/8 [00:00<00:00,  8.66it/s, Temp=0.2502, Avg. Reward=21.1613, Reward=10.7, entropy=0.000859, L Critic=0, L Actor=197] \n",
      "Episode 299:  92%|█████████▏| 12/13 [00:01<00:00,  8.66it/s, Temp=0.2477, Avg. Reward=21.1613, Reward=18.1, entropy=0.0014, L Critic=0, L Actor=242]  \n"
     ]
    },
    {
     "name": "stdout",
     "output_type": "stream",
     "text": [
      "Model saved - 21.16\n"
     ]
    },
    {
     "name": "stderr",
     "output_type": "stream",
     "text": [
      "Episode 300:  93%|█████████▎| 13/14 [00:01<00:00,  8.63it/s, Temp=0.2452, Avg. Reward=21.1617, Reward=19.9, entropy=0.0015, L Critic=0, L Actor=227]  \n",
      "Episode 301:  96%|█████████▌| 23/24 [00:02<00:00,  8.49it/s, Temp=0.2428, Avg. Reward=21.1616, Reward=34.8, entropy=0.00258, L Critic=0, L Actor=323] \n"
     ]
    },
    {
     "name": "stdout",
     "output_type": "stream",
     "text": [
      "Model saved - 21.16\n"
     ]
    },
    {
     "name": "stderr",
     "output_type": "stream",
     "text": [
      "Episode 302:  96%|█████████▋| 27/28 [00:03<00:00,  8.42it/s, Temp=0.2403, Avg. Reward=21.1620, Reward=41.7, entropy=0.00301, L Critic=0, L Actor=344] \n",
      "Episode 303:  88%|████████▊ | 7/8 [00:00<00:00,  9.14it/s, Temp=0.2379, Avg. Reward=21.1619, Reward=10.7, entropy=0.000859, L Critic=0, L Actor=134] \n"
     ]
    },
    {
     "name": "stdout",
     "output_type": "stream",
     "text": [
      "Model saved - 21.16\n"
     ]
    },
    {
     "name": "stderr",
     "output_type": "stream",
     "text": [
      "Episode 304:  88%|████████▊ | 7/8 [00:00<00:00,  8.84it/s, Temp=0.2355, Avg. Reward=21.1621, Reward=10.7, entropy=0.000859, L Critic=0, L Actor=151] \n"
     ]
    },
    {
     "name": "stdout",
     "output_type": "stream",
     "text": [
      "Model saved - 21.16\n"
     ]
    },
    {
     "name": "stderr",
     "output_type": "stream",
     "text": [
      "Episode 305:  88%|████████▊ | 7/8 [00:00<00:00,  9.08it/s, Temp=0.2332, Avg. Reward=21.1623, Reward=10.6, entropy=0.000859, L Critic=0, L Actor=175] \n"
     ]
    },
    {
     "name": "stdout",
     "output_type": "stream",
     "text": [
      "Model saved - 21.16\n"
     ]
    },
    {
     "name": "stderr",
     "output_type": "stream",
     "text": [
      "Episode 306:  89%|████████▉ | 8/9 [00:00<00:00,  8.93it/s, Temp=0.2309, Avg. Reward=21.1626, Reward=12.2, entropy=0.000967, L Critic=0, L Actor=245] \n"
     ]
    },
    {
     "name": "stdout",
     "output_type": "stream",
     "text": [
      "Model saved - 21.16\n"
     ]
    },
    {
     "name": "stderr",
     "output_type": "stream",
     "text": [
      "Episode 307:  94%|█████████▍| 15/16 [00:01<00:00,  8.52it/s, Temp=0.2285, Avg. Reward=21.1627, Reward=23, entropy=0.00172, L Critic=0, L Actor=374]   \n",
      "Episode 308:  94%|█████████▍| 17/18 [00:02<00:00,  8.43it/s, Temp=0.2263, Avg. Reward=21.1626, Reward=25.7, entropy=0.00193, L Critic=0, L Actor=414]\n",
      "Episode 309:  93%|█████████▎| 14/15 [00:01<00:00,  8.82it/s, Temp=0.2240, Avg. Reward=21.1626, Reward=21, entropy=0.00161, L Critic=0, L Actor=274]   \n",
      "Episode 310:  88%|████████▊ | 7/8 [00:00<00:00,  8.59it/s, Temp=0.2218, Avg. Reward=21.1623, Reward=10.6, entropy=0.000859, L Critic=0, L Actor=145] \n",
      "Episode 311:  88%|████████▊ | 7/8 [00:00<00:00,  8.73it/s, Temp=0.2195, Avg. Reward=21.1625, Reward=10.6, entropy=0.000859, L Critic=0, L Actor=147] \n",
      "Episode 312:  88%|████████▊ | 7/8 [00:00<00:00,  8.73it/s, Temp=0.2173, Avg. Reward=21.1625, Reward=10.7, entropy=0.000859, L Critic=0, L Actor=150] \n",
      "Episode 313:  92%|█████████▏| 11/12 [00:01<00:00,  7.95it/s, Temp=0.2152, Avg. Reward=21.1625, Reward=16.8, entropy=0.00129, L Critic=0, L Actor=233] \n",
      "Episode 314:  96%|█████████▌| 23/24 [00:02<00:00,  8.38it/s, Temp=0.2130, Avg. Reward=21.1626, Reward=35, entropy=0.00258, L Critic=0, L Actor=413]   \n"
     ]
    },
    {
     "name": "stdout",
     "output_type": "stream",
     "text": [
      "Model saved - 21.16\n"
     ]
    },
    {
     "name": "stderr",
     "output_type": "stream",
     "text": [
      "Episode 315:  93%|█████████▎| 14/15 [00:01<00:00,  8.49it/s, Temp=0.2109, Avg. Reward=21.1630, Reward=21, entropy=0.00161, L Critic=0, L Actor=225]   \n"
     ]
    },
    {
     "name": "stdout",
     "output_type": "stream",
     "text": [
      "Model saved - 21.16\n"
     ]
    },
    {
     "name": "stderr",
     "output_type": "stream",
     "text": [
      "Episode 316:  88%|████████▊ | 7/8 [00:00<00:00,  8.82it/s, Temp=0.2088, Avg. Reward=21.1634, Reward=10.6, entropy=0.000859, L Critic=0, L Actor=124] \n"
     ]
    },
    {
     "name": "stdout",
     "output_type": "stream",
     "text": [
      "Model saved - 21.16\n"
     ]
    },
    {
     "name": "stderr",
     "output_type": "stream",
     "text": [
      "Episode 317:  96%|█████████▌| 23/24 [00:02<00:00,  8.71it/s, Temp=0.2067, Avg. Reward=21.1634, Reward=34.8, entropy=0.00258, L Critic=0, L Actor=345] \n",
      "Episode 318:  92%|█████████▏| 11/12 [00:01<00:00,  8.52it/s, Temp=0.2046, Avg. Reward=21.1634, Reward=16.7, entropy=0.00129, L Critic=0, L Actor=222] \n",
      "Episode 319:  93%|█████████▎| 14/15 [00:01<00:00,  8.36it/s, Temp=0.2026, Avg. Reward=21.1634, Reward=21.3, entropy=0.00161, L Critic=0, L Actor=309] \n",
      "Episode 320:  92%|█████████▏| 11/12 [00:01<00:00,  8.56it/s, Temp=0.2006, Avg. Reward=21.1634, Reward=16.7, entropy=0.00129, L Critic=0, L Actor=258] \n"
     ]
    },
    {
     "name": "stdout",
     "output_type": "stream",
     "text": [
      "Model saved - 21.16\n"
     ]
    },
    {
     "name": "stderr",
     "output_type": "stream",
     "text": [
      "Episode 321:  89%|████████▉ | 8/9 [00:00<00:00,  8.33it/s, Temp=0.1985, Avg. Reward=21.1636, Reward=12.2, entropy=0.000967, L Critic=0, L Actor=198] \n"
     ]
    },
    {
     "name": "stdout",
     "output_type": "stream",
     "text": [
      "Model saved - 21.16\n"
     ]
    },
    {
     "name": "stderr",
     "output_type": "stream",
     "text": [
      "Episode 322:  92%|█████████▏| 11/12 [00:01<00:00,  8.66it/s, Temp=0.1966, Avg. Reward=21.1637, Reward=16.7, entropy=0.00129, L Critic=0, L Actor=297] \n",
      "Episode 323:  96%|█████████▌| 23/24 [00:02<00:00,  8.61it/s, Temp=0.1946, Avg. Reward=21.1636, Reward=34.9, entropy=0.00258, L Critic=0, L Actor=503] \n"
     ]
    },
    {
     "name": "stdout",
     "output_type": "stream",
     "text": [
      "Model saved - 21.16\n"
     ]
    },
    {
     "name": "stderr",
     "output_type": "stream",
     "text": [
      "Episode 324:  95%|█████████▌| 19/20 [00:02<00:00,  8.65it/s, Temp=0.1927, Avg. Reward=21.1637, Reward=28.6, entropy=0.00215, L Critic=0, L Actor=381] \n"
     ]
    },
    {
     "name": "stdout",
     "output_type": "stream",
     "text": [
      "Model saved - 21.16\n"
     ]
    },
    {
     "name": "stderr",
     "output_type": "stream",
     "text": [
      "Episode 325:  96%|█████████▌| 23/24 [00:02<00:00,  8.55it/s, Temp=0.1907, Avg. Reward=21.1638, Reward=34.9, entropy=0.00258, L Critic=0, L Actor=462] \n",
      "Episode 326:  94%|█████████▍| 17/18 [00:02<00:00,  8.48it/s, Temp=0.1888, Avg. Reward=21.1637, Reward=25.8, entropy=0.00193, L Critic=0, L Actor=470] \n"
     ]
    },
    {
     "name": "stdout",
     "output_type": "stream",
     "text": [
      "Model saved - 21.16\n"
     ]
    },
    {
     "name": "stderr",
     "output_type": "stream",
     "text": [
      "Episode 327:  94%|█████████▍| 15/16 [00:01<00:00,  8.83it/s, Temp=0.1869, Avg. Reward=21.1639, Reward=23, entropy=0.00172, L Critic=0, L Actor=479]   \n"
     ]
    },
    {
     "name": "stdout",
     "output_type": "stream",
     "text": [
      "Model saved - 21.16\n"
     ]
    },
    {
     "name": "stderr",
     "output_type": "stream",
     "text": [
      "Episode 328:  92%|█████████▏| 12/13 [00:01<00:00,  8.61it/s, Temp=0.1851, Avg. Reward=21.1640, Reward=18.2, entropy=0.0014, L Critic=0, L Actor=432]  \n",
      "Episode 329:  95%|█████████▌| 19/20 [00:02<00:00,  8.70it/s, Temp=0.1832, Avg. Reward=21.1639, Reward=28.8, entropy=0.00215, L Critic=0, L Actor=684] \n"
     ]
    },
    {
     "name": "stdout",
     "output_type": "stream",
     "text": [
      "Model saved - 21.16\n"
     ]
    },
    {
     "name": "stderr",
     "output_type": "stream",
     "text": [
      "Episode 330:  96%|█████████▋| 27/28 [00:03<00:00,  8.49it/s, Temp=0.1814, Avg. Reward=21.1643, Reward=41.8, entropy=0.00301, L Critic=0, L Actor=816] \n"
     ]
    },
    {
     "name": "stdout",
     "output_type": "stream",
     "text": [
      "Model saved - 21.16\n"
     ]
    },
    {
     "name": "stderr",
     "output_type": "stream",
     "text": [
      "Episode 331:  92%|█████████▏| 12/13 [00:01<00:00,  8.22it/s, Temp=0.1796, Avg. Reward=21.1646, Reward=18.1, entropy=0.0014, L Critic=0, L Actor=373]  \n"
     ]
    },
    {
     "name": "stdout",
     "output_type": "stream",
     "text": [
      "Model saved - 21.17\n"
     ]
    },
    {
     "name": "stderr",
     "output_type": "stream",
     "text": [
      "Episode 332:  94%|█████████▍| 15/16 [00:01<00:00,  8.42it/s, Temp=0.1778, Avg. Reward=21.1650, Reward=23, entropy=0.00172, L Critic=0, L Actor=458]   \n"
     ]
    },
    {
     "name": "stdout",
     "output_type": "stream",
     "text": [
      "Model saved - 21.17\n"
     ]
    },
    {
     "name": "stderr",
     "output_type": "stream",
     "text": [
      "Episode 333:  88%|████████▊ | 7/8 [00:00<00:00,  8.72it/s, Temp=0.1760, Avg. Reward=21.1651, Reward=10.6, entropy=0.000859, L Critic=0, L Actor=273] \n"
     ]
    },
    {
     "name": "stdout",
     "output_type": "stream",
     "text": [
      "Model saved - 21.17\n"
     ]
    },
    {
     "name": "stderr",
     "output_type": "stream",
     "text": [
      "Episode 334:  93%|█████████▎| 14/15 [00:01<00:00,  8.33it/s, Temp=0.1742, Avg. Reward=21.1651, Reward=21.1, entropy=0.00161, L Critic=0, L Actor=463] \n"
     ]
    },
    {
     "name": "stdout",
     "output_type": "stream",
     "text": [
      "Model saved - 21.17\n"
     ]
    },
    {
     "name": "stderr",
     "output_type": "stream",
     "text": [
      "Episode 335:  94%|█████████▍| 17/18 [00:01<00:00,  8.59it/s, Temp=0.1725, Avg. Reward=21.1652, Reward=25.9, entropy=0.00193, L Critic=0, L Actor=536] \n"
     ]
    },
    {
     "name": "stdout",
     "output_type": "stream",
     "text": [
      "Model saved - 21.17\n"
     ]
    },
    {
     "name": "stderr",
     "output_type": "stream",
     "text": [
      "Episode 336:  94%|█████████▍| 17/18 [00:02<00:00,  8.50it/s, Temp=0.1708, Avg. Reward=21.1655, Reward=25.7, entropy=0.00193, L Critic=0, L Actor=420] \n"
     ]
    },
    {
     "name": "stdout",
     "output_type": "stream",
     "text": [
      "Model saved - 21.17\n"
     ]
    },
    {
     "name": "stderr",
     "output_type": "stream",
     "text": [
      "Episode 337:  96%|█████████▋| 27/28 [00:03<00:00,  8.31it/s, Temp=0.1691, Avg. Reward=21.1656, Reward=41.7, entropy=0.00301, L Critic=0, L Actor=559] \n",
      "Episode 338:  95%|█████████▌| 19/20 [00:02<00:00,  8.43it/s, Temp=0.1674, Avg. Reward=21.1653, Reward=28.6, entropy=0.00215, L Critic=0, L Actor=443] \n",
      "Episode 339:  89%|████████▉ | 8/9 [00:00<00:00,  8.81it/s, Temp=0.1657, Avg. Reward=21.1655, Reward=12.2, entropy=0.000967, L Critic=0, L Actor=245] \n",
      "Episode 340:  94%|█████████▍| 15/16 [00:01<00:00,  8.37it/s, Temp=0.1640, Avg. Reward=21.1654, Reward=22.7, entropy=0.00172, L Critic=0, L Actor=433] \n",
      "Episode 341:  93%|█████████▎| 14/15 [00:01<00:00,  8.56it/s, Temp=0.1624, Avg. Reward=21.1655, Reward=21.3, entropy=0.00161, L Critic=0, L Actor=465] \n"
     ]
    },
    {
     "name": "stdout",
     "output_type": "stream",
     "text": [
      "Model saved - 21.17\n"
     ]
    },
    {
     "name": "stderr",
     "output_type": "stream",
     "text": [
      "Episode 342:  92%|█████████▏| 11/12 [00:01<00:00,  8.96it/s, Temp=0.1608, Avg. Reward=21.1657, Reward=16.8, entropy=0.00129, L Critic=0, L Actor=348] \n"
     ]
    },
    {
     "name": "stdout",
     "output_type": "stream",
     "text": [
      "Model saved - 21.17\n"
     ]
    },
    {
     "name": "stderr",
     "output_type": "stream",
     "text": [
      "Episode 343:  95%|█████████▌| 19/20 [00:02<00:00,  8.48it/s, Temp=0.1592, Avg. Reward=21.1658, Reward=28.6, entropy=0.00215, L Critic=0, L Actor=520] \n"
     ]
    },
    {
     "name": "stdout",
     "output_type": "stream",
     "text": [
      "Model saved - 21.17\n"
     ]
    },
    {
     "name": "stderr",
     "output_type": "stream",
     "text": [
      "Episode 344:  93%|█████████▎| 14/15 [00:01<00:00,  8.48it/s, Temp=0.1576, Avg. Reward=21.1659, Reward=21, entropy=0.00161, L Critic=0, L Actor=356]   \n",
      "Episode 345:  93%|█████████▎| 14/15 [00:01<00:00,  8.90it/s, Temp=0.1560, Avg. Reward=21.1658, Reward=21.3, entropy=0.00161, L Critic=0, L Actor=358] \n"
     ]
    },
    {
     "name": "stdout",
     "output_type": "stream",
     "text": [
      "Model saved - 21.17\n"
     ]
    },
    {
     "name": "stderr",
     "output_type": "stream",
     "text": [
      "Episode 346:  94%|█████████▍| 17/18 [00:01<00:00,  8.55it/s, Temp=0.1544, Avg. Reward=21.1659, Reward=25.8, entropy=0.00193, L Critic=0, L Actor=386] \n"
     ]
    },
    {
     "name": "stdout",
     "output_type": "stream",
     "text": [
      "Model saved - 21.17\n"
     ]
    },
    {
     "name": "stderr",
     "output_type": "stream",
     "text": [
      "Episode 347:  96%|█████████▌| 23/24 [00:02<00:00,  8.49it/s, Temp=0.1529, Avg. Reward=21.1660, Reward=34.9, entropy=0.00258, L Critic=0, L Actor=509]\n",
      "Episode 348:  93%|█████████▎| 14/15 [00:01<00:00,  8.30it/s, Temp=0.1514, Avg. Reward=21.1659, Reward=21.1, entropy=0.00161, L Critic=0, L Actor=331] \n"
     ]
    },
    {
     "name": "stdout",
     "output_type": "stream",
     "text": [
      "Model saved - 21.17\n"
     ]
    },
    {
     "name": "stderr",
     "output_type": "stream",
     "text": [
      "Episode 349:  94%|█████████▍| 15/16 [00:01<00:00,  8.54it/s, Temp=0.1498, Avg. Reward=21.1660, Reward=23, entropy=0.00172, L Critic=0, L Actor=370]   \n"
     ]
    },
    {
     "name": "stdout",
     "output_type": "stream",
     "text": [
      "Model saved - 21.17\n"
     ]
    },
    {
     "name": "stderr",
     "output_type": "stream",
     "text": [
      "Episode 350:  96%|█████████▋| 27/28 [00:03<00:00,  8.44it/s, Temp=0.1484, Avg. Reward=21.1663, Reward=41.7, entropy=0.00301, L Critic=0, L Actor=667] \n"
     ]
    },
    {
     "name": "stdout",
     "output_type": "stream",
     "text": [
      "Model saved - 21.17\n"
     ]
    },
    {
     "name": "stderr",
     "output_type": "stream",
     "text": [
      "Episode 351:  94%|█████████▍| 15/16 [00:01<00:00,  8.67it/s, Temp=0.1469, Avg. Reward=21.1664, Reward=23, entropy=0.00172, L Critic=0, L Actor=424]   \n"
     ]
    },
    {
     "name": "stdout",
     "output_type": "stream",
     "text": [
      "Model saved - 21.17\n"
     ]
    },
    {
     "name": "stderr",
     "output_type": "stream",
     "text": [
      "Episode 352:  94%|█████████▍| 15/16 [00:01<00:00,  8.40it/s, Temp=0.1454, Avg. Reward=21.1666, Reward=22.7, entropy=0.00172, L Critic=0, L Actor=444] \n"
     ]
    },
    {
     "name": "stdout",
     "output_type": "stream",
     "text": [
      "Model saved - 21.17\n"
     ]
    },
    {
     "name": "stderr",
     "output_type": "stream",
     "text": [
      "Episode 353:  93%|█████████▎| 14/15 [00:01<00:00,  8.66it/s, Temp=0.1439, Avg. Reward=21.1667, Reward=21, entropy=0.00161, L Critic=0, L Actor=419]  \n"
     ]
    },
    {
     "name": "stdout",
     "output_type": "stream",
     "text": [
      "Model saved - 21.17\n"
     ]
    },
    {
     "name": "stderr",
     "output_type": "stream",
     "text": [
      "Episode 354:  93%|█████████▎| 13/14 [00:01<00:00,  8.90it/s, Temp=0.1425, Avg. Reward=21.1669, Reward=19.9, entropy=0.0015, L Critic=0, L Actor=472]  \n"
     ]
    },
    {
     "name": "stdout",
     "output_type": "stream",
     "text": [
      "Model saved - 21.17\n"
     ]
    },
    {
     "name": "stderr",
     "output_type": "stream",
     "text": [
      "Episode 355:  93%|█████████▎| 13/14 [00:01<00:00,  8.61it/s, Temp=0.1411, Avg. Reward=21.1670, Reward=19.9, entropy=0.0015, L Critic=0, L Actor=411]  \n"
     ]
    },
    {
     "name": "stdout",
     "output_type": "stream",
     "text": [
      "Model saved - 21.17\n"
     ]
    },
    {
     "name": "stderr",
     "output_type": "stream",
     "text": [
      "Episode 356:  88%|████████▊ | 7/8 [00:00<00:00,  8.90it/s, Temp=0.1397, Avg. Reward=21.1672, Reward=10.6, entropy=0.000859, L Critic=0, L Actor=228] \n"
     ]
    },
    {
     "name": "stdout",
     "output_type": "stream",
     "text": [
      "Model saved - 21.17\n"
     ]
    },
    {
     "name": "stderr",
     "output_type": "stream",
     "text": [
      "Episode 357:  95%|█████████▌| 19/20 [00:02<00:00,  8.70it/s, Temp=0.1383, Avg. Reward=21.1674, Reward=28.5, entropy=0.00215, L Critic=0, L Actor=478] \n"
     ]
    },
    {
     "name": "stdout",
     "output_type": "stream",
     "text": [
      "Model saved - 21.17\n"
     ]
    },
    {
     "name": "stderr",
     "output_type": "stream",
     "text": [
      "Episode 358:  94%|█████████▍| 17/18 [00:01<00:00,  8.71it/s, Temp=0.1369, Avg. Reward=21.1674, Reward=25.9, entropy=0.00193, L Critic=0, L Actor=396] \n",
      "Episode 359:  94%|█████████▍| 17/18 [00:02<00:00,  8.34it/s, Temp=0.1355, Avg. Reward=21.1671, Reward=25.8, entropy=0.00193, L Critic=0, L Actor=387]\n",
      "Episode 360:  92%|█████████▏| 11/12 [00:01<00:00,  8.76it/s, Temp=0.1342, Avg. Reward=21.1673, Reward=16.8, entropy=0.00129, L Critic=0, L Actor=256] \n",
      "Episode 361:  92%|█████████▏| 11/12 [00:01<00:00,  8.81it/s, Temp=0.1328, Avg. Reward=21.1673, Reward=16.7, entropy=0.00129, L Critic=0, L Actor=308] \n"
     ]
    },
    {
     "name": "stdout",
     "output_type": "stream",
     "text": [
      "Model saved - 21.17\n"
     ]
    },
    {
     "name": "stderr",
     "output_type": "stream",
     "text": [
      "Episode 362:  92%|█████████▏| 11/12 [00:01<00:00,  8.45it/s, Temp=0.1315, Avg. Reward=21.1676, Reward=16.7, entropy=0.00129, L Critic=0, L Actor=303] \n"
     ]
    },
    {
     "name": "stdout",
     "output_type": "stream",
     "text": [
      "Model saved - 21.17\n"
     ]
    },
    {
     "name": "stderr",
     "output_type": "stream",
     "text": [
      "Episode 363:  96%|█████████▌| 23/24 [00:02<00:00,  8.31it/s, Temp=0.1302, Avg. Reward=21.1677, Reward=34.9, entropy=0.00258, L Critic=0, L Actor=539] \n",
      "Episode 364:  92%|█████████▏| 12/13 [00:01<00:00,  8.42it/s, Temp=0.1289, Avg. Reward=21.1675, Reward=18.2, entropy=0.0014, L Critic=0, L Actor=273]  \n",
      "Episode 365:  88%|████████▊ | 7/8 [00:00<00:00,  8.88it/s, Temp=0.1276, Avg. Reward=21.1675, Reward=10.6, entropy=0.000859, L Critic=0, L Actor=166] \n",
      "Episode 366:  92%|█████████▏| 12/13 [00:01<00:00,  8.69it/s, Temp=0.1263, Avg. Reward=21.1676, Reward=18.1, entropy=0.0014, L Critic=0, L Actor=252]  \n"
     ]
    },
    {
     "name": "stdout",
     "output_type": "stream",
     "text": [
      "Model saved - 21.17\n"
     ]
    },
    {
     "name": "stderr",
     "output_type": "stream",
     "text": [
      "Episode 367:  94%|█████████▍| 15/16 [00:01<00:00,  8.16it/s, Temp=0.1251, Avg. Reward=21.1677, Reward=23, entropy=0.00172, L Critic=0, L Actor=290]  \n",
      "Episode 368:  92%|█████████▏| 12/13 [00:01<00:00,  8.16it/s, Temp=0.1238, Avg. Reward=21.1676, Reward=18.2, entropy=0.0014, L Critic=0, L Actor=286]  \n",
      "Episode 369:  96%|█████████▌| 23/24 [00:02<00:00,  8.33it/s, Temp=0.1226, Avg. Reward=21.1677, Reward=35, entropy=0.00258, L Critic=0, L Actor=411]   \n"
     ]
    },
    {
     "name": "stdout",
     "output_type": "stream",
     "text": [
      "Model saved - 21.17\n"
     ]
    },
    {
     "name": "stderr",
     "output_type": "stream",
     "text": [
      "Episode 370:  88%|████████▊ | 7/8 [00:00<00:00,  9.13it/s, Temp=0.1213, Avg. Reward=21.1678, Reward=10.6, entropy=0.000859, L Critic=0, L Actor=155] \n"
     ]
    },
    {
     "name": "stdout",
     "output_type": "stream",
     "text": [
      "Model saved - 21.17\n"
     ]
    },
    {
     "name": "stderr",
     "output_type": "stream",
     "text": [
      "Episode 371:  94%|█████████▍| 15/16 [00:01<00:00,  8.61it/s, Temp=0.1201, Avg. Reward=21.1682, Reward=23.1, entropy=0.00172, L Critic=0, L Actor=318] \n",
      "Episode 372:  92%|█████████▏| 12/13 [00:01<00:00,  8.65it/s, Temp=0.1189, Avg. Reward=21.1681, Reward=18.1, entropy=0.0014, L Critic=0, L Actor=281]  \n"
     ]
    },
    {
     "name": "stdout",
     "output_type": "stream",
     "text": [
      "Model saved - 21.17\n"
     ]
    },
    {
     "name": "stderr",
     "output_type": "stream",
     "text": [
      "Episode 373:  96%|█████████▌| 23/24 [00:02<00:00,  8.37it/s, Temp=0.1177, Avg. Reward=21.1683, Reward=34.7, entropy=0.00258, L Critic=0, L Actor=527] \n",
      "Episode 374:  88%|████████▊ | 7/8 [00:00<00:00,  8.70it/s, Temp=0.1166, Avg. Reward=21.1682, Reward=10.7, entropy=0.000859, L Critic=0, L Actor=191]\n",
      "Episode 375:  92%|█████████▏| 12/13 [00:01<00:00,  8.69it/s, Temp=0.1154, Avg. Reward=21.1679, Reward=18.2, entropy=0.0014, L Critic=0, L Actor=290]  \n",
      "Episode 376:  96%|█████████▌| 23/24 [00:02<00:00,  8.24it/s, Temp=0.1142, Avg. Reward=21.1682, Reward=34.9, entropy=0.00258, L Critic=0, L Actor=482] \n"
     ]
    },
    {
     "name": "stdout",
     "output_type": "stream",
     "text": [
      "Model saved - 21.17\n"
     ]
    },
    {
     "name": "stderr",
     "output_type": "stream",
     "text": [
      "Episode 377:  94%|█████████▍| 15/16 [00:01<00:00,  8.38it/s, Temp=0.1131, Avg. Reward=21.1683, Reward=22.5, entropy=0.00172, L Critic=0, L Actor=369] \n"
     ]
    },
    {
     "name": "stdout",
     "output_type": "stream",
     "text": [
      "Model saved - 21.17\n"
     ]
    },
    {
     "name": "stderr",
     "output_type": "stream",
     "text": [
      "Episode 378:  92%|█████████▏| 11/12 [00:01<00:00,  8.73it/s, Temp=0.1120, Avg. Reward=21.1684, Reward=16.8, entropy=0.00129, L Critic=0, L Actor=262] \n",
      "Episode 379:  94%|█████████▍| 15/16 [00:01<00:00,  7.91it/s, Temp=0.1108, Avg. Reward=21.1681, Reward=22.6, entropy=0.00172, L Critic=0, L Actor=354] \n"
     ]
    },
    {
     "name": "stdout",
     "output_type": "stream",
     "text": [
      "Model saved - 21.17\n"
     ]
    },
    {
     "name": "stderr",
     "output_type": "stream",
     "text": [
      "Episode 380:  94%|█████████▍| 17/18 [00:02<00:00,  7.80it/s, Temp=0.1097, Avg. Reward=21.1684, Reward=25.9, entropy=0.00193, L Critic=0, L Actor=444] \n",
      "Episode 381:  92%|█████████▏| 11/12 [00:01<00:00,  7.31it/s, Temp=0.1086, Avg. Reward=21.1683, Reward=16.8, entropy=0.00129, L Critic=0, L Actor=295] \n"
     ]
    },
    {
     "name": "stdout",
     "output_type": "stream",
     "text": [
      "Model saved - 21.17\n"
     ]
    },
    {
     "name": "stderr",
     "output_type": "stream",
     "text": [
      "Episode 382:  94%|█████████▍| 17/18 [00:02<00:00,  8.34it/s, Temp=0.1076, Avg. Reward=21.1685, Reward=25.8, entropy=0.00193, L Critic=0, L Actor=428] \n"
     ]
    },
    {
     "name": "stdout",
     "output_type": "stream",
     "text": [
      "Model saved - 21.17\n"
     ]
    },
    {
     "name": "stderr",
     "output_type": "stream",
     "text": [
      "Episode 383:  88%|████████▊ | 7/8 [00:00<00:00,  7.72it/s, Temp=0.1065, Avg. Reward=21.1687, Reward=10.7, entropy=0.000859, L Critic=0, L Actor=189] \n",
      "Episode 384:  96%|█████████▋| 27/28 [00:03<00:00,  7.63it/s, Temp=0.1054, Avg. Reward=21.1686, Reward=41.8, entropy=0.00301, L Critic=0, L Actor=639] \n"
     ]
    },
    {
     "name": "stdout",
     "output_type": "stream",
     "text": [
      "Model saved - 21.17\n"
     ]
    },
    {
     "name": "stderr",
     "output_type": "stream",
     "text": [
      "Episode 385:  94%|█████████▍| 15/16 [00:01<00:00,  8.71it/s, Temp=0.1044, Avg. Reward=21.1687, Reward=22.6, entropy=0.00172, L Critic=0, L Actor=341] \n"
     ]
    },
    {
     "name": "stdout",
     "output_type": "stream",
     "text": [
      "Model saved - 21.17\n"
     ]
    },
    {
     "name": "stderr",
     "output_type": "stream",
     "text": [
      "Episode 386:  96%|█████████▋| 27/28 [00:03<00:00,  8.24it/s, Temp=0.1033, Avg. Reward=21.1690, Reward=41.7, entropy=0.00301, L Critic=0, L Actor=561] \n",
      "Episode 387:  96%|█████████▋| 27/28 [00:03<00:00,  8.47it/s, Temp=0.1023, Avg. Reward=21.1690, Reward=41.7, entropy=0.00301, L Critic=0, L Actor=736] \n"
     ]
    },
    {
     "name": "stdout",
     "output_type": "stream",
     "text": [
      "Model saved - 21.17\n"
     ]
    },
    {
     "name": "stderr",
     "output_type": "stream",
     "text": [
      "Episode 388:  88%|████████▊ | 7/8 [00:00<00:00,  8.49it/s, Temp=0.1013, Avg. Reward=21.1692, Reward=10.6, entropy=0.000859, L Critic=0, L Actor=285] \n"
     ]
    },
    {
     "name": "stdout",
     "output_type": "stream",
     "text": [
      "Model saved - 21.17\n"
     ]
    },
    {
     "name": "stderr",
     "output_type": "stream",
     "text": [
      "Episode 389:  92%|█████████▏| 11/12 [00:01<00:00,  8.49it/s, Temp=0.1002, Avg. Reward=21.1694, Reward=16.8, entropy=0.00129, L Critic=0, L Actor=413] \n"
     ]
    },
    {
     "name": "stdout",
     "output_type": "stream",
     "text": [
      "Model saved - 21.17\n"
     ]
    },
    {
     "name": "stderr",
     "output_type": "stream",
     "text": [
      "Episode 390:  88%|████████▊ | 7/8 [00:00<00:00,  8.79it/s, Temp=0.1000, Avg. Reward=21.1695, Reward=10.7, entropy=0.000859, L Critic=0, L Actor=347] \n"
     ]
    },
    {
     "name": "stdout",
     "output_type": "stream",
     "text": [
      "Model saved - 21.17\n"
     ]
    },
    {
     "name": "stderr",
     "output_type": "stream",
     "text": [
      "Episode 391:  94%|█████████▍| 17/18 [00:02<00:00,  8.45it/s, Temp=0.1000, Avg. Reward=21.1696, Reward=25.8, entropy=0.00193, L Critic=0, L Actor=655] \n"
     ]
    },
    {
     "name": "stdout",
     "output_type": "stream",
     "text": [
      "Model saved - 21.17\n"
     ]
    },
    {
     "name": "stderr",
     "output_type": "stream",
     "text": [
      "Episode 392:  96%|█████████▌| 23/24 [00:02<00:00,  8.39it/s, Temp=0.1000, Avg. Reward=21.1696, Reward=35, entropy=0.00258, L Critic=0, L Actor=654]   \n"
     ]
    },
    {
     "name": "stdout",
     "output_type": "stream",
     "text": [
      "Model saved - 21.17\n"
     ]
    },
    {
     "name": "stderr",
     "output_type": "stream",
     "text": [
      "Episode 393:  94%|█████████▍| 15/16 [00:01<00:00,  8.75it/s, Temp=0.1000, Avg. Reward=21.1697, Reward=23, entropy=0.00172, L Critic=0, L Actor=328]   \n"
     ]
    },
    {
     "name": "stdout",
     "output_type": "stream",
     "text": [
      "Model saved - 21.17\n"
     ]
    },
    {
     "name": "stderr",
     "output_type": "stream",
     "text": [
      "Episode 394:  96%|█████████▌| 23/24 [00:02<00:00,  8.35it/s, Temp=0.1000, Avg. Reward=21.1699, Reward=34.9, entropy=0.00258, L Critic=0, L Actor=491] \n"
     ]
    },
    {
     "name": "stdout",
     "output_type": "stream",
     "text": [
      "Model saved - 21.17\n"
     ]
    },
    {
     "name": "stderr",
     "output_type": "stream",
     "text": [
      "Episode 395:  94%|█████████▍| 15/16 [00:01<00:00,  8.95it/s, Temp=0.1000, Avg. Reward=21.1699, Reward=23.1, entropy=0.00172, L Critic=0, L Actor=397] \n"
     ]
    },
    {
     "name": "stdout",
     "output_type": "stream",
     "text": [
      "Model saved - 21.17\n"
     ]
    },
    {
     "name": "stderr",
     "output_type": "stream",
     "text": [
      "Episode 396:  94%|█████████▍| 15/16 [00:01<00:00,  8.42it/s, Temp=0.1000, Avg. Reward=21.1700, Reward=22.7, entropy=0.00172, L Critic=0, L Actor=468] \n"
     ]
    },
    {
     "name": "stdout",
     "output_type": "stream",
     "text": [
      "Model saved - 21.17\n"
     ]
    },
    {
     "name": "stderr",
     "output_type": "stream",
     "text": [
      "Episode 397:  93%|█████████▎| 13/14 [00:01<00:00,  8.92it/s, Temp=0.1000, Avg. Reward=21.1702, Reward=19.8, entropy=0.0015, L Critic=0, L Actor=398]  \n"
     ]
    },
    {
     "name": "stdout",
     "output_type": "stream",
     "text": [
      "Model saved - 21.17\n"
     ]
    },
    {
     "name": "stderr",
     "output_type": "stream",
     "text": [
      "Episode 398:  96%|█████████▌| 23/24 [00:02<00:00,  8.58it/s, Temp=0.1000, Avg. Reward=21.1703, Reward=34.9, entropy=0.00258, L Critic=0, L Actor=661] \n"
     ]
    },
    {
     "name": "stdout",
     "output_type": "stream",
     "text": [
      "Model saved - 21.17\n"
     ]
    },
    {
     "name": "stderr",
     "output_type": "stream",
     "text": [
      "Episode 399:  92%|█████████▏| 12/13 [00:01<00:00,  8.77it/s, Temp=0.1000, Avg. Reward=21.1703, Reward=18.2, entropy=0.0014, L Critic=0, L Actor=349]  \n"
     ]
    },
    {
     "name": "stdout",
     "output_type": "stream",
     "text": [
      "Model saved - 21.17\n"
     ]
    },
    {
     "name": "stderr",
     "output_type": "stream",
     "text": [
      "Episode 400:  92%|█████████▏| 12/13 [00:01<00:00,  8.73it/s, Temp=0.1000, Avg. Reward=21.1704, Reward=18.2, entropy=0.0014, L Critic=0, L Actor=345]  \n"
     ]
    },
    {
     "name": "stdout",
     "output_type": "stream",
     "text": [
      "Model saved - 21.17\n"
     ]
    },
    {
     "name": "stderr",
     "output_type": "stream",
     "text": [
      "Episode 401:  95%|█████████▌| 19/20 [00:02<00:00,  8.56it/s, Temp=0.1000, Avg. Reward=21.1705, Reward=28.6, entropy=0.00215, L Critic=0, L Actor=475] \n"
     ]
    },
    {
     "name": "stdout",
     "output_type": "stream",
     "text": [
      "Model saved - 21.17\n"
     ]
    },
    {
     "name": "stderr",
     "output_type": "stream",
     "text": [
      "Episode 402:  92%|█████████▏| 11/12 [00:01<00:00,  8.34it/s, Temp=0.1000, Avg. Reward=21.1706, Reward=16.8, entropy=0.00129, L Critic=0, L Actor=334] \n",
      "Episode 403:  94%|█████████▍| 15/16 [00:01<00:00,  8.38it/s, Temp=0.1000, Avg. Reward=21.1706, Reward=23, entropy=0.00172, L Critic=0, L Actor=415]   \n"
     ]
    },
    {
     "name": "stdout",
     "output_type": "stream",
     "text": [
      "Model saved - 21.17\n"
     ]
    },
    {
     "name": "stderr",
     "output_type": "stream",
     "text": [
      "Episode 404:  94%|█████████▍| 15/16 [00:01<00:00,  8.42it/s, Temp=0.1000, Avg. Reward=21.1707, Reward=23, entropy=0.00172, L Critic=0, L Actor=388]   \n",
      "Episode 405:  93%|█████████▎| 14/15 [00:01<00:00,  8.71it/s, Temp=0.1000, Avg. Reward=21.1706, Reward=20.9, entropy=0.00161, L Critic=0, L Actor=371] \n",
      "Episode 406:  88%|████████▊ | 7/8 [00:00<00:00,  9.24it/s, Temp=0.1000, Avg. Reward=21.1706, Reward=10.6, entropy=0.000859, L Critic=0, L Actor=209] \n",
      "Episode 407:  92%|█████████▏| 11/12 [00:01<00:00,  8.61it/s, Temp=0.1000, Avg. Reward=21.1704, Reward=16.7, entropy=0.00129, L Critic=0, L Actor=273] \n",
      "Episode 408:  88%|████████▊ | 7/8 [00:00<00:00,  8.99it/s, Temp=0.1000, Avg. Reward=21.1705, Reward=10.6, entropy=0.000859, L Critic=0, L Actor=187] \n",
      "Episode 409:  95%|█████████▌| 19/20 [00:02<00:00,  8.43it/s, Temp=0.1000, Avg. Reward=21.1704, Reward=28.5, entropy=0.00215, L Critic=0, L Actor=392] \n",
      "Episode 410:  88%|████████▊ | 7/8 [00:00<00:00,  8.30it/s, Temp=0.1000, Avg. Reward=21.1704, Reward=10.6, entropy=0.000859, L Critic=0, L Actor=156] \n",
      "Episode 411:  94%|█████████▍| 15/16 [00:01<00:00,  8.70it/s, Temp=0.1000, Avg. Reward=21.1701, Reward=22.6, entropy=0.00172, L Critic=0, L Actor=283] \n",
      "Episode 412:  94%|█████████▍| 15/16 [00:01<00:00,  8.64it/s, Temp=0.1000, Avg. Reward=21.1701, Reward=22.6, entropy=0.00172, L Critic=0, L Actor=251] \n",
      "Episode 413:  88%|████████▊ | 7/8 [00:00<00:00,  8.60it/s, Temp=0.1000, Avg. Reward=21.1700, Reward=10.7, entropy=0.000859, L Critic=0, L Actor=134] \n",
      "Episode 414:  88%|████████▊ | 7/8 [00:00<00:00,  8.74it/s, Temp=0.1000, Avg. Reward=21.1700, Reward=10.7, entropy=0.000859, L Critic=0, L Actor=148] \n",
      "Episode 415:  88%|████████▊ | 7/8 [00:00<00:00,  8.91it/s, Temp=0.1000, Avg. Reward=21.1701, Reward=10.7, entropy=0.000859, L Critic=0, L Actor=155] \n",
      "Episode 416:  92%|█████████▏| 11/12 [00:01<00:00,  8.61it/s, Temp=0.1000, Avg. Reward=21.1703, Reward=16.7, entropy=0.00129, L Critic=0, L Actor=189] \n",
      "Episode 417:  88%|████████▊ | 7/8 [00:00<00:00,  8.71it/s, Temp=0.1000, Avg. Reward=21.1704, Reward=10.7, entropy=0.000859, L Critic=0, L Actor=137] \n",
      "Episode 418:  92%|█████████▏| 12/13 [00:01<00:00,  8.86it/s, Temp=0.1000, Avg. Reward=21.1704, Reward=18.1, entropy=0.0014, L Critic=0, L Actor=199]  \n",
      "Episode 419:  88%|████████▊ | 7/8 [00:00<00:00,  8.60it/s, Temp=0.1000, Avg. Reward=21.1705, Reward=10.7, entropy=0.000859, L Critic=0, L Actor=123] \n",
      "Episode 420:  88%|████████▊ | 7/8 [00:00<00:00,  9.04it/s, Temp=0.1000, Avg. Reward=21.1705, Reward=10.6, entropy=0.000859, L Critic=0, L Actor=105] \n"
     ]
    },
    {
     "name": "stdout",
     "output_type": "stream",
     "text": [
      "Model saved - 21.17\n"
     ]
    },
    {
     "name": "stderr",
     "output_type": "stream",
     "text": [
      "Episode 421:  96%|█████████▋| 27/28 [00:03<00:00,  8.46it/s, Temp=0.1000, Avg. Reward=21.1708, Reward=41.8, entropy=0.00301, L Critic=0, L Actor=295] \n"
     ]
    },
    {
     "name": "stdout",
     "output_type": "stream",
     "text": [
      "Model saved - 21.17\n"
     ]
    },
    {
     "name": "stderr",
     "output_type": "stream",
     "text": [
      "Episode 422:  93%|█████████▎| 13/14 [00:01<00:00,  8.49it/s, Temp=0.1000, Avg. Reward=21.1709, Reward=19.9, entropy=0.0015, L Critic=0, L Actor=160]  \n"
     ]
    },
    {
     "name": "stdout",
     "output_type": "stream",
     "text": [
      "Model saved - 21.17\n"
     ]
    },
    {
     "name": "stderr",
     "output_type": "stream",
     "text": [
      "Episode 423:  94%|█████████▍| 15/16 [00:01<00:00,  8.45it/s, Temp=0.1000, Avg. Reward=21.1712, Reward=22.7, entropy=0.00172, L Critic=0, L Actor=212] \n"
     ]
    },
    {
     "name": "stdout",
     "output_type": "stream",
     "text": [
      "Model saved - 21.17\n"
     ]
    },
    {
     "name": "stderr",
     "output_type": "stream",
     "text": [
      "Episode 424:  94%|█████████▍| 15/16 [00:01<00:00,  8.61it/s, Temp=0.1000, Avg. Reward=21.1714, Reward=23.1, entropy=0.00172, L Critic=0, L Actor=246] \n"
     ]
    },
    {
     "name": "stdout",
     "output_type": "stream",
     "text": [
      "Model saved - 21.17\n"
     ]
    },
    {
     "name": "stderr",
     "output_type": "stream",
     "text": [
      "Episode 425:  93%|█████████▎| 14/15 [00:01<00:00,  8.73it/s, Temp=0.1000, Avg. Reward=21.1715, Reward=20.9, entropy=0.00161, L Critic=0, L Actor=336] \n"
     ]
    },
    {
     "name": "stdout",
     "output_type": "stream",
     "text": [
      "Model saved - 21.17\n"
     ]
    },
    {
     "name": "stderr",
     "output_type": "stream",
     "text": [
      "Episode 426:  89%|████████▉ | 8/9 [00:00<00:00,  8.77it/s, Temp=0.1000, Avg. Reward=21.1717, Reward=12.2, entropy=0.000967, L Critic=0, L Actor=209] \n",
      "Episode 427:  94%|█████████▍| 15/16 [00:01<00:00,  8.74it/s, Temp=0.1000, Avg. Reward=21.1716, Reward=23, entropy=0.00172, L Critic=0, L Actor=354]   \n",
      "Episode 428:  93%|█████████▎| 13/14 [00:01<00:00,  8.85it/s, Temp=0.1000, Avg. Reward=21.1716, Reward=19.9, entropy=0.0015, L Critic=0, L Actor=328]  \n",
      "Episode 429:  93%|█████████▎| 14/15 [00:01<00:00,  8.71it/s, Temp=0.1000, Avg. Reward=21.1716, Reward=21, entropy=0.00161, L Critic=0, L Actor=354]  \n"
     ]
    },
    {
     "name": "stdout",
     "output_type": "stream",
     "text": [
      "Model saved - 21.17\n"
     ]
    },
    {
     "name": "stderr",
     "output_type": "stream",
     "text": [
      "Episode 430:  88%|████████▊ | 7/8 [00:00<00:00,  9.13it/s, Temp=0.1000, Avg. Reward=21.1718, Reward=10.7, entropy=0.000859, L Critic=0, L Actor=201] \n"
     ]
    },
    {
     "name": "stdout",
     "output_type": "stream",
     "text": [
      "Model saved - 21.17\n"
     ]
    },
    {
     "name": "stderr",
     "output_type": "stream",
     "text": [
      "Episode 431:  92%|█████████▏| 11/12 [00:01<00:00,  8.55it/s, Temp=0.1000, Avg. Reward=21.1718, Reward=16.8, entropy=0.00129, L Critic=0, L Actor=276] \n"
     ]
    },
    {
     "name": "stdout",
     "output_type": "stream",
     "text": [
      "Model saved - 21.17\n"
     ]
    },
    {
     "name": "stderr",
     "output_type": "stream",
     "text": [
      "Episode 432:  96%|█████████▌| 23/24 [00:02<00:00,  8.54it/s, Temp=0.1000, Avg. Reward=21.1719, Reward=34.9, entropy=0.00258, L Critic=0, L Actor=492] \n"
     ]
    },
    {
     "name": "stdout",
     "output_type": "stream",
     "text": [
      "Model saved - 21.17\n"
     ]
    },
    {
     "name": "stderr",
     "output_type": "stream",
     "text": [
      "Episode 433:  92%|█████████▏| 11/12 [00:01<00:00,  8.51it/s, Temp=0.1000, Avg. Reward=21.1720, Reward=16.8, entropy=0.00129, L Critic=0, L Actor=244] \n"
     ]
    },
    {
     "name": "stdout",
     "output_type": "stream",
     "text": [
      "Model saved - 21.17\n"
     ]
    },
    {
     "name": "stderr",
     "output_type": "stream",
     "text": [
      "Episode 434:  94%|█████████▍| 15/16 [00:01<00:00,  8.66it/s, Temp=0.1000, Avg. Reward=21.1721, Reward=23.1, entropy=0.00172, L Critic=0, L Actor=327] \n"
     ]
    },
    {
     "name": "stdout",
     "output_type": "stream",
     "text": [
      "Model saved - 21.17\n"
     ]
    },
    {
     "name": "stderr",
     "output_type": "stream",
     "text": [
      "Episode 435:  94%|█████████▍| 15/16 [00:01<00:00,  8.91it/s, Temp=0.1000, Avg. Reward=21.1722, Reward=23.1, entropy=0.00172, L Critic=0, L Actor=318] \n"
     ]
    },
    {
     "name": "stdout",
     "output_type": "stream",
     "text": [
      "Model saved - 21.17\n"
     ]
    },
    {
     "name": "stderr",
     "output_type": "stream",
     "text": [
      "Episode 436:  93%|█████████▎| 14/15 [00:01<00:00,  8.65it/s, Temp=0.1000, Avg. Reward=21.1723, Reward=21, entropy=0.00161, L Critic=0, L Actor=360]   \n"
     ]
    },
    {
     "name": "stdout",
     "output_type": "stream",
     "text": [
      "Model saved - 21.17\n"
     ]
    },
    {
     "name": "stderr",
     "output_type": "stream",
     "text": [
      "Episode 437:  93%|█████████▎| 14/15 [00:01<00:00,  8.63it/s, Temp=0.1000, Avg. Reward=21.1725, Reward=21, entropy=0.00161, L Critic=0, L Actor=370]   \n"
     ]
    },
    {
     "name": "stdout",
     "output_type": "stream",
     "text": [
      "Model saved - 21.17\n"
     ]
    },
    {
     "name": "stderr",
     "output_type": "stream",
     "text": [
      "Episode 438:  94%|█████████▍| 15/16 [00:01<00:00,  8.50it/s, Temp=0.1000, Avg. Reward=21.1726, Reward=22.5, entropy=0.00172, L Critic=0, L Actor=373] \n"
     ]
    },
    {
     "name": "stdout",
     "output_type": "stream",
     "text": [
      "Model saved - 21.17\n"
     ]
    },
    {
     "name": "stderr",
     "output_type": "stream",
     "text": [
      "Episode 439:  88%|████████▊ | 7/8 [00:00<00:00,  9.05it/s, Temp=0.1000, Avg. Reward=21.1726, Reward=10.8, entropy=0.000859, L Critic=0, L Actor=183]\n",
      "Episode 440:  94%|█████████▍| 15/16 [00:01<00:00,  8.48it/s, Temp=0.1000, Avg. Reward=21.1723, Reward=22.7, entropy=0.00172, L Critic=0, L Actor=364] \n",
      "Episode 441:  93%|█████████▎| 13/14 [00:01<00:00,  8.54it/s, Temp=0.1000, Avg. Reward=21.1726, Reward=19.9, entropy=0.0015, L Critic=0, L Actor=296]  \n"
     ]
    },
    {
     "name": "stdout",
     "output_type": "stream",
     "text": [
      "Model saved - 21.17\n"
     ]
    },
    {
     "name": "stderr",
     "output_type": "stream",
     "text": [
      "Episode 442:  88%|████████▊ | 7/8 [00:00<00:00,  8.51it/s, Temp=0.1000, Avg. Reward=21.1727, Reward=10.7, entropy=0.000859, L Critic=0, L Actor=178] \n"
     ]
    },
    {
     "name": "stdout",
     "output_type": "stream",
     "text": [
      "Model saved - 21.17\n"
     ]
    },
    {
     "name": "stderr",
     "output_type": "stream",
     "text": [
      "Episode 443:  92%|█████████▏| 11/12 [00:01<00:00,  8.75it/s, Temp=0.1000, Avg. Reward=21.1728, Reward=16.8, entropy=0.00129, L Critic=0, L Actor=233] \n"
     ]
    },
    {
     "name": "stdout",
     "output_type": "stream",
     "text": [
      "Model saved - 21.17\n"
     ]
    },
    {
     "name": "stderr",
     "output_type": "stream",
     "text": [
      "Episode 444:  93%|█████████▎| 14/15 [00:01<00:00,  8.69it/s, Temp=0.1000, Avg. Reward=21.1729, Reward=20.9, entropy=0.00161, L Critic=0, L Actor=274] \n"
     ]
    },
    {
     "name": "stdout",
     "output_type": "stream",
     "text": [
      "Model saved - 21.17\n"
     ]
    },
    {
     "name": "stderr",
     "output_type": "stream",
     "text": [
      "Episode 445:  94%|█████████▍| 17/18 [00:02<00:00,  8.31it/s, Temp=0.1000, Avg. Reward=21.1729, Reward=25.8, entropy=0.00193, L Critic=0, L Actor=302] \n",
      "Episode 446:  93%|█████████▎| 13/14 [00:01<00:00,  8.69it/s, Temp=0.1000, Avg. Reward=21.1727, Reward=19.8, entropy=0.0015, L Critic=0, L Actor=247]  \n",
      "Episode 447:  92%|█████████▏| 12/13 [00:01<00:00,  8.90it/s, Temp=0.1000, Avg. Reward=21.1727, Reward=18.2, entropy=0.0014, L Critic=0, L Actor=233]  \n",
      "Episode 448:  88%|████████▊ | 7/8 [00:00<00:00,  8.58it/s, Temp=0.1000, Avg. Reward=21.1727, Reward=10.6, entropy=0.000859, L Critic=0, L Actor=154] \n",
      "Episode 449:  94%|█████████▍| 15/16 [00:01<00:00,  8.44it/s, Temp=0.1000, Avg. Reward=21.1727, Reward=23, entropy=0.00172, L Critic=0, L Actor=319]   \n",
      "Episode 450:  94%|█████████▍| 15/16 [00:01<00:00,  8.71it/s, Temp=0.1000, Avg. Reward=21.1725, Reward=22.5, entropy=0.00172, L Critic=0, L Actor=327] \n",
      "Episode 451:  93%|█████████▎| 13/14 [00:01<00:00,  8.52it/s, Temp=0.1000, Avg. Reward=21.1726, Reward=20, entropy=0.0015, L Critic=0, L Actor=269]    \n",
      "Episode 452:  89%|████████▉ | 8/9 [00:00<00:00,  8.56it/s, Temp=0.1000, Avg. Reward=21.1722, Reward=12.1, entropy=0.000967, L Critic=0, L Actor=186] \n",
      "Episode 453:  92%|█████████▏| 11/12 [00:01<00:00,  8.47it/s, Temp=0.1000, Avg. Reward=21.1726, Reward=16.7, entropy=0.00129, L Critic=0, L Actor=223] \n",
      "Episode 454:  93%|█████████▎| 14/15 [00:01<00:00,  8.75it/s, Temp=0.1000, Avg. Reward=21.1724, Reward=21, entropy=0.00161, L Critic=0, L Actor=283]   \n",
      "Episode 455:  94%|█████████▍| 15/16 [00:01<00:00,  8.78it/s, Temp=0.1000, Avg. Reward=21.1724, Reward=23.1, entropy=0.00172, L Critic=0, L Actor=301] \n",
      "Episode 456:  96%|█████████▌| 23/24 [00:02<00:00,  8.52it/s, Temp=0.1000, Avg. Reward=21.1724, Reward=35, entropy=0.00258, L Critic=0, L Actor=431]   \n",
      "Episode 457:  89%|████████▉ | 8/9 [00:00<00:00,  8.61it/s, Temp=0.1000, Avg. Reward=21.1725, Reward=12.1, entropy=0.000967, L Critic=0, L Actor=191] \n",
      "Episode 458:  88%|████████▊ | 7/8 [00:00<00:00,  8.79it/s, Temp=0.1000, Avg. Reward=21.1727, Reward=10.6, entropy=0.000859, L Critic=0, L Actor=172] \n",
      "Episode 459:  93%|█████████▎| 13/14 [00:01<00:00,  8.64it/s, Temp=0.1000, Avg. Reward=21.1726, Reward=19.8, entropy=0.0015, L Critic=0, L Actor=317]  \n",
      "Episode 460:  95%|█████████▌| 19/20 [00:02<00:00,  8.54it/s, Temp=0.1000, Avg. Reward=21.1724, Reward=28.6, entropy=0.00215, L Critic=0, L Actor=432]\n",
      "Episode 461:  94%|█████████▍| 15/16 [00:01<00:00,  8.67it/s, Temp=0.1000, Avg. Reward=21.1723, Reward=23, entropy=0.00172, L Critic=0, L Actor=385]   \n",
      "Episode 462:  92%|█████████▏| 11/12 [00:01<00:00,  8.77it/s, Temp=0.1000, Avg. Reward=21.1723, Reward=16.8, entropy=0.00129, L Critic=0, L Actor=263] \n",
      "Episode 463:  96%|█████████▋| 27/28 [00:03<00:00,  8.54it/s, Temp=0.1000, Avg. Reward=21.1723, Reward=41.7, entropy=0.00301, L Critic=0, L Actor=577] \n",
      "Episode 464:  94%|█████████▍| 17/18 [00:02<00:00,  8.49it/s, Temp=0.1000, Avg. Reward=21.1723, Reward=25.9, entropy=0.00193, L Critic=0, L Actor=441] \n",
      "Episode 465:  93%|█████████▎| 14/15 [00:01<00:00,  8.54it/s, Temp=0.1000, Avg. Reward=21.1724, Reward=21.2, entropy=0.00161, L Critic=0, L Actor=412] \n",
      "Episode 466:  89%|████████▉ | 8/9 [00:00<00:00,  8.50it/s, Temp=0.1000, Avg. Reward=21.1726, Reward=12.2, entropy=0.000967, L Critic=0, L Actor=259] \n",
      "Episode 467:  88%|████████▊ | 7/8 [00:00<00:00,  8.32it/s, Temp=0.1000, Avg. Reward=21.1726, Reward=10.6, entropy=0.000859, L Critic=0, L Actor=262] \n",
      "Episode 468:  93%|█████████▎| 14/15 [00:01<00:00,  7.60it/s, Temp=0.1000, Avg. Reward=21.1726, Reward=21.4, entropy=0.00161, L Critic=0, L Actor=488] \n",
      "Episode 469:  92%|█████████▏| 11/12 [00:01<00:00,  7.49it/s, Temp=0.1000, Avg. Reward=21.1726, Reward=16.8, entropy=0.00129, L Critic=0, L Actor=322] \n"
     ]
    },
    {
     "name": "stdout",
     "output_type": "stream",
     "text": [
      "Model saved - 21.17\n"
     ]
    },
    {
     "name": "stderr",
     "output_type": "stream",
     "text": [
      "Episode 470:  92%|█████████▏| 12/13 [00:01<00:00,  7.45it/s, Temp=0.1000, Avg. Reward=21.1729, Reward=18.2, entropy=0.0014, L Critic=0, L Actor=305]  \n"
     ]
    },
    {
     "name": "stdout",
     "output_type": "stream",
     "text": [
      "Model saved - 21.17\n"
     ]
    },
    {
     "name": "stderr",
     "output_type": "stream",
     "text": [
      "Episode 471:  94%|█████████▍| 15/16 [00:01<00:00,  8.38it/s, Temp=0.1000, Avg. Reward=21.1730, Reward=22.6, entropy=0.00172, L Critic=0, L Actor=310] \n"
     ]
    },
    {
     "name": "stdout",
     "output_type": "stream",
     "text": [
      "Model saved - 21.17\n"
     ]
    },
    {
     "name": "stderr",
     "output_type": "stream",
     "text": [
      "Episode 472:  92%|█████████▏| 12/13 [00:01<00:00,  8.54it/s, Temp=0.1000, Avg. Reward=21.1732, Reward=18.1, entropy=0.0014, L Critic=0, L Actor=233]  \n",
      "Episode 473:  96%|█████████▋| 27/28 [00:03<00:00,  8.28it/s, Temp=0.1000, Avg. Reward=21.1731, Reward=41.7, entropy=0.00301, L Critic=0, L Actor=488] \n",
      "Episode 474:  89%|████████▉ | 8/9 [00:00<00:00,  9.00it/s, Temp=0.1000, Avg. Reward=21.1732, Reward=12.2, entropy=0.000967, L Critic=0, L Actor=199] \n",
      "Episode 475:  88%|████████▊ | 7/8 [00:00<00:00,  9.60it/s, Temp=0.1000, Avg. Reward=21.1732, Reward=10.7, entropy=0.000859, L Critic=0, L Actor=194] \n",
      "Episode 476:  95%|█████████▌| 19/20 [00:02<00:00,  8.52it/s, Temp=0.1000, Avg. Reward=21.1732, Reward=28.6, entropy=0.00215, L Critic=0, L Actor=459]\n"
     ]
    },
    {
     "name": "stdout",
     "output_type": "stream",
     "text": [
      "Model saved - 21.17\n"
     ]
    },
    {
     "name": "stderr",
     "output_type": "stream",
     "text": [
      "Episode 477:  96%|█████████▋| 27/28 [00:03<00:00,  8.30it/s, Temp=0.1000, Avg. Reward=21.1733, Reward=41.7, entropy=0.00301, L Critic=0, L Actor=753] \n",
      "Episode 478:  89%|████████▉ | 8/9 [00:00<00:00,  8.63it/s, Temp=0.1000, Avg. Reward=21.1733, Reward=12.2, entropy=0.000967, L Critic=0, L Actor=248] \n",
      "Episode 479:  88%|████████▊ | 7/8 [00:00<00:00,  9.09it/s, Temp=0.1000, Avg. Reward=21.1732, Reward=10.6, entropy=0.000859, L Critic=0, L Actor=222] \n",
      "Episode 480:  93%|█████████▎| 14/15 [00:01<00:00,  8.33it/s, Temp=0.1000, Avg. Reward=21.1732, Reward=21.3, entropy=0.00161, L Critic=0, L Actor=442] \n",
      "Episode 481:  96%|█████████▋| 27/28 [00:03<00:00,  8.58it/s, Temp=0.1000, Avg. Reward=21.1731, Reward=41.9, entropy=0.00301, L Critic=0, L Actor=738] \n",
      "Episode 482:  93%|█████████▎| 14/15 [00:01<00:00,  8.68it/s, Temp=0.1000, Avg. Reward=21.1732, Reward=21.2, entropy=0.00161, L Critic=0, L Actor=379] \n"
     ]
    },
    {
     "name": "stdout",
     "output_type": "stream",
     "text": [
      "Model saved - 21.17\n"
     ]
    },
    {
     "name": "stderr",
     "output_type": "stream",
     "text": [
      "Episode 483:  94%|█████████▍| 15/16 [00:01<00:00,  8.47it/s, Temp=0.1000, Avg. Reward=21.1736, Reward=23, entropy=0.00172, L Critic=0, L Actor=395]   \n",
      "Episode 484:  92%|█████████▏| 12/13 [00:01<00:00,  8.77it/s, Temp=0.1000, Avg. Reward=21.1735, Reward=18.1, entropy=0.0014, L Critic=0, L Actor=353]  \n",
      "Episode 485:  94%|█████████▍| 15/16 [00:01<00:00,  8.27it/s, Temp=0.1000, Avg. Reward=21.1735, Reward=23.1, entropy=0.00172, L Critic=0, L Actor=482] \n",
      "Episode 486:  94%|█████████▍| 17/18 [00:01<00:00,  8.53it/s, Temp=0.1000, Avg. Reward=21.1735, Reward=25.9, entropy=0.00193, L Critic=0, L Actor=480] \n",
      "Episode 487:  88%|████████▊ | 7/8 [00:00<00:00,  8.07it/s, Temp=0.1000, Avg. Reward=21.1736, Reward=10.6, entropy=0.000859, L Critic=0, L Actor=205] \n"
     ]
    },
    {
     "name": "stdout",
     "output_type": "stream",
     "text": [
      "Model saved - 21.17\n"
     ]
    },
    {
     "name": "stderr",
     "output_type": "stream",
     "text": [
      "Episode 488:  88%|████████▊ | 7/8 [00:00<00:00,  8.14it/s, Temp=0.1000, Avg. Reward=21.1738, Reward=10.6, entropy=0.000859, L Critic=0, L Actor=230] \n"
     ]
    },
    {
     "name": "stdout",
     "output_type": "stream",
     "text": [
      "Model saved - 21.17\n"
     ]
    },
    {
     "name": "stderr",
     "output_type": "stream",
     "text": [
      "Episode 489:  95%|█████████▌| 19/20 [00:02<00:00,  8.41it/s, Temp=0.1000, Avg. Reward=21.1738, Reward=28.7, entropy=0.00215, L Critic=0, L Actor=437] \n"
     ]
    },
    {
     "name": "stdout",
     "output_type": "stream",
     "text": [
      "Model saved - 21.17\n"
     ]
    },
    {
     "name": "stderr",
     "output_type": "stream",
     "text": [
      "Episode 490:  88%|████████▊ | 7/8 [00:00<00:00,  9.02it/s, Temp=0.1000, Avg. Reward=21.1739, Reward=10.6, entropy=0.000859, L Critic=0, L Actor=204] \n"
     ]
    },
    {
     "name": "stdout",
     "output_type": "stream",
     "text": [
      "Model saved - 21.17\n"
     ]
    },
    {
     "name": "stderr",
     "output_type": "stream",
     "text": [
      "Episode 491:  93%|█████████▎| 14/15 [00:01<00:00,  8.57it/s, Temp=0.1000, Avg. Reward=21.1740, Reward=21.3, entropy=0.00161, L Critic=0, L Actor=348] \n",
      "Episode 492:  95%|█████████▌| 19/20 [00:02<00:00,  8.80it/s, Temp=0.1000, Avg. Reward=21.1738, Reward=28.6, entropy=0.00215, L Critic=0, L Actor=386] \n",
      "Episode 493:  93%|█████████▎| 14/15 [00:01<00:00,  8.22it/s, Temp=0.1000, Avg. Reward=21.1739, Reward=21.3, entropy=0.00161, L Critic=0, L Actor=309] \n",
      "Episode 494:  92%|█████████▏| 11/12 [00:01<00:00,  7.53it/s, Temp=0.1000, Avg. Reward=21.1738, Reward=16.7, entropy=0.00129, L Critic=0, L Actor=261] \n"
     ]
    },
    {
     "name": "stdout",
     "output_type": "stream",
     "text": [
      "Model saved - 21.17\n"
     ]
    },
    {
     "name": "stderr",
     "output_type": "stream",
     "text": [
      "Episode 495:  96%|█████████▋| 27/28 [00:03<00:00,  8.34it/s, Temp=0.1000, Avg. Reward=21.1740, Reward=41.5, entropy=0.00301, L Critic=0, L Actor=524] \n",
      "Episode 496:  94%|█████████▍| 17/18 [00:02<00:00,  8.39it/s, Temp=0.1000, Avg. Reward=21.1740, Reward=25.8, entropy=0.00193, L Critic=0, L Actor=419] \n",
      "Episode 497:  92%|█████████▏| 12/13 [00:01<00:00,  9.00it/s, Temp=0.1000, Avg. Reward=21.1736, Reward=18.2, entropy=0.0014, L Critic=0, L Actor=336]  \n",
      "Episode 498:  88%|████████▊ | 7/8 [00:00<00:00,  8.91it/s, Temp=0.1000, Avg. Reward=21.1736, Reward=10.7, entropy=0.000859, L Critic=0, L Actor=221] \n",
      "Episode 499:  93%|█████████▎| 14/15 [00:01<00:00,  8.61it/s, Temp=0.1000, Avg. Reward=21.1737, Reward=21.1, entropy=0.00161, L Critic=0, L Actor=450] \n"
     ]
    }
   ],
   "source": [
    "import pickle\n",
    "from matplotlib import pyplot as plt\n",
    "from glob import glob\n",
    "\n",
    "from ConceptPrompting import AdaptationEngine, explore_environment\n",
    "from settings import  pretraining_settings as settings\n",
    "from tqdm import tqdm\n",
    "import torch\n",
    "import numpy as np\n",
    "\n",
    "def get_entropy(preferences):\n",
    "\treturn -torch.sum(preferences * torch.log(preferences), dim = -1)\n",
    "\n",
    "with open(\"clip_encodings.pkl\", \"rb\") as f:\n",
    "\tdata = pickle.load(f)\n",
    "\timage_encodings = data['image_encodings']\n",
    "\tactions_encode = data['concept_encodings']\n",
    "\n",
    "with open(\"generated_concepts.pkl\", \"rb\") as f:\n",
    "\tdata = pickle.load(f)\n",
    "\tgenerated_concepts = data['concepts']\n",
    "\ttopic_groups = data['topic_groups']\n",
    "\n",
    "with open('encodings.pkl', 'rb') as f:\n",
    "\tcaptions = pickle.load(f)['captions']\n",
    "\n",
    "images = [i for i in glob(\"../dataset/Images/*.jpg\")]\n",
    "\n",
    "Agent = AdaptationEngine(state_dim = image_encodings.shape[1] + actions_encode.shape[1],\n",
    "\t\t\t\t\t\t \taction_dim=actions_encode.shape[1],\n",
    "\t\t\t\t\t\t\tlr_actor = settings.lr_actor,\n",
    "\t\t\t\t\t\t\tlr_critic = settings.lr_critic,\n",
    "\t\t\t\t\t\t\tgamma = settings.gamma,\n",
    "\t\t\t\t\t\t\tbuffer_size = settings.buffer_size,\n",
    "\t\t\t\t\t\t\tsample_temperature = settings.temperature,\n",
    "\t\t\t\t\t\t\tfinal_temperature = settings.final_temperature,\n",
    "\t\t\t\t\t\t\ttemperature_decay = settings.decay_rate)\n",
    "\n",
    "\n",
    "env = explore_environment(topic_groups=topic_groups, \n",
    "\t\t\t\t\t\t  concepts=generated_concepts,\n",
    "\t\t\t\t\t\t  concepts_encode=actions_encode,\n",
    "\t\t\t\t\t\t  images=images,\n",
    "\t\t\t\t\t\t  images_caption=captions,\n",
    "\t\t\t\t\t\t  images_encode=image_encodings, \n",
    "\t\t\t\t\t\t  threshold=10)\n",
    "\n",
    "\n",
    "#-----------------------------------------------------------------------------\n",
    "\n",
    "episode_history = {'rewards': [],\n",
    "\t\t    'loss_critic': [], \n",
    "\t\t\t'loss_actor': []}\n",
    "\n",
    "history = {'rewards': [],\n",
    "\t\t   'episodes_rewards': {},\n",
    "\t\t    'loss_critic': [], \n",
    "\t\t\t'loss_actor': []}\n",
    "\n",
    "average_reward = [0]\n",
    "deviation_reward = [0]\n",
    "\n",
    "for episode in range(settings.episodes):\n",
    "\n",
    "\tepisode_index, (prev_state, feedback, _) = env.reset()\n",
    "\tprev_state = env.preprocess_state(prev_state)\n",
    "\n",
    "\tenv.externalized.add(feedback)\n",
    "\n",
    "\tepisode_history = {'rewards': [],\n",
    "\t\t'loss_critic': [], \n",
    "\t\t'loss_actor': [],\n",
    "\t\t'entropy': []}\n",
    "\tif episode_index not in history['episodes_rewards']:\n",
    "\t\thistory['episodes_rewards'][episode_index] = []\n",
    "\t\t\t\n",
    "\titera = tqdm(range(len(env.topic)))\n",
    "\titera.set_description(f\"Episode {episode}\")\n",
    "\n",
    "\t\n",
    "\tfor step in itera:\n",
    "\n",
    "\t\tpreferences = Agent.policy(prev_state, actions_encode)\n",
    "\t\t# print(prev_state)\n",
    "\t\t# print(preferences)\t\n",
    "\t\taction = torch.multinomial(preferences, 1).squeeze(-1)\n",
    "\t\t\n",
    "\t\tstate, feedback, reward, done = env.step( action.item() )\n",
    "\t\tstate = env.preprocess_state(state)\n",
    "\t\tenv.externalized.add(feedback)\n",
    "\n",
    "\t\tAgent.push_buffer(state=prev_state,\n",
    "\t\t\t\t\t action=action, \n",
    "\t\t\t\t\t reward=reward, \n",
    "\t\t\t\t\t next_state=state, \n",
    "\t\t\t\t\t done=done)\n",
    "\t\t\n",
    "\t\tepisode_history['rewards'].append(reward)\n",
    "\t\tepisode_history['entropy'].append(get_entropy(preferences).mean().item())\n",
    "\n",
    "\t\tif Agent.buffer_size <= len(Agent.buffer):\n",
    "\t\t\tactor_loss, critic_loss = Agent.optimization_step(actions_encode)\n",
    "\t\t\tepisode_history['loss_critic'].append(critic_loss)\n",
    "\t\t\tepisode_history['loss_actor'].append(actor_loss)\n",
    "\n",
    "\t\tprev_state = state\n",
    "\n",
    "\t\titera.set_postfix({'Temp': f'{Agent.temperature:.4f}',\n",
    "\t\t\t\t\t \t'Avg. Reward': f\"{average_reward[-1]:.4f}\",\n",
    "\t\t\t\t\t\t'Reward': sum(episode_history['rewards']),\n",
    "\t\t\t\t\t\t'entropy': sum(episode_history['entropy']),\n",
    "\t\t\t\t\t\t'L Critic': sum(episode_history['loss_critic']),\n",
    "\t\t\t\t\t\t'L Actor': sum(episode_history['loss_actor'])} )\n",
    "\t\tif done:\n",
    "\t\t\thistory['rewards'].append(sum(episode_history['rewards']))\n",
    "\t\t\thistory['loss_critic'].append(sum(episode_history['loss_critic']))\n",
    "\t\t\thistory['loss_actor'].append(sum(episode_history['loss_actor']))\n",
    "\t\t\tbreak\n",
    "\n",
    "\tAgent.temperature = max(Agent.final_temperature, Agent.temperature * Agent.temperature_decay)\n",
    "\n",
    "\taverage_reward += [np.mean([np.mean(history['episodes_rewards'][i]) for i in history['episodes_rewards'].keys()]) \\\n",
    "\t\tif len(history['episodes_rewards']) ==  len(env.topic_groups) else -1]\n",
    "\tdeviation_reward += [np.std([np.mean(history['episodes_rewards'][i]) for i in history['episodes_rewards'].keys()]) \\\n",
    "\tif len(history['episodes_rewards']) ==  len(env.topic_groups) else -1]\n",
    "\n",
    "\tif Agent.max_reward is None or Agent.max_reward < average_reward[-1]:\n",
    "\t\tAgent.max_reward = average_reward[-1]\n",
    "\t\tAgent.Actor.save(f\"actor.pt\")\n",
    "\t\tAgent.Critic.save(f\"critic.pt\")\n",
    "\t\tprint(f\"Model saved - {average_reward[-1]:.2f}\")\n",
    "\thistory['episodes_rewards'][episode_index].append(sum(episode_history['rewards']).item())\n",
    "\n",
    "# env.close()"
   ]
  },
  {
   "cell_type": "code",
   "execution_count": 3,
   "metadata": {},
   "outputs": [
    {
     "data": {
      "text/plain": [
       "tensor([[-0.0034,  0.0209, -0.0034,  ...,  0.0000,  0.0000,  0.0000]])"
      ]
     },
     "execution_count": 3,
     "metadata": {},
     "output_type": "execute_result"
    }
   ],
   "source": [
    "prev_state"
   ]
  },
  {
   "cell_type": "code",
   "execution_count": 3,
   "metadata": {},
   "outputs": [],
   "source": [
    "z = env.reset()"
   ]
  },
  {
   "cell_type": "code",
   "execution_count": 2,
   "metadata": {},
   "outputs": [
    {
     "data": {
      "image/png": "[encoded data removed]",
      "text/plain": [
       "<Figure size 640x480 with 1 Axes>"
      ]
     },
     "metadata": {},
     "output_type": "display_data"
    }
   ],
   "source": [
    "from matplotlib import pyplot as plt\n",
    "\n",
    "for i in history['episodes_rewards']:\n",
    "\tplt.plot(history['episodes_rewards'][i])"
   ]
  },
  {
   "cell_type": "code",
   "execution_count": null,
   "metadata": {},
   "outputs": [
    {
     "data": {
      "text/plain": [
       "array([29.52019944, 29.5255816 , 29.52947039, 29.53379103, 29.53377679,\n",
       "       29.54556316, 29.54501081, 29.54500591, 29.54970761, 29.54977013,\n",
       "       29.55151992, 29.5649452 , 29.58748711, 29.60229059, 29.60268902,\n",
       "       29.60614665, 29.60638555, 29.60920663, 29.61105931, 29.61680926,\n",
       "       29.61920523, 29.68040622, 29.69468671, 29.69599363, 29.69702015,\n",
       "       29.69477996, 29.72220422, 29.72553601, 29.72520427, 29.72634842,\n",
       "       29.72714675, 29.74011215, 29.74211764, 29.74271286, 29.74270088,\n",
       "       29.7432889 , 29.74840254, 29.7483115 , 29.74703444, 29.74720209,\n",
       "       29.74719452, 29.74688129, 29.7471247 , 29.75966752, 29.76253702,\n",
       "       29.77403944, 29.77512952, 29.77654849, 29.78438838, 29.78678392,\n",
       "       29.78607776, 29.78584485, 29.78660044, 29.78620263, 29.78588692,\n",
       "       29.78566613, 29.78567236, 29.79131181, 29.79114412, 29.79103826,\n",
       "       29.79649374, 29.79698559, 29.79818829, 29.79762623, 29.79849483,\n",
       "       29.79848827, 29.79849002, 29.79860857, 29.79731267, 29.79895597,\n",
       "       29.79922427, 29.7993574 , 29.79960404, 29.79946682, 29.80089458,\n",
       "       29.80060369, 29.80429591, 29.80429421, 29.8055289 , 29.80527373,\n",
       "       29.80550902, 29.80650158, 29.80661562, 29.80686123, 29.80708794,\n",
       "       29.80704493, 29.80689261, 29.80660861, 29.80661528, 29.80635944,\n",
       "       29.81102583, 29.8113647 , 29.81111271, 29.81226367, 29.81277802,\n",
       "       29.81616787, 29.81687282, 29.81684518, 29.8170162 , 29.81701607,\n",
       "       29.81657511, 29.81675425, 29.81734578, 29.81762582, 29.81760092,\n",
       "       29.81728693, 29.81795866, 29.81778486, 29.81831586, 29.81885937,\n",
       "       29.82172787, 29.82201162, 29.82284285, 29.82379894, 29.82265694,\n",
       "       29.82281152, 29.82280939, 29.82265657, 29.82772823, 29.82921508,\n",
       "       29.828456  , 29.82980156, 29.83010101, 29.8299411 , 29.83070577,\n",
       "       29.83099514, 29.83134929, 29.83136459, 29.83122246, 29.83106104,\n",
       "       29.83126218, 29.83199808, 29.83190663, 29.83223985, 29.83223471,\n",
       "       29.83160141, 29.83191034, 29.83228958, 29.83254203, 29.83238924,\n",
       "       29.83349448, 29.83349295, 29.83446997, 29.83480378, 29.83472782,\n",
       "       29.83528258, 29.83528737, 29.83528343, 29.83515509, 29.83504469,\n",
       "       29.83499071, 29.83478671, 29.83469353, 29.83468855, 29.83516268,\n",
       "       29.83642734, 29.84038499, 29.84026356, 29.83719906, 29.83780922,\n",
       "       29.83766757, 29.8374632 , 29.83745108, 29.83730075, 29.83730306,\n",
       "       29.83721556, 29.83715916, 29.83921817, 29.83931338, 29.8394497 ,\n",
       "       29.83942772, 29.83939691, 29.83929168, 29.83927036, 29.84250274,\n",
       "       29.84248712, 29.84247212, 29.84365676, 29.84416461, 29.84405527,\n",
       "       29.84396455, 29.84375352, 29.84415028, 29.84391707, 29.84438393,\n",
       "       29.84436095, 29.84434682, 29.84470944, 29.8446738 , 29.84480094,\n",
       "       29.84496833, 29.84497121, 29.84506932, 29.84562902, 29.8456748 ,\n",
       "       29.84671613, 29.84679771, 29.84740549, 29.84740434, 29.84793524,\n",
       "       29.84758696, 29.84836408, 29.84830556, 29.84832132, 29.84857453,\n",
       "       29.84886971, 29.84875525, 29.84875864, 29.84869888, 29.84874066,\n",
       "       29.84877857, 29.84880932, 29.84969027, 29.84973467, 29.84959195,\n",
       "       29.8498964 , 29.84999519, 29.84999688, 29.84999105, 29.84994449,\n",
       "       29.84984537, 29.84983483, 29.84986538, 29.84979779, 29.84967191,\n",
       "       29.8503249 , 29.85048885, 29.85175395, 29.85166232, 29.85158257,\n",
       "       29.85188924, 29.8516435 , 29.85150322, 29.85189545, 29.85250923,\n",
       "       29.85228434, 29.85241867, 29.85237032, 29.85230825, 29.85265848,\n",
       "       29.85396482, 29.85773481, 29.8577253 , 29.85766357, 29.85742717,\n",
       "       29.85742917, 29.85744383, 29.85765369, 29.85766867, 29.85767651,\n",
       "       29.85968873, 29.86028176, 29.86051484, 29.86082721, 29.86080665,\n",
       "       29.86081087, 29.85970783, 29.85960244, 29.85961053, 29.85982239,\n",
       "       29.85981786, 29.86011407, 29.8601152 , 29.86003472, 29.85999873,\n",
       "       29.86032222, 29.86010111, 29.86076766, 29.86072473, 29.86067239,\n",
       "       29.86064702, 29.86064881, 29.86063185, 29.86008861, 29.86028768,\n",
       "       29.86028549, 29.86027453, 29.86026052, 29.86044507, 29.86151875,\n",
       "       29.86154182, 29.86154406, 29.86147201, 29.86147508, 29.86166579,\n",
       "       29.8617082 , 29.8617093 , 29.86175626, 29.86196567, 29.861773  ,\n",
       "       29.8623371 , 29.86238517, 29.86237413, 29.8626079 , 29.86315327,\n",
       "       29.86459412, 29.86463256, 29.86464509, 29.86462545, 29.86491456,\n",
       "       29.86512293, 29.86467694, 29.86540575, 29.86514031, 29.86513859,\n",
       "       29.86543933, 29.86550936, 29.86557004, 29.86539355, 29.86551296,\n",
       "       29.86555505, 29.86550879, 29.86575046, 29.86597476, 29.86607173,\n",
       "       29.86692506, 29.86708038, 29.86722221, 29.86738076, 29.86753509,\n",
       "       29.86766796, 29.86766059, 29.86716433, 29.86743458, 29.86746616,\n",
       "       29.86762223, 29.86763488, 29.8675709 , 29.86759699, 29.86765986,\n",
       "       29.86764399, 29.86757008, 29.86765158, 29.86773982, 29.86865905,\n",
       "       29.86866671, 29.8688842 , 29.86882949, 29.86798837, 29.86793317,\n",
       "       29.86803684, 29.868185  , 29.86789158, 29.86803999, 29.86789622,\n",
       "       29.86822986, 29.86829715, 29.8681498 , 29.86812299, 29.86921066,\n",
       "       29.86920407, 29.86986526, 29.8706118 , 29.8706059 , 29.87069275,\n",
       "       29.87069145, 29.87073051, 29.87131205, 29.87135572, 29.87156607,\n",
       "       29.871767  , 29.87190512, 29.87192371, 29.87222968, 29.87226488,\n",
       "       29.87233032, 29.87232595, 29.87239431, 29.87228995, 29.87221396,\n",
       "       29.87205448, 29.87204603, 29.87203624, 29.87204742, 29.87152832,\n",
       "       29.87152383, 29.87138267, 29.87136387, 29.87134439, 29.87129849,\n",
       "       29.87127348, 29.87125636, 29.87122431, 29.8712206 , 29.87116927,\n",
       "       29.87114559, 29.87217757, 29.87234375, 29.87252385, 29.87275024,\n",
       "       29.87263234, 29.87263336, 29.87272254, 29.87283979, 29.87285992,\n",
       "       29.87284509, 29.87291291, 29.87313843, 29.87317547, 29.87336691,\n",
       "       29.87355191, 29.87366292, 29.87367471, 29.87336131, 29.87330698,\n",
       "       29.87337155, 29.87349571, 29.8734866 , 29.87350078, 29.87335516,\n",
       "       29.87327398, 29.87326726, 29.8732999 , 29.87334419, 29.8734018 ,\n",
       "       29.87300892, 29.87330906, 29.87331344, 29.87327633, 29.87333119,\n",
       "       29.87347844, 29.87397031, 29.87397504, 29.87401016, 29.87393023,\n",
       "       29.87383369, 29.87380921, 29.87384392, 29.87420382, 29.87440515,\n",
       "       29.87439757, 29.87439512, 29.8744012 , 29.8747295 , 29.87477757,\n",
       "       29.87489892, 29.87481372, 29.87482853, 29.87496121, 29.87496206,\n",
       "       29.87493657, 29.87485522, 29.87464991, 29.87465099, 29.8746538 ,\n",
       "       29.87467803, 29.87616369, 29.87607232, 29.87607477, 29.87605384,\n",
       "       29.87615837, 29.87651878, 29.87651491, 29.87651044, 29.87673306,\n",
       "       29.87676401, 29.87681006, 29.87672494, 29.87694776, 29.87693309,\n",
       "       29.87560449, 29.87553039, 29.87562529, 29.87559656])"
      ]
     },
     "execution_count": 8,
     "metadata": {},
     "output_type": "execute_result"
    }
   ],
   "source": [
    "\n",
    "\n"
   ]
  },
  {
   "cell_type": "code",
   "execution_count": 5,
   "metadata": {},
   "outputs": [
    {
     "data": {
      "text/plain": [
       "(501, 501)"
      ]
     },
     "execution_count": 5,
     "metadata": {},
     "output_type": "execute_result"
    }
   ],
   "source": [
    "len(average_reward), len(deviation_reward)"
   ]
  },
  {
   "cell_type": "code",
   "execution_count": 11,
   "metadata": {},
   "outputs": [
    {
     "data": {
      "text/plain": [
       "[<matplotlib.lines.Line2D at 0x7d4dfdf52950>]"
      ]
     },
     "execution_count": 11,
     "metadata": {},
     "output_type": "execute_result"
    },
    {
     "data": {
      "image/png": "[encoded data removed]",
      "text/plain": [
       "<Figure size 640x480 with 1 Axes>"
      ]
     },
     "metadata": {},
     "output_type": "display_data"
    }
   ],
   "source": [
    "nice_index = [np.isnan(average_reward[i]) for i in range(len(average_reward))].index(True)\n",
    "plt.title(\"Average Reward\")\n",
    "plt.xlabel(\"Episodes\")\n",
    "plt.ylabel(\"Reward\")\n",
    "plt.plot(average_reward[nice_index + 1:])"
   ]
  },
  {
   "cell_type": "markdown",
   "metadata": {},
   "source": [
    "#### Optuna for settings (hyperparameters - actor critic)"
   ]
  },
  {
   "cell_type": "code",
   "execution_count": null,
   "metadata": {},
   "outputs": [],
   "source": [
    "import random; random.seed(0)\n",
    "import numpy as np; np.random.seed(0)\n",
    "\n",
    "from utils import train_agent\n",
    "# from Concept_Mining.ConceptMining import AdaptationEngine\n",
    "import pickle,  pandas as pd\n",
    "import seaborn as sns\n",
    "\n",
    "from tqdm import tqdm\n",
    "import optuna, os\n",
    "import mlflow\n",
    "\n",
    "def get_or_create_experiment(experiment_name):\n",
    "\n",
    "\n",
    "    if experiment := mlflow.get_experiment_by_name(experiment_name):\n",
    "        return experiment.experiment_id\n",
    "    else:\n",
    "        return mlflow.create_experiment(experiment_name)\n",
    "    \n",
    "def champion_callback(study, frozen_trial):\n",
    "    winner = study.user_attrs.get(\"winner\", None)\n",
    "\n",
    "    if study.best_value and winner != study.best_value:\n",
    "        study.set_user_attr(\"winner\", study.best_value)\n",
    "        if winner:\n",
    "            print(\n",
    "                f\"Trial {frozen_trial.number:2d} achieved value: {frozen_trial.value:.3f}\"\n",
    "            )\n",
    "        else:\n",
    "            print(f\"Initial trial {frozen_trial.number} achieved value: {frozen_trial.value}\")\n",
    "    \n",
    "\n",
    "def run_training(settings: dict) -> tuple:\n",
    "\n",
    "    average_reward, deviation_reward, history = train_agent(settings)\n",
    "    return average_reward, deviation_reward, history\n",
    "\n",
    "def optuna_reward( trial: optuna.Trial, settings: dict ) -> float:\n",
    "    \n",
    "\twith mlflow.start_run(nested=True):\n",
    "\n",
    "\t\thyperparameters = {\n",
    "\t\t\t# \"interm_layer_size\": trial.suggest_int('interm_layer_size', 1, 100),\n",
    "\t\t\t\"lr_critic\" : trial.suggest_float('lr_critic', 2e-5, 1e-3),\n",
    "\t\t\t\"temperature\" : trial.suggest_float('temperature', 2, 5),\n",
    "\t\t}\n",
    "\n",
    "\t\thyperparameters[\"lr_actor\"] =  trial.suggest_float('lr_actor', 2e-5, \n",
    "\t\t\t\t\t\t\t\t\t\t\t\t\t\t\thyperparameters[\"lr_critic\"])\n",
    "\t\thyperparameters[\"final_temperature\"] = trial.suggest_float('final_temperature', \n",
    "\t\t\t\t\t\t\t\t\t\t\t\t\t\t\t\t\t0.3, 0.5*hyperparameters[\"temperature\"])\n",
    "\n",
    "\t\tmlflow.log_params(hyperparameters)\n",
    "\t\taverage_reward, _, _ = run_training(settings | hyperparameters)\n",
    "\n",
    "\tmlflow.log_metric('average_reward', study.best_value, step=trial.number)\n",
    "\treturn max(average_reward)\n",
    "\n",
    "BUFFER_SIZE = int(os.getenv('BUFFER_SIZE', None))\n",
    "\n",
    "\n",
    "if __name__ == '__main__':\n",
    "\n",
    "    optuna.logging.set_verbosity(optuna.logging.ERROR)\n",
    "\n",
    "    mlflow.set_tracking_uri(uri='http://localhost:8000')\n",
    "    mlflow.set_experiment(f'Actor-Critic Buffer Size: {BUFFER_SIZE}')\n",
    "    print(f'Experiment - Buffer size: {BUFFER_SIZE}')\n",
    "\n",
    "    with mlflow.start_run(experiment_id=get_or_create_experiment(f'Actor-Critic Buffer Size: {BUFFER_SIZE}'),\n",
    "                          run_name='optuna', nested=True):\n",
    "        \n",
    "        settings = {'episodes': 'bert-base-uncased',\n",
    "            'episode_length': 1000,\n",
    "            'episodes': 100,\n",
    "            'gamma': 0.99,\n",
    "            'decay_rate': 0.99,\n",
    "            'buffer_size': BUFFER_SIZE}\n",
    "        \n",
    "        study = optuna.create_study(direction='maximize')\n",
    "        study.optimize(lambda trial: optuna_reward(trial, settings), n_trials=10)\n",
    "\n",
    "        mlflow.log_params(study.best_params)\n",
    "        # _ = run_training( settings | st udy.best_params)\n",
    "\n",
    "        # model = AdaptationEngine( settings | study.best_params )\n",
    "        # model.Actor.load('actor.pt')\n",
    "        # model.Critic.load('critic.pt')\n",
    "\n",
    "        # # signature = mlflow.models.signature.infer_signature(df_train['text'].to_list(), \n",
    "        # #                                             model.predict(data = df_train['text'].to_list()))\n",
    "\n",
    "        # model_info = mlflow.pytorch.log_model(model, artifact_path=\"ofenseval_learn\", \n",
    "        #                                 signature=signature,\n",
    "        #                                 registered_model_name=\"offenseval_learn_quickstart\")\n"
   ]
  }
 ],
 "metadata": {
  "kernelspec": {
   "display_name": "base",
   "language": "python",
   "name": "python3"
  },
  "language_info": {
   "codemirror_mode": {
    "name": "ipython",
    "version": 3
   },
   "file_extension": ".py",
   "mimetype": "text/x-python",
   "name": "python",
   "nbconvert_exporter": "python",
   "pygments_lexer": "ipython3",
   "version": "3.11.9"
  }
 },
 "nbformat": 4,
 "nbformat_minor": 2
}
