{
 "cells": [
  {
   "cell_type": "markdown",
   "metadata": {},
   "source": [
    "### Prepare Data"
   ]
  },
  {
   "cell_type": "code",
   "execution_count": null,
   "metadata": {},
   "outputs": [],
   "source": [
    "from glob import glob\n",
    "from ConceptMining import ConceptMiner\n",
    "from settings import settings\n",
    "\n",
    "import pickle"
   ]
  },
  {
   "cell_type": "code",
   "execution_count": null,
   "metadata": {},
   "outputs": [],
   "source": [
    "batch_size = 70\n",
    "images = [i for i in glob(\"../dataset/Images/*.jpg\")]\n",
    "Miner = ConceptMiner(images = images, load_model= True)\n",
    "\n",
    "# encodings, captions = Miner.get_image_caption(get_encodings = True, batch_size = batch_size)"
   ]
  },
  {
   "cell_type": "code",
   "execution_count": null,
   "metadata": {},
   "outputs": [],
   "source": [
    "# with open('encodings.pkl', 'wb') as f:\n",
    "#     pickle.dump({'encodings':encodings, 'captions': captions}, f)\n",
    "with open('encodings.pkl', 'rb') as f:\n",
    "\tdata = pickle.load(f)\n",
    "\tencodings = data['encodings']\n",
    "\tcaptions = data['captions']"
   ]
  },
  {
   "cell_type": "code",
   "execution_count": null,
   "metadata": {},
   "outputs": [],
   "source": [
    "concept_model, generated_concepts = Miner.concept_modeling(encodings = encodings, \n",
    "                                                           captions = captions, \n",
    "                                                           batch_size = batch_size)\n",
    "\n",
    "with open(\"generated_concepts.pkl\", \"wb\") as f:\n",
    "    pickle.dump(generated_concepts, f)\n"
   ]
  },
  {
   "cell_type": "markdown",
   "metadata": {},
   "source": [
    "### Cluser topics by semantic similarity \n",
    "- Cluser concepts\n",
    "- Sample concepts taking as mean the centroid +- a random noice to simulate user externalization"
   ]
  },
  {
   "cell_type": "code",
   "execution_count": 8,
   "metadata": {},
   "outputs": [],
   "source": [
    "from sklearn.metrics import silhouette_score\n",
    "from sklearn.cluster import KMeans\n",
    "from umap import UMAP\n",
    "import os, pickle\n",
    "import numpy as np\n",
    "\n",
    "from transformers import AutoTokenizer, AutoModel\n",
    "\n",
    "with open(\"generated_concepts.pkl\", \"rb\") as f:\n",
    "    generated_concepts = list(set(pickle.load(f)) - {\"\"})\n",
    "    \n",
    "tokenizer = AutoTokenizer.from_pretrained(\"sentence-transformers/all-MiniLM-L6-v2\")\n",
    "model = AutoModel.from_pretrained(\"sentence-transformers/all-MiniLM-L6-v2\")"
   ]
  },
  {
   "cell_type": "code",
   "execution_count": 9,
   "metadata": {},
   "outputs": [],
   "source": [
    "from transformers import AutoTokenizer, AutoModel\n",
    "import torch\n",
    "import torch.nn.functional as F\n",
    "\n",
    "def mean_pooling(model_output, attention_mask):\n",
    "    token_embeddings = model_output[0] #First element of model_output contains all token embeddings\n",
    "    input_mask_expanded = attention_mask.unsqueeze(-1).expand(token_embeddings.size()).float()\n",
    "    return torch.sum(token_embeddings * input_mask_expanded, 1) / torch.clamp(input_mask_expanded.sum(1), min=1e-9)\n",
    "\n",
    "def get_embedding(sentences, model, tokenizer, batch_size = 16):\n",
    "    with torch.no_grad():\n",
    "\n",
    "        output = None\n",
    "        for i in range(0, len(sentences), batch_size):\n",
    "            encoded_input = tokenizer(sentences[i: i + batch_size], padding=True, return_tensors='pt')\n",
    "\n",
    "            model_output = model(**encoded_input)\n",
    "            sentence_embeddings = mean_pooling(model_output, encoded_input['attention_mask'])\n",
    "\n",
    "            sentence_embeddings = F.normalize(sentence_embeddings, p=2, dim=1)\n",
    "            output = sentence_embeddings if output is None else torch.cat([output, sentence_embeddings])\n",
    "\n",
    "    return output\n",
    "\n",
    "concepts_embeddings = get_embedding(generated_concepts, model, tokenizer, batch_size = 16)"
   ]
  },
  {
   "cell_type": "code",
   "execution_count": 15,
   "metadata": {},
   "outputs": [],
   "source": [
    "import numpy as np\n",
    "import matplotlib.pyplot as plt\n",
    "from sklearn.cluster import SpectralClustering\n",
    "from sklearn.metrics.pairwise import cosine_similarity\n",
    "from sklearn.decomposition import PCA\n",
    "\n",
    "similarity_matrix = cosine_similarity(concepts_embeddings)\n",
    "\n",
    "# Apply Spectral Clustering\n",
    "num_clusters = 20\n",
    "spectral = SpectralClustering(n_clusters=num_clusters, affinity='precomputed', random_state=42)\n",
    "labels = spectral.fit_predict(similarity_matrix)\n",
    "\n",
    "# Group words by topic\n",
    "topic_groups = {}\n",
    "for word, cluster in zip(generated_concepts, labels):\n",
    "    topic_groups.setdefault(cluster, []).append(word)\n",
    "    \n",
    "with open(\"generated_concepts.pkl\", \"wb\") as f:\n",
    "\tpickle.dump({'concepts':generated_concepts,\n",
    "              'topic_groups': topic_groups}, f)"
   ]
  },
  {
   "cell_type": "markdown",
   "metadata": {},
   "source": [
    "#### Preprocess the data for simulation\n"
   ]
  },
  {
   "cell_type": "code",
   "execution_count": 1,
   "metadata": {},
   "outputs": [],
   "source": [
    "import pickle\n",
    "from glob import glob\n",
    "\n",
    "import random\n",
    "\n",
    "with open(\"generated_concepts.pkl\", \"rb\") as f:\n",
    "\tdata = pickle.load(f)\n",
    "\tgenerated_concepts = data['concepts']\n",
    "\ttopic_groups = data['topic_groups']\n",
    "\n",
    "with open('encodings.pkl', 'rb') as f:\n",
    "\tdata = pickle.load(f)\n",
    "\tencodings = data['encodings']\n",
    "\tcaptions = data['captions']\n",
    "\n",
    "images = [i for i in glob(\"../dataset/Images/*.jpg\")]"
   ]
  },
  {
   "cell_type": "code",
   "execution_count": 2,
   "metadata": {},
   "outputs": [
    {
     "name": "stdout",
     "output_type": "stream",
     "text": [
      "Topic 3: 16\n",
      "Topic 1: 28\n",
      "Topic 0: 12\n",
      "Topic 11: 24\n",
      "Topic 13: 14\n",
      "Topic 2: 7\n",
      "Topic 9: 8\n",
      "Topic 5: 20\n",
      "Topic 4: 13\n",
      "Topic 6: 7\n",
      "Topic 8: 18\n",
      "Topic 16: 15\n",
      "Topic 18: 5\n",
      "Topic 7: 8\n",
      "Topic 19: 15\n",
      "Topic 12: 8\n",
      "Topic 17: 16\n",
      "Topic 14: 9\n",
      "Topic 10: 0\n",
      "Topic 15: 7\n"
     ]
    }
   ],
   "source": [
    "concept_instance = {i:[] for i in generated_concepts}\n",
    "\n",
    "for i, path in enumerate(images):\n",
    "\tfor c in captions[i].split():\n",
    "\t\tif c in generated_concepts:\n",
    "\t\t\tconcept_instance[c] += [path]\n",
    "\n",
    "remove_topics = []\n",
    "for i in topic_groups:\n",
    "\tremove = [j for j in topic_groups[i] if len(concept_instance[j]) < 10]\n",
    "\tfor j in remove:\n",
    "\t\ttopic_groups[i].remove(j)\n",
    "\tprint(f\"Topic {i}:\", len(topic_groups[i]))\n",
    "\tif len(topic_groups[i]) < 8:\n",
    "\t\tremove_topics.append(i)\n",
    "\n",
    "for i in remove_topics:\n",
    "\tdel topic_groups[i]"
   ]
  },
  {
   "cell_type": "code",
   "execution_count": 3,
   "metadata": {},
   "outputs": [
    {
     "data": {
      "text/plain": [
       "Text(0.5, 0, 'Concepts')"
      ]
     },
     "execution_count": 3,
     "metadata": {},
     "output_type": "execute_result"
    },
    {
     "data": {
      "image/png": "[encoded data removed]",
      "text/plain": [
       "<Figure size 640x480 with 1 Axes>"
      ]
     },
     "metadata": {},
     "output_type": "display_data"
    }
   ],
   "source": [
    "from matplotlib import pyplot as plt\t\n",
    "plt.bar(range(len(generated_concepts)), sorted([len(i) for i in concept_instance.values()]), log = True)\n",
    "plt.title(\"Concepts Frequency\")\n",
    "plt.xlabel(\"Concepts\")"
   ]
  },
  {
   "cell_type": "code",
   "execution_count": 4,
   "metadata": {},
   "outputs": [
    {
     "data": {
      "text/plain": [
       "Text(0.5, 0, 'Topics')"
      ]
     },
     "execution_count": 4,
     "metadata": {},
     "output_type": "execute_result"
    },
    {
     "data": {
      "image/png": "[encoded data removed]",
      "text/plain": [
       "<Figure size 640x480 with 1 Axes>"
      ]
     },
     "metadata": {},
     "output_type": "display_data"
    }
   ],
   "source": [
    "plt.bar(range(len(topic_groups)), [len(topic_groups[i]) for i in topic_groups], color = 'r')\n",
    "plt.title(\"Topics Size\")\n",
    "plt.xlabel(\"Topics\")"
   ]
  },
  {
   "cell_type": "code",
   "execution_count": null,
   "metadata": {},
   "outputs": [],
   "source": [
    "import gymnasium as gym\n",
    "from matplotlib import pyplot as plt\n",
    "\n",
    "from ConceptPrompting import AdaptationEngine\n",
    "from tqdm import tqdm\n",
    "import torch\n",
    "\n",
    "\n",
    "def encode_actions(action, n_actions):\n",
    "\n",
    "\tif not isinstance(action, torch.Tensor):\n",
    "\t\taction = torch.tensor(action)\n",
    "\treturn torch.nn.functional.one_hot(action, num_classes=n_actions).float()\n",
    "\n",
    "def preprocess_state(state):\n",
    "\treturn torch.tensor(state).float().reshape(1, -1)\n",
    "\n",
    "def get_entropy(preferences):\n",
    "\treturn -torch.sum(preferences * torch.log(preferences), dim = -1)\n",
    "\n",
    "episodes = 400\n",
    "episode_length = 1000\n",
    "dataset_coverage_step = .75\n",
    "gamma = 0.99\n",
    "buffer = []\n",
    "actions_embedd_dim = 2\n",
    "buffer_size = 512\n",
    "\n",
    "lr_actor = 0.001\n",
    "lr_critic = 0.0001\n",
    "\n",
    "temperature = 2.0\n",
    "final_temperature = 0.1\n",
    "decay_rate = 0.99  # Decay per episode\n",
    "\n",
    "# env = gym.make('MountainCar-v0')\n",
    "env = gym.make('CartPole-v1')\n",
    "\n",
    "# Pi = Actor(state_dim = env.observation_space.shape[0], action_dim = actions_embedd_dim, lr_optimizer = lr_actor)\n",
    "# V = Critic(state_dim = env.observation_space.shape[0], lr_optimizer = lr_critic)\n",
    "Agent = AdaptationEngine(state_dim = env.observation_space.shape[0],\n",
    "\t\t\t\t\t\t \taction_dim=env.action_space.n,\n",
    "\t\t\t\t\t\t\tlr_actor = lr_actor,\n",
    "\t\t\t\t\t\t\tlr_critic = lr_critic,\n",
    "\t\t\t\t\t\t\tgamma = gamma,\n",
    "\t\t\t\t\t\t\tbuffer_size = buffer_size,\n",
    "\t\t\t\t\t\t\tsample_temperature = temperature,\n",
    "\t\t\t\t\t\t\tfinal_temperature = final_temperature,\n",
    "\t\t\t\t\t\t\ttemperatura_decay = decay_rate)\n",
    "\n",
    "actions_encode = encode_actions([i  for i in range(env.action_space.n)], env.action_space.n).to(Agent.device)\n",
    "\n",
    "episode_history = {'rewards': [],\n",
    "\t\t    'loss_critic': [], \n",
    "\t\t\t'loss_actor': []}\n",
    "\n",
    "history = {'rewards': [],\n",
    "\t\t    'loss_critic': [], \n",
    "\t\t\t'loss_actor': []}\n",
    "\n",
    "\n",
    "for episode in range(episodes):\n",
    "\n",
    "\tprev_state, _ = env.reset()\n",
    "\tprev_state = preprocess_state(prev_state)\n",
    "\n",
    "\tepisode_history = {'rewards': [],\n",
    "\t\t'loss_critic': [], \n",
    "\t\t'loss_actor': [],\n",
    "\t\t'entropy': []}\n",
    "\t\t\t\n",
    "\titera = tqdm(range(episode_length))\n",
    "\titera.set_description(f\"Episode {episode}\")\n",
    "\t\n",
    "\tfor step in itera:\n",
    "\n",
    "\t\tpreferences = Agent.policy(prev_state, actions_encode)\t\n",
    "\t\taction = torch.multinomial(preferences, 1).squeeze(-1)\n",
    "\t\t\n",
    "\t\tstate, reward, done, truncated, _ = env.step(action.item())\n",
    "\t\tstate = preprocess_state(state)\n",
    "\n",
    "\t\tAgent.push_buffer(state=prev_state,\n",
    "\t\t\t\t\t action=action, \n",
    "\t\t\t\t\t reward=reward, \n",
    "\t\t\t\t\t next_state=state, \n",
    "\t\t\t\t\t done=done)\n",
    "\t\t\n",
    "\t\tepisode_history['rewards'].append(reward)\n",
    "\t\tepisode_history['entropy'].append(get_entropy(preferences).mean().item())\n",
    "\n",
    "\t\tif Agent.buffer_size <= len(Agent.buffer):\n",
    "\t\t\tactor_loss, critic_loss = Agent.optimization_step(actions_encode)\n",
    "\t\t\tepisode_history['loss_critic'].append(critic_loss)\n",
    "\t\t\tepisode_history['loss_actor'].append(actor_loss)\n",
    "\n",
    "\t\tprev_state = state\n",
    "\n",
    "\t\titera.set_postfix({'Temperature': f'{temperature:.4f}',\n",
    "\t\t\t\t\t\t'Reward': sum(episode_history['rewards']),\n",
    "\t\t\t\t\t\t'entropy': sum(episode_history['entropy']),\n",
    "\t\t\t\t\t\t'Loss Critic': sum(episode_history['loss_critic']),\n",
    "\t\t\t\t\t\t'Loss Actor': sum(episode_history['loss_actor'])} )\n",
    "\t\tif done or truncated:\n",
    "\t\t\thistory['rewards'].append(sum(episode_history['rewards']))\n",
    "\t\t\thistory['loss_critic'].append(sum(episode_history['loss_critic']))\n",
    "\t\t\thistory['loss_actor'].append(sum(episode_history['loss_actor']))\n",
    "\t\t\tbreak\n",
    "\n",
    "\ttemperature = max(final_temperature, temperature * decay_rate)\n",
    "\tif Agent.max_reward is None or Agent.max_reward < sum(episode_history['rewards']):\n",
    "\t\tAgent.max_reward = sum(episode_history['rewards'])\n",
    "\t\tAgent.Actor.save(f\"actor.pt\")\n",
    "\t\tAgent.Critic.save(f\"critic.pt\")\n",
    "\n",
    "env.close()"
   ]
  },
  {
   "cell_type": "code",
   "execution_count": 2,
   "metadata": {},
   "outputs": [
    {
     "data": {
      "text/plain": [
       "Text(0.5, 0, 'Iterations')"
      ]
     },
     "execution_count": 2,
     "metadata": {},
     "output_type": "execute_result"
    },
    {
     "data": {
      "image/png": "[encoded data removed]",
      "text/plain": [
       "<Figure size 640x480 with 1 Axes>"
      ]
     },
     "metadata": {},
     "output_type": "display_data"
    }
   ],
   "source": [
    "plt.plot(history['rewards'])\n",
    "plt.title(\"Rewards\")\n",
    "plt.xlabel(\"Iterations\")"
   ]
  },
  {
   "cell_type": "code",
   "execution_count": 45,
   "metadata": {},
   "outputs": [
    {
     "data": {
      "text/plain": [
       "-845.0"
      ]
     },
     "execution_count": 45,
     "metadata": {},
     "output_type": "execute_result"
    }
   ],
   "source": [
    "sum(episode_history['rewards'])"
   ]
  },
  {
   "cell_type": "code",
   "execution_count": 7,
   "metadata": {},
   "outputs": [
    {
     "data": {
      "image/png": "[encoded data removed]",
      "text/plain": [
       "<Figure size 640x480 with 1 Axes>"
      ]
     },
     "metadata": {},
     "output_type": "display_data"
    },
    {
     "data": {
      "image/png": "[encoded data removed]",
      "text/plain": [
       "<Figure size 640x480 with 1 Axes>"
      ]
     },
     "metadata": {},
     "output_type": "display_data"
    }
   ],
   "source": [
    "import matplotlib.pyplot as plt\n",
    "%matplotlib inline\n",
    "from IPython import display\n",
    "\n",
    "def show_state(env, step=0):\n",
    "    plt.figure(3)\n",
    "    plt.clf()\n",
    "    plt.imshow(env.render())\n",
    "    plt.title(f\"Step: {step}\")\n",
    "    plt.axis('off')\n",
    "\n",
    "    display.clear_output(wait=True)\n",
    "    display.display(plt.gcf())\n",
    "\n",
    "\n",
    "env = gym.make('CartPole-v1', render_mode='rgb_array')\n",
    "Agent = AdaptationEngine(state_dim = env.observation_space.shape[0],\n",
    "\t\t\t\t\t\t\taction_dim=env.action_space.n)\n",
    "                            \n",
    "Agent.Actor.load('actor.pt')\n",
    "# env = gym.make('MountainCar-v0', render_mode='rgb_array')\n",
    "\n",
    "prev_state, info = env.reset()\n",
    "prev_state = preprocess_state(prev_state)\n",
    "print(prev_state)\n",
    "for step in range(int(100)):\n",
    "\tpreferences =  Agent.policy(prev_state, actions_encode)\n",
    "\n",
    "\taction = preferences.argmax()\n",
    "\n",
    "\tobservation, reward, terminated, _, _ = env.step(action.item())\n",
    "\tprint(action)\n",
    "\n",
    "\tprev_state = preprocess_state(observation)\n",
    "\tprev_action = action\n",
    "\n",
    "\tshow_state(env, step=step)\n",
    "\n",
    "\tif terminated:\n",
    "\t\tprint(observation)\n",
    "\t\tbreak\n",
    "\n",
    "env.close()\n"
   ]
  },
  {
   "cell_type": "markdown",
   "metadata": {},
   "source": [
    "### Exploration Agent"
   ]
  },
  {
   "cell_type": "code",
   "execution_count": null,
   "metadata": {},
   "outputs": [],
   "source": [
    "import gymnasium as gym\n",
    "from matplotlib import pyplot as plt\n",
    "\n",
    "from ConceptPrompting import AdaptationEngine\n",
    "from tqdm import tqdm\n",
    "import torch\n",
    "\n",
    "\n",
    "def encode_actions(action, n_actions):\n",
    "\n",
    "\tif not isinstance(action, torch.Tensor):\n",
    "\t\taction = torch.tensor(action)\n",
    "\treturn torch.nn.functional.one_hot(action, num_classes=n_actions).float()\n",
    "\n",
    "def preprocess_state(state):\n",
    "\treturn torch.tensor(state).float().reshape(1, -1)\n",
    "\n",
    "def get_entropy(preferences):\n",
    "\treturn -torch.sum(preferences * torch.log(preferences), dim = -1)\n",
    "\n",
    "episodes = 400\n",
    "episode_length = 1000\n",
    "dataset_coverage_step = .75\n",
    "gamma = 0.99\n",
    "buffer = []\n",
    "actions_embedd_dim = 2\n",
    "buffer_size = 512\n",
    "\n",
    "lr_actor = 0.001\n",
    "lr_critic = 0.0001\n",
    "\n",
    "temperature = 2.0\n",
    "final_temperature = 0.1\n",
    "decay_rate = 0.99  # Decay per episode\n",
    "\n",
    "# env = gym.make('MountainCar-v0')\n",
    "env = gym.make('CartPole-v1')\n",
    "\n",
    "# Pi = Actor(state_dim = env.observation_space.shape[0], action_dim = actions_embedd_dim, lr_optimizer = lr_actor)\n",
    "# V = Critic(state_dim = env.observation_space.shape[0], lr_optimizer = lr_critic)\n",
    "Agent = AdaptationEngine(state_dim = env.observation_space.shape[0],\n",
    "\t\t\t\t\t\t \taction_dim=env.action_space.n,\n",
    "\t\t\t\t\t\t\tlr_actor = lr_actor,\n",
    "\t\t\t\t\t\t\tlr_critic = lr_critic,\n",
    "\t\t\t\t\t\t\tgamma = gamma,\n",
    "\t\t\t\t\t\t\tbuffer_size = buffer_size,\n",
    "\t\t\t\t\t\t\tsample_temperature = temperature,\n",
    "\t\t\t\t\t\t\tfinal_temperature = final_temperature,\n",
    "\t\t\t\t\t\t\ttemperatura_decay = decay_rate)\n",
    "\n",
    "actions_encode = encode_actions([i  for i in range(env.action_space.n)], env.action_space.n).to(Agent.device)\n",
    "\n",
    "episode_history = {'rewards': [],\n",
    "\t\t    'loss_critic': [], \n",
    "\t\t\t'loss_actor': []}\n",
    "\n",
    "history = {'rewards': [],\n",
    "\t\t    'loss_critic': [], \n",
    "\t\t\t'loss_actor': []}\n",
    "\n",
    "\n",
    "for episode in range(episodes):\n",
    "\n",
    "\tprev_state, _ = env.reset()\n",
    "\tprev_state = preprocess_state(prev_state)\n",
    "\n",
    "\tepisode_history = {'rewards': [],\n",
    "\t\t'loss_critic': [], \n",
    "\t\t'loss_actor': [],\n",
    "\t\t'entropy': []}\n",
    "\t\t\t\n",
    "\titera = tqdm(range(episode_length))\n",
    "\titera.set_description(f\"Episode {episode}\")\n",
    "\t\n",
    "\tfor step in itera:\n",
    "\n",
    "\t\tpreferences = Agent.policy(prev_state, actions_encode)\t\n",
    "\t\taction = torch.multinomial(preferences, 1).squeeze(-1)\n",
    "\t\t\n",
    "\t\tstate, reward, done, truncated, _ = env.step(action.item())\n",
    "\t\tstate = preprocess_state(state)\n",
    "\n",
    "\t\tAgent.push_buffer(state=prev_state,\n",
    "\t\t\t\t\t action=action, \n",
    "\t\t\t\t\t reward=reward, \n",
    "\t\t\t\t\t next_state=state, \n",
    "\t\t\t\t\t done=done)\n",
    "\t\t\n",
    "\t\tepisode_history['rewards'].append(reward)\n",
    "\t\tepisode_history['entropy'].append(get_entropy(preferences).mean().item())\n",
    "\n",
    "\t\tif Agent.buffer_size <= len(Agent.buffer):\n",
    "\t\t\tactor_loss, critic_loss = Agent.optimization_step(actions_encode)\n",
    "\t\t\tepisode_history['loss_critic'].append(critic_loss)\n",
    "\t\t\tepisode_history['loss_actor'].append(actor_loss)\n",
    "\n",
    "\t\tprev_state = state\n",
    "\n",
    "\t\titera.set_postfix({'Temperature': f'{temperature:.4f}',\n",
    "\t\t\t\t\t\t'Reward': sum(episode_history['rewards']),\n",
    "\t\t\t\t\t\t'entropy': sum(episode_history['entropy']),\n",
    "\t\t\t\t\t\t'Loss Critic': sum(episode_history['loss_critic']),\n",
    "\t\t\t\t\t\t'Loss Actor': sum(episode_history['loss_actor'])} )\n",
    "\t\tif done or truncated:\n",
    "\t\t\thistory['rewards'].append(sum(episode_history['rewards']))\n",
    "\t\t\thistory['loss_critic'].append(sum(episode_history['loss_critic']))\n",
    "\t\t\thistory['loss_actor'].append(sum(episode_history['loss_actor']))\n",
    "\t\t\tbreak\n",
    "\n",
    "\ttemperature = max(final_temperature, temperature * decay_rate)\n",
    "\tif Agent.max_reward is None or Agent.max_reward < sum(episode_history['rewards']):\n",
    "\t\tAgent.max_reward = sum(episode_history['rewards'])\n",
    "\t\tAgent.Actor.save(f\"actor.pt\")\n",
    "\t\tAgent.Critic.save(f\"critic.pt\")\n",
    "\n",
    "env.close()"
   ]
  },
  {
   "cell_type": "code",
   "execution_count": null,
   "metadata": {},
   "outputs": [],
   "source": []
  }
 ],
 "metadata": {
  "kernelspec": {
   "display_name": "base",
   "language": "python",
   "name": "python3"
  },
  "language_info": {
   "codemirror_mode": {
    "name": "ipython",
    "version": 3
   },
   "file_extension": ".py",
   "mimetype": "text/x-python",
   "name": "python",
   "nbconvert_exporter": "python",
   "pygments_lexer": "ipython3",
   "version": "3.11.9"
  }
 },
 "nbformat": 4,
 "nbformat_minor": 2
}
