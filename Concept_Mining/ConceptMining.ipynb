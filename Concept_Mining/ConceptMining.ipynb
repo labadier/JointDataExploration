{
 "cells": [
  {
   "cell_type": "markdown",
   "metadata": {},
   "source": [
    "### Prepare Data"
   ]
  },
  {
   "cell_type": "code",
   "execution_count": null,
   "metadata": {},
   "outputs": [],
   "source": [
    "from glob import glob\n",
    "from ConceptMining import ConceptMiner\n",
    "from settings import settings\n",
    "\n",
    "import pickle"
   ]
  },
  {
   "cell_type": "code",
   "execution_count": null,
   "metadata": {},
   "outputs": [],
   "source": [
    "batch_size = 70\n",
    "images = [i for i in glob(\"../dataset/Images/*.jpg\")]\n",
    "Miner = ConceptMiner(images = images, load_model= True)\n",
    "\n",
    "# encodings, captions = Miner.get_image_caption(get_encodings = True, batch_size = batch_size)"
   ]
  },
  {
   "cell_type": "code",
   "execution_count": null,
   "metadata": {},
   "outputs": [],
   "source": [
    "# with open('encodings.pkl', 'wb') as f:\n",
    "#     pickle.dump({'encodings':encodings, 'captions': captions}, f)\n",
    "with open('encodings.pkl', 'rb') as f:\n",
    "\tdata = pickle.load(f)\n",
    "\tencodings = data['encodings']\n",
    "\tcaptions = data['captions']"
   ]
  },
  {
   "cell_type": "code",
   "execution_count": null,
   "metadata": {},
   "outputs": [],
   "source": [
    "concept_model, generated_concepts = Miner.concept_modeling(encodings = encodings, \n",
    "                                                           captions = captions, \n",
    "                                                           batch_size = batch_size)\n",
    "\n",
    "with open(\"generated_concepts.pkl\", \"wb\") as f:\n",
    "    pickle.dump(generated_concepts, f)\n"
   ]
  },
  {
   "cell_type": "markdown",
   "metadata": {},
   "source": [
    "### Cluser topics by semantic similarity \n",
    "- Cluser concepts\n",
    "- Sample concepts taking as mean the centroid +- a random noice to simulate user externalization"
   ]
  },
  {
   "cell_type": "code",
   "execution_count": null,
   "metadata": {},
   "outputs": [],
   "source": [
    "from sklearn.metrics import silhouette_score\n",
    "from sklearn.cluster import KMeans\n",
    "from umap import UMAP\n",
    "import os, pickle\n",
    "import numpy as np\n",
    "\n",
    "from transformers import AutoTokenizer, AutoModel\n",
    "\n",
    "with open(\"generated_concepts.pkl\", \"rb\") as f:\n",
    "    generated_concepts = list(set(pickle.load(f)) - {\"\"})\n",
    "    \n",
    "tokenizer = AutoTokenizer.from_pretrained(\"sentence-transformers/all-MiniLM-L6-v2\")\n",
    "model = AutoModel.from_pretrained(\"sentence-transformers/all-MiniLM-L6-v2\")"
   ]
  },
  {
   "cell_type": "code",
   "execution_count": null,
   "metadata": {},
   "outputs": [],
   "source": [
    "from transformers import AutoTokenizer, AutoModel\n",
    "import torch\n",
    "import torch.nn.functional as F\n",
    "\n",
    "def mean_pooling(model_output, attention_mask):\n",
    "    token_embeddings = model_output[0] #First element of model_output contains all token embeddings\n",
    "    input_mask_expanded = attention_mask.unsqueeze(-1).expand(token_embeddings.size()).float()\n",
    "    return torch.sum(token_embeddings * input_mask_expanded, 1) / torch.clamp(input_mask_expanded.sum(1), min=1e-9)\n",
    "\n",
    "def get_embedding(sentences, model, tokenizer, batch_size = 16):\n",
    "    with torch.no_grad():\n",
    "\n",
    "        output = None\n",
    "        for i in range(0, len(sentences), batch_size):\n",
    "            encoded_input = tokenizer(sentences[i: i + batch_size], padding=True, return_tensors='pt')\n",
    "\n",
    "            model_output = model(**encoded_input)\n",
    "            sentence_embeddings = mean_pooling(model_output, encoded_input['attention_mask'])\n",
    "\n",
    "            sentence_embeddings = F.normalize(sentence_embeddings, p=2, dim=1)\n",
    "            output = sentence_embeddings if output is None else torch.cat([output, sentence_embeddings])\n",
    "\n",
    "    return output\n",
    "\n",
    "concepts_embeddings = get_embedding(generated_concepts, model, tokenizer, batch_size = 16)"
   ]
  },
  {
   "cell_type": "code",
   "execution_count": null,
   "metadata": {},
   "outputs": [],
   "source": [
    "import numpy as np\n",
    "import matplotlib.pyplot as plt\n",
    "from sklearn.cluster import SpectralClustering\n",
    "from sklearn.metrics.pairwise import cosine_similarity\n",
    "from sklearn.decomposition import PCA\n",
    "\n",
    "similarity_matrix = cosine_similarity(concepts_embeddings)\n",
    "\n",
    "# Apply Spectral Clustering\n",
    "num_clusters = 20\n",
    "spectral = SpectralClustering(n_clusters=num_clusters, affinity='precomputed', random_state=42)\n",
    "labels = spectral.fit_predict(similarity_matrix)\n",
    "\n",
    "# Group words by topic\n",
    "topic_groups = {}\n",
    "for word, cluster in zip(generated_concepts, labels):\n",
    "    topic_groups.setdefault(cluster, []).append(word)\n",
    "    \n",
    "with open(\"generated_concepts.pkl\", \"wb\") as f:\n",
    "\tpickle.dump({'concepts':generated_concepts,\n",
    "              'topic_groups': topic_groups}, f)"
   ]
  },
  {
   "cell_type": "markdown",
   "metadata": {},
   "source": [
    "#### Preprocess the data for simulation\n"
   ]
  },
  {
   "cell_type": "code",
   "execution_count": null,
   "metadata": {},
   "outputs": [],
   "source": [
    "import pickle\n",
    "from glob import glob\n",
    "\n",
    "import random\n",
    "\n",
    "with open(\"generated_concepts.pkl\", \"rb\") as f:\n",
    "\tdata = pickle.load(f)\n",
    "\tgenerated_concepts = data['concepts']\n",
    "\ttopic_groups = data['topic_groups']\n",
    "\n",
    "with open('encodings.pkl', 'rb') as f:\n",
    "\tdata = pickle.load(f)\n",
    "\tencodings = data['encodings']\n",
    "\tcaptions = data['captions']\n",
    "\n",
    "images = [i for i in glob(\"../dataset/Images/*.jpg\")]"
   ]
  },
  {
   "cell_type": "markdown",
   "metadata": {},
   "source": [
    "##### Encode all text and images to speed up training\n"
   ]
  },
  {
   "cell_type": "code",
   "execution_count": 6,
   "metadata": {},
   "outputs": [
    {
     "name": "stderr",
     "output_type": "stream",
     "text": [
      "100%|██████████| 116/116 [01:35<00:00,  1.22it/s]\n",
      "100%|██████████| 9/9 [00:00<00:00, 32.81it/s]\n"
     ]
    }
   ],
   "source": [
    "from PIL import Image\n",
    "import pickle\n",
    "from tqdm import tqdm\n",
    "\n",
    "from transformers import CLIPProcessor, CLIPModel\n",
    "\n",
    "model = CLIPModel.from_pretrained(\"openai/clip-vit-base-patch32\").to(\"cuda\")\n",
    "processor = CLIPProcessor.from_pretrained(\"openai/clip-vit-base-patch32\")\n",
    "\n",
    "batch_size = 70\n",
    "# encode all images using output of a single text\n",
    "image_encodings = []\n",
    "\n",
    "for batch in tqdm(range(0, len(images), batch_size)):\n",
    "\timage = [Image.open(i) for i in images[batch: batch + batch_size]]\n",
    "\tinputs = processor(text=[\"a photo of a cat\"] * len(image), images=image, return_tensors=\"pt\", padding=True).to(\"cuda\")\n",
    "\toutputs = model(**inputs, return_dict = True)\n",
    "\timage_encodings += [outputs.image_embeds.cpu().detach()]\n",
    "\n",
    "image_encodings = torch.cat(image_encodings)\n",
    "\n",
    "# encode all concepts using output of a single image\n",
    "concept_encodings = []\n",
    "for batch in tqdm(range(0, len(generated_concepts), batch_size)):\n",
    "\tconcepts = generated_concepts[batch: batch + batch_size]\n",
    "\tinputs = processor(text=concepts, images=[Image.open(images[0])], return_tensors=\"pt\", padding=True).to(\"cuda\")\n",
    "\toutputs = model(**inputs, return_dict = True)\n",
    "\tconcept_encodings += [outputs.text_embeds.cpu().detach()]\n",
    "\n",
    "concept_encodings = torch.cat(concept_encodings)\n",
    "with open(\"clip_encodings.pkl\", \"wb\") as f:\n",
    "\tpickle.dump({'image_encodings': image_encodings,\n",
    "\t\t\t  'concept_encodings': concept_encodings}, f)"
   ]
  },
  {
   "cell_type": "code",
   "execution_count": null,
   "metadata": {},
   "outputs": [
    {
     "name": "stdout",
     "output_type": "stream",
     "text": [
      "Topic 3: 16\n",
      "Topic 1: 28\n",
      "Topic 0: 12\n",
      "Topic 11: 24\n",
      "Topic 13: 14\n",
      "Topic 2: 7\n",
      "Topic 9: 8\n",
      "Topic 5: 20\n",
      "Topic 4: 13\n",
      "Topic 6: 7\n",
      "Topic 8: 18\n",
      "Topic 16: 15\n",
      "Topic 18: 5\n",
      "Topic 7: 8\n",
      "Topic 19: 15\n",
      "Topic 12: 8\n",
      "Topic 17: 16\n",
      "Topic 14: 9\n",
      "Topic 10: 0\n",
      "Topic 15: 7\n"
     ]
    }
   ],
   "source": [
    "concept_instance = {i:[] for i in generated_concepts}\n",
    "\n",
    "for i, path in enumerate(images):\n",
    "\tfor c in captions[i].split():\n",
    "\t\tif c in generated_concepts:\n",
    "\t\t\tconcept_instance[c] += [path]\n",
    "\n",
    "remove_topics = []\n",
    "for i in topic_groups:\n",
    "\tremove = [j for j in topic_groups[i] if len(concept_instance[j]) < 10]\n",
    "\tfor j in remove:\n",
    "\t\ttopic_groups[i].remove(j)\n",
    "\tprint(f\"Topic {i}:\", len(topic_groups[i]))\n",
    "\tif len(topic_groups[i]) < 8:\n",
    "\t\tremove_topics.append(i)\n",
    "\n",
    "for i in remove_topics:\n",
    "\tdel topic_groups[i]"
   ]
  },
  {
   "cell_type": "code",
   "execution_count": null,
   "metadata": {},
   "outputs": [
    {
     "data": {
      "text/plain": [
       "Text(0.5, 0, 'Concepts')"
      ]
     },
     "execution_count": 3,
     "metadata": {},
     "output_type": "execute_result"
    },
    {
     "data": {
      "image/png": "[encoded data removed]",
      "text/plain": [
       "<Figure size 640x480 with 1 Axes>"
      ]
     },
     "metadata": {},
     "output_type": "display_data"
    }
   ],
   "source": [
    "from matplotlib import pyplot as plt\t\n",
    "plt.bar(range(len(generated_concepts)), sorted([len(i) for i in concept_instance.values()]), log = True)\n",
    "plt.title(\"Concepts Frequency\")\n",
    "plt.xlabel(\"Concepts\")"
   ]
  },
  {
   "cell_type": "code",
   "execution_count": null,
   "metadata": {},
   "outputs": [
    {
     "data": {
      "text/plain": [
       "Text(0.5, 0, 'Topics')"
      ]
     },
     "execution_count": 4,
     "metadata": {},
     "output_type": "execute_result"
    },
    {
     "data": {
      "image/png": "[encoded data removed]",
      "text/plain": [
       "<Figure size 640x480 with 1 Axes>"
      ]
     },
     "metadata": {},
     "output_type": "display_data"
    }
   ],
   "source": [
    "plt.bar(range(len(topic_groups)), [len(topic_groups[i]) for i in topic_groups], color = 'r')\n",
    "plt.title(\"Topics Size\")\n",
    "plt.xlabel(\"Topics\")"
   ]
  },
  {
   "cell_type": "code",
   "execution_count": null,
   "metadata": {},
   "outputs": [],
   "source": [
    "import gymnasium as gym\n",
    "from matplotlib import pyplot as plt\n",
    "\n",
    "from ConceptPrompting import AdaptationEngine\n",
    "from tqdm import tqdm\n",
    "import torch\n",
    "\n",
    "\n",
    "def encode_actions(action, n_actions):\n",
    "\n",
    "\tif not isinstance(action, torch.Tensor):\n",
    "\t\taction = torch.tensor(action)\n",
    "\treturn torch.nn.functional.one_hot(action, num_classes=n_actions).float()\n",
    "\n",
    "def preprocess_state(state):\n",
    "\treturn torch.tensor(state).float().reshape(1, -1)\n",
    "\n",
    "def get_entropy(preferences):\n",
    "\treturn -torch.sum(preferences * torch.log(preferences), dim = -1)\n",
    "\n",
    "episodes = 400\n",
    "episode_length = 1000\n",
    "dataset_coverage_step = .75\n",
    "gamma = 0.99\n",
    "buffer = []\n",
    "actions_embedd_dim = 2\n",
    "buffer_size = 512\n",
    "\n",
    "lr_actor = 0.001\n",
    "lr_critic = 0.0001\n",
    "\n",
    "temperature = 2.0\n",
    "final_temperature = 0.1\n",
    "decay_rate = 0.99  # Decay per episode\n",
    "\n",
    "# env = gym.make('MountainCar-v0')\n",
    "env = gym.make('CartPole-v1')\n",
    "\n",
    "# Pi = Actor(state_dim = env.observation_space.shape[0], action_dim = actions_embedd_dim, lr_optimizer = lr_actor)\n",
    "# V = Critic(state_dim = env.observation_space.shape[0], lr_optimizer = lr_critic)\n",
    "Agent = AdaptationEngine(state_dim = env.observation_space.shape[0],\n",
    "\t\t\t\t\t\t \taction_dim=env.action_space.n,\n",
    "\t\t\t\t\t\t\tlr_actor = lr_actor,\n",
    "\t\t\t\t\t\t\tlr_critic = lr_critic,\n",
    "\t\t\t\t\t\t\tgamma = gamma,\n",
    "\t\t\t\t\t\t\tbuffer_size = buffer_size,\n",
    "\t\t\t\t\t\t\tsample_temperature = temperature,\n",
    "\t\t\t\t\t\t\tfinal_temperature = final_temperature,\n",
    "\t\t\t\t\t\t\ttemperatura_decay = decay_rate)\n",
    "\n",
    "actions_encode = encode_actions([i  for i in range(env.action_space.n)], env.action_space.n).to(Agent.device)\n",
    "\n",
    "episode_history = {'rewards': [],\n",
    "\t\t    'loss_critic': [], \n",
    "\t\t\t'loss_actor': []}\n",
    "\n",
    "history = {'rewards': [],\n",
    "\t\t    'loss_critic': [], \n",
    "\t\t\t'loss_actor': []}\n",
    "\n",
    "\n",
    "for episode in range(episodes):\n",
    "\n",
    "\tprev_state, _ = env.reset()\n",
    "\tprev_state = preprocess_state(prev_state)\n",
    "\n",
    "\tepisode_history = {'rewards': [],\n",
    "\t\t'loss_critic': [], \n",
    "\t\t'loss_actor': [],\n",
    "\t\t'entropy': []}\n",
    "\t\t\t\n",
    "\titera = tqdm(range(episode_length))\n",
    "\titera.set_description(f\"Episode {episode}\")\n",
    "\t\n",
    "\tfor step in itera:\n",
    "\n",
    "\t\tpreferences = Agent.policy(prev_state, actions_encode)\t\n",
    "\t\taction = torch.multinomial(preferences, 1).squeeze(-1)\n",
    "\t\t\n",
    "\t\tstate, reward, done, truncated, _ = env.step(action.item())\n",
    "\t\tstate = preprocess_state(state)\n",
    "\n",
    "\t\tAgent.push_buffer(state=prev_state,\n",
    "\t\t\t\t\t action=action, \n",
    "\t\t\t\t\t reward=reward, \n",
    "\t\t\t\t\t next_state=state, \n",
    "\t\t\t\t\t done=done)\n",
    "\t\t\n",
    "\t\tepisode_history['rewards'].append(reward)\n",
    "\t\tepisode_history['entropy'].append(get_entropy(preferences).mean().item())\n",
    "\n",
    "\t\tif Agent.buffer_size <= len(Agent.buffer):\n",
    "\t\t\tactor_loss, critic_loss = Agent.optimization_step(actions_encode)\n",
    "\t\t\tepisode_history['loss_critic'].append(critic_loss)\n",
    "\t\t\tepisode_history['loss_actor'].append(actor_loss)\n",
    "\n",
    "\t\tprev_state = state\n",
    "\n",
    "\t\titera.set_postfix({'Temperature': f'{temperature:.4f}',\n",
    "\t\t\t\t\t\t'Reward': sum(episode_history['rewards']),\n",
    "\t\t\t\t\t\t'entropy': sum(episode_history['entropy']),\n",
    "\t\t\t\t\t\t'Loss Critic': sum(episode_history['loss_critic']),\n",
    "\t\t\t\t\t\t'Loss Actor': sum(episode_history['loss_actor'])} )\n",
    "\t\tif done or truncated:\n",
    "\t\t\thistory['rewards'].append(sum(episode_history['rewards']))\n",
    "\t\t\thistory['loss_critic'].append(sum(episode_history['loss_critic']))\n",
    "\t\t\thistory['loss_actor'].append(sum(episode_history['loss_actor']))\n",
    "\t\t\tbreak\n",
    "\n",
    "\ttemperature = max(final_temperature, temperature * decay_rate)\n",
    "\tif Agent.max_reward is None or Agent.max_reward < sum(episode_history['rewards']):\n",
    "\t\tAgent.max_reward = sum(episode_history['rewards'])\n",
    "\t\tAgent.Actor.save(f\"actor.pt\")\n",
    "\t\tAgent.Critic.save(f\"critic.pt\")\n",
    "\n",
    "env.close()"
   ]
  },
  {
   "cell_type": "code",
   "execution_count": null,
   "metadata": {},
   "outputs": [
    {
     "data": {
      "text/plain": [
       "Text(0.5, 0, 'Iterations')"
      ]
     },
     "execution_count": 2,
     "metadata": {},
     "output_type": "execute_result"
    },
    {
     "data": {
      "image/png": "[encoded data removed]",
      "text/plain": [
       "<Figure size 640x480 with 1 Axes>"
      ]
     },
     "metadata": {},
     "output_type": "display_data"
    }
   ],
   "source": [
    "plt.plot(history['rewards'])\n",
    "plt.title(\"Rewards\")\n",
    "plt.xlabel(\"Iterations\")"
   ]
  },
  {
   "cell_type": "code",
   "execution_count": null,
   "metadata": {},
   "outputs": [
    {
     "data": {
      "image/png": "[encoded data removed]",
      "text/plain": [
       "<Figure size 640x480 with 1 Axes>"
      ]
     },
     "metadata": {},
     "output_type": "display_data"
    },
    {
     "data": {
      "image/png": "[encoded data removed]",
      "text/plain": [
       "<Figure size 640x480 with 1 Axes>"
      ]
     },
     "metadata": {},
     "output_type": "display_data"
    }
   ],
   "source": [
    "import matplotlib.pyplot as plt\n",
    "%matplotlib inline\n",
    "from IPython import display\n",
    "\n",
    "def show_state(env, step=0):\n",
    "    plt.figure(3)\n",
    "    plt.clf()\n",
    "    plt.imshow(env.render())\n",
    "    plt.title(f\"Step: {step}\")\n",
    "    plt.axis('off')\n",
    "\n",
    "    display.clear_output(wait=True)\n",
    "    display.display(plt.gcf())\n",
    "\n",
    "\n",
    "env = gym.make('CartPole-v1', render_mode='rgb_array')\n",
    "Agent = AdaptationEngine(state_dim = env.observation_space.shape[0],\n",
    "\t\t\t\t\t\t\taction_dim=env.action_space.n)\n",
    "                            \n",
    "Agent.Actor.load('actor.pt')\n",
    "# env = gym.make('MountainCar-v0', render_mode='rgb_array')\n",
    "\n",
    "prev_state, info = env.reset()\n",
    "prev_state = preprocess_state(prev_state)\n",
    "print(prev_state)\n",
    "for step in range(int(100)):\n",
    "\tpreferences =  Agent.policy(prev_state, actions_encode)\n",
    "\n",
    "\taction = preferences.argmax()\n",
    "\n",
    "\tobservation, reward, terminated, _, _ = env.step(action.item())\n",
    "\tprint(action)\n",
    "\n",
    "\tprev_state = preprocess_state(observation)\n",
    "\tprev_action = action\n",
    "\n",
    "\tshow_state(env, step=step)\n",
    "\n",
    "\tif terminated:\n",
    "\t\tprint(observation)\n",
    "\t\tbreak\n",
    "\n",
    "env.close()\n"
   ]
  },
  {
   "cell_type": "markdown",
   "metadata": {},
   "source": [
    "### Exploration Agent"
   ]
  },
  {
   "cell_type": "code",
   "execution_count": 1,
   "metadata": {},
   "outputs": [
    {
     "name": "stdout",
     "output_type": "stream",
     "text": [
      "Topic 3: 16\n",
      "Topic 1: 28\n",
      "Topic 0: 12\n",
      "Topic 11: 24\n",
      "Topic 13: 14\n",
      "Topic 9: 8\n",
      "Topic 5: 20\n",
      "Topic 4: 13\n",
      "Topic 8: 18\n",
      "Topic 16: 15\n",
      "Topic 7: 8\n",
      "Topic 19: 15\n",
      "Topic 12: 8\n",
      "Topic 17: 16\n",
      "Topic 14: 9\n"
     ]
    },
    {
     "name": "stderr",
     "output_type": "stream",
     "text": [
      "Episode 0:  95%|█████████▌| 19/20 [00:02<00:00,  7.96it/s, Temp=5.0000, Avg. Reward=0.0000, Reward=28.3, entropy=127, L Critic=0, L Actor=0] \n"
     ]
    },
    {
     "name": "stdout",
     "output_type": "stream",
     "text": [
      "Model saved - -1.00\n"
     ]
    },
    {
     "name": "stderr",
     "output_type": "stream",
     "text": [
      "Episode 1:  96%|█████████▌| 23/24 [00:02<00:00,  8.86it/s, Temp=4.9500, Avg. Reward=-1.0000, Reward=34.3, entropy=153, L Critic=0, L Actor=0] \n",
      "Episode 2:  88%|████████▊ | 7/8 [00:00<00:00,  9.72it/s, Temp=4.9005, Avg. Reward=-1.0000, Reward=10.5, entropy=51, L Critic=0, L Actor=0]  \n",
      "Episode 3:  89%|████████▉ | 8/9 [00:00<00:00,  9.01it/s, Temp=4.8515, Avg. Reward=-1.0000, Reward=12, entropy=57.3, L Critic=0, L Actor=0]  \n",
      "Episode 4:  88%|████████▊ | 7/8 [00:00<00:00,  7.20it/s, Temp=4.8030, Avg. Reward=-1.0000, Reward=10.5, entropy=51, L Critic=53.5, L Actor=12.5]  \n",
      "Episode 5:  92%|█████████▏| 12/13 [00:01<00:00,  8.41it/s, Temp=4.7550, Avg. Reward=-1.0000, Reward=18, entropy=82.8, L Critic=114, L Actor=26.8]   \n",
      "Episode 6:  88%|████████▊ | 7/8 [00:00<00:00,  9.20it/s, Temp=4.7074, Avg. Reward=-1.0000, Reward=10.6, entropy=50.9, L Critic=69.4, L Actor=16.5]\n",
      "Episode 7:  93%|█████████▎| 13/14 [00:01<00:00,  8.82it/s, Temp=4.6603, Avg. Reward=-1.0000, Reward=19.5, entropy=88.6, L Critic=117, L Actor=28.6] \n",
      "Episode 8:  95%|█████████▌| 19/20 [00:02<00:00,  8.42it/s, Temp=4.6137, Avg. Reward=-1.0000, Reward=28.2, entropy=116, L Critic=154, L Actor=41.1]  \n",
      "Episode 9:  93%|█████████▎| 14/15 [00:01<00:00,  8.62it/s, Temp=4.5676, Avg. Reward=-1.0000, Reward=20.9, entropy=79.3, L Critic=106, L Actor=31.4] \n",
      "Episode 10:  92%|█████████▏| 11/12 [00:01<00:00,  9.14it/s, Temp=4.5219, Avg. Reward=-1.0000, Reward=16.6, entropy=59.9, L Critic=78, L Actor=25.2]  \n",
      "Episode 11:  95%|█████████▌| 19/20 [00:02<00:00,  8.82it/s, Temp=4.4767, Avg. Reward=-1.0000, Reward=28.2, entropy=81.8, L Critic=115, L Actor=42.5] \n",
      "Episode 12:  88%|████████▊ | 7/8 [00:00<00:00,  8.81it/s, Temp=4.4319, Avg. Reward=-1.0000, Reward=10.4, entropy=31.9, L Critic=40.8, L Actor=17]  \n",
      "Episode 13:  88%|████████▊ | 7/8 [00:00<00:00,  9.31it/s, Temp=4.3876, Avg. Reward=-1.0000, Reward=10.4, entropy=30, L Critic=37.7, L Actor=17]    \n",
      "Episode 14:  92%|█████████▏| 12/13 [00:01<00:00,  8.67it/s, Temp=4.3437, Avg. Reward=-1.0000, Reward=17.8, entropy=45.6, L Critic=58.3, L Actor=27.8]\n",
      "Episode 15:  93%|█████████▎| 13/14 [00:01<00:00,  8.72it/s, Temp=4.3003, Avg. Reward=-1.0000, Reward=19.6, entropy=44.6, L Critic=56.2, L Actor=30.5]\n",
      "Episode 16:  96%|█████████▌| 23/24 [00:02<00:00,  8.26it/s, Temp=4.2573, Avg. Reward=-1.0000, Reward=34.4, entropy=66, L Critic=86, L Actor=54.4]    \n",
      "Episode 17:  92%|█████████▏| 12/13 [00:01<00:00,  9.05it/s, Temp=4.2147, Avg. Reward=-1.0000, Reward=17.9, entropy=34.4, L Critic=41.9, L Actor=30.9]\n",
      "Episode 18:  92%|█████████▏| 12/13 [00:01<00:00,  8.97it/s, Temp=4.1726, Avg. Reward=-1.0000, Reward=18.1, entropy=32.8, L Critic=42.7, L Actor=32.2]\n",
      "Episode 19:  92%|█████████▏| 11/12 [00:01<00:00,  8.78it/s, Temp=4.1308, Avg. Reward=-1.0000, Reward=16.4, entropy=27.7, L Critic=35.7, L Actor=31.3]\n",
      "Episode 20:  88%|████████▊ | 7/8 [00:00<00:00,  8.29it/s, Temp=4.0895, Avg. Reward=-1.0000, Reward=10.5, entropy=18, L Critic=26.5, L Actor=22]    \n",
      "Episode 21:  93%|█████████▎| 13/14 [00:01<00:00,  8.78it/s, Temp=4.0486, Avg. Reward=-1.0000, Reward=19.6, entropy=31.8, L Critic=43.5, L Actor=43.2]\n",
      "Episode 22:  96%|█████████▋| 27/28 [00:03<00:00,  8.58it/s, Temp=4.0082, Avg. Reward=-1.0000, Reward=40.6, entropy=65.5, L Critic=84.6, L Actor=98.3]\n",
      "Episode 23:  92%|█████████▏| 12/13 [00:01<00:00,  8.69it/s, Temp=3.9681, Avg. Reward=-1.0000, Reward=18, entropy=29.8, L Critic=38.2, L Actor=51.4]  \n",
      "Episode 24:  93%|█████████▎| 14/15 [00:01<00:00,  8.74it/s, Temp=3.9284, Avg. Reward=-1.0000, Reward=20.6, entropy=30.7, L Critic=35.8, L Actor=63]  \n",
      "Episode 25:  94%|█████████▍| 15/16 [00:01<00:00,  8.71it/s, Temp=3.8891, Avg. Reward=-1.0000, Reward=22.2, entropy=32.3, L Critic=19.2, L Actor=75.9]\n",
      "Episode 26:  88%|████████▊ | 7/8 [00:00<00:00,  9.08it/s, Temp=3.8502, Avg. Reward=-1.0000, Reward=10.5, entropy=16.3, L Critic=6.26, L Actor=47.2]\n",
      "Episode 27:  96%|█████████▋| 27/28 [00:03<00:00,  8.67it/s, Temp=3.8117, Avg. Reward=-1.0000, Reward=40.7, entropy=53.9, L Critic=19.9, L Actor=206] \n",
      "Episode 28:  93%|█████████▎| 14/15 [00:01<00:00,  8.92it/s, Temp=3.7736, Avg. Reward=-1.0000, Reward=20.9, entropy=24.7, L Critic=14.2, L Actor=127] \n",
      "Episode 29:  93%|█████████▎| 13/14 [00:01<00:00,  9.03it/s, Temp=3.7359, Avg. Reward=-1.0000, Reward=19.5, entropy=20.9, L Critic=-33.8, L Actor=144]\n",
      "Episode 30:  94%|█████████▍| 15/16 [00:01<00:00,  8.87it/s, Temp=3.6985, Avg. Reward=-1.0000, Reward=22.7, entropy=18.6, L Critic=-37.6, L Actor=176]\n",
      "Episode 31:  93%|█████████▎| 14/15 [00:01<00:00,  9.05it/s, Temp=3.6615, Avg. Reward=-1.0000, Reward=20.8, entropy=17.5, L Critic=-72, L Actor=226]  \n",
      "Episode 32:  93%|█████████▎| 14/15 [00:01<00:00,  8.82it/s, Temp=3.6249, Avg. Reward=-1.0000, Reward=21, entropy=18.1, L Critic=-66.3, L Actor=277]  \n",
      "Episode 33:  88%|████████▊ | 7/8 [00:00<00:00,  9.33it/s, Temp=3.5887, Avg. Reward=-1.0000, Reward=10.6, entropy=7.1, L Critic=-30.7, L Actor=171]  \n",
      "Episode 34:  88%|████████▊ | 7/8 [00:00<00:00,  9.44it/s, Temp=3.5528, Avg. Reward=-1.0000, Reward=10.5, entropy=4.63, L Critic=-31.9, L Actor=202] \n",
      "Episode 35:  93%|█████████▎| 14/15 [00:01<00:00,  9.00it/s, Temp=3.5172, Avg. Reward=-1.0000, Reward=21, entropy=3.99, L Critic=-17.6, L Actor=408]  \n",
      "Episode 36:  94%|█████████▍| 17/18 [00:01<00:00,  8.51it/s, Temp=3.4821, Avg. Reward=-1.0000, Reward=25.7, entropy=2.41, L Critic=-46.7, L Actor=527] \n",
      "/opt/conda/lib/python3.11/site-packages/numpy/core/fromnumeric.py:3504: RuntimeWarning: Mean of empty slice.\n",
      "  return _methods._mean(a, axis=axis, dtype=dtype,\n",
      "/opt/conda/lib/python3.11/site-packages/numpy/core/_methods.py:129: RuntimeWarning: invalid value encountered in scalar divide\n",
      "  ret = ret.dtype.type(ret / rcount)\n",
      "Episode 37:  94%|█████████▍| 15/16 [00:01<00:00,  8.43it/s, Temp=3.4472, Avg. Reward=nan, Reward=22.6, entropy=6.83, L Critic=-41, L Actor=473]    \n"
     ]
    },
    {
     "name": "stdout",
     "output_type": "stream",
     "text": [
      "Model saved - 20.88\n"
     ]
    },
    {
     "name": "stderr",
     "output_type": "stream",
     "text": [
      "Episode 38:  88%|████████▊ | 7/8 [00:00<00:00,  9.07it/s, Temp=3.4128, Avg. Reward=20.8773, Reward=10.4, entropy=1.44, L Critic=8.16, L Actor=245] \n",
      "Episode 39:  88%|████████▊ | 7/8 [00:00<00:00,  8.55it/s, Temp=3.3786, Avg. Reward=20.8727, Reward=10.5, entropy=2.07, L Critic=6.31, L Actor=254]  \n",
      "Episode 40:  89%|████████▉ | 8/9 [00:00<00:00,  9.43it/s, Temp=3.3449, Avg. Reward=20.8723, Reward=12.3, entropy=0.578, L Critic=-10.4, L Actor=303]  \n",
      "Episode 41:  93%|█████████▎| 14/15 [00:01<00:00,  8.91it/s, Temp=3.3114, Avg. Reward=20.8740, Reward=21.5, entropy=0.267, L Critic=-33.6, L Actor=544]\n"
     ]
    },
    {
     "name": "stdout",
     "output_type": "stream",
     "text": [
      "Model saved - 20.88\n"
     ]
    },
    {
     "name": "stderr",
     "output_type": "stream",
     "text": [
      "Episode 42:  93%|█████████▎| 14/15 [00:01<00:00,  8.91it/s, Temp=3.2783, Avg. Reward=20.8834, Reward=21.1, entropy=2.29, L Critic=-64.6, L Actor=572]\n"
     ]
    },
    {
     "name": "stdout",
     "output_type": "stream",
     "text": [
      "Model saved - 20.89\n"
     ]
    },
    {
     "name": "stderr",
     "output_type": "stream",
     "text": [
      "Episode 43:  93%|█████████▎| 14/15 [00:01<00:00,  8.83it/s, Temp=3.2455, Avg. Reward=20.8948, Reward=21, entropy=0.489, L Critic=-66.4, L Actor=588]  \n"
     ]
    },
    {
     "name": "stdout",
     "output_type": "stream",
     "text": [
      "Model saved - 20.90\n"
     ]
    },
    {
     "name": "stderr",
     "output_type": "stream",
     "text": [
      "Episode 44:  89%|████████▉ | 8/9 [00:00<00:00,  9.00it/s, Temp=3.2131, Avg. Reward=20.8987, Reward=12.2, entropy=0.203, L Critic=-1.77, L Actor=335] \n"
     ]
    },
    {
     "name": "stdout",
     "output_type": "stream",
     "text": [
      "Model saved - 20.90\n"
     ]
    },
    {
     "name": "stderr",
     "output_type": "stream",
     "text": [
      "Episode 45:  94%|█████████▍| 15/16 [00:01<00:00,  8.40it/s, Temp=3.1809, Avg. Reward=20.8994, Reward=22.7, entropy=0.121, L Critic=0.197, L Actor=543]\n"
     ]
    },
    {
     "name": "stdout",
     "output_type": "stream",
     "text": [
      "Model saved - 20.90\n"
     ]
    },
    {
     "name": "stderr",
     "output_type": "stream",
     "text": [
      "Episode 46:  94%|█████████▍| 15/16 [00:01<00:00,  8.40it/s, Temp=3.1491, Avg. Reward=20.9013, Reward=22.8, entropy=0.0548, L Critic=0.093, L Actor=560]  \n"
     ]
    },
    {
     "name": "stdout",
     "output_type": "stream",
     "text": [
      "Model saved - 20.92\n"
     ]
    },
    {
     "name": "stderr",
     "output_type": "stream",
     "text": [
      "Episode 47:  89%|████████▉ | 8/9 [00:00<00:00,  8.47it/s, Temp=3.1176, Avg. Reward=20.9162, Reward=12.3, entropy=0.0356, L Critic=0.0385, L Actor=347]  \n"
     ]
    },
    {
     "name": "stdout",
     "output_type": "stream",
     "text": [
      "Model saved - 20.92\n"
     ]
    },
    {
     "name": "stderr",
     "output_type": "stream",
     "text": [
      "Episode 48:  94%|█████████▍| 15/16 [00:01<00:00,  8.76it/s, Temp=3.0865, Avg. Reward=20.9231, Reward=22.7, entropy=0.0316, L Critic=0.0535, L Actor=619]\n"
     ]
    },
    {
     "name": "stdout",
     "output_type": "stream",
     "text": [
      "Model saved - 20.92\n"
     ]
    },
    {
     "name": "stderr",
     "output_type": "stream",
     "text": [
      "Episode 49:  92%|█████████▏| 11/12 [00:01<00:00,  9.49it/s, Temp=3.0556, Avg. Reward=20.9249, Reward=17, entropy=0.0226, L Critic=0.0292, L Actor=448]   \n"
     ]
    },
    {
     "name": "stdout",
     "output_type": "stream",
     "text": [
      "Model saved - 20.93\n"
     ]
    },
    {
     "name": "stderr",
     "output_type": "stream",
     "text": [
      "Episode 50:  93%|█████████▎| 14/15 [00:01<00:00,  8.63it/s, Temp=3.0250, Avg. Reward=20.9273, Reward=21.2, entropy=0.019, L Critic=0.0301, L Actor=593]  \n"
     ]
    },
    {
     "name": "stdout",
     "output_type": "stream",
     "text": [
      "Model saved - 20.94\n"
     ]
    },
    {
     "name": "stderr",
     "output_type": "stream",
     "text": [
      "Episode 51:  95%|█████████▌| 19/20 [00:02<00:00,  8.57it/s, Temp=2.9948, Avg. Reward=20.9375, Reward=29, entropy=0.0167, L Critic=0.0313, L Actor=791]   \n"
     ]
    },
    {
     "name": "stdout",
     "output_type": "stream",
     "text": [
      "Model saved - 20.94\n"
     ]
    },
    {
     "name": "stderr",
     "output_type": "stream",
     "text": [
      "Episode 52:  96%|█████████▌| 23/24 [00:02<00:00,  8.69it/s, Temp=2.9648, Avg. Reward=20.9407, Reward=35.2, entropy=0.0151, L Critic=0.025, L Actor=840]  \n"
     ]
    },
    {
     "name": "stdout",
     "output_type": "stream",
     "text": [
      "Model saved - 20.95\n"
     ]
    },
    {
     "name": "stderr",
     "output_type": "stream",
     "text": [
      "Episode 53:  94%|█████████▍| 17/18 [00:01<00:00,  8.69it/s, Temp=2.9352, Avg. Reward=20.9534, Reward=26, entropy=0.0132, L Critic=0.015, L Actor=631]    \n"
     ]
    },
    {
     "name": "stdout",
     "output_type": "stream",
     "text": [
      "Model saved - 20.97\n"
     ]
    },
    {
     "name": "stderr",
     "output_type": "stream",
     "text": [
      "Episode 54:  92%|█████████▏| 11/12 [00:01<00:00,  9.06it/s, Temp=2.9058, Avg. Reward=20.9730, Reward=16.9, entropy=0.00995, L Critic=0.00878, L Actor=446]\n"
     ]
    },
    {
     "name": "stdout",
     "output_type": "stream",
     "text": [
      "Model saved - 20.98\n"
     ]
    },
    {
     "name": "stderr",
     "output_type": "stream",
     "text": [
      "Episode 55:  93%|█████████▎| 13/14 [00:01<00:00,  8.54it/s, Temp=2.8768, Avg. Reward=20.9825, Reward=20.1, entropy=0.00932, L Critic=0.0109, L Actor=650] \n"
     ]
    },
    {
     "name": "stdout",
     "output_type": "stream",
     "text": [
      "Model saved - 20.99\n"
     ]
    },
    {
     "name": "stderr",
     "output_type": "stream",
     "text": [
      "Episode 56:  92%|█████████▏| 11/12 [00:01<00:00,  8.30it/s, Temp=2.8480, Avg. Reward=20.9863, Reward=16.9, entropy=0.00883, L Critic=0.009, L Actor=629]   \n"
     ]
    },
    {
     "name": "stdout",
     "output_type": "stream",
     "text": [
      "Model saved - 20.99\n"
     ]
    },
    {
     "name": "stderr",
     "output_type": "stream",
     "text": [
      "Episode 57:  95%|█████████▌| 19/20 [00:02<00:00,  8.73it/s, Temp=2.8195, Avg. Reward=20.9936, Reward=28.8, entropy=0.00783, L Critic=0.0137, L Actor=1.11e+3]\n"
     ]
    },
    {
     "name": "stdout",
     "output_type": "stream",
     "text": [
      "Model saved - 21.00\n"
     ]
    },
    {
     "name": "stderr",
     "output_type": "stream",
     "text": [
      "Episode 58:  93%|█████████▎| 13/14 [00:01<00:00,  8.98it/s, Temp=2.7913, Avg. Reward=20.9963, Reward=19.9, entropy=0.00662, L Critic=0.00794, L Actor=751]\n"
     ]
    },
    {
     "name": "stdout",
     "output_type": "stream",
     "text": [
      "Model saved - 21.00\n"
     ]
    },
    {
     "name": "stderr",
     "output_type": "stream",
     "text": [
      "Episode 59:  94%|█████████▍| 17/18 [00:02<00:00,  8.32it/s, Temp=2.7634, Avg. Reward=21.0018, Reward=26, entropy=0.00754, L Critic=0.00871, L Actor=887]  \n"
     ]
    },
    {
     "name": "stdout",
     "output_type": "stream",
     "text": [
      "Model saved - 21.01\n"
     ]
    },
    {
     "name": "stderr",
     "output_type": "stream",
     "text": [
      "Episode 60:  95%|█████████▌| 19/20 [00:02<00:00,  8.97it/s, Temp=2.7358, Avg. Reward=21.0050, Reward=28.9, entropy=0.00681, L Critic=0.00731, L Actor=849] \n"
     ]
    },
    {
     "name": "stdout",
     "output_type": "stream",
     "text": [
      "Model saved - 21.01\n"
     ]
    },
    {
     "name": "stderr",
     "output_type": "stream",
     "text": [
      "Episode 61:  96%|█████████▋| 27/28 [00:03<00:00,  8.34it/s, Temp=2.7084, Avg. Reward=21.0068, Reward=42.1, entropy=0.00645, L Critic=0.00836, L Actor=1.17e+3]\n"
     ]
    },
    {
     "name": "stdout",
     "output_type": "stream",
     "text": [
      "Model saved - 21.01\n"
     ]
    },
    {
     "name": "stderr",
     "output_type": "stream",
     "text": [
      "Episode 62:  96%|█████████▌| 23/24 [00:02<00:00,  8.73it/s, Temp=2.6813, Avg. Reward=21.0115, Reward=35.1, entropy=0.00634, L Critic=0.00535, L Actor=937] \n"
     ]
    },
    {
     "name": "stdout",
     "output_type": "stream",
     "text": [
      "Model saved - 21.04\n"
     ]
    },
    {
     "name": "stderr",
     "output_type": "stream",
     "text": [
      "Episode 63:  94%|█████████▍| 17/18 [00:01<00:00,  8.73it/s, Temp=2.6545, Avg. Reward=21.0429, Reward=26, entropy=0.00501, L Critic=0.00386, L Actor=824]   \n"
     ]
    },
    {
     "name": "stdout",
     "output_type": "stream",
     "text": [
      "Model saved - 21.05\n"
     ]
    },
    {
     "name": "stderr",
     "output_type": "stream",
     "text": [
      "Episode 64:  93%|█████████▎| 14/15 [00:01<00:00,  8.45it/s, Temp=2.6280, Avg. Reward=21.0516, Reward=21.2, entropy=0.00456, L Critic=0.0036, L Actor=862] \n"
     ]
    },
    {
     "name": "stdout",
     "output_type": "stream",
     "text": [
      "Model saved - 21.05\n"
     ]
    },
    {
     "name": "stderr",
     "output_type": "stream",
     "text": [
      "Episode 65:  94%|█████████▍| 15/16 [00:01<00:00,  8.80it/s, Temp=2.6017, Avg. Reward=21.0525, Reward=22.7, entropy=0.00448, L Critic=0.0039, L Actor=1.04e+3]\n"
     ]
    },
    {
     "name": "stdout",
     "output_type": "stream",
     "text": [
      "Model saved - 21.05\n"
     ]
    },
    {
     "name": "stderr",
     "output_type": "stream",
     "text": [
      "Episode 66:  96%|█████████▋| 27/28 [00:03<00:00,  8.35it/s, Temp=2.5757, Avg. Reward=21.0543, Reward=42, entropy=0.00501, L Critic=0.00555, L Actor=1.73e+3]  \n"
     ]
    },
    {
     "name": "stdout",
     "output_type": "stream",
     "text": [
      "Model saved - 21.06\n"
     ]
    },
    {
     "name": "stderr",
     "output_type": "stream",
     "text": [
      "Episode 67:  93%|█████████▎| 14/15 [00:01<00:00,  8.44it/s, Temp=2.5499, Avg. Reward=21.0563, Reward=21.5, entropy=0.00336, L Critic=0.00227, L Actor=833]\n"
     ]
    },
    {
     "name": "stdout",
     "output_type": "stream",
     "text": [
      "Model saved - 21.07\n"
     ]
    },
    {
     "name": "stderr",
     "output_type": "stream",
     "text": [
      "Episode 68:  94%|█████████▍| 17/18 [00:01<00:00,  8.55it/s, Temp=2.5244, Avg. Reward=21.0710, Reward=26.1, entropy=0.00361, L Critic=0.00221, L Actor=971]\n"
     ]
    },
    {
     "name": "stdout",
     "output_type": "stream",
     "text": [
      "Model saved - 21.08\n"
     ]
    },
    {
     "name": "stderr",
     "output_type": "stream",
     "text": [
      "Episode 69:  93%|█████████▎| 14/15 [00:01<00:00,  9.03it/s, Temp=2.4992, Avg. Reward=21.0774, Reward=21.4, entropy=0.00296, L Critic=0.00153, L Actor=791]\n"
     ]
    },
    {
     "name": "stdout",
     "output_type": "stream",
     "text": [
      "Model saved - 21.08\n"
     ]
    },
    {
     "name": "stderr",
     "output_type": "stream",
     "text": [
      "Episode 70:  93%|█████████▎| 13/14 [00:01<00:00,  8.37it/s, Temp=2.4742, Avg. Reward=21.0797, Reward=20.1, entropy=0.00303, L Critic=0.00167, L Actor=927]\n"
     ]
    },
    {
     "name": "stdout",
     "output_type": "stream",
     "text": [
      "Model saved - 21.08\n"
     ]
    },
    {
     "name": "stderr",
     "output_type": "stream",
     "text": [
      "Episode 71:  96%|█████████▋| 27/28 [00:03<00:00,  8.55it/s, Temp=2.4495, Avg. Reward=21.0825, Reward=42.1, entropy=0.00432, L Critic=0.00269, L Actor=1.51e+3]\n"
     ]
    },
    {
     "name": "stdout",
     "output_type": "stream",
     "text": [
      "Model saved - 21.09\n"
     ]
    },
    {
     "name": "stderr",
     "output_type": "stream",
     "text": [
      "Episode 72:  96%|█████████▌| 23/24 [00:02<00:00,  8.65it/s, Temp=2.4250, Avg. Reward=21.0865, Reward=35, entropy=0.00386, L Critic=0.00188, L Actor=1.1e+3]   \n"
     ]
    },
    {
     "name": "stdout",
     "output_type": "stream",
     "text": [
      "Model saved - 21.10\n"
     ]
    },
    {
     "name": "stderr",
     "output_type": "stream",
     "text": [
      "Episode 73:  93%|█████████▎| 14/15 [00:01<00:00,  8.71it/s, Temp=2.4007, Avg. Reward=21.0962, Reward=21.2, entropy=0.00255, L Critic=0.000927, L Actor=664]\n"
     ]
    },
    {
     "name": "stdout",
     "output_type": "stream",
     "text": [
      "Model saved - 21.10\n"
     ]
    },
    {
     "name": "stderr",
     "output_type": "stream",
     "text": [
      "Episode 74:  89%|████████▉ | 8/9 [00:01<00:00,  7.91it/s, Temp=2.3767, Avg. Reward=21.1002, Reward=12.3, entropy=0.00184, L Critic=0.00052, L Actor=460]  \n"
     ]
    },
    {
     "name": "stdout",
     "output_type": "stream",
     "text": [
      "Model saved - 21.10\n"
     ]
    },
    {
     "name": "stderr",
     "output_type": "stream",
     "text": [
      "Episode 75:  93%|█████████▎| 14/15 [00:01<00:00,  8.76it/s, Temp=2.3529, Avg. Reward=21.1021, Reward=21.2, entropy=0.00243, L Critic=0.00104, L Actor=997] \n"
     ]
    },
    {
     "name": "stdout",
     "output_type": "stream",
     "text": [
      "Model saved - 21.10\n"
     ]
    },
    {
     "name": "stderr",
     "output_type": "stream",
     "text": [
      "Episode 76:  95%|█████████▌| 19/20 [00:02<00:00,  8.74it/s, Temp=2.3294, Avg. Reward=21.1032, Reward=28.9, entropy=0.00294, L Critic=0.00118, L Actor=1.22e+3]\n"
     ]
    },
    {
     "name": "stdout",
     "output_type": "stream",
     "text": [
      "Model saved - 21.10\n"
     ]
    },
    {
     "name": "stderr",
     "output_type": "stream",
     "text": [
      "Episode 77:  93%|█████████▎| 14/15 [00:01<00:00,  8.96it/s, Temp=2.3061, Avg. Reward=21.1044, Reward=21.2, entropy=0.00237, L Critic=0.000811, L Actor=865]\n"
     ]
    },
    {
     "name": "stdout",
     "output_type": "stream",
     "text": [
      "Model saved - 21.11\n"
     ]
    },
    {
     "name": "stderr",
     "output_type": "stream",
     "text": [
      "Episode 78:  88%|████████▊ | 7/8 [00:00<00:00,  9.12it/s, Temp=2.2830, Avg. Reward=21.1073, Reward=10.8, entropy=0.00148, L Critic=0.000399, L Actor=456] \n"
     ]
    },
    {
     "name": "stdout",
     "output_type": "stream",
     "text": [
      "Model saved - 21.11\n"
     ]
    },
    {
     "name": "stderr",
     "output_type": "stream",
     "text": [
      "Episode 79:  92%|█████████▏| 12/13 [00:01<00:00,  8.87it/s, Temp=2.2602, Avg. Reward=21.1082, Reward=18.4, entropy=0.00195, L Critic=0.000556, L Actor=680]\n"
     ]
    },
    {
     "name": "stdout",
     "output_type": "stream",
     "text": [
      "Model saved - 21.11\n"
     ]
    },
    {
     "name": "stderr",
     "output_type": "stream",
     "text": [
      "Episode 80:  89%|████████▉ | 8/9 [00:00<00:00,  8.66it/s, Temp=2.2376, Avg. Reward=21.1126, Reward=12.3, entropy=0.00144, L Critic=0.000346, L Actor=480]\n"
     ]
    },
    {
     "name": "stdout",
     "output_type": "stream",
     "text": [
      "Model saved - 21.12\n"
     ]
    },
    {
     "name": "stderr",
     "output_type": "stream",
     "text": [
      "Episode 81:  92%|█████████▏| 11/12 [00:01<00:00,  8.86it/s, Temp=2.2152, Avg. Reward=21.1168, Reward=16.9, entropy=0.00181, L Critic=0.0004, L Actor=606]  \n"
     ]
    },
    {
     "name": "stdout",
     "output_type": "stream",
     "text": [
      "Model saved - 21.12\n"
     ]
    },
    {
     "name": "stderr",
     "output_type": "stream",
     "text": [
      "Episode 82:  94%|█████████▍| 15/16 [00:01<00:00,  8.73it/s, Temp=2.1931, Avg. Reward=21.1174, Reward=22.7, entropy=0.00222, L Critic=0.000501, L Actor=780]\n"
     ]
    },
    {
     "name": "stdout",
     "output_type": "stream",
     "text": [
      "Model saved - 21.12\n"
     ]
    },
    {
     "name": "stderr",
     "output_type": "stream",
     "text": [
      "Episode 83:  94%|█████████▍| 15/16 [00:01<00:00,  8.38it/s, Temp=2.1712, Avg. Reward=21.1192, Reward=23.1, entropy=0.00211, L Critic=0.000403, L Actor=669]\n"
     ]
    },
    {
     "name": "stdout",
     "output_type": "stream",
     "text": [
      "Model saved - 21.12\n"
     ]
    },
    {
     "name": "stderr",
     "output_type": "stream",
     "text": [
      "Episode 84:  96%|█████████▌| 23/24 [00:02<00:00,  8.58it/s, Temp=2.1494, Avg. Reward=21.1201, Reward=35.2, entropy=0.0029, L Critic=0.000421, L Actor=783] \n"
     ]
    },
    {
     "name": "stdout",
     "output_type": "stream",
     "text": [
      "Model saved - 21.13\n"
     ]
    },
    {
     "name": "stderr",
     "output_type": "stream",
     "text": [
      "Episode 85:  96%|█████████▋| 27/28 [00:03<00:00,  8.81it/s, Temp=2.1280, Avg. Reward=21.1298, Reward=41.7, entropy=0.0033, L Critic=0.000337, L Actor=782] \n"
     ]
    },
    {
     "name": "stdout",
     "output_type": "stream",
     "text": [
      "Model saved - 21.13\n"
     ]
    },
    {
     "name": "stderr",
     "output_type": "stream",
     "text": [
      "Episode 86:  92%|█████████▏| 12/13 [00:01<00:00,  8.87it/s, Temp=2.1067, Avg. Reward=21.1346, Reward=18.4, entropy=0.00166, L Critic=0.000137, L Actor=418]\n"
     ]
    },
    {
     "name": "stdout",
     "output_type": "stream",
     "text": [
      "Model saved - 21.14\n"
     ]
    },
    {
     "name": "stderr",
     "output_type": "stream",
     "text": [
      "Episode 87:  96%|█████████▌| 23/24 [00:02<00:00,  8.57it/s, Temp=2.0856, Avg. Reward=21.1374, Reward=35, entropy=0.00279, L Critic=0.000234, L Actor=890]  \n"
     ]
    },
    {
     "name": "stdout",
     "output_type": "stream",
     "text": [
      "Model saved - 21.14\n"
     ]
    },
    {
     "name": "stderr",
     "output_type": "stream",
     "text": [
      "Episode 88:  96%|█████████▋| 27/28 [00:03<00:00,  8.39it/s, Temp=2.0647, Avg. Reward=21.1405, Reward=41.9, entropy=0.00319, L Critic=0.000248, L Actor=1.19e+3]\n"
     ]
    },
    {
     "name": "stdout",
     "output_type": "stream",
     "text": [
      "Model saved - 21.14\n"
     ]
    },
    {
     "name": "stderr",
     "output_type": "stream",
     "text": [
      "Episode 89:  94%|█████████▍| 15/16 [00:01<00:00,  8.70it/s, Temp=2.0441, Avg. Reward=21.1415, Reward=22.9, entropy=0.00194, L Critic=0.000135, L Actor=697]\n"
     ]
    },
    {
     "name": "stdout",
     "output_type": "stream",
     "text": [
      "Model saved - 21.14\n"
     ]
    },
    {
     "name": "stderr",
     "output_type": "stream",
     "text": [
      "Episode 90:  88%|████████▊ | 7/8 [00:00<00:00,  9.04it/s, Temp=2.0237, Avg. Reward=21.1448, Reward=10.7, entropy=0.00105, L Critic=7.03e-5, L Actor=413]  \n"
     ]
    },
    {
     "name": "stdout",
     "output_type": "stream",
     "text": [
      "Model saved - 21.15\n"
     ]
    },
    {
     "name": "stderr",
     "output_type": "stream",
     "text": [
      "Episode 91:  88%|████████▊ | 7/8 [00:00<00:00,  9.00it/s, Temp=2.0034, Avg. Reward=21.1476, Reward=10.8, entropy=0.00102, L Critic=8.23e-5, L Actor=536] \n"
     ]
    },
    {
     "name": "stdout",
     "output_type": "stream",
     "text": [
      "Model saved - 21.15\n"
     ]
    },
    {
     "name": "stderr",
     "output_type": "stream",
     "text": [
      "Episode 92:  93%|█████████▎| 14/15 [00:01<00:00,  8.50it/s, Temp=1.9834, Avg. Reward=21.1513, Reward=21.6, entropy=0.00179, L Critic=0.000149, L Actor=950]\n"
     ]
    },
    {
     "name": "stdout",
     "output_type": "stream",
     "text": [
      "Model saved - 21.15\n"
     ]
    },
    {
     "name": "stderr",
     "output_type": "stream",
     "text": [
      "Episode 93:  96%|█████████▌| 23/24 [00:02<00:00,  8.39it/s, Temp=1.9636, Avg. Reward=21.1540, Reward=35.1, entropy=0.00268, L Critic=0.000193, L Actor=1.36e+3]\n"
     ]
    },
    {
     "name": "stdout",
     "output_type": "stream",
     "text": [
      "Model saved - 21.16\n"
     ]
    },
    {
     "name": "stderr",
     "output_type": "stream",
     "text": [
      "Episode 94:  88%|████████▊ | 7/8 [00:00<00:00,  8.57it/s, Temp=1.9439, Avg. Reward=21.1574, Reward=10.7, entropy=0.000982, L Critic=5.11e-5, L Actor=405]\n"
     ]
    },
    {
     "name": "stdout",
     "output_type": "stream",
     "text": [
      "Model saved - 21.16\n"
     ]
    },
    {
     "name": "stderr",
     "output_type": "stream",
     "text": [
      "Episode 95:  88%|████████▊ | 7/8 [00:00<00:00,  8.95it/s, Temp=1.9245, Avg. Reward=21.1595, Reward=10.8, entropy=0.000955, L Critic=4.51e-5, L Actor=374]\n"
     ]
    },
    {
     "name": "stdout",
     "output_type": "stream",
     "text": [
      "Model saved - 21.16\n"
     ]
    },
    {
     "name": "stderr",
     "output_type": "stream",
     "text": [
      "Episode 96:  89%|████████▉ | 8/9 [00:00<00:00,  8.29it/s, Temp=1.9052, Avg. Reward=21.1603, Reward=12.2, entropy=0.00106, L Critic=4.28e-5, L Actor=392]  \n"
     ]
    },
    {
     "name": "stdout",
     "output_type": "stream",
     "text": [
      "Model saved - 21.16\n"
     ]
    },
    {
     "name": "stderr",
     "output_type": "stream",
     "text": [
      "Episode 97:  96%|█████████▋| 27/28 [00:03<00:00,  8.69it/s, Temp=1.8862, Avg. Reward=21.1629, Reward=42.1, entropy=0.00309, L Critic=9.34e-5, L Actor=1e+3]\n",
      "Episode 98:  93%|█████████▎| 14/15 [00:01<00:00,  8.78it/s, Temp=1.8673, Avg. Reward=21.1629, Reward=21.5, entropy=0.00169, L Critic=4.52e-5, L Actor=548] \n"
     ]
    },
    {
     "name": "stdout",
     "output_type": "stream",
     "text": [
      "Model saved - 21.17\n"
     ]
    },
    {
     "name": "stderr",
     "output_type": "stream",
     "text": [
      "Episode 99:  93%|█████████▎| 14/15 [00:01<00:00,  8.93it/s, Temp=1.8486, Avg. Reward=21.1668, Reward=21.2, entropy=0.00168, L Critic=3.59e-5, L Actor=470]\n"
     ]
    },
    {
     "name": "stdout",
     "output_type": "stream",
     "text": [
      "Model saved - 21.17\n"
     ]
    },
    {
     "name": "stderr",
     "output_type": "stream",
     "text": [
      "Episode 100:  96%|█████████▋| 27/28 [00:03<00:00,  8.66it/s, Temp=1.8302, Avg. Reward=21.1686, Reward=41.9, entropy=0.00306, L Critic=4.71e-5, L Actor=816] \n"
     ]
    },
    {
     "name": "stdout",
     "output_type": "stream",
     "text": [
      "Model saved - 21.17\n"
     ]
    },
    {
     "name": "stderr",
     "output_type": "stream",
     "text": [
      "Episode 101:  93%|█████████▎| 14/15 [00:01<00:00,  8.32it/s, Temp=1.8119, Avg. Reward=21.1698, Reward=21.4, entropy=0.00167, L Critic=2.63e-5, L Actor=532] \n"
     ]
    },
    {
     "name": "stdout",
     "output_type": "stream",
     "text": [
      "Model saved - 21.17\n"
     ]
    },
    {
     "name": "stderr",
     "output_type": "stream",
     "text": [
      "Episode 102:  94%|█████████▍| 15/16 [00:01<00:00,  8.82it/s, Temp=1.7937, Avg. Reward=21.1718, Reward=22.8, entropy=0.00177, L Critic=2.61e-5, L Actor=592] \n"
     ]
    },
    {
     "name": "stdout",
     "output_type": "stream",
     "text": [
      "Model saved - 21.17\n"
     ]
    },
    {
     "name": "stderr",
     "output_type": "stream",
     "text": [
      "Episode 103:  96%|█████████▌| 23/24 [00:02<00:00,  8.26it/s, Temp=1.7758, Avg. Reward=21.1727, Reward=35, entropy=0.00262, L Critic=3.12e-5, L Actor=885]   \n"
     ]
    },
    {
     "name": "stdout",
     "output_type": "stream",
     "text": [
      "Model saved - 21.17\n"
     ]
    },
    {
     "name": "stderr",
     "output_type": "stream",
     "text": [
      "Episode 104:  94%|█████████▍| 15/16 [00:01<00:00,  8.82it/s, Temp=1.7580, Avg. Reward=21.1734, Reward=22.7, entropy=0.00175, L Critic=2.11e-5, L Actor=669] \n"
     ]
    },
    {
     "name": "stdout",
     "output_type": "stream",
     "text": [
      "Model saved - 21.17\n"
     ]
    },
    {
     "name": "stderr",
     "output_type": "stream",
     "text": [
      "Episode 105:  89%|████████▉ | 8/9 [00:00<00:00,  9.02it/s, Temp=1.7405, Avg. Reward=21.1741, Reward=12.3, entropy=0.001, L Critic=1.05e-5, L Actor=400]    \n"
     ]
    },
    {
     "name": "stdout",
     "output_type": "stream",
     "text": [
      "Model saved - 21.17\n"
     ]
    },
    {
     "name": "stderr",
     "output_type": "stream",
     "text": [
      "Episode 106:  89%|████████▉ | 8/9 [00:00<00:00,  9.14it/s, Temp=1.7231, Avg. Reward=21.1745, Reward=12.3, entropy=0.000996, L Critic=8.32e-6, L Actor=398] \n"
     ]
    },
    {
     "name": "stdout",
     "output_type": "stream",
     "text": [
      "Model saved - 21.17\n"
     ]
    },
    {
     "name": "stderr",
     "output_type": "stream",
     "text": [
      "Episode 107:  92%|█████████▏| 12/13 [00:01<00:00,  8.55it/s, Temp=1.7058, Avg. Reward=21.1749, Reward=18.3, entropy=0.00142, L Critic=1.04e-5, L Actor=567]\n"
     ]
    },
    {
     "name": "stdout",
     "output_type": "stream",
     "text": [
      "Model saved - 21.17\n"
     ]
    },
    {
     "name": "stderr",
     "output_type": "stream",
     "text": [
      "Episode 108:  94%|█████████▍| 15/16 [00:01<00:00,  8.19it/s, Temp=1.6888, Avg. Reward=21.1750, Reward=22.6, entropy=0.00174, L Critic=1.19e-5, L Actor=706] \n"
     ]
    },
    {
     "name": "stdout",
     "output_type": "stream",
     "text": [
      "Model saved - 21.18\n"
     ]
    },
    {
     "name": "stderr",
     "output_type": "stream",
     "text": [
      "Episode 109:  95%|█████████▌| 19/20 [00:02<00:00,  8.62it/s, Temp=1.6719, Avg. Reward=21.1768, Reward=28.9, entropy=0.00216, L Critic=1.08e-5, L Actor=739] \n",
      "Episode 110:  93%|█████████▎| 14/15 [00:01<00:00,  8.44it/s, Temp=1.6552, Avg. Reward=21.1761, Reward=21.1, entropy=0.00163, L Critic=7.24e-6, L Actor=476] \n"
     ]
    },
    {
     "name": "stdout",
     "output_type": "stream",
     "text": [
      "Model saved - 21.18\n"
     ]
    },
    {
     "name": "stderr",
     "output_type": "stream",
     "text": [
      "Episode 111:  94%|█████████▍| 17/18 [00:02<00:00,  8.47it/s, Temp=1.6386, Avg. Reward=21.1782, Reward=26.1, entropy=0.00195, L Critic=6.61e-6, L Actor=532] \n"
     ]
    },
    {
     "name": "stdout",
     "output_type": "stream",
     "text": [
      "Model saved - 21.18\n"
     ]
    },
    {
     "name": "stderr",
     "output_type": "stream",
     "text": [
      "Episode 112:  94%|█████████▍| 15/16 [00:01<00:00,  8.16it/s, Temp=1.6222, Avg. Reward=21.1787, Reward=22.7, entropy=0.00173, L Critic=5.25e-6, L Actor=494] \n"
     ]
    },
    {
     "name": "stdout",
     "output_type": "stream",
     "text": [
      "Model saved - 21.18\n"
     ]
    },
    {
     "name": "stderr",
     "output_type": "stream",
     "text": [
      "Episode 113:  92%|█████████▏| 12/13 [00:01<00:00,  8.41it/s, Temp=1.6060, Avg. Reward=21.1803, Reward=18.4, entropy=0.00141, L Critic=3.77e-6, L Actor=449] \n"
     ]
    },
    {
     "name": "stdout",
     "output_type": "stream",
     "text": [
      "Model saved - 21.18\n"
     ]
    },
    {
     "name": "stderr",
     "output_type": "stream",
     "text": [
      "Episode 114:  93%|█████████▎| 13/14 [00:01<00:00,  8.91it/s, Temp=1.5899, Avg. Reward=21.1805, Reward=20, entropy=0.00151, L Critic=2.91e-6, L Actor=474]   \n"
     ]
    },
    {
     "name": "stdout",
     "output_type": "stream",
     "text": [
      "Model saved - 21.18\n"
     ]
    },
    {
     "name": "stderr",
     "output_type": "stream",
     "text": [
      "Episode 115:  88%|████████▊ | 7/8 [00:00<00:00,  9.33it/s, Temp=1.5740, Avg. Reward=21.1825, Reward=10.7, entropy=0.000868, L Critic=1.47e-6, L Actor=277] \n"
     ]
    },
    {
     "name": "stdout",
     "output_type": "stream",
     "text": [
      "Model saved - 21.18\n"
     ]
    },
    {
     "name": "stderr",
     "output_type": "stream",
     "text": [
      "Episode 116:  96%|█████████▋| 27/28 [00:03<00:00,  8.41it/s, Temp=1.5583, Avg. Reward=21.1845, Reward=41.9, entropy=0.00302, L Critic=5.03e-6, L Actor=941] \n"
     ]
    },
    {
     "name": "stdout",
     "output_type": "stream",
     "text": [
      "Model saved - 21.18\n"
     ]
    },
    {
     "name": "stderr",
     "output_type": "stream",
     "text": [
      "Episode 117:  89%|████████▉ | 8/9 [00:00<00:00,  8.64it/s, Temp=1.5427, Avg. Reward=21.1848, Reward=12.3, entropy=0.000974, L Critic=1.24e-6, L Actor=275] \n"
     ]
    },
    {
     "name": "stdout",
     "output_type": "stream",
     "text": [
      "Model saved - 21.19\n"
     ]
    },
    {
     "name": "stderr",
     "output_type": "stream",
     "text": [
      "Episode 118:  93%|█████████▎| 13/14 [00:01<00:00,  8.65it/s, Temp=1.5273, Avg. Reward=21.1862, Reward=20, entropy=0.00151, L Critic=1.83e-6, L Actor=436]  \n"
     ]
    },
    {
     "name": "stdout",
     "output_type": "stream",
     "text": [
      "Model saved - 21.19\n"
     ]
    },
    {
     "name": "stderr",
     "output_type": "stream",
     "text": [
      "Episode 119:  92%|█████████▏| 12/13 [00:01<00:00,  8.73it/s, Temp=1.5120, Avg. Reward=21.1864, Reward=18.2, entropy=0.0014, L Critic=1.59e-6, L Actor=397]  \n"
     ]
    },
    {
     "name": "stdout",
     "output_type": "stream",
     "text": [
      "Model saved - 21.19\n"
     ]
    },
    {
     "name": "stderr",
     "output_type": "stream",
     "text": [
      "Episode 120:  93%|█████████▎| 14/15 [00:01<00:00,  8.66it/s, Temp=1.4969, Avg. Reward=21.1882, Reward=21.5, entropy=0.00162, L Critic=1.33e-6, L Actor=416] \n"
     ]
    },
    {
     "name": "stdout",
     "output_type": "stream",
     "text": [
      "Model saved - 21.19\n"
     ]
    },
    {
     "name": "stderr",
     "output_type": "stream",
     "text": [
      "Episode 121:  94%|█████████▍| 17/18 [00:01<00:00,  8.64it/s, Temp=1.4819, Avg. Reward=21.1889, Reward=26.1, entropy=0.00194, L Critic=1.33e-6, L Actor=556] \n"
     ]
    },
    {
     "name": "stdout",
     "output_type": "stream",
     "text": [
      "Model saved - 21.19\n"
     ]
    },
    {
     "name": "stderr",
     "output_type": "stream",
     "text": [
      "Episode 122:  93%|█████████▎| 14/15 [00:01<00:00,  8.63it/s, Temp=1.4671, Avg. Reward=21.1898, Reward=21.1, entropy=0.00162, L Critic=9.59e-7, L Actor=412] \n"
     ]
    },
    {
     "name": "stdout",
     "output_type": "stream",
     "text": [
      "Model saved - 21.19\n"
     ]
    },
    {
     "name": "stderr",
     "output_type": "stream",
     "text": [
      "Episode 123:  93%|█████████▎| 14/15 [00:01<00:00,  8.58it/s, Temp=1.4524, Avg. Reward=21.1905, Reward=21.3, entropy=0.00161, L Critic=1.02e-6, L Actor=421] \n"
     ]
    },
    {
     "name": "stdout",
     "output_type": "stream",
     "text": [
      "Model saved - 21.19\n"
     ]
    },
    {
     "name": "stderr",
     "output_type": "stream",
     "text": [
      "Episode 124:  93%|█████████▎| 14/15 [00:01<00:00,  8.22it/s, Temp=1.4379, Avg. Reward=21.1907, Reward=21.2, entropy=0.00161, L Critic=6.02e-7, L Actor=425] \n"
     ]
    },
    {
     "name": "stdout",
     "output_type": "stream",
     "text": [
      "Model saved - 21.19\n"
     ]
    },
    {
     "name": "stderr",
     "output_type": "stream",
     "text": [
      "Episode 125:  88%|████████▊ | 7/8 [00:00<00:00,  9.16it/s, Temp=1.4235, Avg. Reward=21.1917, Reward=10.8, entropy=0.000861, L Critic=2.84e-7, L Actor=237]\n"
     ]
    },
    {
     "name": "stdout",
     "output_type": "stream",
     "text": [
      "Model saved - 21.19\n"
     ]
    },
    {
     "name": "stderr",
     "output_type": "stream",
     "text": [
      "Episode 126:  94%|█████████▍| 17/18 [00:02<00:00,  8.13it/s, Temp=1.4093, Avg. Reward=21.1920, Reward=26, entropy=0.00193, L Critic=6.62e-7, L Actor=569]   \n"
     ]
    },
    {
     "name": "stdout",
     "output_type": "stream",
     "text": [
      "Model saved - 21.19\n"
     ]
    },
    {
     "name": "stderr",
     "output_type": "stream",
     "text": [
      "Episode 127:  88%|████████▊ | 7/8 [00:00<00:00,  8.83it/s, Temp=1.3952, Avg. Reward=21.1933, Reward=10.8, entropy=0.000861, L Critic=3.04e-7, L Actor=258] \n",
      "Episode 128:  89%|████████▉ | 8/9 [00:00<00:00,  9.10it/s, Temp=1.3813, Avg. Reward=21.1931, Reward=12.3, entropy=0.000968, L Critic=2.51e-7, L Actor=278]\n"
     ]
    },
    {
     "name": "stdout",
     "output_type": "stream",
     "text": [
      "Model saved - 21.19\n"
     ]
    },
    {
     "name": "stderr",
     "output_type": "stream",
     "text": [
      "Episode 129:  88%|████████▊ | 7/8 [00:00<00:00,  9.03it/s, Temp=1.3674, Avg. Reward=21.1943, Reward=10.7, entropy=0.00086, L Critic=2.08e-7, L Actor=252]  \n"
     ]
    },
    {
     "name": "stdout",
     "output_type": "stream",
     "text": [
      "Model saved - 21.19\n"
     ]
    },
    {
     "name": "stderr",
     "output_type": "stream",
     "text": [
      "Episode 130:  94%|█████████▍| 15/16 [00:01<00:00,  8.63it/s, Temp=1.3538, Avg. Reward=21.1943, Reward=23.1, entropy=0.00172, L Critic=2.49e-7, L Actor=455] \n"
     ]
    },
    {
     "name": "stdout",
     "output_type": "stream",
     "text": [
      "Model saved - 21.19\n"
     ]
    },
    {
     "name": "stderr",
     "output_type": "stream",
     "text": [
      "Episode 131:  94%|█████████▍| 17/18 [00:02<00:00,  8.30it/s, Temp=1.3402, Avg. Reward=21.1948, Reward=26, entropy=0.00193, L Critic=0, L Actor=418]   \n"
     ]
    },
    {
     "name": "stdout",
     "output_type": "stream",
     "text": [
      "Model saved - 21.20\n"
     ]
    },
    {
     "name": "stderr",
     "output_type": "stream",
     "text": [
      "Episode 132:  95%|█████████▌| 19/20 [00:02<00:00,  8.31it/s, Temp=1.3268, Avg. Reward=21.1993, Reward=28.9, entropy=0.00215, L Critic=0, L Actor=406] \n"
     ]
    },
    {
     "name": "stdout",
     "output_type": "stream",
     "text": [
      "Model saved - 21.20\n"
     ]
    },
    {
     "name": "stderr",
     "output_type": "stream",
     "text": [
      "Episode 133:  94%|█████████▍| 17/18 [00:02<00:00,  8.48it/s, Temp=1.3136, Avg. Reward=21.1994, Reward=26.1, entropy=0.00193, L Critic=0, L Actor=326] \n"
     ]
    },
    {
     "name": "stdout",
     "output_type": "stream",
     "text": [
      "Model saved - 21.20\n"
     ]
    },
    {
     "name": "stderr",
     "output_type": "stream",
     "text": [
      "Episode 134:  92%|█████████▏| 12/13 [00:01<00:00,  8.34it/s, Temp=1.3004, Avg. Reward=21.2011, Reward=18.4, entropy=0.0014, L Critic=0, L Actor=275]  \n"
     ]
    },
    {
     "name": "stdout",
     "output_type": "stream",
     "text": [
      "Model saved - 21.20\n"
     ]
    },
    {
     "name": "stderr",
     "output_type": "stream",
     "text": [
      "Episode 135:  94%|█████████▍| 15/16 [00:01<00:00,  8.97it/s, Temp=1.2874, Avg. Reward=21.2016, Reward=23.1, entropy=0.00172, L Critic=0, L Actor=385] \n"
     ]
    },
    {
     "name": "stdout",
     "output_type": "stream",
     "text": [
      "Model saved - 21.20\n"
     ]
    },
    {
     "name": "stderr",
     "output_type": "stream",
     "text": [
      "Episode 136:  93%|█████████▎| 14/15 [00:01<00:00,  8.56it/s, Temp=1.2745, Avg. Reward=21.2033, Reward=21.3, entropy=0.00161, L Critic=0, L Actor=428] \n"
     ]
    },
    {
     "name": "stdout",
     "output_type": "stream",
     "text": [
      "Model saved - 21.21\n"
     ]
    },
    {
     "name": "stderr",
     "output_type": "stream",
     "text": [
      "Episode 137:  92%|█████████▏| 12/13 [00:01<00:00,  8.64it/s, Temp=1.2618, Avg. Reward=21.2059, Reward=18.4, entropy=0.0014, L Critic=0, L Actor=370]  \n"
     ]
    },
    {
     "name": "stdout",
     "output_type": "stream",
     "text": [
      "Model saved - 21.21\n"
     ]
    },
    {
     "name": "stderr",
     "output_type": "stream",
     "text": [
      "Episode 138:  92%|█████████▏| 12/13 [00:01<00:00,  8.75it/s, Temp=1.2492, Avg. Reward=21.2069, Reward=18.4, entropy=0.0014, L Critic=0, L Actor=382]  \n"
     ]
    },
    {
     "name": "stdout",
     "output_type": "stream",
     "text": [
      "Model saved - 21.21\n"
     ]
    },
    {
     "name": "stderr",
     "output_type": "stream",
     "text": [
      "Episode 139:  89%|████████▉ | 8/9 [00:00<00:00,  9.11it/s, Temp=1.2367, Avg. Reward=21.2079, Reward=12.3, entropy=0.000967, L Critic=0, L Actor=260] \n"
     ]
    },
    {
     "name": "stdout",
     "output_type": "stream",
     "text": [
      "Model saved - 21.21\n"
     ]
    },
    {
     "name": "stderr",
     "output_type": "stream",
     "text": [
      "Episode 140:  88%|████████▊ | 7/8 [00:00<00:00,  8.47it/s, Temp=1.2243, Avg. Reward=21.2088, Reward=10.6, entropy=0.000859, L Critic=0, L Actor=229] \n"
     ]
    },
    {
     "name": "stdout",
     "output_type": "stream",
     "text": [
      "Model saved - 21.21\n"
     ]
    },
    {
     "name": "stderr",
     "output_type": "stream",
     "text": [
      "Episode 141:  92%|█████████▏| 11/12 [00:01<00:00,  8.60it/s, Temp=1.2121, Avg. Reward=21.2091, Reward=16.9, entropy=0.00129, L Critic=0, L Actor=334] \n"
     ]
    },
    {
     "name": "stdout",
     "output_type": "stream",
     "text": [
      "Model saved - 21.21\n"
     ]
    },
    {
     "name": "stderr",
     "output_type": "stream",
     "text": [
      "Episode 142:  94%|█████████▍| 15/16 [00:01<00:00,  8.50it/s, Temp=1.2000, Avg. Reward=21.2109, Reward=23.1, entropy=0.00172, L Critic=0, L Actor=389] \n"
     ]
    },
    {
     "name": "stdout",
     "output_type": "stream",
     "text": [
      "Model saved - 21.21\n"
     ]
    },
    {
     "name": "stderr",
     "output_type": "stream",
     "text": [
      "Episode 143:  92%|█████████▏| 12/13 [00:01<00:00,  8.66it/s, Temp=1.1880, Avg. Reward=21.2119, Reward=18.4, entropy=0.0014, L Critic=0, L Actor=291]  \n"
     ]
    },
    {
     "name": "stdout",
     "output_type": "stream",
     "text": [
      "Model saved - 21.21\n"
     ]
    },
    {
     "name": "stderr",
     "output_type": "stream",
     "text": [
      "Episode 144:  92%|█████████▏| 11/12 [00:01<00:00,  8.86it/s, Temp=1.1761, Avg. Reward=21.2146, Reward=17, entropy=0.00129, L Critic=0, L Actor=252]   \n"
     ]
    },
    {
     "name": "stdout",
     "output_type": "stream",
     "text": [
      "Model saved - 21.22\n"
     ]
    },
    {
     "name": "stderr",
     "output_type": "stream",
     "text": [
      "Episode 145:  92%|█████████▏| 11/12 [00:01<00:00,  8.66it/s, Temp=1.1643, Avg. Reward=21.2154, Reward=16.9, entropy=0.00129, L Critic=0, L Actor=235] \n"
     ]
    },
    {
     "name": "stdout",
     "output_type": "stream",
     "text": [
      "Model saved - 21.22\n"
     ]
    },
    {
     "name": "stderr",
     "output_type": "stream",
     "text": [
      "Episode 146:  94%|█████████▍| 15/16 [00:01<00:00,  8.88it/s, Temp=1.1527, Avg. Reward=21.2166, Reward=23.2, entropy=0.00172, L Critic=0, L Actor=291] \n"
     ]
    },
    {
     "name": "stdout",
     "output_type": "stream",
     "text": [
      "Model saved - 21.22\n"
     ]
    },
    {
     "name": "stderr",
     "output_type": "stream",
     "text": [
      "Episode 147:  88%|████████▊ | 7/8 [00:00<00:00,  8.92it/s, Temp=1.1412, Avg. Reward=21.2170, Reward=10.6, entropy=0.000859, L Critic=0, L Actor=166] \n"
     ]
    },
    {
     "name": "stdout",
     "output_type": "stream",
     "text": [
      "Model saved - 21.22\n"
     ]
    },
    {
     "name": "stderr",
     "output_type": "stream",
     "text": [
      "Episode 148:  93%|█████████▎| 13/14 [00:01<00:00,  8.74it/s, Temp=1.1297, Avg. Reward=21.2191, Reward=20, entropy=0.0015, L Critic=0, L Actor=291]    \n"
     ]
    },
    {
     "name": "stdout",
     "output_type": "stream",
     "text": [
      "Model saved - 21.22\n"
     ]
    },
    {
     "name": "stderr",
     "output_type": "stream",
     "text": [
      "Episode 149:  93%|█████████▎| 14/15 [00:01<00:00,  8.79it/s, Temp=1.1184, Avg. Reward=21.2205, Reward=21.6, entropy=0.00161, L Critic=0, L Actor=299] \n"
     ]
    },
    {
     "name": "stdout",
     "output_type": "stream",
     "text": [
      "Model saved - 21.22\n"
     ]
    },
    {
     "name": "stderr",
     "output_type": "stream",
     "text": [
      "Episode 150:  95%|█████████▌| 19/20 [00:02<00:00,  8.54it/s, Temp=1.1073, Avg. Reward=21.2215, Reward=28.9, entropy=0.00215, L Critic=0, L Actor=369] \n"
     ]
    },
    {
     "name": "stdout",
     "output_type": "stream",
     "text": [
      "Model saved - 21.22\n"
     ]
    },
    {
     "name": "stderr",
     "output_type": "stream",
     "text": [
      "Episode 151:  93%|█████████▎| 14/15 [00:01<00:00,  8.91it/s, Temp=1.0962, Avg. Reward=21.2229, Reward=21.5, entropy=0.00161, L Critic=0, L Actor=286] \n"
     ]
    },
    {
     "name": "stdout",
     "output_type": "stream",
     "text": [
      "Model saved - 21.22\n"
     ]
    },
    {
     "name": "stderr",
     "output_type": "stream",
     "text": [
      "Episode 152:  94%|█████████▍| 17/18 [00:01<00:00,  8.96it/s, Temp=1.0852, Avg. Reward=21.2242, Reward=26.1, entropy=0.00193, L Critic=0, L Actor=318] \n"
     ]
    },
    {
     "name": "stdout",
     "output_type": "stream",
     "text": [
      "Model saved - 21.22\n"
     ]
    },
    {
     "name": "stderr",
     "output_type": "stream",
     "text": [
      "Episode 153:  93%|█████████▎| 14/15 [00:01<00:00,  8.39it/s, Temp=1.0744, Avg. Reward=21.2248, Reward=21.2, entropy=0.00161, L Critic=0, L Actor=308] \n"
     ]
    },
    {
     "name": "stdout",
     "output_type": "stream",
     "text": [
      "Model saved - 21.23\n"
     ]
    },
    {
     "name": "stderr",
     "output_type": "stream",
     "text": [
      "Episode 154:  95%|█████████▌| 19/20 [00:02<00:00,  8.62it/s, Temp=1.0636, Avg. Reward=21.2255, Reward=28.7, entropy=0.00215, L Critic=0, L Actor=462] \n"
     ]
    },
    {
     "name": "stdout",
     "output_type": "stream",
     "text": [
      "Model saved - 21.23\n"
     ]
    },
    {
     "name": "stderr",
     "output_type": "stream",
     "text": [
      "Episode 155:  94%|█████████▍| 17/18 [00:01<00:00,  8.90it/s, Temp=1.0530, Avg. Reward=21.2260, Reward=26, entropy=0.00193, L Critic=0, L Actor=436]   \n"
     ]
    },
    {
     "name": "stdout",
     "output_type": "stream",
     "text": [
      "Model saved - 21.23\n"
     ]
    },
    {
     "name": "stderr",
     "output_type": "stream",
     "text": [
      "Episode 156:  92%|█████████▏| 12/13 [00:01<00:00,  8.75it/s, Temp=1.0425, Avg. Reward=21.2260, Reward=18.4, entropy=0.0014, L Critic=0, L Actor=359]  \n",
      "Episode 157:  93%|█████████▎| 14/15 [00:01<00:00,  8.76it/s, Temp=1.0320, Avg. Reward=21.2260, Reward=21.1, entropy=0.00161, L Critic=0, L Actor=410] \n"
     ]
    },
    {
     "name": "stdout",
     "output_type": "stream",
     "text": [
      "Model saved - 21.23\n"
     ]
    },
    {
     "name": "stderr",
     "output_type": "stream",
     "text": [
      "Episode 158:  96%|█████████▋| 27/28 [00:03<00:00,  8.42it/s, Temp=1.0217, Avg. Reward=21.2267, Reward=41.8, entropy=0.00301, L Critic=0, L Actor=737] \n",
      "Episode 159:  94%|█████████▍| 15/16 [00:01<00:00,  8.81it/s, Temp=1.0115, Avg. Reward=21.2267, Reward=23.1, entropy=0.00172, L Critic=0, L Actor=445] \n"
     ]
    },
    {
     "name": "stdout",
     "output_type": "stream",
     "text": [
      "Model saved - 21.23\n"
     ]
    },
    {
     "name": "stderr",
     "output_type": "stream",
     "text": [
      "Episode 160:  95%|█████████▌| 19/20 [00:02<00:00,  8.66it/s, Temp=1.0014, Avg. Reward=21.2276, Reward=28.9, entropy=0.00215, L Critic=0, L Actor=586] \n"
     ]
    },
    {
     "name": "stdout",
     "output_type": "stream",
     "text": [
      "Model saved - 21.23\n"
     ]
    },
    {
     "name": "stderr",
     "output_type": "stream",
     "text": [
      "Episode 161:  95%|█████████▌| 19/20 [00:02<00:00,  8.67it/s, Temp=0.9914, Avg. Reward=21.2285, Reward=28.9, entropy=0.00215, L Critic=0, L Actor=645] \n"
     ]
    },
    {
     "name": "stdout",
     "output_type": "stream",
     "text": [
      "Model saved - 21.23\n"
     ]
    },
    {
     "name": "stderr",
     "output_type": "stream",
     "text": [
      "Episode 162:  94%|█████████▍| 15/16 [00:01<00:00,  8.81it/s, Temp=0.9815, Avg. Reward=21.2297, Reward=22.8, entropy=0.00172, L Critic=0, L Actor=592] \n"
     ]
    },
    {
     "name": "stdout",
     "output_type": "stream",
     "text": [
      "Model saved - 21.23\n"
     ]
    },
    {
     "name": "stderr",
     "output_type": "stream",
     "text": [
      "Episode 163:  92%|█████████▏| 12/13 [00:01<00:00,  8.52it/s, Temp=0.9716, Avg. Reward=21.2309, Reward=18.3, entropy=0.0014, L Critic=0, L Actor=454]  \n"
     ]
    },
    {
     "name": "stdout",
     "output_type": "stream",
     "text": [
      "Model saved - 21.23\n"
     ]
    },
    {
     "name": "stderr",
     "output_type": "stream",
     "text": [
      "Episode 164:  93%|█████████▎| 13/14 [00:01<00:00,  8.93it/s, Temp=0.9619, Avg. Reward=21.2317, Reward=19.9, entropy=0.0015, L Critic=0, L Actor=489]  \n"
     ]
    },
    {
     "name": "stdout",
     "output_type": "stream",
     "text": [
      "Model saved - 21.23\n"
     ]
    },
    {
     "name": "stderr",
     "output_type": "stream",
     "text": [
      "Episode 165:  92%|█████████▏| 11/12 [00:01<00:00,  9.00it/s, Temp=0.9523, Avg. Reward=21.2321, Reward=16.9, entropy=0.00129, L Critic=0, L Actor=374] \n"
     ]
    },
    {
     "name": "stdout",
     "output_type": "stream",
     "text": [
      "Model saved - 21.23\n"
     ]
    },
    {
     "name": "stderr",
     "output_type": "stream",
     "text": [
      "Episode 166:  93%|█████████▎| 14/15 [00:01<00:00,  8.33it/s, Temp=0.9428, Avg. Reward=21.2327, Reward=21.1, entropy=0.00161, L Critic=0, L Actor=467] \n"
     ]
    },
    {
     "name": "stdout",
     "output_type": "stream",
     "text": [
      "Model saved - 21.23\n"
     ]
    },
    {
     "name": "stderr",
     "output_type": "stream",
     "text": [
      "Episode 167:  92%|█████████▏| 12/13 [00:01<00:00,  8.54it/s, Temp=0.9334, Avg. Reward=21.2333, Reward=18.3, entropy=0.0014, L Critic=0, L Actor=361]  \n"
     ]
    },
    {
     "name": "stdout",
     "output_type": "stream",
     "text": [
      "Model saved - 21.23\n"
     ]
    },
    {
     "name": "stderr",
     "output_type": "stream",
     "text": [
      "Episode 168:  88%|████████▊ | 7/8 [00:00<00:00,  8.70it/s, Temp=0.9240, Avg. Reward=21.2335, Reward=10.7, entropy=0.000859, L Critic=0, L Actor=216] \n"
     ]
    },
    {
     "name": "stdout",
     "output_type": "stream",
     "text": [
      "Model saved - 21.23\n"
     ]
    },
    {
     "name": "stderr",
     "output_type": "stream",
     "text": [
      "Episode 169:  88%|████████▊ | 7/8 [00:00<00:00,  8.84it/s, Temp=0.9148, Avg. Reward=21.2338, Reward=10.6, entropy=0.000859, L Critic=0, L Actor=205] \n"
     ]
    },
    {
     "name": "stdout",
     "output_type": "stream",
     "text": [
      "Model saved - 21.23\n"
     ]
    },
    {
     "name": "stderr",
     "output_type": "stream",
     "text": [
      "Episode 170:  92%|█████████▏| 11/12 [00:01<00:00,  8.77it/s, Temp=0.9056, Avg. Reward=21.2343, Reward=16.9, entropy=0.00129, L Critic=0, L Actor=303] \n"
     ]
    },
    {
     "name": "stdout",
     "output_type": "stream",
     "text": [
      "Model saved - 21.24\n"
     ]
    },
    {
     "name": "stderr",
     "output_type": "stream",
     "text": [
      "Episode 171:  94%|█████████▍| 15/16 [00:01<00:00,  8.18it/s, Temp=0.8966, Avg. Reward=21.2351, Reward=23.1, entropy=0.00172, L Critic=0, L Actor=342] \n"
     ]
    },
    {
     "name": "stdout",
     "output_type": "stream",
     "text": [
      "Model saved - 21.24\n"
     ]
    },
    {
     "name": "stderr",
     "output_type": "stream",
     "text": [
      "Episode 172:  92%|█████████▏| 11/12 [00:01<00:00,  8.76it/s, Temp=0.8876, Avg. Reward=21.2353, Reward=16.9, entropy=0.00129, L Critic=0, L Actor=246] \n"
     ]
    },
    {
     "name": "stdout",
     "output_type": "stream",
     "text": [
      "Model saved - 21.24\n"
     ]
    },
    {
     "name": "stderr",
     "output_type": "stream",
     "text": [
      "Episode 173:  93%|█████████▎| 13/14 [00:01<00:00,  8.94it/s, Temp=0.8787, Avg. Reward=21.2361, Reward=20, entropy=0.0015, L Critic=0, L Actor=267]    \n"
     ]
    },
    {
     "name": "stdout",
     "output_type": "stream",
     "text": [
      "Model saved - 21.24\n"
     ]
    },
    {
     "name": "stderr",
     "output_type": "stream",
     "text": [
      "Episode 174:  89%|████████▉ | 8/9 [00:00<00:00,  8.93it/s, Temp=0.8699, Avg. Reward=21.2366, Reward=12.3, entropy=0.000967, L Critic=0, L Actor=158] \n"
     ]
    },
    {
     "name": "stdout",
     "output_type": "stream",
     "text": [
      "Model saved - 21.24\n"
     ]
    },
    {
     "name": "stderr",
     "output_type": "stream",
     "text": [
      "Episode 175:  94%|█████████▍| 15/16 [00:01<00:00,  8.64it/s, Temp=0.8612, Avg. Reward=21.2373, Reward=22.8, entropy=0.00172, L Critic=0, L Actor=246] \n"
     ]
    },
    {
     "name": "stdout",
     "output_type": "stream",
     "text": [
      "Model saved - 21.24\n"
     ]
    },
    {
     "name": "stderr",
     "output_type": "stream",
     "text": [
      "Episode 176:  92%|█████████▏| 11/12 [00:01<00:00,  8.36it/s, Temp=0.8526, Avg. Reward=21.2373, Reward=16.8, entropy=0.00129, L Critic=0, L Actor=203] \n"
     ]
    },
    {
     "name": "stdout",
     "output_type": "stream",
     "text": [
      "Model saved - 21.24\n"
     ]
    },
    {
     "name": "stderr",
     "output_type": "stream",
     "text": [
      "Episode 177:  94%|█████████▍| 15/16 [00:01<00:00,  8.58it/s, Temp=0.8441, Avg. Reward=21.2379, Reward=23.2, entropy=0.00172, L Critic=0, L Actor=252] \n",
      "Episode 178:  93%|█████████▎| 13/14 [00:01<00:00,  9.01it/s, Temp=0.8357, Avg. Reward=21.2379, Reward=20, entropy=0.0015, L Critic=0, L Actor=236]    \n"
     ]
    },
    {
     "name": "stdout",
     "output_type": "stream",
     "text": [
      "Model saved - 21.24\n"
     ]
    },
    {
     "name": "stderr",
     "output_type": "stream",
     "text": [
      "Episode 179:  93%|█████████▎| 14/15 [00:01<00:00,  8.84it/s, Temp=0.8273, Avg. Reward=21.2391, Reward=21.5, entropy=0.00161, L Critic=0, L Actor=252] \n"
     ]
    },
    {
     "name": "stdout",
     "output_type": "stream",
     "text": [
      "Model saved - 21.24\n"
     ]
    },
    {
     "name": "stderr",
     "output_type": "stream",
     "text": [
      "Episode 180:  95%|█████████▌| 19/20 [00:02<00:00,  8.53it/s, Temp=0.8190, Avg. Reward=21.2399, Reward=28.8, entropy=0.00215, L Critic=0, L Actor=348] \n"
     ]
    },
    {
     "name": "stdout",
     "output_type": "stream",
     "text": [
      "Model saved - 21.24\n"
     ]
    },
    {
     "name": "stderr",
     "output_type": "stream",
     "text": [
      "Episode 181:  89%|████████▉ | 8/9 [00:00<00:00,  8.99it/s, Temp=0.8108, Avg. Reward=21.2407, Reward=12.3, entropy=0.000967, L Critic=0, L Actor=168] \n"
     ]
    },
    {
     "name": "stdout",
     "output_type": "stream",
     "text": [
      "Model saved - 21.24\n"
     ]
    },
    {
     "name": "stderr",
     "output_type": "stream",
     "text": [
      "Episode 182:  94%|█████████▍| 15/16 [00:01<00:00,  8.69it/s, Temp=0.8027, Avg. Reward=21.2410, Reward=22.7, entropy=0.00172, L Critic=0, L Actor=303] \n"
     ]
    },
    {
     "name": "stdout",
     "output_type": "stream",
     "text": [
      "Model saved - 21.24\n"
     ]
    },
    {
     "name": "stderr",
     "output_type": "stream",
     "text": [
      "Episode 183:  95%|█████████▌| 19/20 [00:02<00:00,  8.69it/s, Temp=0.7947, Avg. Reward=21.2411, Reward=28.9, entropy=0.00215, L Critic=0, L Actor=374] \n"
     ]
    },
    {
     "name": "stdout",
     "output_type": "stream",
     "text": [
      "Model saved - 21.24\n"
     ]
    },
    {
     "name": "stderr",
     "output_type": "stream",
     "text": [
      "Episode 184:  88%|████████▊ | 7/8 [00:00<00:00,  9.15it/s, Temp=0.7868, Avg. Reward=21.2411, Reward=10.7, entropy=0.000859, L Critic=0, L Actor=170] \n"
     ]
    },
    {
     "name": "stdout",
     "output_type": "stream",
     "text": [
      "Model saved - 21.24\n"
     ]
    },
    {
     "name": "stderr",
     "output_type": "stream",
     "text": [
      "Episode 185:  94%|█████████▍| 17/18 [00:01<00:00,  8.68it/s, Temp=0.7789, Avg. Reward=21.2418, Reward=26, entropy=0.00193, L Critic=0, L Actor=421]   \n"
     ]
    },
    {
     "name": "stdout",
     "output_type": "stream",
     "text": [
      "Model saved - 21.24\n"
     ]
    },
    {
     "name": "stderr",
     "output_type": "stream",
     "text": [
      "Episode 186:  89%|████████▉ | 8/9 [00:00<00:00,  8.65it/s, Temp=0.7711, Avg. Reward=21.2431, Reward=12.2, entropy=0.000967, L Critic=0, L Actor=203] \n"
     ]
    },
    {
     "name": "stdout",
     "output_type": "stream",
     "text": [
      "Model saved - 21.24\n"
     ]
    },
    {
     "name": "stderr",
     "output_type": "stream",
     "text": [
      "Episode 187:  89%|████████▉ | 8/9 [00:00<00:00,  8.91it/s, Temp=0.7634, Avg. Reward=21.2431, Reward=12.3, entropy=0.000967, L Critic=0, L Actor=222]\n",
      "Episode 188:  93%|█████████▎| 14/15 [00:01<00:00,  8.95it/s, Temp=0.7558, Avg. Reward=21.2429, Reward=21.4, entropy=0.00161, L Critic=0, L Actor=337] \n",
      "Episode 189:  93%|█████████▎| 14/15 [00:01<00:00,  8.54it/s, Temp=0.7482, Avg. Reward=21.2430, Reward=21.5, entropy=0.00161, L Critic=0, L Actor=302] \n",
      "Episode 190:  93%|█████████▎| 14/15 [00:01<00:00,  8.43it/s, Temp=0.7407, Avg. Reward=21.2429, Reward=21.1, entropy=0.00161, L Critic=0, L Actor=279] \n"
     ]
    },
    {
     "name": "stdout",
     "output_type": "stream",
     "text": [
      "Model saved - 21.24\n"
     ]
    },
    {
     "name": "stderr",
     "output_type": "stream",
     "text": [
      "Episode 191:  88%|████████▊ | 7/8 [00:00<00:00,  8.78it/s, Temp=0.7333, Avg. Reward=21.2434, Reward=10.7, entropy=0.000859, L Critic=0, L Actor=139] \n",
      "Episode 192:  92%|█████████▏| 11/12 [00:01<00:00,  8.42it/s, Temp=0.7260, Avg. Reward=21.2432, Reward=16.9, entropy=0.00129, L Critic=0, L Actor=213] \n",
      "Episode 193:  89%|████████▉ | 8/9 [00:00<00:00,  8.99it/s, Temp=0.7187, Avg. Reward=21.2433, Reward=12.3, entropy=0.000967, L Critic=0, L Actor=169] \n"
     ]
    },
    {
     "name": "stdout",
     "output_type": "stream",
     "text": [
      "Model saved - 21.24\n"
     ]
    },
    {
     "name": "stderr",
     "output_type": "stream",
     "text": [
      "Episode 194:  95%|█████████▌| 19/20 [00:02<00:00,  8.72it/s, Temp=0.7115, Avg. Reward=21.2434, Reward=28.9, entropy=0.00215, L Critic=0, L Actor=355] \n"
     ]
    },
    {
     "name": "stdout",
     "output_type": "stream",
     "text": [
      "Model saved - 21.24\n"
     ]
    },
    {
     "name": "stderr",
     "output_type": "stream",
     "text": [
      "Episode 195:  94%|█████████▍| 15/16 [00:01<00:00,  8.83it/s, Temp=0.7044, Avg. Reward=21.2435, Reward=23.2, entropy=0.00172, L Critic=0, L Actor=284] \n"
     ]
    },
    {
     "name": "stdout",
     "output_type": "stream",
     "text": [
      "Model saved - 21.24\n"
     ]
    },
    {
     "name": "stderr",
     "output_type": "stream",
     "text": [
      "Episode 196:  96%|█████████▌| 23/24 [00:02<00:00,  8.81it/s, Temp=0.6974, Avg. Reward=21.2441, Reward=35.1, entropy=0.00258, L Critic=0, L Actor=387] \n"
     ]
    },
    {
     "name": "stdout",
     "output_type": "stream",
     "text": [
      "Model saved - 21.25\n"
     ]
    },
    {
     "name": "stderr",
     "output_type": "stream",
     "text": [
      "Episode 197:  88%|████████▊ | 7/8 [00:00<00:00,  9.17it/s, Temp=0.6904, Avg. Reward=21.2451, Reward=10.7, entropy=0.000859, L Critic=0, L Actor=136] \n"
     ]
    },
    {
     "name": "stdout",
     "output_type": "stream",
     "text": [
      "Model saved - 21.25\n"
     ]
    },
    {
     "name": "stderr",
     "output_type": "stream",
     "text": [
      "Episode 198:  96%|█████████▌| 23/24 [00:02<00:00,  7.86it/s, Temp=0.6835, Avg. Reward=21.2463, Reward=35.1, entropy=0.00258, L Critic=0, L Actor=480] \n"
     ]
    },
    {
     "name": "stdout",
     "output_type": "stream",
     "text": [
      "Model saved - 21.25\n"
     ]
    },
    {
     "name": "stderr",
     "output_type": "stream",
     "text": [
      "Episode 199:  94%|█████████▍| 15/16 [00:01<00:00,  8.67it/s, Temp=0.6767, Avg. Reward=21.2465, Reward=22.8, entropy=0.00172, L Critic=0, L Actor=338] \n"
     ]
    },
    {
     "name": "stdout",
     "output_type": "stream",
     "text": [
      "Model saved - 21.25\n"
     ]
    },
    {
     "name": "stderr",
     "output_type": "stream",
     "text": [
      "Episode 200:  93%|█████████▎| 13/14 [00:01<00:00,  8.75it/s, Temp=0.6699, Avg. Reward=21.2474, Reward=20.1, entropy=0.0015, L Critic=0, L Actor=373]  \n"
     ]
    },
    {
     "name": "stdout",
     "output_type": "stream",
     "text": [
      "Model saved - 21.25\n"
     ]
    },
    {
     "name": "stderr",
     "output_type": "stream",
     "text": [
      "Episode 201:  95%|█████████▌| 19/20 [00:02<00:00,  8.90it/s, Temp=0.6632, Avg. Reward=21.2477, Reward=28.8, entropy=0.00215, L Critic=0, L Actor=485] \n"
     ]
    },
    {
     "name": "stdout",
     "output_type": "stream",
     "text": [
      "Model saved - 21.25\n"
     ]
    },
    {
     "name": "stderr",
     "output_type": "stream",
     "text": [
      "Episode 202:  95%|█████████▌| 19/20 [00:02<00:00,  8.91it/s, Temp=0.6566, Avg. Reward=21.2488, Reward=28.9, entropy=0.00215, L Critic=0, L Actor=569] \n"
     ]
    },
    {
     "name": "stdout",
     "output_type": "stream",
     "text": [
      "Model saved - 21.25\n"
     ]
    },
    {
     "name": "stderr",
     "output_type": "stream",
     "text": [
      "Episode 203:  88%|████████▊ | 7/8 [00:00<00:00,  8.99it/s, Temp=0.6500, Avg. Reward=21.2490, Reward=10.8, entropy=0.000859, L Critic=0, L Actor=266] \n"
     ]
    },
    {
     "name": "stdout",
     "output_type": "stream",
     "text": [
      "Model saved - 21.25\n"
     ]
    },
    {
     "name": "stderr",
     "output_type": "stream",
     "text": [
      "Episode 204:  89%|████████▉ | 8/9 [00:00<00:00,  9.05it/s, Temp=0.6435, Avg. Reward=21.2495, Reward=12.3, entropy=0.000967, L Critic=0, L Actor=296]\n"
     ]
    },
    {
     "name": "stdout",
     "output_type": "stream",
     "text": [
      "Model saved - 21.25\n"
     ]
    },
    {
     "name": "stderr",
     "output_type": "stream",
     "text": [
      "Episode 205:  88%|████████▊ | 7/8 [00:00<00:00,  8.69it/s, Temp=0.6371, Avg. Reward=21.2500, Reward=10.6, entropy=0.000859, L Critic=0, L Actor=270]\n"
     ]
    },
    {
     "name": "stdout",
     "output_type": "stream",
     "text": [
      "Model saved - 21.25\n"
     ]
    },
    {
     "name": "stderr",
     "output_type": "stream",
     "text": [
      "Episode 206:  88%|████████▊ | 7/8 [00:00<00:00,  9.10it/s, Temp=0.6307, Avg. Reward=21.2500, Reward=10.8, entropy=0.000859, L Critic=0, L Actor=261] \n"
     ]
    },
    {
     "name": "stdout",
     "output_type": "stream",
     "text": [
      "Model saved - 21.25\n"
     ]
    },
    {
     "name": "stderr",
     "output_type": "stream",
     "text": [
      "Episode 207:  96%|█████████▌| 23/24 [00:02<00:00,  8.80it/s, Temp=0.6244, Avg. Reward=21.2506, Reward=35.1, entropy=0.00258, L Critic=0, L Actor=650] \n"
     ]
    },
    {
     "name": "stdout",
     "output_type": "stream",
     "text": [
      "Model saved - 21.25\n"
     ]
    },
    {
     "name": "stderr",
     "output_type": "stream",
     "text": [
      "Episode 208:  88%|████████▊ | 7/8 [00:00<00:00,  8.82it/s, Temp=0.6181, Avg. Reward=21.2510, Reward=10.8, entropy=0.000859, L Critic=0, L Actor=185] \n"
     ]
    },
    {
     "name": "stdout",
     "output_type": "stream",
     "text": [
      "Model saved - 21.25\n"
     ]
    },
    {
     "name": "stderr",
     "output_type": "stream",
     "text": [
      "Episode 209:  95%|█████████▌| 19/20 [00:02<00:00,  8.57it/s, Temp=0.6120, Avg. Reward=21.2520, Reward=29, entropy=0.00215, L Critic=0, L Actor=346]   \n"
     ]
    },
    {
     "name": "stdout",
     "output_type": "stream",
     "text": [
      "Model saved - 21.25\n"
     ]
    },
    {
     "name": "stderr",
     "output_type": "stream",
     "text": [
      "Episode 210:  88%|████████▊ | 7/8 [00:00<00:00,  9.12it/s, Temp=0.6058, Avg. Reward=21.2524, Reward=10.6, entropy=0.000859, L Critic=0, L Actor=134] \n"
     ]
    },
    {
     "name": "stdout",
     "output_type": "stream",
     "text": [
      "Model saved - 21.25\n"
     ]
    },
    {
     "name": "stderr",
     "output_type": "stream",
     "text": [
      "Episode 211:  92%|█████████▏| 11/12 [00:01<00:00,  9.36it/s, Temp=0.5998, Avg. Reward=21.2532, Reward=16.9, entropy=0.00129, L Critic=0, L Actor=205] \n"
     ]
    },
    {
     "name": "stdout",
     "output_type": "stream",
     "text": [
      "Model saved - 21.25\n"
     ]
    },
    {
     "name": "stderr",
     "output_type": "stream",
     "text": [
      "Episode 212:  88%|████████▊ | 7/8 [00:00<00:00,  8.42it/s, Temp=0.5938, Avg. Reward=21.2538, Reward=10.7, entropy=0.000859, L Critic=0, L Actor=166] \n"
     ]
    },
    {
     "name": "stdout",
     "output_type": "stream",
     "text": [
      "Model saved - 21.25\n"
     ]
    },
    {
     "name": "stderr",
     "output_type": "stream",
     "text": [
      "Episode 213:  93%|█████████▎| 14/15 [00:01<00:00,  8.23it/s, Temp=0.5878, Avg. Reward=21.2540, Reward=21.2, entropy=0.00161, L Critic=0, L Actor=319] \n"
     ]
    },
    {
     "name": "stdout",
     "output_type": "stream",
     "text": [
      "Model saved - 21.25\n"
     ]
    },
    {
     "name": "stderr",
     "output_type": "stream",
     "text": [
      "Episode 214:  96%|█████████▋| 27/28 [00:03<00:00,  8.40it/s, Temp=0.5820, Avg. Reward=21.2547, Reward=41.9, entropy=0.00301, L Critic=0, L Actor=488] \n"
     ]
    },
    {
     "name": "stdout",
     "output_type": "stream",
     "text": [
      "Model saved - 21.26\n"
     ]
    },
    {
     "name": "stderr",
     "output_type": "stream",
     "text": [
      "Episode 215:  93%|█████████▎| 14/15 [00:01<00:00,  9.18it/s, Temp=0.5762, Avg. Reward=21.2551, Reward=21.4, entropy=0.00161, L Critic=0, L Actor=241] \n"
     ]
    },
    {
     "name": "stdout",
     "output_type": "stream",
     "text": [
      "Model saved - 21.26\n"
     ]
    },
    {
     "name": "stderr",
     "output_type": "stream",
     "text": [
      "Episode 216:  88%|████████▊ | 7/8 [00:00<00:00,  8.99it/s, Temp=0.5704, Avg. Reward=21.2563, Reward=10.7, entropy=0.000859, L Critic=0, L Actor=136] \n"
     ]
    },
    {
     "name": "stdout",
     "output_type": "stream",
     "text": [
      "Model saved - 21.26\n"
     ]
    },
    {
     "name": "stderr",
     "output_type": "stream",
     "text": [
      "Episode 217:  94%|█████████▍| 15/16 [00:01<00:00,  8.56it/s, Temp=0.5647, Avg. Reward=21.2565, Reward=22.8, entropy=0.00172, L Critic=0, L Actor=305] \n"
     ]
    },
    {
     "name": "stdout",
     "output_type": "stream",
     "text": [
      "Model saved - 21.26\n"
     ]
    },
    {
     "name": "stderr",
     "output_type": "stream",
     "text": [
      "Episode 218:  94%|█████████▍| 17/18 [00:01<00:00,  8.52it/s, Temp=0.5590, Avg. Reward=21.2566, Reward=26.1, entropy=0.00193, L Critic=0, L Actor=402] \n"
     ]
    },
    {
     "name": "stdout",
     "output_type": "stream",
     "text": [
      "Model saved - 21.26\n"
     ]
    },
    {
     "name": "stderr",
     "output_type": "stream",
     "text": [
      "Episode 219:  93%|█████████▎| 13/14 [00:01<00:00,  8.17it/s, Temp=0.5534, Avg. Reward=21.2569, Reward=20, entropy=0.0015, L Critic=0, L Actor=349]    \n"
     ]
    },
    {
     "name": "stdout",
     "output_type": "stream",
     "text": [
      "Model saved - 21.26\n"
     ]
    },
    {
     "name": "stderr",
     "output_type": "stream",
     "text": [
      "Episode 220:  88%|████████▊ | 7/8 [00:00<00:00,  8.67it/s, Temp=0.5479, Avg. Reward=21.2575, Reward=10.7, entropy=0.000859, L Critic=0, L Actor=204] \n"
     ]
    },
    {
     "name": "stdout",
     "output_type": "stream",
     "text": [
      "Model saved - 21.26\n"
     ]
    },
    {
     "name": "stderr",
     "output_type": "stream",
     "text": [
      "Episode 221:  93%|█████████▎| 14/15 [00:01<00:00,  8.51it/s, Temp=0.5424, Avg. Reward=21.2580, Reward=21.2, entropy=0.00161, L Critic=0, L Actor=322] \n"
     ]
    },
    {
     "name": "stdout",
     "output_type": "stream",
     "text": [
      "Model saved - 21.26\n"
     ]
    },
    {
     "name": "stderr",
     "output_type": "stream",
     "text": [
      "Episode 222:  93%|█████████▎| 14/15 [00:01<00:00,  8.87it/s, Temp=0.5370, Avg. Reward=21.2587, Reward=21.1, entropy=0.00161, L Critic=0, L Actor=316] \n"
     ]
    },
    {
     "name": "stdout",
     "output_type": "stream",
     "text": [
      "Model saved - 21.26\n"
     ]
    },
    {
     "name": "stderr",
     "output_type": "stream",
     "text": [
      "Episode 223:  93%|█████████▎| 14/15 [00:01<00:00,  8.89it/s, Temp=0.5316, Avg. Reward=21.2589, Reward=21.1, entropy=0.00161, L Critic=0, L Actor=317]\n"
     ]
    },
    {
     "name": "stdout",
     "output_type": "stream",
     "text": [
      "Model saved - 21.26\n"
     ]
    },
    {
     "name": "stderr",
     "output_type": "stream",
     "text": [
      "Episode 224:  93%|█████████▎| 14/15 [00:01<00:00,  8.59it/s, Temp=0.5263, Avg. Reward=21.2589, Reward=21.2, entropy=0.00161, L Critic=0, L Actor=296]\n",
      "Episode 225:  96%|█████████▌| 23/24 [00:02<00:00,  8.38it/s, Temp=0.5211, Avg. Reward=21.2588, Reward=35.3, entropy=0.00258, L Critic=0, L Actor=429] \n"
     ]
    },
    {
     "name": "stdout",
     "output_type": "stream",
     "text": [
      "Model saved - 21.26\n"
     ]
    },
    {
     "name": "stderr",
     "output_type": "stream",
     "text": [
      "Episode 226:  94%|█████████▍| 15/16 [00:01<00:00,  8.59it/s, Temp=0.5159, Avg. Reward=21.2590, Reward=22.8, entropy=0.00172, L Critic=0, L Actor=304] \n"
     ]
    },
    {
     "name": "stdout",
     "output_type": "stream",
     "text": [
      "Model saved - 21.26\n"
     ]
    },
    {
     "name": "stderr",
     "output_type": "stream",
     "text": [
      "Episode 227:  94%|█████████▍| 15/16 [00:01<00:00,  8.47it/s, Temp=0.5107, Avg. Reward=21.2606, Reward=22.7, entropy=0.00172, L Critic=0, L Actor=331] \n"
     ]
    },
    {
     "name": "stdout",
     "output_type": "stream",
     "text": [
      "Model saved - 21.26\n"
     ]
    },
    {
     "name": "stderr",
     "output_type": "stream",
     "text": [
      "Episode 228:  88%|████████▊ | 7/8 [00:00<00:00,  8.42it/s, Temp=0.5056, Avg. Reward=21.2611, Reward=10.6, entropy=0.000859, L Critic=0, L Actor=198] \n",
      "Episode 229:  93%|█████████▎| 14/15 [00:01<00:00,  8.58it/s, Temp=0.5005, Avg. Reward=21.2610, Reward=21.4, entropy=0.00161, L Critic=0, L Actor=381] \n"
     ]
    },
    {
     "name": "stdout",
     "output_type": "stream",
     "text": [
      "Model saved - 21.26\n"
     ]
    },
    {
     "name": "stderr",
     "output_type": "stream",
     "text": [
      "Episode 230:  95%|█████████▌| 19/20 [00:02<00:00,  8.34it/s, Temp=0.4955, Avg. Reward=21.2616, Reward=28.9, entropy=0.00215, L Critic=0, L Actor=526] \n"
     ]
    },
    {
     "name": "stdout",
     "output_type": "stream",
     "text": [
      "Model saved - 21.26\n"
     ]
    },
    {
     "name": "stderr",
     "output_type": "stream",
     "text": [
      "Episode 231:  93%|█████████▎| 14/15 [00:01<00:00,  9.11it/s, Temp=0.4906, Avg. Reward=21.2618, Reward=20.9, entropy=0.00161, L Critic=0, L Actor=378] \n"
     ]
    },
    {
     "name": "stdout",
     "output_type": "stream",
     "text": [
      "Model saved - 21.26\n"
     ]
    },
    {
     "name": "stderr",
     "output_type": "stream",
     "text": [
      "Episode 232:  94%|█████████▍| 17/18 [00:01<00:00,  8.60it/s, Temp=0.4857, Avg. Reward=21.2623, Reward=26.1, entropy=0.00193, L Critic=0, L Actor=424] \n",
      "Episode 233:  95%|█████████▌| 19/20 [00:02<00:00,  8.75it/s, Temp=0.4808, Avg. Reward=21.2618, Reward=28.8, entropy=0.00215, L Critic=0, L Actor=456] \n",
      "Episode 234:  94%|█████████▍| 15/16 [00:01<00:00,  8.36it/s, Temp=0.4760, Avg. Reward=21.2621, Reward=22.8, entropy=0.00172, L Critic=0, L Actor=415] \n"
     ]
    },
    {
     "name": "stdout",
     "output_type": "stream",
     "text": [
      "Model saved - 21.26\n"
     ]
    },
    {
     "name": "stderr",
     "output_type": "stream",
     "text": [
      "Episode 235:  94%|█████████▍| 15/16 [00:01<00:00,  8.34it/s, Temp=0.4712, Avg. Reward=21.2623, Reward=23.2, entropy=0.00172, L Critic=0, L Actor=397] \n"
     ]
    },
    {
     "name": "stdout",
     "output_type": "stream",
     "text": [
      "Model saved - 21.26\n"
     ]
    },
    {
     "name": "stderr",
     "output_type": "stream",
     "text": [
      "Episode 236:  94%|█████████▍| 15/16 [00:01<00:00,  8.35it/s, Temp=0.4665, Avg. Reward=21.2625, Reward=23.2, entropy=0.00172, L Critic=0, L Actor=423] \n"
     ]
    },
    {
     "name": "stdout",
     "output_type": "stream",
     "text": [
      "Model saved - 21.26\n"
     ]
    },
    {
     "name": "stderr",
     "output_type": "stream",
     "text": [
      "Episode 237:  94%|█████████▍| 17/18 [00:02<00:00,  8.25it/s, Temp=0.4619, Avg. Reward=21.2632, Reward=26.2, entropy=0.00193, L Critic=0, L Actor=494] \n"
     ]
    },
    {
     "name": "stdout",
     "output_type": "stream",
     "text": [
      "Model saved - 21.26\n"
     ]
    },
    {
     "name": "stderr",
     "output_type": "stream",
     "text": [
      "Episode 238:  88%|████████▊ | 7/8 [00:00<00:00,  8.55it/s, Temp=0.4572, Avg. Reward=21.2641, Reward=10.6, entropy=0.000859, L Critic=0, L Actor=222] \n"
     ]
    },
    {
     "name": "stdout",
     "output_type": "stream",
     "text": [
      "Model saved - 21.26\n"
     ]
    },
    {
     "name": "stderr",
     "output_type": "stream",
     "text": [
      "Episode 239:  94%|█████████▍| 15/16 [00:01<00:00,  8.55it/s, Temp=0.4527, Avg. Reward=21.2648, Reward=22.6, entropy=0.00172, L Critic=0, L Actor=437] \n"
     ]
    },
    {
     "name": "stdout",
     "output_type": "stream",
     "text": [
      "Model saved - 21.27\n"
     ]
    },
    {
     "name": "stderr",
     "output_type": "stream",
     "text": [
      "Episode 240:  94%|█████████▍| 17/18 [00:01<00:00,  8.62it/s, Temp=0.4481, Avg. Reward=21.2653, Reward=26.2, entropy=0.00193, L Critic=0, L Actor=430] \n",
      "Episode 241:  96%|█████████▌| 23/24 [00:02<00:00,  8.36it/s, Temp=0.4437, Avg. Reward=21.2649, Reward=35.2, entropy=0.00258, L Critic=0, L Actor=497] \n"
     ]
    },
    {
     "name": "stdout",
     "output_type": "stream",
     "text": [
      "Model saved - 21.27\n"
     ]
    },
    {
     "name": "stderr",
     "output_type": "stream",
     "text": [
      "Episode 242:  88%|████████▊ | 7/8 [00:00<00:00,  8.85it/s, Temp=0.4392, Avg. Reward=21.2654, Reward=10.8, entropy=0.000859, L Critic=0, L Actor=156] \n"
     ]
    },
    {
     "name": "stdout",
     "output_type": "stream",
     "text": [
      "Model saved - 21.27\n"
     ]
    },
    {
     "name": "stderr",
     "output_type": "stream",
     "text": [
      "Episode 243:  94%|█████████▍| 17/18 [00:01<00:00,  8.76it/s, Temp=0.4348, Avg. Reward=21.2665, Reward=26.2, entropy=0.00193, L Critic=0, L Actor=375] \n"
     ]
    },
    {
     "name": "stdout",
     "output_type": "stream",
     "text": [
      "Model saved - 21.27\n"
     ]
    },
    {
     "name": "stderr",
     "output_type": "stream",
     "text": [
      "Episode 244:  92%|█████████▏| 11/12 [00:01<00:00,  8.98it/s, Temp=0.4305, Avg. Reward=21.2668, Reward=16.9, entropy=0.00129, L Critic=0, L Actor=299] \n"
     ]
    },
    {
     "name": "stdout",
     "output_type": "stream",
     "text": [
      "Model saved - 21.27\n"
     ]
    },
    {
     "name": "stderr",
     "output_type": "stream",
     "text": [
      "Episode 245:  95%|█████████▌| 19/20 [00:02<00:00,  8.69it/s, Temp=0.4262, Avg. Reward=21.2673, Reward=29, entropy=0.00215, L Critic=0, L Actor=493]   \n"
     ]
    },
    {
     "name": "stdout",
     "output_type": "stream",
     "text": [
      "Model saved - 21.27\n"
     ]
    },
    {
     "name": "stderr",
     "output_type": "stream",
     "text": [
      "Episode 246:  88%|████████▊ | 7/8 [00:00<00:00,  8.71it/s, Temp=0.4219, Avg. Reward=21.2676, Reward=10.7, entropy=0.000859, L Critic=0, L Actor=233] \n"
     ]
    },
    {
     "name": "stdout",
     "output_type": "stream",
     "text": [
      "Model saved - 21.27\n"
     ]
    },
    {
     "name": "stderr",
     "output_type": "stream",
     "text": [
      "Episode 247:  92%|█████████▏| 12/13 [00:01<00:00,  8.67it/s, Temp=0.4177, Avg. Reward=21.2682, Reward=18.4, entropy=0.0014, L Critic=0, L Actor=324]  \n"
     ]
    },
    {
     "name": "stdout",
     "output_type": "stream",
     "text": [
      "Model saved - 21.27\n"
     ]
    },
    {
     "name": "stderr",
     "output_type": "stream",
     "text": [
      "Episode 248:  88%|████████▊ | 7/8 [00:00<00:00,  9.12it/s, Temp=0.4135, Avg. Reward=21.2686, Reward=10.6, entropy=0.000859, L Critic=0, L Actor=213] \n"
     ]
    },
    {
     "name": "stdout",
     "output_type": "stream",
     "text": [
      "Model saved - 21.27\n"
     ]
    },
    {
     "name": "stderr",
     "output_type": "stream",
     "text": [
      "Episode 249:  94%|█████████▍| 17/18 [00:02<00:00,  8.37it/s, Temp=0.4094, Avg. Reward=21.2694, Reward=26, entropy=0.00193, L Critic=0, L Actor=390]   "
     ]
    },
    {
     "name": "stdout",
     "output_type": "stream",
     "text": [
      "Model saved - 21.27\n"
     ]
    },
    {
     "name": "stderr",
     "output_type": "stream",
     "text": [
      "\n"
     ]
    }
   ],
   "source": [
    "import pickle\n",
    "from matplotlib import pyplot as plt\n",
    "from glob import glob\n",
    "\n",
    "from ConceptPrompting import AdaptationEngine, explore_environment\n",
    "from settings import  pretraining_settings as settings\n",
    "from tqdm import tqdm\n",
    "import torch\n",
    "import numpy as np\n",
    "\n",
    "def get_entropy(preferences):\n",
    "\treturn -torch.sum(preferences * torch.log(preferences), dim = -1)\n",
    "\n",
    "with open(\"clip_encodings.pkl\", \"rb\") as f:\n",
    "\tdata = pickle.load(f)\n",
    "\timage_encodings = data['image_encodings']\n",
    "\tactions_encode = data['concept_encodings']\n",
    "\n",
    "with open(\"generated_concepts.pkl\", \"rb\") as f:\n",
    "\tdata = pickle.load(f)\n",
    "\tgenerated_concepts = data['concepts']\n",
    "\ttopic_groups = data['topic_groups']\n",
    "\n",
    "with open('encodings.pkl', 'rb') as f:\n",
    "\tcaptions = pickle.load(f)['captions']\n",
    "\n",
    "images = [i for i in glob(\"../dataset/Images/*.jpg\")]\n",
    "\n",
    "Agent = AdaptationEngine(state_dim = image_encodings.shape[1] + actions_encode.shape[1],\n",
    "\t\t\t\t\t\t \taction_dim=actions_encode.shape[1],\n",
    "\t\t\t\t\t\t\tlr_actor = settings.lr_actor,\n",
    "\t\t\t\t\t\t\tlr_critic = settings.lr_critic,\n",
    "\t\t\t\t\t\t\tgamma = settings.gamma,\n",
    "\t\t\t\t\t\t\tbuffer_size = settings.buffer_size,\n",
    "\t\t\t\t\t\t\tsample_temperature = settings.temperature,\n",
    "\t\t\t\t\t\t\tfinal_temperature = settings.final_temperature,\n",
    "\t\t\t\t\t\t\ttemperature_decay = settings.decay_rate)\n",
    "\n",
    "\n",
    "env = explore_environment(topic_groups=topic_groups, \n",
    "\t\t\t\t\t\t  concepts=generated_concepts,\n",
    "\t\t\t\t\t\t  concepts_encode=actions_encode,\n",
    "\t\t\t\t\t\t  images=images,\n",
    "\t\t\t\t\t\t  images_caption=captions,\n",
    "\t\t\t\t\t\t  images_encode=image_encodings, \n",
    "\t\t\t\t\t\t  threshold=10)\n",
    "\n",
    "\n",
    "#-----------------------------------------------------------------------------\n",
    "\n",
    "episode_history = {'rewards': [],\n",
    "\t\t    'loss_critic': [], \n",
    "\t\t\t'loss_actor': []}\n",
    "\n",
    "history = {'rewards': [],\n",
    "\t\t   'episodes_rewards': {},\n",
    "\t\t    'loss_critic': [], \n",
    "\t\t\t'loss_actor': []}\n",
    "\n",
    "average_reward = [0]\n",
    "\n",
    "for episode in range(settings.episodes):\n",
    "\n",
    "\tepisode_index, (prev_state, feedback, _) = env.reset()\n",
    "\tprev_state = env.preprocess_state(prev_state)\n",
    "\n",
    "\tenv.externalized.add(feedback)\n",
    "\n",
    "\tepisode_history = {'rewards': [],\n",
    "\t\t'loss_critic': [], \n",
    "\t\t'loss_actor': [],\n",
    "\t\t'entropy': []}\n",
    "\tif episode_index not in history['episodes_rewards']:\n",
    "\t\thistory['episodes_rewards'][episode_index] = []\n",
    "\t\t\t\n",
    "\titera = tqdm(range(len(env.topic)))\n",
    "\titera.set_description(f\"Episode {episode}\")\n",
    "\n",
    "\t\n",
    "\tfor step in itera:\n",
    "\n",
    "\t\tpreferences = Agent.policy(prev_state, actions_encode)\n",
    "\t\t# print(prev_state)\n",
    "\t\t# print(preferences)\t\n",
    "\t\taction = torch.multinomial(preferences, 1).squeeze(-1)\n",
    "\t\t\n",
    "\t\tstate, feedback, reward, done = env.step( action.item() )\n",
    "\t\tstate = env.preprocess_state(state)\n",
    "\t\tenv.externalized.add(feedback)\n",
    "\n",
    "\t\tAgent.push_buffer(state=prev_state,\n",
    "\t\t\t\t\t action=action, \n",
    "\t\t\t\t\t reward=reward, \n",
    "\t\t\t\t\t next_state=state, \n",
    "\t\t\t\t\t done=done)\n",
    "\t\t\n",
    "\t\tepisode_history['rewards'].append(reward)\n",
    "\t\tepisode_history['entropy'].append(get_entropy(preferences).mean().item())\n",
    "\n",
    "\t\tif Agent.buffer_size <= len(Agent.buffer):\n",
    "\t\t\tactor_loss, critic_loss = Agent.optimization_step(actions_encode)\n",
    "\t\t\tepisode_history['loss_critic'].append(critic_loss)\n",
    "\t\t\tepisode_history['loss_actor'].append(actor_loss)\n",
    "\n",
    "\t\tprev_state = state\n",
    "\n",
    "\t\titera.set_postfix({'Temp': f'{Agent.temperature:.4f}',\n",
    "\t\t\t\t\t \t'Avg. Reward': f\"{average_reward[-1]:.4f}\",\n",
    "\t\t\t\t\t\t'Reward': sum(episode_history['rewards']),\n",
    "\t\t\t\t\t\t'entropy': sum(episode_history['entropy']),\n",
    "\t\t\t\t\t\t'L Critic': sum(episode_history['loss_critic']),\n",
    "\t\t\t\t\t\t'L Actor': sum(episode_history['loss_actor'])} )\n",
    "\t\tif done:\n",
    "\t\t\thistory['rewards'].append(sum(episode_history['rewards']))\n",
    "\t\t\thistory['loss_critic'].append(sum(episode_history['loss_critic']))\n",
    "\t\t\thistory['loss_actor'].append(sum(episode_history['loss_actor']))\n",
    "\t\t\tbreak\n",
    "\n",
    "\tAgent.temperature = max(Agent.final_temperature, Agent.temperature * Agent.temperature_decay)\n",
    "\n",
    "\taverage_reward += [np.mean([np.mean(history['episodes_rewards'][i]) for i in history['episodes_rewards'].keys()]) \\\n",
    "\t\tif len(history['episodes_rewards']) ==  len(env.topic_groups) else -1]\n",
    "\n",
    "\tif Agent.max_reward is None or Agent.max_reward < average_reward[-1]:\n",
    "\t\tAgent.max_reward = average_reward[-1]\n",
    "\t\tAgent.Actor.save(f\"actor.pt\")\n",
    "\t\tAgent.Critic.save(f\"critic.pt\")\n",
    "\t\tprint(f\"Model saved - {average_reward[-1]:.2f}\")\n",
    "\thistory['episodes_rewards'][episode_index].append(sum(episode_history['rewards']).item())\n",
    "\n",
    "# env.close()"
   ]
  },
  {
   "cell_type": "code",
   "execution_count": 3,
   "metadata": {},
   "outputs": [
    {
     "data": {
      "text/plain": [
       "tensor([[-0.0034,  0.0209, -0.0034,  ...,  0.0000,  0.0000,  0.0000]])"
      ]
     },
     "execution_count": 3,
     "metadata": {},
     "output_type": "execute_result"
    }
   ],
   "source": [
    "prev_state"
   ]
  },
  {
   "cell_type": "code",
   "execution_count": 3,
   "metadata": {},
   "outputs": [],
   "source": [
    "z = env.reset()"
   ]
  },
  {
   "cell_type": "code",
   "execution_count": 2,
   "metadata": {},
   "outputs": [
    {
     "data": {
      "image/png": "[encoded data removed]",
      "text/plain": [
       "<Figure size 640x480 with 1 Axes>"
      ]
     },
     "metadata": {},
     "output_type": "display_data"
    }
   ],
   "source": [
    "from matplotlib import pyplot as plt\n",
    "\n",
    "for i in history['episodes_rewards']:\n",
    "\tplt.plot(history['episodes_rewards'][i])"
   ]
  },
  {
   "cell_type": "code",
   "execution_count": 17,
   "metadata": {},
   "outputs": [
    {
     "data": {
      "text/plain": [
       "[<matplotlib.lines.Line2D at 0x7edbefb0d0d0>]"
      ]
     },
     "execution_count": 17,
     "metadata": {},
     "output_type": "execute_result"
    },
    {
     "data": {
      "image/png": "[encoded data removed]",
      "text/plain": [
       "<Figure size 640x480 with 1 Axes>"
      ]
     },
     "metadata": {},
     "output_type": "display_data"
    }
   ],
   "source": [
    "nice_index = [np.isnan(average_reward[i]) for i in range(len(average_reward))].index(True)\n",
    "plt.title(\"Average Reward\")\n",
    "plt.xlabel(\"Episodes\")\n",
    "plt.ylabel(\"Reward\")\n",
    "plt.plot(average_reward[nice_index + 1:])"
   ]
  },
  {
   "cell_type": "code",
   "execution_count": 12,
   "metadata": {},
   "outputs": [
    {
     "data": {
      "text/plain": [
       "True"
      ]
     },
     "execution_count": 12,
     "metadata": {},
     "output_type": "execute_result"
    }
   ],
   "source": [
    "np.isnan(average_reward[37])"
   ]
  },
  {
   "cell_type": "code",
   "execution_count": null,
   "metadata": {},
   "outputs": [],
   "source": []
  }
 ],
 "metadata": {
  "kernelspec": {
   "display_name": "base",
   "language": "python",
   "name": "python3"
  },
  "language_info": {
   "codemirror_mode": {
    "name": "ipython",
    "version": 3
   },
   "file_extension": ".py",
   "mimetype": "text/x-python",
   "name": "python",
   "nbconvert_exporter": "python",
   "pygments_lexer": "ipython3",
   "version": "3.11.9"
  }
 },
 "nbformat": 4,
 "nbformat_minor": 2
}
